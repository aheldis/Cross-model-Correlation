{
  "cells": [
    {
      "cell_type": "markdown",
      "metadata": {
        "id": "DJsUjs19_v63"
      },
      "source": [
        "# MNIST with SciKit-Learn and skorch"
      ]
    },
    {
      "cell_type": "code",
      "execution_count": null,
      "metadata": {
        "id": "8qYGNO2S_v6_"
      },
      "outputs": [],
      "source": [
        "import subprocess\n",
        "\n",
        "# Installation on Google Colab\n",
        "try:\n",
        "    import google.colab\n",
        "    subprocess.run(['python', '-m', 'pip', 'install', 'skorch' , 'torch'])\n",
        "except ImportError:\n",
        "    pass"
      ]
    },
    {
      "cell_type": "code",
      "execution_count": null,
      "metadata": {
        "id": "Gj0pvjxT_v7G"
      },
      "outputs": [],
      "source": [
        "from sklearn.datasets import fetch_openml\n",
        "from sklearn.model_selection import train_test_split\n",
        "import numpy as np\n",
        "import matplotlib.pyplot as plt"
      ]
    },
    {
      "cell_type": "markdown",
      "metadata": {
        "id": "mPz6Bjqw_v7H"
      },
      "source": [
        "## Loading Data"
      ]
    },
    {
      "cell_type": "code",
      "execution_count": null,
      "metadata": {
        "colab": {
          "base_uri": "https://localhost:8080/"
        },
        "id": "mwpfASvc_v7J",
        "outputId": "5a867dea-8997-4521-e345-af5452f92281"
      },
      "outputs": [
        {
          "name": "stderr",
          "output_type": "stream",
          "text": [
            "/usr/local/lib/python3.10/dist-packages/sklearn/datasets/_openml.py:1022: FutureWarning: The default value of `parser` will change from `'liac-arff'` to `'auto'` in 1.4. You can set `parser='auto'` to silence this warning. Therefore, an `ImportError` will be raised from 1.4 if the dataset is dense and pandas is not installed. Note that the pandas parser may return different data types. See the Notes Section in fetch_openml's API doc for details.\n",
            "  warn(\n"
          ]
        }
      ],
      "source": [
        "mnist = fetch_openml('mnist_784', as_frame=False, cache=False)"
      ]
    },
    {
      "cell_type": "code",
      "execution_count": null,
      "metadata": {
        "colab": {
          "base_uri": "https://localhost:8080/"
        },
        "id": "9Pt2JKyb_v7K",
        "outputId": "aa6b6907-4d71-47e0-9cda-61ec347714b2"
      },
      "outputs": [
        {
          "data": {
            "text/plain": [
              "(70000, 784)"
            ]
          },
          "execution_count": 4,
          "metadata": {},
          "output_type": "execute_result"
        }
      ],
      "source": [
        "mnist.data.shape"
      ]
    },
    {
      "cell_type": "markdown",
      "metadata": {
        "id": "sV0ehb52_v7L"
      },
      "source": [
        "## Preprocessing Data\n"
      ]
    },
    {
      "cell_type": "code",
      "execution_count": null,
      "metadata": {
        "id": "F2v_Fwne_v7M"
      },
      "outputs": [],
      "source": [
        "X = mnist.data.astype('float32')\n",
        "y = mnist.target.astype('int64')"
      ]
    },
    {
      "cell_type": "code",
      "execution_count": null,
      "metadata": {
        "id": "8RirCOTr_v7O"
      },
      "outputs": [],
      "source": [
        "X /= 255.0"
      ]
    },
    {
      "cell_type": "code",
      "execution_count": null,
      "metadata": {
        "colab": {
          "base_uri": "https://localhost:8080/"
        },
        "id": "rohyp3d1_v7P",
        "outputId": "c641a3ad-6a2d-4a1a-f87b-e51182fd46bb"
      },
      "outputs": [
        {
          "data": {
            "text/plain": [
              "(0.0, 1.0)"
            ]
          },
          "execution_count": 7,
          "metadata": {},
          "output_type": "execute_result"
        }
      ],
      "source": [
        "X.min(), X.max()"
      ]
    },
    {
      "cell_type": "markdown",
      "metadata": {
        "id": "tyUlsu0V_v7Q"
      },
      "source": [
        "Note: data is not normalized."
      ]
    },
    {
      "cell_type": "code",
      "execution_count": null,
      "metadata": {
        "id": "gILlsHJS_v7R"
      },
      "outputs": [],
      "source": [
        "X_train, X_test, y_train, y_test = train_test_split(X, y, test_size=0.25, random_state=42)"
      ]
    },
    {
      "cell_type": "code",
      "execution_count": null,
      "metadata": {
        "id": "jGpA4v4u_v7R"
      },
      "outputs": [],
      "source": [
        "assert(X_train.shape[0] + X_test.shape[0] == mnist.data.shape[0])"
      ]
    },
    {
      "cell_type": "code",
      "execution_count": null,
      "metadata": {
        "colab": {
          "base_uri": "https://localhost:8080/"
        },
        "id": "plXmcsp2_v7b",
        "outputId": "6fa604d4-54aa-4067-ef8a-cd7c0c3445b5"
      },
      "outputs": [
        {
          "data": {
            "text/plain": [
              "((52500, 784), (52500,))"
            ]
          },
          "execution_count": 10,
          "metadata": {},
          "output_type": "execute_result"
        }
      ],
      "source": [
        "X_train.shape, y_train.shape"
      ]
    },
    {
      "cell_type": "markdown",
      "metadata": {
        "id": "6EKEvbuP_v7c"
      },
      "source": [
        "### Print a selection of training images and their labels"
      ]
    },
    {
      "cell_type": "code",
      "execution_count": null,
      "metadata": {
        "id": "C9muXJPC_v7d"
      },
      "outputs": [],
      "source": [
        "def plot_example(X, y):\n",
        "    \"\"\"Plot the first 5 images and their labels in a row.\"\"\"\n",
        "    for i, (img, y) in enumerate(zip(X[:5].reshape(5, 28, 28), y[:5])):\n",
        "        plt.subplot(151 + i)\n",
        "        plt.imshow(img)\n",
        "        plt.xticks([])\n",
        "        plt.yticks([])\n",
        "        plt.title(y)"
      ]
    },
    {
      "cell_type": "code",
      "execution_count": null,
      "metadata": {
        "colab": {
          "base_uri": "https://localhost:8080/",
          "height": 144
        },
        "id": "h2-R1-Df_v7e",
        "outputId": "2159c89d-b7e4-42c9-d4a6-87cb181a4160"
      },
      "outputs": [
        {
          "data": {
            "image/png": "[encoded data removed]",
            "text/plain": [
              "<Figure size 640x480 with 5 Axes>"
            ]
          },
          "metadata": {},
          "output_type": "display_data"
        }
      ],
      "source": [
        "plot_example(X_train, y_train)"
      ]
    },
    {
      "cell_type": "markdown",
      "metadata": {
        "id": "YQvC-rWf_v7f"
      },
      "source": [
        "## Build Neural Network with PyTorch"
      ]
    },
    {
      "cell_type": "code",
      "execution_count": null,
      "metadata": {
        "id": "5PG7R0W8_v7f"
      },
      "outputs": [],
      "source": [
        "import torch\n",
        "from torch import nn\n",
        "import torch.nn.functional as F\n",
        "from sklearn.metrics import accuracy_score"
      ]
    },
    {
      "cell_type": "code",
      "execution_count": null,
      "metadata": {
        "id": "NUjWrGBP_v7g"
      },
      "outputs": [],
      "source": [
        "device = 'cuda' if torch.cuda.is_available() else 'cpu'"
      ]
    },
    {
      "cell_type": "code",
      "execution_count": null,
      "metadata": {
        "id": "gVCW8F3N_v7g"
      },
      "outputs": [],
      "source": [
        "mnist_dim = X.shape[1]\n",
        "hidden_dims = [int(mnist_dim/8)]\n",
        "output_dim = len(np.unique(mnist.target))"
      ]
    },
    {
      "cell_type": "code",
      "execution_count": null,
      "metadata": {
        "colab": {
          "base_uri": "https://localhost:8080/"
        },
        "id": "ShYicHlv_v7h",
        "outputId": "0b7e1e85-2bd8-44fd-8da9-118d8d5c6c77"
      },
      "outputs": [
        {
          "data": {
            "text/plain": [
              "(784, [98], 10)"
            ]
          },
          "execution_count": 16,
          "metadata": {},
          "output_type": "execute_result"
        }
      ],
      "source": [
        "mnist_dim, hidden_dims, output_dim"
      ]
    },
    {
      "cell_type": "code",
      "execution_count": null,
      "metadata": {
        "id": "Xxtli0l__v7j"
      },
      "outputs": [],
      "source": [
        "class ClassifierModule(nn.Module):\n",
        "    def __init__(\n",
        "            self,\n",
        "            input_dim=mnist_dim,\n",
        "            hidden_dims=hidden_dims,\n",
        "            output_dim=output_dim,\n",
        "            dropout=0.5,\n",
        "    ):\n",
        "        super(ClassifierModule, self).__init__()\n",
        "        self.dropout = nn.Dropout(dropout)\n",
        "        self.hidden = nn.ModuleList()\n",
        "        for i in range(len(hidden_dims)):\n",
        "            if i == 0:\n",
        "              self.hidden.append(nn.Linear(mnist_dim, hidden_dims[i]))\n",
        "            else:\n",
        "              self.hidden.append(nn.Linear(hidden_dims[i - 1], hidden_dims[i]))\n",
        "        self.output = nn.Linear(hidden_dims[-1], output_dim)\n",
        "\n",
        "    def forward(self, X, eval=False, **kwargs):\n",
        "        Ts = None\n",
        "        layers = None\n",
        "        layer_num = 0\n",
        "        for h in self.hidden:\n",
        "          X = F.relu(h(X))\n",
        "          if eval:\n",
        "            Ts = torch.cat((Ts, X), 1) if Ts is not None else X\n",
        "            l = torch.ones_like(X) * layer_num\n",
        "            layers = torch.cat((layers, l), 1) if layers is not None else l\n",
        "          layer_num += 1\n",
        "        X = self.dropout(X)\n",
        "        X = F.softmax(self.output(X), dim=-1)\n",
        "        if eval:\n",
        "          return X, Ts, layers\n",
        "        return X"
      ]
    },
    {
      "cell_type": "code",
      "execution_count": null,
      "metadata": {
        "id": "s0aDatqN_v7l"
      },
      "outputs": [],
      "source": [
        "from skorch import NeuralNetClassifier\n",
        "nets = []"
      ]
    },
    {
      "cell_type": "code",
      "execution_count": null,
      "metadata": {
        "id": "dOrCbBjk_v7m"
      },
      "outputs": [],
      "source": [
        "torch.manual_seed(0)\n",
        "\n",
        "net1 = NeuralNetClassifier(\n",
        "    ClassifierModule(mnist_dim, [100], output_dim),\n",
        "    max_epochs=20,\n",
        "    lr=0.1,\n",
        "    device=device,\n",
        ")"
      ]
    },
    {
      "cell_type": "code",
      "execution_count": null,
      "metadata": {
        "colab": {
          "base_uri": "https://localhost:8080/"
        },
        "id": "8i_gnvPi_v7m",
        "outputId": "b923220b-f82a-4318-c0eb-6546b5756fd1"
      },
      "outputs": [
        {
          "name": "stdout",
          "output_type": "stream",
          "text": [
            "  epoch    train_loss    valid_acc    valid_loss     dur\n",
            "-------  ------------  -----------  ------------  ------\n",
            "      1        \u001b[36m0.8367\u001b[0m       \u001b[32m0.8905\u001b[0m        \u001b[35m0.3961\u001b[0m  1.7486\n",
            "      2        \u001b[36m0.4284\u001b[0m       \u001b[32m0.9098\u001b[0m        \u001b[35m0.3098\u001b[0m  0.9710\n",
            "      3        \u001b[36m0.3556\u001b[0m       \u001b[32m0.9241\u001b[0m        \u001b[35m0.2624\u001b[0m  0.9977\n",
            "      4        \u001b[36m0.3177\u001b[0m       \u001b[32m0.9331\u001b[0m        \u001b[35m0.2324\u001b[0m  0.9628\n",
            "      5        \u001b[36m0.2917\u001b[0m       \u001b[32m0.9386\u001b[0m        \u001b[35m0.2125\u001b[0m  0.9692\n",
            "      6        \u001b[36m0.2702\u001b[0m       \u001b[32m0.9412\u001b[0m        \u001b[35m0.1987\u001b[0m  0.9295\n",
            "      7        \u001b[36m0.2533\u001b[0m       \u001b[32m0.9436\u001b[0m        \u001b[35m0.1900\u001b[0m  0.9501\n",
            "      8        \u001b[36m0.2380\u001b[0m       \u001b[32m0.9490\u001b[0m        \u001b[35m0.1747\u001b[0m  0.9978\n",
            "      9        \u001b[36m0.2291\u001b[0m       \u001b[32m0.9503\u001b[0m        \u001b[35m0.1688\u001b[0m  0.9521\n",
            "     10        \u001b[36m0.2202\u001b[0m       \u001b[32m0.9527\u001b[0m        \u001b[35m0.1576\u001b[0m  0.9669\n",
            "     11        \u001b[36m0.2106\u001b[0m       \u001b[32m0.9535\u001b[0m        \u001b[35m0.1554\u001b[0m  1.1514\n",
            "     12        \u001b[36m0.2033\u001b[0m       \u001b[32m0.9557\u001b[0m        \u001b[35m0.1476\u001b[0m  1.3004\n",
            "     13        \u001b[36m0.1999\u001b[0m       \u001b[32m0.9578\u001b[0m        \u001b[35m0.1457\u001b[0m  1.1949\n",
            "     14        \u001b[36m0.1932\u001b[0m       0.9564        \u001b[35m0.1451\u001b[0m  0.9763\n",
            "     15        \u001b[36m0.1892\u001b[0m       \u001b[32m0.9600\u001b[0m        \u001b[35m0.1360\u001b[0m  0.9489\n",
            "     16        \u001b[36m0.1848\u001b[0m       \u001b[32m0.9605\u001b[0m        \u001b[35m0.1331\u001b[0m  0.9098\n",
            "     17        \u001b[36m0.1817\u001b[0m       \u001b[32m0.9613\u001b[0m        \u001b[35m0.1306\u001b[0m  0.9481\n",
            "     18        \u001b[36m0.1751\u001b[0m       \u001b[32m0.9617\u001b[0m        \u001b[35m0.1305\u001b[0m  0.9677\n",
            "     19        \u001b[36m0.1718\u001b[0m       \u001b[32m0.9628\u001b[0m        \u001b[35m0.1273\u001b[0m  0.9801\n",
            "     20        \u001b[36m0.1674\u001b[0m       \u001b[32m0.9631\u001b[0m        \u001b[35m0.1245\u001b[0m  0.9514\n"
          ]
        }
      ],
      "source": [
        "net1.fit(X_train, y_train);\n",
        "nets.append(net1)"
      ]
    },
    {
      "cell_type": "code",
      "execution_count": null,
      "metadata": {
        "colab": {
          "base_uri": "https://localhost:8080/"
        },
        "id": "LCWachuM_v7o",
        "outputId": "7126a49e-0bca-4e98-e02c-785f81b2ae13"
      },
      "outputs": [
        {
          "data": {
            "text/plain": [
              "0.9621142857142857"
            ]
          },
          "execution_count": 22,
          "metadata": {},
          "output_type": "execute_result"
        }
      ],
      "source": [
        "y_pred = net1.predict(X_test)\n",
        "accuracy_score(y_test, y_pred)"
      ]
    },
    {
      "cell_type": "code",
      "execution_count": null,
      "metadata": {
        "colab": {
          "base_uri": "https://localhost:8080/"
        },
        "id": "BW7oUwIsefSx",
        "outputId": "eafedcab-c749-44f1-d1d7-72c44a7813c8"
      },
      "outputs": [
        {
          "name": "stdout",
          "output_type": "stream",
          "text": [
            "  epoch    train_loss    valid_acc    valid_loss     dur\n",
            "-------  ------------  -----------  ------------  ------\n",
            "      1        \u001b[36m1.1706\u001b[0m       \u001b[32m0.8329\u001b[0m        \u001b[35m0.5378\u001b[0m  1.0481\n",
            "      2        \u001b[36m0.5422\u001b[0m       \u001b[32m0.9035\u001b[0m        \u001b[35m0.3359\u001b[0m  0.9549\n",
            "      3        \u001b[36m0.4359\u001b[0m       \u001b[32m0.9195\u001b[0m        \u001b[35m0.2755\u001b[0m  1.2858\n",
            "      4        \u001b[36m0.3662\u001b[0m       \u001b[32m0.9332\u001b[0m        \u001b[35m0.2221\u001b[0m  1.3902\n",
            "      5        \u001b[36m0.3185\u001b[0m       0.9320        0.2238  0.9877\n",
            "      6        \u001b[36m0.2814\u001b[0m       \u001b[32m0.9479\u001b[0m        \u001b[35m0.1776\u001b[0m  0.9386\n",
            "      7        \u001b[36m0.2571\u001b[0m       \u001b[32m0.9503\u001b[0m        \u001b[35m0.1620\u001b[0m  1.0259\n",
            "      8        \u001b[36m0.2357\u001b[0m       \u001b[32m0.9525\u001b[0m        \u001b[35m0.1567\u001b[0m  0.9657\n",
            "      9        \u001b[36m0.2198\u001b[0m       \u001b[32m0.9533\u001b[0m        \u001b[35m0.1542\u001b[0m  0.9892\n",
            "     10        \u001b[36m0.2045\u001b[0m       \u001b[32m0.9540\u001b[0m        0.1585  0.9813\n",
            "     11        \u001b[36m0.1908\u001b[0m       \u001b[32m0.9580\u001b[0m        \u001b[35m0.1409\u001b[0m  1.0089\n",
            "     12        \u001b[36m0.1804\u001b[0m       0.9085        0.3134  1.0320\n",
            "     13        \u001b[36m0.1705\u001b[0m       \u001b[32m0.9638\u001b[0m        \u001b[35m0.1253\u001b[0m  0.9535\n",
            "     14        \u001b[36m0.1628\u001b[0m       \u001b[32m0.9647\u001b[0m        \u001b[35m0.1231\u001b[0m  1.0127\n",
            "     15        \u001b[36m0.1568\u001b[0m       0.9615        0.1321  1.3752\n",
            "     16        \u001b[36m0.1489\u001b[0m       \u001b[32m0.9656\u001b[0m        0.1235  1.4198\n",
            "     17        \u001b[36m0.1437\u001b[0m       \u001b[32m0.9668\u001b[0m        \u001b[35m0.1202\u001b[0m  0.9859\n",
            "     18        \u001b[36m0.1399\u001b[0m       \u001b[32m0.9670\u001b[0m        \u001b[35m0.1162\u001b[0m  0.9717\n",
            "     19        \u001b[36m0.1324\u001b[0m       \u001b[32m0.9690\u001b[0m        \u001b[35m0.1132\u001b[0m  0.9752\n",
            "     20        \u001b[36m0.1268\u001b[0m       0.9690        0.1154  1.0040\n"
          ]
        }
      ],
      "source": [
        "hidden_dims = [60, 40]\n",
        "net2 = NeuralNetClassifier(ClassifierModule(mnist_dim, hidden_dims, output_dim), max_epochs=20, lr=0.1, device=device)\n",
        "net2.fit(X_train, y_train);\n",
        "nets.append(net2)"
      ]
    },
    {
      "cell_type": "code",
      "execution_count": null,
      "metadata": {
        "colab": {
          "base_uri": "https://localhost:8080/"
        },
        "id": "oOJu7u0DefNS",
        "outputId": "31b7562c-a827-4162-8149-78c7ab85aaa2"
      },
      "outputs": [
        {
          "data": {
            "text/plain": [
              "0.9638857142857142"
            ]
          },
          "execution_count": 24,
          "metadata": {},
          "output_type": "execute_result"
        }
      ],
      "source": [
        "y_pred = net2.predict(X_test)\n",
        "accuracy_score(y_test, y_pred)"
      ]
    },
    {
      "cell_type": "code",
      "execution_count": null,
      "metadata": {
        "colab": {
          "base_uri": "https://localhost:8080/"
        },
        "id": "8brVrmkFfBZN",
        "outputId": "1bc2e3fb-2bf9-45ee-8fa4-9a8704989fb1"
      },
      "outputs": [
        {
          "name": "stdout",
          "output_type": "stream",
          "text": [
            "  epoch    train_loss    valid_acc    valid_loss     dur\n",
            "-------  ------------  -----------  ------------  ------\n",
            "      1        \u001b[36m1.0867\u001b[0m       \u001b[32m0.8451\u001b[0m        \u001b[35m0.5136\u001b[0m  1.1268\n",
            "      2        \u001b[36m0.5002\u001b[0m       \u001b[32m0.8920\u001b[0m        \u001b[35m0.3616\u001b[0m  1.0863\n",
            "      3        \u001b[36m0.4027\u001b[0m       \u001b[32m0.9180\u001b[0m        \u001b[35m0.2784\u001b[0m  1.0230\n",
            "      4        \u001b[36m0.3441\u001b[0m       \u001b[32m0.9276\u001b[0m        \u001b[35m0.2376\u001b[0m  1.0112\n",
            "      5        \u001b[36m0.3032\u001b[0m       \u001b[32m0.9339\u001b[0m        \u001b[35m0.2172\u001b[0m  1.0662\n",
            "      6        \u001b[36m0.2728\u001b[0m       \u001b[32m0.9455\u001b[0m        \u001b[35m0.1858\u001b[0m  1.2488\n",
            "      7        \u001b[36m0.2463\u001b[0m       \u001b[32m0.9487\u001b[0m        \u001b[35m0.1705\u001b[0m  1.3842\n",
            "      8        \u001b[36m0.2261\u001b[0m       \u001b[32m0.9511\u001b[0m        \u001b[35m0.1614\u001b[0m  1.0777\n",
            "      9        \u001b[36m0.2104\u001b[0m       \u001b[32m0.9518\u001b[0m        \u001b[35m0.1599\u001b[0m  1.0526\n",
            "     10        \u001b[36m0.1940\u001b[0m       \u001b[32m0.9530\u001b[0m        \u001b[35m0.1544\u001b[0m  1.0277\n",
            "     11        \u001b[36m0.1852\u001b[0m       \u001b[32m0.9546\u001b[0m        \u001b[35m0.1497\u001b[0m  1.0861\n",
            "     12        \u001b[36m0.1735\u001b[0m       \u001b[32m0.9570\u001b[0m        \u001b[35m0.1423\u001b[0m  1.0315\n",
            "     13        \u001b[36m0.1664\u001b[0m       0.9501        0.1662  1.0897\n",
            "     14        \u001b[36m0.1556\u001b[0m       0.9524        0.1540  1.0204\n",
            "     15        \u001b[36m0.1496\u001b[0m       \u001b[32m0.9617\u001b[0m        \u001b[35m0.1261\u001b[0m  1.0966\n",
            "     16        \u001b[36m0.1439\u001b[0m       \u001b[32m0.9620\u001b[0m        0.1267  0.9999\n",
            "     17        \u001b[36m0.1360\u001b[0m       0.9608        0.1323  1.1070\n",
            "     18        \u001b[36m0.1351\u001b[0m       \u001b[32m0.9634\u001b[0m        \u001b[35m0.1234\u001b[0m  1.3342\n",
            "     19        \u001b[36m0.1282\u001b[0m       0.9530        0.1643  1.2122\n",
            "     20        \u001b[36m0.1241\u001b[0m       0.9619        0.1270  1.0164\n"
          ]
        }
      ],
      "source": [
        "hidden_dims = [40, 60]\n",
        "net3 = NeuralNetClassifier(ClassifierModule(mnist_dim, hidden_dims, output_dim), max_epochs=20, lr=0.1, device=device)\n",
        "net3.fit(X_train, y_train);\n",
        "nets.append(net3)"
      ]
    },
    {
      "cell_type": "code",
      "execution_count": null,
      "metadata": {
        "colab": {
          "base_uri": "https://localhost:8080/"
        },
        "id": "RPdX6V3RfbIO",
        "outputId": "b33b113a-24b1-4b20-d2f6-b2f3eeebacca"
      },
      "outputs": [
        {
          "data": {
            "text/plain": [
              "0.9594857142857143"
            ]
          },
          "execution_count": 26,
          "metadata": {},
          "output_type": "execute_result"
        }
      ],
      "source": [
        "y_pred = net3.predict(X_test)\n",
        "accuracy_score(y_test, y_pred)"
      ]
    },
    {
      "cell_type": "code",
      "execution_count": null,
      "metadata": {
        "id": "XddXR1_a_v7p"
      },
      "outputs": [],
      "source": [
        "error_mask = y_pred != y_test"
      ]
    },
    {
      "cell_type": "code",
      "execution_count": null,
      "metadata": {
        "colab": {
          "base_uri": "https://localhost:8080/",
          "height": 144
        },
        "id": "hXlNTrlt_v7q",
        "outputId": "9f2c5bbc-8dc4-45fa-b657-72624114b155"
      },
      "outputs": [
        {
          "data": {
            "image/png": "[encoded data removed]",
            "text/plain": [
              "<Figure size 640x480 with 5 Axes>"
            ]
          },
          "metadata": {},
          "output_type": "display_data"
        }
      ],
      "source": [
        "plot_example(X_test[error_mask], y_pred[error_mask])"
      ]
    },
    {
      "cell_type": "code",
      "execution_count": null,
      "metadata": {
        "colab": {
          "base_uri": "https://localhost:8080/"
        },
        "id": "uuq0j5qOS9cK",
        "outputId": "ad78af71-85f0-465b-b4bd-7682a887b701"
      },
      "outputs": [
        {
          "name": "stdout",
          "output_type": "stream",
          "text": [
            "  epoch    train_loss    valid_acc    valid_loss     dur\n",
            "-------  ------------  -----------  ------------  ------\n",
            "      1        \u001b[36m1.1529\u001b[0m       \u001b[32m0.8507\u001b[0m        \u001b[35m0.4999\u001b[0m  1.0583\n",
            "      2        \u001b[36m0.5363\u001b[0m       \u001b[32m0.8800\u001b[0m        \u001b[35m0.3980\u001b[0m  0.9885\n",
            "      3        \u001b[36m0.4292\u001b[0m       \u001b[32m0.9114\u001b[0m        \u001b[35m0.2959\u001b[0m  1.5616\n",
            "      4        \u001b[36m0.3621\u001b[0m       \u001b[32m0.9236\u001b[0m        \u001b[35m0.2529\u001b[0m  1.0230\n",
            "      5        \u001b[36m0.3189\u001b[0m       \u001b[32m0.9316\u001b[0m        \u001b[35m0.2209\u001b[0m  1.0052\n",
            "      6        \u001b[36m0.2823\u001b[0m       \u001b[32m0.9324\u001b[0m        0.2324  0.9790\n",
            "      7        \u001b[36m0.2563\u001b[0m       \u001b[32m0.9481\u001b[0m        \u001b[35m0.1748\u001b[0m  0.9828\n",
            "      8        \u001b[36m0.2327\u001b[0m       \u001b[32m0.9514\u001b[0m        \u001b[35m0.1623\u001b[0m  1.2443\n",
            "      9        \u001b[36m0.2211\u001b[0m       0.9469        0.1770  1.3695\n",
            "     10        \u001b[36m0.2022\u001b[0m       \u001b[32m0.9552\u001b[0m        \u001b[35m0.1514\u001b[0m  1.1123\n",
            "     11        \u001b[36m0.1892\u001b[0m       \u001b[32m0.9569\u001b[0m        \u001b[35m0.1460\u001b[0m  0.9601\n",
            "     12        \u001b[36m0.1864\u001b[0m       0.9536        0.1548  0.9743\n",
            "     13        \u001b[36m0.1776\u001b[0m       \u001b[32m0.9595\u001b[0m        \u001b[35m0.1422\u001b[0m  0.9837\n",
            "     14        \u001b[36m0.1664\u001b[0m       \u001b[32m0.9607\u001b[0m        \u001b[35m0.1357\u001b[0m  0.9722\n",
            "     15        \u001b[36m0.1596\u001b[0m       0.9606        \u001b[35m0.1355\u001b[0m  1.0386\n",
            "     16        \u001b[36m0.1520\u001b[0m       0.9607        0.1361  0.9596\n",
            "     17        \u001b[36m0.1491\u001b[0m       0.9568        0.1477  1.0235\n",
            "     18        \u001b[36m0.1409\u001b[0m       \u001b[32m0.9644\u001b[0m        \u001b[35m0.1247\u001b[0m  0.9731\n",
            "     19        \u001b[36m0.1397\u001b[0m       0.9621        0.1334  1.0322\n",
            "     20        \u001b[36m0.1361\u001b[0m       0.9644        \u001b[35m0.1233\u001b[0m  1.3285\n"
          ]
        }
      ],
      "source": [
        "hidden_dims = [50, 50]\n",
        "net4 = NeuralNetClassifier(ClassifierModule(mnist_dim, hidden_dims, output_dim), max_epochs=20, lr=0.1, device=device)\n",
        "net4.fit(X_train, y_train);\n",
        "nets.append(net4)"
      ]
    },
    {
      "cell_type": "code",
      "execution_count": null,
      "metadata": {
        "colab": {
          "base_uri": "https://localhost:8080/"
        },
        "id": "DHDg9-m6Mdn3",
        "outputId": "976d5da7-f865-4d94-b234-14c039e35756"
      },
      "outputs": [
        {
          "data": {
            "text/plain": [
              "0.962"
            ]
          },
          "execution_count": 31,
          "metadata": {},
          "output_type": "execute_result"
        }
      ],
      "source": [
        "y_pred = net4.predict(X_test)\n",
        "accuracy_score(y_test, y_pred)"
      ]
    },
    {
      "cell_type": "code",
      "execution_count": null,
      "metadata": {
        "colab": {
          "base_uri": "https://localhost:8080/"
        },
        "id": "vCC7A8VmTAoX",
        "outputId": "ab8717e5-f3ee-47a3-c07a-1e81eb8845bc"
      },
      "outputs": [
        {
          "name": "stdout",
          "output_type": "stream",
          "text": [
            "  epoch    train_loss    valid_acc    valid_loss     dur\n",
            "-------  ------------  -----------  ------------  ------\n",
            "      1        \u001b[36m2.3024\u001b[0m       \u001b[32m0.1124\u001b[0m        \u001b[35m2.2996\u001b[0m  1.5841\n",
            "      2        \u001b[36m2.2142\u001b[0m       \u001b[32m0.2776\u001b[0m        \u001b[35m1.9313\u001b[0m  1.1536\n",
            "      3        \u001b[36m1.7942\u001b[0m       \u001b[32m0.3242\u001b[0m        \u001b[35m1.7891\u001b[0m  1.2257\n",
            "      4        \u001b[36m1.3974\u001b[0m       \u001b[32m0.6199\u001b[0m        \u001b[35m1.2522\u001b[0m  1.1488\n",
            "      5        \u001b[36m1.0226\u001b[0m       \u001b[32m0.8026\u001b[0m        \u001b[35m0.6843\u001b[0m  1.1748\n",
            "      6        \u001b[36m0.8774\u001b[0m       \u001b[32m0.8546\u001b[0m        \u001b[35m0.6392\u001b[0m  1.1284\n",
            "      7        \u001b[36m0.7901\u001b[0m       \u001b[32m0.8875\u001b[0m        \u001b[35m0.5380\u001b[0m  1.1518\n",
            "      8        \u001b[36m0.7380\u001b[0m       0.8857        \u001b[35m0.5214\u001b[0m  1.1374\n",
            "      9        \u001b[36m0.7001\u001b[0m       0.8290        0.5950  1.2123\n",
            "     10        \u001b[36m0.6708\u001b[0m       \u001b[32m0.9125\u001b[0m        \u001b[35m0.4356\u001b[0m  1.4985\n",
            "     11        \u001b[36m0.6476\u001b[0m       0.9095        \u001b[35m0.4308\u001b[0m  1.5126\n",
            "     12        \u001b[36m0.6427\u001b[0m       \u001b[32m0.9194\u001b[0m        \u001b[35m0.3999\u001b[0m  1.1226\n",
            "     13        \u001b[36m0.6147\u001b[0m       0.8892        0.4670  1.2063\n",
            "     14        \u001b[36m0.6111\u001b[0m       \u001b[32m0.9275\u001b[0m        \u001b[35m0.3847\u001b[0m  1.2206\n",
            "     15        \u001b[36m0.5902\u001b[0m       \u001b[32m0.9302\u001b[0m        0.3966  1.1362\n",
            "     16        \u001b[36m0.5885\u001b[0m       0.9233        0.3912  1.1234\n",
            "     17        \u001b[36m0.5567\u001b[0m       0.9281        \u001b[35m0.3836\u001b[0m  1.1069\n",
            "     18        \u001b[36m0.5281\u001b[0m       \u001b[32m0.9317\u001b[0m        \u001b[35m0.3734\u001b[0m  1.1815\n",
            "     19        \u001b[36m0.4894\u001b[0m       \u001b[32m0.9342\u001b[0m        \u001b[35m0.3434\u001b[0m  1.1663\n",
            "     20        \u001b[36m0.4594\u001b[0m       0.9313        0.3586  1.3573\n"
          ]
        }
      ],
      "source": [
        "hidden_dims = [20, 20, 20, 20, 20]\n",
        "net5 = NeuralNetClassifier(ClassifierModule(mnist_dim, hidden_dims, output_dim), max_epochs=20, lr=0.1, device=device)\n",
        "net5.fit(X_train, y_train);\n",
        "nets.append(net5)"
      ]
    },
    {
      "cell_type": "code",
      "execution_count": null,
      "metadata": {
        "colab": {
          "base_uri": "https://localhost:8080/"
        },
        "id": "HaNVG-TgMfZG",
        "outputId": "9e51c7a3-8adb-43c7-e399-72e21031787b"
      },
      "outputs": [
        {
          "data": {
            "text/plain": [
              "0.9320571428571428"
            ]
          },
          "execution_count": 33,
          "metadata": {},
          "output_type": "execute_result"
        }
      ],
      "source": [
        "y_pred = net5.predict(X_test)\n",
        "accuracy_score(y_test, y_pred)"
      ]
    },
    {
      "cell_type": "code",
      "execution_count": null,
      "metadata": {
        "id": "A6-i10M0-N1E"
      },
      "outputs": [],
      "source": [
        "def get_correlation(module1, module2, X):\n",
        "  Ts1, layers1 = module1.forward(X, eval=True)[1], module1.forward(X, eval=True)[2]\n",
        "  Ts2, layers2 = module2.forward(X, eval=True)[1], module2.forward(X, eval=True)[2]\n",
        "\n",
        "  correlations = np.zeros_like(Ts1.cpu().detach().numpy()[0])\n",
        "  for i in range(Ts1.shape[1]):\n",
        "    neuron_i = Ts1[:, i]\n",
        "    max_idx = 0\n",
        "    max_corr = -1\n",
        "    for j in range(Ts2.shape[1]):\n",
        "      neuron_j = Ts2[:, j]\n",
        "      stacked = torch.stack((neuron_i, neuron_j))\n",
        "      corr = torch.corrcoef(stacked)[0, 1] / (abs(layers1[0, i] - layers2[0, j]) + 1)\n",
        "      corr = np.abs(corr.cpu().detach().numpy())\n",
        "      if np.isnan(corr):\n",
        "        corr = 0\n",
        "      if corr > max_corr:\n",
        "        max_corr = corr\n",
        "        max_idx = j\n",
        "    correlations[i] = max_corr\n",
        "\n",
        "  return correlations.mean()\n",
        "\n",
        "def mean_correlation(module1, module2, X):\n",
        "    return (get_correlation(module1, module2, X) + get_correlation(module2, module1, X)) / 2"
      ]
    },
    {
      "cell_type": "code",
      "execution_count": null,
      "metadata": {
        "colab": {
          "base_uri": "https://localhost:8080/"
        },
        "id": "3vwYOHjOKy9F",
        "outputId": "a39fe6d4-980f-4506-baf0-672342f6b7eb"
      },
      "outputs": [
        {
          "name": "stdout",
          "output_type": "stream",
          "text": [
            "correlation between net1 and net2: 0.6441813\n",
            "correlation between net1 and net3: 0.6467914\n",
            "correlation between net1 and net4: 0.6419462\n",
            "correlation between net1 and net5: 0.5758694\n",
            "correlation between net2 and net3: 0.69832456\n",
            "correlation between net2 and net4: 0.69948316\n",
            "correlation between net2 and net5: 0.5808465\n",
            "correlation between net3 and net4: 0.73255426\n",
            "correlation between net3 and net5: 0.5750158\n",
            "correlation between net4 and net5: 0.5715857\n"
          ]
        }
      ],
      "source": [
        "for i in range(len(nets)):\n",
        "  for j in range(i + 1, len(nets)):\n",
        "    correlation = get_correlation(nets[i].module, nets[j].module, torch.tensor(X_test).to(device))\n",
        "    print(\"correlation between net\" + str(i + 1) + \" and net\" + str(j + 1) + \":\", correlation)"
      ]
    },
    {
      "cell_type": "markdown",
      "metadata": {
        "id": "I2GsBaxH_v7r"
      },
      "source": [
        "# Convolutional Network\n"
      ]
    },
    {
      "cell_type": "code",
      "execution_count": null,
      "metadata": {
        "id": "YdQ-ISvb_v7u"
      },
      "outputs": [],
      "source": [
        "class Cnn(nn.Module):\n",
        "    def __init__(self, dropout=0.5):\n",
        "        super(Cnn, self).__init__()\n",
        "        self.conv1 = nn.Conv2d(1, 32, kernel_size=3)\n",
        "        self.conv2 = nn.Conv2d(32, 64, kernel_size=3)\n",
        "        self.conv2_drop = nn.Dropout2d(p=dropout)\n",
        "        self.fc1 = nn.Linear(1600, 100) # 1600 = number channels * width * height\n",
        "        self.fc2 = nn.Linear(100, 10)\n",
        "        self.fc1_drop = nn.Dropout(p=dropout)\n",
        "\n",
        "    def forward(self, x, eval=False):\n",
        "\n",
        "        outputs = []\n",
        "        x = x.reshape((x.shape[0], 1, 28, 28))\n",
        "\n",
        "        x = torch.relu(F.max_pool2d(self.conv1(x), 2))\n",
        "        outputs.append(x)\n",
        "        x = torch.relu(F.max_pool2d(self.conv2_drop(self.conv2(x)), 2))\n",
        "        outputs.append(x)\n",
        "\n",
        "        # flatten over channel, height and width = 1600\n",
        "        x = x.view(-1, x.size(1) * x.size(2) * x.size(3))\n",
        "\n",
        "        x = torch.relu(self.fc1_drop(self.fc1(x)))\n",
        "        x = torch.softmax(self.fc2(x), dim=-1)\n",
        "\n",
        "        Ts = None\n",
        "        layers = None\n",
        "        layer_num = 0\n",
        "        if eval:\n",
        "          for X in outputs:\n",
        "            X = X.reshape((X.shape[0], np.prod(X.shape) // X.shape[0]))\n",
        "            Ts = torch.cat((Ts, X), 1) if Ts is not None else X\n",
        "            l = torch.ones_like(X) * layer_num\n",
        "            layers = torch.cat((layers, l), 1) if layers is not None else l\n",
        "            layer_num += 1\n",
        "          return x, Ts, layers\n",
        "\n",
        "        return x\n"
      ]
    },
    {
      "cell_type": "code",
      "execution_count": null,
      "metadata": {
        "id": "WJrWyFfb_v7u"
      },
      "outputs": [],
      "source": [
        "torch.manual_seed(0)\n",
        "\n",
        "cnn = NeuralNetClassifier(\n",
        "    Cnn(),\n",
        "    max_epochs=10,\n",
        "    lr=0.002,\n",
        "    optimizer=torch.optim.Adam,\n",
        "    device=device,\n",
        ")"
      ]
    },
    {
      "cell_type": "code",
      "execution_count": null,
      "metadata": {
        "colab": {
          "base_uri": "https://localhost:8080/"
        },
        "id": "KRtHfgg8_v7u",
        "outputId": "da25d7c9-f9ad-4cd5-f804-33e674ad91b2"
      },
      "outputs": [
        {
          "name": "stdout",
          "output_type": "stream",
          "text": [
            "  epoch    train_loss    valid_acc    valid_loss     dur\n",
            "-------  ------------  -----------  ------------  ------\n",
            "      1        \u001b[36m0.4320\u001b[0m       \u001b[32m0.9723\u001b[0m        \u001b[35m0.0898\u001b[0m  2.7209\n",
            "      2        \u001b[36m0.1646\u001b[0m       \u001b[32m0.9787\u001b[0m        \u001b[35m0.0683\u001b[0m  1.4229\n",
            "      3        \u001b[36m0.1362\u001b[0m       \u001b[32m0.9827\u001b[0m        \u001b[35m0.0548\u001b[0m  2.3759\n",
            "      4        \u001b[36m0.1157\u001b[0m       \u001b[32m0.9840\u001b[0m        \u001b[35m0.0497\u001b[0m  1.4763\n",
            "      5        \u001b[36m0.1018\u001b[0m       \u001b[32m0.9849\u001b[0m        \u001b[35m0.0465\u001b[0m  1.4988\n",
            "      6        \u001b[36m0.0968\u001b[0m       \u001b[32m0.9866\u001b[0m        \u001b[35m0.0406\u001b[0m  1.4351\n",
            "      7        \u001b[36m0.0887\u001b[0m       \u001b[32m0.9867\u001b[0m        0.0418  1.5579\n",
            "      8        \u001b[36m0.0864\u001b[0m       \u001b[32m0.9882\u001b[0m        \u001b[35m0.0381\u001b[0m  1.8608\n",
            "      9        \u001b[36m0.0798\u001b[0m       \u001b[32m0.9886\u001b[0m        0.0383  1.5326\n",
            "     10        \u001b[36m0.0749\u001b[0m       \u001b[32m0.9887\u001b[0m        \u001b[35m0.0363\u001b[0m  1.4093\n"
          ]
        }
      ],
      "source": [
        "cnn.fit(X_train, y_train);"
      ]
    },
    {
      "cell_type": "code",
      "execution_count": null,
      "metadata": {
        "colab": {
          "base_uri": "https://localhost:8080/"
        },
        "id": "BQ3ubdg9MkSm",
        "outputId": "031502dd-5e95-4f79-ac7b-9987f5264a96"
      },
      "outputs": [
        {
          "data": {
            "text/plain": [
              "0.9877714285714285"
            ]
          },
          "execution_count": 43,
          "metadata": {},
          "output_type": "execute_result"
        }
      ],
      "source": [
        "y_pred = cnn.predict(X_test)\n",
        "accuracy_score(y_test, y_pred)"
      ]
    },
    {
      "cell_type": "code",
      "execution_count": null,
      "metadata": {
        "colab": {
          "base_uri": "https://localhost:8080/"
        },
        "id": "sVg63bZmaOct",
        "outputId": "fff6d1bb-f60e-4cd0-b367-3ac6d1675667"
      },
      "outputs": [
        {
          "name": "stdout",
          "output_type": "stream",
          "text": [
            "correlation between net1 and cnn: 0.9211571\n",
            "correlation between net2 and cnn: 0.9053279\n",
            "correlation between net3 and cnn: 0.92999244\n",
            "correlation between net4 and cnn: 0.8931049\n",
            "correlation between net5 and cnn: 0.561959\n"
          ]
        }
      ],
      "source": [
        "for i in range(len(nets)):\n",
        "  correlation = get_correlation(nets[i].module, cnn.module, torch.tensor(X_test[:10]).to(device))\n",
        "  print(\"correlation between net\" + str(i + 1) + \" and cnn:\", correlation)"
      ]
    }
  ],
  "metadata": {
    "accelerator": "GPU",
    "colab": {
      "gpuType": "T4",
      "provenance": []
    },
    "kernelspec": {
      "display_name": "Python 3",
      "name": "python3"
    },
    "language_info": {
      "codemirror_mode": {
        "name": "ipython",
        "version": 3
      },
      "file_extension": ".py",
      "mimetype": "text/x-python",
      "name": "python",
      "nbconvert_exporter": "python",
      "pygments_lexer": "ipython3",
      "version": "3.7.13 (default, Mar 28 2022, 08:03:21) [MSC v.1916 64 bit (AMD64)]"
    },
    "vscode": {
      "interpreter": {
        "hash": "bd97b8bffa4d3737e84826bc3d37be3046061822757ce35137ab82ad4c5a2016"
      }
    }
  },
  "nbformat": 4,
  "nbformat_minor": 0
}
