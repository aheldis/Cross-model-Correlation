{
  "cells": [
    {
      "cell_type": "markdown",
      "metadata": {
        "id": "DJsUjs19_v63"
      },
      "source": [
        "# MNIST with SciKit-Learn and skorch"
      ]
    },
    {
      "cell_type": "code",
      "execution_count": null,
      "metadata": {
        "id": "8qYGNO2S_v6_"
      },
      "outputs": [],
      "source": [
        "import subprocess\n",
        "\n",
        "# Installation on Google Colab\n",
        "try:\n",
        "    import google.colab\n",
        "    subprocess.run(['python', '-m', 'pip', 'install', 'skorch' , 'torch'])\n",
        "except ImportError:\n",
        "    pass"
      ]
    },
    {
      "cell_type": "code",
      "execution_count": null,
      "metadata": {
        "id": "Gj0pvjxT_v7G"
      },
      "outputs": [],
      "source": [
        "from sklearn.datasets import fetch_openml\n",
        "from sklearn.model_selection import train_test_split\n",
        "import numpy as np\n",
        "import matplotlib.pyplot as plt"
      ]
    },
    {
      "cell_type": "markdown",
      "metadata": {
        "id": "mPz6Bjqw_v7H"
      },
      "source": [
        "## Loading Data"
      ]
    },
    {
      "cell_type": "code",
      "execution_count": null,
      "metadata": {
        "colab": {
          "base_uri": "https://localhost:8080/"
        },
        "id": "mwpfASvc_v7J",
        "outputId": "156f26c8-687e-417d-f29c-c7b80665807b"
      },
      "outputs": [
        {
          "name": "stderr",
          "output_type": "stream",
          "text": [
            "/usr/local/lib/python3.10/dist-packages/sklearn/datasets/_openml.py:968: FutureWarning: The default value of `parser` will change from `'liac-arff'` to `'auto'` in 1.4. You can set `parser='auto'` to silence this warning. Therefore, an `ImportError` will be raised from 1.4 if the dataset is dense and pandas is not installed. Note that the pandas parser may return different data types. See the Notes Section in fetch_openml's API doc for details.\n",
            "  warn(\n"
          ]
        }
      ],
      "source": [
        "mnist = fetch_openml('mnist_784', as_frame=False, cache=False)"
      ]
    },
    {
      "cell_type": "code",
      "execution_count": null,
      "metadata": {
        "colab": {
          "base_uri": "https://localhost:8080/"
        },
        "id": "9Pt2JKyb_v7K",
        "outputId": "f6b1b620-f042-4072-d86d-ffac96bcae5b"
      },
      "outputs": [
        {
          "data": {
            "text/plain": [
              "(70000, 784)"
            ]
          },
          "execution_count": 4,
          "metadata": {},
          "output_type": "execute_result"
        }
      ],
      "source": [
        "mnist.data.shape"
      ]
    },
    {
      "cell_type": "markdown",
      "metadata": {
        "id": "sV0ehb52_v7L"
      },
      "source": [
        "## Preprocessing Data\n"
      ]
    },
    {
      "cell_type": "code",
      "execution_count": null,
      "metadata": {
        "id": "F2v_Fwne_v7M"
      },
      "outputs": [],
      "source": [
        "X = mnist.data.astype('float32')\n",
        "y = mnist.target.astype('int64')"
      ]
    },
    {
      "cell_type": "code",
      "execution_count": null,
      "metadata": {
        "id": "8RirCOTr_v7O"
      },
      "outputs": [],
      "source": [
        "X /= 255.0"
      ]
    },
    {
      "cell_type": "code",
      "execution_count": null,
      "metadata": {
        "colab": {
          "base_uri": "https://localhost:8080/"
        },
        "id": "rohyp3d1_v7P",
        "outputId": "3493823b-84eb-43e4-9bc6-23bbcab72734"
      },
      "outputs": [
        {
          "data": {
            "text/plain": [
              "(0.0, 1.0)"
            ]
          },
          "execution_count": 7,
          "metadata": {},
          "output_type": "execute_result"
        }
      ],
      "source": [
        "X.min(), X.max()"
      ]
    },
    {
      "cell_type": "markdown",
      "metadata": {
        "id": "tyUlsu0V_v7Q"
      },
      "source": [
        "Note: data is not normalized."
      ]
    },
    {
      "cell_type": "code",
      "execution_count": null,
      "metadata": {
        "id": "gILlsHJS_v7R"
      },
      "outputs": [],
      "source": [
        "X_train, X_test, y_train, y_test = train_test_split(X, y, test_size=0.25, random_state=42)"
      ]
    },
    {
      "cell_type": "code",
      "execution_count": null,
      "metadata": {
        "id": "jGpA4v4u_v7R"
      },
      "outputs": [],
      "source": [
        "assert(X_train.shape[0] + X_test.shape[0] == mnist.data.shape[0])"
      ]
    },
    {
      "cell_type": "code",
      "execution_count": null,
      "metadata": {
        "colab": {
          "base_uri": "https://localhost:8080/"
        },
        "id": "plXmcsp2_v7b",
        "outputId": "483299e5-086d-4b30-f06c-b576b1cb9388"
      },
      "outputs": [
        {
          "data": {
            "text/plain": [
              "((52500, 784), (52500,))"
            ]
          },
          "execution_count": 10,
          "metadata": {},
          "output_type": "execute_result"
        }
      ],
      "source": [
        "X_train.shape, y_train.shape"
      ]
    },
    {
      "cell_type": "markdown",
      "metadata": {
        "id": "6EKEvbuP_v7c"
      },
      "source": [
        "### Print a selection of training images and their labels"
      ]
    },
    {
      "cell_type": "code",
      "execution_count": null,
      "metadata": {
        "id": "C9muXJPC_v7d"
      },
      "outputs": [],
      "source": [
        "def plot_example(X, y):\n",
        "    \"\"\"Plot the first 5 images and their labels in a row.\"\"\"\n",
        "    for i, (img, y) in enumerate(zip(X[:5].reshape(5, 28, 28), y[:5])):\n",
        "        plt.subplot(151 + i)\n",
        "        plt.imshow(img)\n",
        "        plt.xticks([])\n",
        "        plt.yticks([])\n",
        "        plt.title(y)"
      ]
    },
    {
      "cell_type": "code",
      "execution_count": null,
      "metadata": {
        "colab": {
          "base_uri": "https://localhost:8080/",
          "height": 144
        },
        "id": "h2-R1-Df_v7e",
        "outputId": "003c79e3-f8f9-4862-8ba6-44520951ce68"
      },
      "outputs": [
        {
          "data": {
            "image/png": "[encoded data removed]",
            "text/plain": [
              "<Figure size 640x480 with 5 Axes>"
            ]
          },
          "metadata": {},
          "output_type": "display_data"
        }
      ],
      "source": [
        "plot_example(X_train, y_train)"
      ]
    },
    {
      "cell_type": "markdown",
      "metadata": {
        "id": "YQvC-rWf_v7f"
      },
      "source": [
        "## Build Neural Network with PyTorch"
      ]
    },
    {
      "cell_type": "code",
      "execution_count": null,
      "metadata": {
        "id": "5PG7R0W8_v7f"
      },
      "outputs": [],
      "source": [
        "import torch\n",
        "from torch import nn\n",
        "import torch.nn.functional as F\n",
        "from sklearn.metrics import accuracy_score"
      ]
    },
    {
      "cell_type": "code",
      "execution_count": null,
      "metadata": {
        "id": "NUjWrGBP_v7g"
      },
      "outputs": [],
      "source": [
        "device = 'cuda' if torch.cuda.is_available() else 'cpu'"
      ]
    },
    {
      "cell_type": "code",
      "execution_count": null,
      "metadata": {
        "id": "gVCW8F3N_v7g"
      },
      "outputs": [],
      "source": [
        "mnist_dim = X.shape[1]\n",
        "hidden_dims = [int(mnist_dim/8)]\n",
        "output_dim = len(np.unique(mnist.target))"
      ]
    },
    {
      "cell_type": "code",
      "execution_count": null,
      "metadata": {
        "colab": {
          "base_uri": "https://localhost:8080/"
        },
        "id": "ShYicHlv_v7h",
        "outputId": "a4e1fc9d-e32b-4990-ebd4-64318ae2c35f"
      },
      "outputs": [
        {
          "data": {
            "text/plain": [
              "(784, [98], 10)"
            ]
          },
          "execution_count": 16,
          "metadata": {},
          "output_type": "execute_result"
        }
      ],
      "source": [
        "mnist_dim, hidden_dims, output_dim"
      ]
    },
    {
      "cell_type": "code",
      "execution_count": null,
      "metadata": {
        "id": "Xxtli0l__v7j"
      },
      "outputs": [],
      "source": [
        "class ClassifierModule(nn.Module):\n",
        "    def __init__(\n",
        "            self,\n",
        "            input_dim=mnist_dim,\n",
        "            hidden_dims=hidden_dims,\n",
        "            output_dim=output_dim,\n",
        "            dropout=0.5,\n",
        "    ):\n",
        "        super(ClassifierModule, self).__init__()\n",
        "        self.dropout = nn.Dropout(dropout)\n",
        "        self.hidden = nn.ModuleList()\n",
        "        for i in range(len(hidden_dims)):\n",
        "            if i == 0:\n",
        "              self.hidden.append(nn.Linear(mnist_dim, hidden_dims[i]))\n",
        "            else:\n",
        "              self.hidden.append(nn.Linear(hidden_dims[i - 1], hidden_dims[i]))\n",
        "        self.output = nn.Linear(hidden_dims[-1], output_dim)\n",
        "\n",
        "    def forward(self, X, eval=False, **kwargs):\n",
        "        Ts = None\n",
        "        layers = None\n",
        "        layer_num = 0\n",
        "        for h in self.hidden:\n",
        "          X = F.relu(h(X))\n",
        "          if eval:\n",
        "            Ts = torch.cat((Ts, X), 1) if Ts is not None else X\n",
        "            l = torch.ones_like(X) * layer_num\n",
        "            layers = torch.cat((layers, l), 1) if layers is not None else l\n",
        "          layer_num += 1\n",
        "        X = self.dropout(X)\n",
        "        X = F.softmax(self.output(X), dim=-1)\n",
        "        if eval:\n",
        "          return X, Ts, layers\n",
        "        return X"
      ]
    },
    {
      "cell_type": "code",
      "execution_count": null,
      "metadata": {
        "id": "s0aDatqN_v7l"
      },
      "outputs": [],
      "source": [
        "from skorch import NeuralNetClassifier\n",
        "nets = []"
      ]
    },
    {
      "cell_type": "code",
      "execution_count": null,
      "metadata": {
        "id": "dOrCbBjk_v7m"
      },
      "outputs": [],
      "source": [
        "torch.manual_seed(0)\n",
        "\n",
        "net1 = NeuralNetClassifier(\n",
        "    ClassifierModule(mnist_dim, [100], output_dim),\n",
        "    max_epochs=20,\n",
        "    lr=0.1,\n",
        "    device=device,\n",
        ")"
      ]
    },
    {
      "cell_type": "code",
      "execution_count": null,
      "metadata": {
        "colab": {
          "base_uri": "https://localhost:8080/"
        },
        "id": "8i_gnvPi_v7m",
        "outputId": "c1e393c7-113a-4704-a44d-089f9f42581e"
      },
      "outputs": [
        {
          "name": "stdout",
          "output_type": "stream",
          "text": [
            "  epoch    train_loss    valid_acc    valid_loss     dur\n",
            "-------  ------------  -----------  ------------  ------\n",
            "      1        \u001b[36m0.8367\u001b[0m       \u001b[32m0.8905\u001b[0m        \u001b[35m0.3961\u001b[0m  1.4449\n",
            "      2        \u001b[36m0.4284\u001b[0m       \u001b[32m0.9098\u001b[0m        \u001b[35m0.3098\u001b[0m  0.9784\n",
            "      3        \u001b[36m0.3556\u001b[0m       \u001b[32m0.9241\u001b[0m        \u001b[35m0.2624\u001b[0m  0.9305\n",
            "      4        \u001b[36m0.3177\u001b[0m       \u001b[32m0.9331\u001b[0m        \u001b[35m0.2324\u001b[0m  0.9178\n",
            "      5        \u001b[36m0.2917\u001b[0m       \u001b[32m0.9386\u001b[0m        \u001b[35m0.2125\u001b[0m  0.9308\n",
            "      6        \u001b[36m0.2702\u001b[0m       \u001b[32m0.9412\u001b[0m        \u001b[35m0.1987\u001b[0m  0.9260\n",
            "      7        \u001b[36m0.2533\u001b[0m       \u001b[32m0.9436\u001b[0m        \u001b[35m0.1900\u001b[0m  0.9250\n",
            "      8        \u001b[36m0.2380\u001b[0m       \u001b[32m0.9490\u001b[0m        \u001b[35m0.1747\u001b[0m  0.9257\n",
            "      9        \u001b[36m0.2291\u001b[0m       \u001b[32m0.9503\u001b[0m        \u001b[35m0.1688\u001b[0m  0.9304\n",
            "     10        \u001b[36m0.2202\u001b[0m       \u001b[32m0.9527\u001b[0m        \u001b[35m0.1576\u001b[0m  1.0343\n",
            "     11        \u001b[36m0.2106\u001b[0m       \u001b[32m0.9535\u001b[0m        \u001b[35m0.1554\u001b[0m  1.5683\n",
            "     12        \u001b[36m0.2033\u001b[0m       \u001b[32m0.9557\u001b[0m        \u001b[35m0.1476\u001b[0m  1.6105\n",
            "     13        \u001b[36m0.1999\u001b[0m       \u001b[32m0.9578\u001b[0m        \u001b[35m0.1457\u001b[0m  0.9156\n",
            "     14        \u001b[36m0.1932\u001b[0m       0.9564        \u001b[35m0.1451\u001b[0m  0.9096\n",
            "     15        \u001b[36m0.1892\u001b[0m       \u001b[32m0.9600\u001b[0m        \u001b[35m0.1360\u001b[0m  0.9168\n",
            "     16        \u001b[36m0.1848\u001b[0m       \u001b[32m0.9605\u001b[0m        \u001b[35m0.1331\u001b[0m  0.9232\n",
            "     17        \u001b[36m0.1817\u001b[0m       \u001b[32m0.9613\u001b[0m        \u001b[35m0.1306\u001b[0m  0.9158\n",
            "     18        \u001b[36m0.1751\u001b[0m       \u001b[32m0.9617\u001b[0m        \u001b[35m0.1305\u001b[0m  0.9306\n",
            "     19        \u001b[36m0.1718\u001b[0m       \u001b[32m0.9628\u001b[0m        \u001b[35m0.1273\u001b[0m  0.9139\n",
            "     20        \u001b[36m0.1674\u001b[0m       \u001b[32m0.9631\u001b[0m        \u001b[35m0.1245\u001b[0m  0.9202\n"
          ]
        }
      ],
      "source": [
        "net1.fit(X_train, y_train);\n",
        "nets.append(net1)"
      ]
    },
    {
      "cell_type": "code",
      "execution_count": null,
      "metadata": {
        "colab": {
          "base_uri": "https://localhost:8080/"
        },
        "id": "d0qsHpd8qPYk",
        "outputId": "209130ea-dcf4-49a1-fc8a-3bfdfa556059"
      },
      "outputs": [
        {
          "data": {
            "text/plain": [
              "(tensor([[2.0147e-08, 1.4814e-07, 3.7713e-04,  ..., 1.5613e-07, 9.9909e-01,\n",
              "          4.8031e-07],\n",
              "         [1.6016e-09, 1.3437e-09, 1.3737e-08,  ..., 3.8516e-04, 3.9539e-06,\n",
              "          2.0088e-04],\n",
              "         [3.0025e-03, 7.1981e-04, 6.2094e-03,  ..., 6.9021e-04, 6.0456e-01,\n",
              "          1.1844e-02],\n",
              "         ...,\n",
              "         [2.3549e-05, 2.7039e-08, 1.9762e-06,  ..., 1.2048e-08, 1.8480e-05,\n",
              "          7.3559e-05],\n",
              "         [1.0057e-06, 1.4489e-08, 2.9837e-05,  ..., 1.1928e-05, 1.3349e-02,\n",
              "          9.7282e-01],\n",
              "         [1.1720e-05, 8.4182e-05, 9.7499e-01,  ..., 6.5959e-04, 1.3144e-03,\n",
              "          2.2216e-05]], device='cuda:0', grad_fn=<SoftmaxBackward0>),\n",
              " tensor([[0.7680, 0.0000, 1.7802,  ..., 0.0000, 0.0000, 1.1300],\n",
              "         [0.0000, 0.2991, 0.0000,  ..., 0.0000, 0.0000, 0.1477],\n",
              "         [0.2638, 0.1413, 0.0000,  ..., 0.0000, 0.0000, 0.4819],\n",
              "         ...,\n",
              "         [0.0000, 0.0000, 0.0000,  ..., 0.1217, 0.0000, 0.0000],\n",
              "         [0.0000, 3.0441, 0.0000,  ..., 0.0000, 0.0000, 0.0000],\n",
              "         [0.0429, 0.5084, 2.3616,  ..., 0.0000, 1.3953, 0.0000]],\n",
              "        device='cuda:0', grad_fn=<ReluBackward0>),\n",
              " tensor([[0., 0., 0.,  ..., 0., 0., 0.],\n",
              "         [0., 0., 0.,  ..., 0., 0., 0.],\n",
              "         [0., 0., 0.,  ..., 0., 0., 0.],\n",
              "         ...,\n",
              "         [0., 0., 0.,  ..., 0., 0., 0.],\n",
              "         [0., 0., 0.,  ..., 0., 0., 0.],\n",
              "         [0., 0., 0.,  ..., 0., 0., 0.]], device='cuda:0'))"
            ]
          },
          "execution_count": 21,
          "metadata": {},
          "output_type": "execute_result"
        }
      ],
      "source": [
        "net1.module.forward(torch.tensor(X_test).to(device),eval=True)"
      ]
    },
    {
      "cell_type": "code",
      "execution_count": null,
      "metadata": {
        "colab": {
          "base_uri": "https://localhost:8080/"
        },
        "id": "LCWachuM_v7o",
        "outputId": "4ea03db5-ccda-4b63-9ac7-cbc2b9b42d1a"
      },
      "outputs": [
        {
          "data": {
            "text/plain": [
              "0.9621142857142857"
            ]
          },
          "execution_count": 22,
          "metadata": {},
          "output_type": "execute_result"
        }
      ],
      "source": [
        "y_pred = net1.predict(X_test)\n",
        "accuracy_score(y_test, y_pred)"
      ]
    },
    {
      "cell_type": "code",
      "execution_count": null,
      "metadata": {
        "colab": {
          "base_uri": "https://localhost:8080/"
        },
        "id": "BW7oUwIsefSx",
        "outputId": "c23c8358-abe9-43da-b7ba-592bbe0e6332"
      },
      "outputs": [
        {
          "name": "stdout",
          "output_type": "stream",
          "text": [
            "  epoch    train_loss    valid_acc    valid_loss     dur\n",
            "-------  ------------  -----------  ------------  ------\n",
            "      1        \u001b[36m1.1706\u001b[0m       \u001b[32m0.8329\u001b[0m        \u001b[35m0.5378\u001b[0m  0.9967\n",
            "      2        \u001b[36m0.5422\u001b[0m       \u001b[32m0.9035\u001b[0m        \u001b[35m0.3359\u001b[0m  1.0612\n",
            "      3        \u001b[36m0.4359\u001b[0m       \u001b[32m0.9195\u001b[0m        \u001b[35m0.2755\u001b[0m  1.3266\n",
            "      4        \u001b[36m0.3662\u001b[0m       \u001b[32m0.9332\u001b[0m        \u001b[35m0.2221\u001b[0m  1.1074\n",
            "      5        \u001b[36m0.3185\u001b[0m       0.9320        0.2238  0.9603\n",
            "      6        \u001b[36m0.2814\u001b[0m       \u001b[32m0.9479\u001b[0m        \u001b[35m0.1776\u001b[0m  0.9770\n",
            "      7        \u001b[36m0.2571\u001b[0m       \u001b[32m0.9503\u001b[0m        \u001b[35m0.1620\u001b[0m  0.9722\n",
            "      8        \u001b[36m0.2357\u001b[0m       \u001b[32m0.9525\u001b[0m        \u001b[35m0.1567\u001b[0m  0.9712\n",
            "      9        \u001b[36m0.2198\u001b[0m       \u001b[32m0.9533\u001b[0m        \u001b[35m0.1542\u001b[0m  0.9570\n",
            "     10        \u001b[36m0.2045\u001b[0m       \u001b[32m0.9540\u001b[0m        0.1585  0.9594\n",
            "     11        \u001b[36m0.1908\u001b[0m       \u001b[32m0.9580\u001b[0m        \u001b[35m0.1409\u001b[0m  1.0077\n",
            "     12        \u001b[36m0.1804\u001b[0m       0.9085        0.3134  0.9727\n",
            "     13        \u001b[36m0.1705\u001b[0m       \u001b[32m0.9638\u001b[0m        \u001b[35m0.1253\u001b[0m  0.9783\n",
            "     14        \u001b[36m0.1628\u001b[0m       \u001b[32m0.9647\u001b[0m        \u001b[35m0.1231\u001b[0m  1.1683\n",
            "     15        \u001b[36m0.1568\u001b[0m       0.9615        0.1321  1.3543\n",
            "     16        \u001b[36m0.1489\u001b[0m       \u001b[32m0.9656\u001b[0m        0.1235  0.9734\n",
            "     17        \u001b[36m0.1437\u001b[0m       \u001b[32m0.9668\u001b[0m        \u001b[35m0.1202\u001b[0m  0.9686\n",
            "     18        \u001b[36m0.1399\u001b[0m       \u001b[32m0.9670\u001b[0m        \u001b[35m0.1162\u001b[0m  0.9770\n",
            "     19        \u001b[36m0.1324\u001b[0m       \u001b[32m0.9690\u001b[0m        \u001b[35m0.1132\u001b[0m  0.9640\n",
            "     20        \u001b[36m0.1268\u001b[0m       0.9690        0.1154  0.9802\n"
          ]
        }
      ],
      "source": [
        "hidden_dims = [60, 40]\n",
        "net2 = NeuralNetClassifier(ClassifierModule(mnist_dim, hidden_dims, output_dim), max_epochs=20, lr=0.1, device=device)\n",
        "net2.fit(X_train, y_train);\n",
        "nets.append(net2)"
      ]
    },
    {
      "cell_type": "code",
      "execution_count": null,
      "metadata": {
        "colab": {
          "base_uri": "https://localhost:8080/"
        },
        "id": "oOJu7u0DefNS",
        "outputId": "0368cf7e-293d-441d-897f-1112ccdccfe6"
      },
      "outputs": [
        {
          "data": {
            "text/plain": [
              "0.9638857142857142"
            ]
          },
          "execution_count": 24,
          "metadata": {},
          "output_type": "execute_result"
        }
      ],
      "source": [
        "y_pred = net2.predict(X_test)\n",
        "accuracy_score(y_test, y_pred)"
      ]
    },
    {
      "cell_type": "code",
      "execution_count": null,
      "metadata": {
        "colab": {
          "base_uri": "https://localhost:8080/"
        },
        "id": "8brVrmkFfBZN",
        "outputId": "e5c40b41-1145-4337-a78d-b790a945619b"
      },
      "outputs": [
        {
          "name": "stdout",
          "output_type": "stream",
          "text": [
            "  epoch    train_loss    valid_acc    valid_loss     dur\n",
            "-------  ------------  -----------  ------------  ------\n",
            "      1        \u001b[36m1.0867\u001b[0m       \u001b[32m0.8451\u001b[0m        \u001b[35m0.5136\u001b[0m  0.9897\n",
            "      2        \u001b[36m0.5002\u001b[0m       \u001b[32m0.8920\u001b[0m        \u001b[35m0.3616\u001b[0m  0.9773\n",
            "      3        \u001b[36m0.4027\u001b[0m       \u001b[32m0.9180\u001b[0m        \u001b[35m0.2784\u001b[0m  0.9771\n",
            "      4        \u001b[36m0.3441\u001b[0m       \u001b[32m0.9276\u001b[0m        \u001b[35m0.2376\u001b[0m  0.9619\n",
            "      5        \u001b[36m0.3032\u001b[0m       \u001b[32m0.9339\u001b[0m        \u001b[35m0.2172\u001b[0m  1.0986\n",
            "      6        \u001b[36m0.2728\u001b[0m       \u001b[32m0.9455\u001b[0m        \u001b[35m0.1858\u001b[0m  1.3285\n",
            "      7        \u001b[36m0.2463\u001b[0m       \u001b[32m0.9487\u001b[0m        \u001b[35m0.1705\u001b[0m  1.0680\n",
            "      8        \u001b[36m0.2261\u001b[0m       \u001b[32m0.9511\u001b[0m        \u001b[35m0.1614\u001b[0m  0.9713\n",
            "      9        \u001b[36m0.2104\u001b[0m       \u001b[32m0.9518\u001b[0m        \u001b[35m0.1599\u001b[0m  0.9798\n",
            "     10        \u001b[36m0.1940\u001b[0m       \u001b[32m0.9530\u001b[0m        \u001b[35m0.1544\u001b[0m  0.9776\n",
            "     11        \u001b[36m0.1852\u001b[0m       \u001b[32m0.9546\u001b[0m        \u001b[35m0.1497\u001b[0m  0.9583\n",
            "     12        \u001b[36m0.1735\u001b[0m       \u001b[32m0.9570\u001b[0m        \u001b[35m0.1423\u001b[0m  0.9619\n",
            "     13        \u001b[36m0.1664\u001b[0m       0.9501        0.1662  0.9839\n",
            "     14        \u001b[36m0.1556\u001b[0m       0.9524        0.1540  0.9817\n",
            "     15        \u001b[36m0.1496\u001b[0m       \u001b[32m0.9617\u001b[0m        \u001b[35m0.1261\u001b[0m  0.9719\n",
            "     16        \u001b[36m0.1439\u001b[0m       \u001b[32m0.9620\u001b[0m        0.1267  0.9829\n",
            "     17        \u001b[36m0.1360\u001b[0m       0.9608        0.1323  1.2313\n",
            "     18        \u001b[36m0.1351\u001b[0m       \u001b[32m0.9634\u001b[0m        \u001b[35m0.1234\u001b[0m  1.2931\n",
            "     19        \u001b[36m0.1282\u001b[0m       0.9530        0.1643  0.9887\n",
            "     20        \u001b[36m0.1241\u001b[0m       0.9619        0.1270  1.0173\n"
          ]
        }
      ],
      "source": [
        "hidden_dims = [40, 60]\n",
        "net3 = NeuralNetClassifier(ClassifierModule(mnist_dim, hidden_dims, output_dim), max_epochs=20, lr=0.1, device=device)\n",
        "net3.fit(X_train, y_train);\n",
        "nets.append(net3)"
      ]
    },
    {
      "cell_type": "code",
      "execution_count": null,
      "metadata": {
        "colab": {
          "base_uri": "https://localhost:8080/"
        },
        "id": "RPdX6V3RfbIO",
        "outputId": "59c25e13-3a55-4ea2-dfa8-9b62a16f1e4d"
      },
      "outputs": [
        {
          "data": {
            "text/plain": [
              "0.9594857142857143"
            ]
          },
          "execution_count": 26,
          "metadata": {},
          "output_type": "execute_result"
        }
      ],
      "source": [
        "y_pred = net3.predict(X_test)\n",
        "accuracy_score(y_test, y_pred)"
      ]
    },
    {
      "cell_type": "code",
      "execution_count": null,
      "metadata": {
        "id": "XddXR1_a_v7p"
      },
      "outputs": [],
      "source": [
        "error_mask = y_pred != y_test"
      ]
    },
    {
      "cell_type": "code",
      "execution_count": null,
      "metadata": {
        "colab": {
          "base_uri": "https://localhost:8080/",
          "height": 144
        },
        "id": "hXlNTrlt_v7q",
        "outputId": "a80cbb34-4e52-4533-d6ae-88f8d4240a39"
      },
      "outputs": [
        {
          "data": {
            "image/png": "[encoded data removed]",
            "text/plain": [
              "<Figure size 640x480 with 5 Axes>"
            ]
          },
          "metadata": {},
          "output_type": "display_data"
        }
      ],
      "source": [
        "plot_example(X_test[error_mask], y_pred[error_mask])"
      ]
    },
    {
      "cell_type": "code",
      "execution_count": null,
      "metadata": {
        "colab": {
          "base_uri": "https://localhost:8080/"
        },
        "id": "EV9i52A1Ltos",
        "outputId": "595fff46-d7e1-4284-dbe4-ff653389c929"
      },
      "outputs": [
        {
          "data": {
            "text/plain": [
              "[196, 392]"
            ]
          },
          "execution_count": 29,
          "metadata": {},
          "output_type": "execute_result"
        }
      ],
      "source": [
        "[mnist_dim//4, mnist_dim//2]"
      ]
    },
    {
      "cell_type": "code",
      "execution_count": null,
      "metadata": {
        "colab": {
          "base_uri": "https://localhost:8080/"
        },
        "id": "uuq0j5qOS9cK",
        "outputId": "2e1152cb-a63f-496d-9ff4-d9371507c801"
      },
      "outputs": [
        {
          "name": "stdout",
          "output_type": "stream",
          "text": [
            "  epoch    train_loss    valid_acc    valid_loss     dur\n",
            "-------  ------------  -----------  ------------  ------\n",
            "      1        \u001b[36m1.0957\u001b[0m       \u001b[32m0.8624\u001b[0m        \u001b[35m0.4572\u001b[0m  1.4767\n",
            "      2        \u001b[36m0.4814\u001b[0m       \u001b[32m0.9075\u001b[0m        \u001b[35m0.3147\u001b[0m  0.9795\n",
            "      3        \u001b[36m0.3856\u001b[0m       \u001b[32m0.9122\u001b[0m        \u001b[35m0.2830\u001b[0m  0.9696\n",
            "      4        \u001b[36m0.3339\u001b[0m       \u001b[32m0.9127\u001b[0m        \u001b[35m0.2719\u001b[0m  0.9716\n",
            "      5        \u001b[36m0.2892\u001b[0m       \u001b[32m0.9384\u001b[0m        \u001b[35m0.1990\u001b[0m  0.9838\n",
            "      6        \u001b[36m0.2607\u001b[0m       \u001b[32m0.9395\u001b[0m        \u001b[35m0.1971\u001b[0m  1.3262\n",
            "      7        \u001b[36m0.2374\u001b[0m       \u001b[32m0.9490\u001b[0m        \u001b[35m0.1726\u001b[0m  1.3820\n",
            "      8        \u001b[36m0.2191\u001b[0m       \u001b[32m0.9500\u001b[0m        \u001b[35m0.1656\u001b[0m  0.9572\n",
            "      9        \u001b[36m0.2024\u001b[0m       \u001b[32m0.9504\u001b[0m        \u001b[35m0.1636\u001b[0m  0.9648\n",
            "     10        \u001b[36m0.1889\u001b[0m       \u001b[32m0.9550\u001b[0m        \u001b[35m0.1492\u001b[0m  0.9734\n",
            "     11        \u001b[36m0.1759\u001b[0m       \u001b[32m0.9573\u001b[0m        \u001b[35m0.1413\u001b[0m  0.9856\n",
            "     12        \u001b[36m0.1653\u001b[0m       \u001b[32m0.9583\u001b[0m        \u001b[35m0.1379\u001b[0m  0.9626\n",
            "     13        \u001b[36m0.1596\u001b[0m       \u001b[32m0.9585\u001b[0m        \u001b[35m0.1365\u001b[0m  0.9627\n",
            "     14        \u001b[36m0.1502\u001b[0m       \u001b[32m0.9596\u001b[0m        \u001b[35m0.1340\u001b[0m  0.9557\n",
            "     15        \u001b[36m0.1450\u001b[0m       0.9591        \u001b[35m0.1309\u001b[0m  0.9660\n",
            "     16        \u001b[36m0.1378\u001b[0m       \u001b[32m0.9616\u001b[0m        \u001b[35m0.1297\u001b[0m  0.9540\n",
            "     17        \u001b[36m0.1307\u001b[0m       0.8766        0.6033  0.9668\n",
            "     18        \u001b[36m0.1295\u001b[0m       \u001b[32m0.9639\u001b[0m        \u001b[35m0.1262\u001b[0m  1.2513\n",
            "     19        \u001b[36m0.1234\u001b[0m       0.9630        \u001b[35m0.1223\u001b[0m  1.4383\n",
            "     20        \u001b[36m0.1170\u001b[0m       0.9637        0.1266  1.0056\n"
          ]
        }
      ],
      "source": [
        "hidden_dims = [50, 50]\n",
        "net4 = NeuralNetClassifier(ClassifierModule(mnist_dim, hidden_dims, output_dim), max_epochs=20, lr=0.1, device=device)\n",
        "net4.fit(X_train, y_train);\n",
        "nets.append(net4)"
      ]
    },
    {
      "cell_type": "code",
      "execution_count": null,
      "metadata": {
        "colab": {
          "base_uri": "https://localhost:8080/"
        },
        "id": "DHDg9-m6Mdn3",
        "outputId": "49d6092e-42b0-4300-b9cc-d7b33d067c36"
      },
      "outputs": [
        {
          "data": {
            "text/plain": [
              "0.9632571428571428"
            ]
          },
          "execution_count": 21,
          "metadata": {},
          "output_type": "execute_result"
        }
      ],
      "source": [
        "y_pred = net4.predict(X_test)\n",
        "accuracy_score(y_test, y_pred)"
      ]
    },
    {
      "cell_type": "code",
      "execution_count": null,
      "metadata": {
        "colab": {
          "base_uri": "https://localhost:8080/"
        },
        "id": "vCC7A8VmTAoX",
        "outputId": "6dabb5a1-43b7-43d6-a4e0-1ab445d2cf4b"
      },
      "outputs": [
        {
          "name": "stdout",
          "output_type": "stream",
          "text": [
            "  epoch    train_loss    valid_acc    valid_loss     dur\n",
            "-------  ------------  -----------  ------------  ------\n",
            "      1        \u001b[36m2.2789\u001b[0m       \u001b[32m0.2133\u001b[0m        \u001b[35m2.0612\u001b[0m  2.5305\n",
            "      2        \u001b[36m1.7379\u001b[0m       \u001b[32m0.4841\u001b[0m        \u001b[35m1.3003\u001b[0m  3.7592\n",
            "      3        \u001b[36m1.0789\u001b[0m       \u001b[32m0.6756\u001b[0m        \u001b[35m0.9104\u001b[0m  2.1363\n",
            "      4        \u001b[36m0.8317\u001b[0m       0.4943        1.9401  1.3569\n",
            "      5        \u001b[36m0.7630\u001b[0m       \u001b[32m0.8568\u001b[0m        \u001b[35m0.4957\u001b[0m  2.1137\n",
            "      6        \u001b[36m0.6738\u001b[0m       \u001b[32m0.8770\u001b[0m        \u001b[35m0.4603\u001b[0m  2.4785\n",
            "      7        \u001b[36m0.6295\u001b[0m       \u001b[32m0.8916\u001b[0m        \u001b[35m0.4092\u001b[0m  2.7686\n",
            "      8        \u001b[36m0.5916\u001b[0m       0.8610        0.4787  2.9438\n",
            "      9        \u001b[36m0.5569\u001b[0m       \u001b[32m0.9118\u001b[0m        \u001b[35m0.3460\u001b[0m  1.5647\n",
            "     10        \u001b[36m0.5410\u001b[0m       0.9110        0.3483  1.1440\n",
            "     11        \u001b[36m0.5153\u001b[0m       \u001b[32m0.9227\u001b[0m        \u001b[35m0.3239\u001b[0m  1.1291\n",
            "     12        \u001b[36m0.4848\u001b[0m       0.8533        0.6047  1.1323\n",
            "     13        \u001b[36m0.4763\u001b[0m       0.9225        0.3239  1.1796\n",
            "     14        \u001b[36m0.4574\u001b[0m       \u001b[32m0.9307\u001b[0m        \u001b[35m0.2951\u001b[0m  1.1450\n",
            "     15        \u001b[36m0.4349\u001b[0m       0.9255        0.3040  1.1668\n",
            "     16        \u001b[36m0.4292\u001b[0m       \u001b[32m0.9350\u001b[0m        \u001b[35m0.2880\u001b[0m  1.4003\n",
            "     17        \u001b[36m0.4181\u001b[0m       0.9334        \u001b[35m0.2878\u001b[0m  1.6246\n",
            "     18        \u001b[36m0.4092\u001b[0m       0.9270        0.3195  1.1699\n",
            "     19        \u001b[36m0.4028\u001b[0m       \u001b[32m0.9389\u001b[0m        \u001b[35m0.2791\u001b[0m  1.1420\n",
            "     20        \u001b[36m0.3882\u001b[0m       0.9379        \u001b[35m0.2707\u001b[0m  1.1140\n"
          ]
        }
      ],
      "source": [
        "hidden_dims = [20, 20, 20, 20, 20]\n",
        "net5 = NeuralNetClassifier(ClassifierModule(mnist_dim, hidden_dims, output_dim), max_epochs=20, lr=0.1, device=device)\n",
        "net5.fit(X_train, y_train);\n",
        "nets.append(net5)"
      ]
    },
    {
      "cell_type": "code",
      "execution_count": null,
      "metadata": {
        "colab": {
          "base_uri": "https://localhost:8080/"
        },
        "id": "HaNVG-TgMfZG",
        "outputId": "49ca1931-a79e-4ce9-e816-a6ae778d0e52"
      },
      "outputs": [
        {
          "data": {
            "text/plain": [
              "0.936"
            ]
          },
          "execution_count": 25,
          "metadata": {},
          "output_type": "execute_result"
        }
      ],
      "source": [
        "y_pred = net5.predict(X_test)\n",
        "accuracy_score(y_test, y_pred)"
      ]
    },
    {
      "cell_type": "code",
      "execution_count": null,
      "metadata": {
        "id": "A6-i10M0-N1E"
      },
      "outputs": [],
      "source": [
        "def get_correlation(module1, module2, X):\n",
        "  Ts1, layers1 = module1.forward(X, eval=True)[1], module1.forward(X, eval=True)[2]\n",
        "  Ts2, layers2 = module2.forward(X, eval=True)[1], module2.forward(X, eval=True)[2]\n",
        "\n",
        "  correlations = np.zeros_like(Ts1.cpu().detach().numpy()[0])\n",
        "  for i in range(Ts1.shape[1]):\n",
        "    neuron_i = Ts1[:, i]\n",
        "    max_idx = 0\n",
        "    max_corr = -1\n",
        "    for j in range(Ts2.shape[1]):\n",
        "      neuron_j = Ts2[:, j]\n",
        "      stacked = torch.stack((neuron_i, neuron_j))\n",
        "      corr = torch.corrcoef(stacked)[0, 1] / (abs(layers1[0, i] - layers2[0, j]) + 1)\n",
        "      corr = corr.cpu().detach().numpy()\n",
        "      if corr > max_corr:\n",
        "        max_corr = corr\n",
        "        max_idx = j\n",
        "    correlations[i] = max_corr\n",
        "\n",
        "  return correlations.mean()\n",
        "\n",
        "def mean_correlation(module1, module2, X):\n",
        "    return (get_correlation(module1, module2, X) + get_correlation(module2, module1, X)) / 2"
      ]
    },
    {
      "cell_type": "code",
      "execution_count": null,
      "metadata": {
        "colab": {
          "base_uri": "https://localhost:8080/"
        },
        "id": "3vwYOHjOKy9F",
        "outputId": "ba87d20d-8dce-4349-ddfb-0897827a8cbe"
      },
      "outputs": [
        {
          "name": "stdout",
          "output_type": "stream",
          "text": [
            "correlation between net1 and net2: 0.6441813\n",
            "correlation between net1 and net3: 0.64617383\n",
            "correlation between net1 and net4: 0.6419462\n",
            "correlation between net1 and net5: 0.5344021\n",
            "correlation between net2 and net3: 0.69737905\n",
            "correlation between net2 and net4: 0.6987282\n",
            "correlation between net2 and net5: 0.56351495\n",
            "correlation between net3 and net4: 0.7301064\n",
            "correlation between net3 and net5: 0.55107325\n",
            "correlation between net4 and net5: 0.54149276\n"
          ]
        }
      ],
      "source": [
        "for i in range(len(nets)):\n",
        "  for j in range(i + 1, len(nets)):\n",
        "    correlation = get_correlation(nets[i].module, nets[j].module, torch.tensor(X_test).to(device))\n",
        "    print(\"correlation between net\" + str(i + 1) + \" and net\" + str(j + 1) + \":\", correlation)"
      ]
    },
    {
      "cell_type": "markdown",
      "metadata": {
        "id": "I2GsBaxH_v7r"
      },
      "source": [
        "# Convolutional Network\n"
      ]
    },
    {
      "cell_type": "code",
      "execution_count": null,
      "metadata": {
        "id": "Bwsaz88X_v7r"
      },
      "outputs": [],
      "source": [
        "XCnn = X.reshape(-1, 1, 28, 28)"
      ]
    },
    {
      "cell_type": "code",
      "execution_count": null,
      "metadata": {
        "colab": {
          "base_uri": "https://localhost:8080/"
        },
        "id": "Go0Yz8xl_v7s",
        "outputId": "b79a3807-9d8b-49b8-ddf4-265d3329a4df"
      },
      "outputs": [
        {
          "data": {
            "text/plain": [
              "(70000, 1, 28, 28)"
            ]
          },
          "execution_count": 37,
          "metadata": {},
          "output_type": "execute_result"
        }
      ],
      "source": [
        "XCnn.shape"
      ]
    },
    {
      "cell_type": "code",
      "execution_count": null,
      "metadata": {
        "id": "YdQ-ISvb_v7u"
      },
      "outputs": [],
      "source": [
        "class Cnn(nn.Module):\n",
        "    def __init__(self, dropout=0.5):\n",
        "        super(Cnn, self).__init__()\n",
        "        self.conv1 = nn.Conv2d(1, 32, kernel_size=3)\n",
        "        self.conv2 = nn.Conv2d(32, 64, kernel_size=3)\n",
        "        self.conv2_drop = nn.Dropout2d(p=dropout)\n",
        "        self.fc1 = nn.Linear(1600, 100) # 1600 = number channels * width * height\n",
        "        self.fc2 = nn.Linear(100, 10)\n",
        "        self.fc1_drop = nn.Dropout(p=dropout)\n",
        "\n",
        "    def forward(self, x, eval=False):\n",
        "\n",
        "        outputs = []\n",
        "        x = x.reshape((x.shape[0], 1, 28, 28))\n",
        "\n",
        "        x = torch.relu(F.max_pool2d(self.conv1(x), 2))\n",
        "        outputs.append(x)\n",
        "        x = torch.relu(F.max_pool2d(self.conv2_drop(self.conv2(x)), 2))\n",
        "        outputs.append(x)\n",
        "\n",
        "        # flatten over channel, height and width = 1600\n",
        "        x = x.view(-1, x.size(1) * x.size(2) * x.size(3))\n",
        "\n",
        "        x = torch.relu(self.fc1_drop(self.fc1(x)))\n",
        "        x = torch.softmax(self.fc2(x), dim=-1)\n",
        "\n",
        "        Ts = None\n",
        "        layers = None\n",
        "        layer_num = 0\n",
        "        if eval:\n",
        "          for X in outputs:\n",
        "            X = X.reshape((X.shape[0], np.prod(X.shape) // X.shape[0]))\n",
        "            Ts = torch.cat((Ts, X), 1) if Ts is not None else X\n",
        "            l = torch.ones_like(X) * layer_num\n",
        "            layers = torch.cat((layers, l), 1) if layers is not None else l\n",
        "            layer_num += 1\n",
        "          return x, Ts, layers\n",
        "\n",
        "        return x\n"
      ]
    },
    {
      "cell_type": "code",
      "execution_count": null,
      "metadata": {
        "id": "WJrWyFfb_v7u"
      },
      "outputs": [],
      "source": [
        "torch.manual_seed(0)\n",
        "\n",
        "cnn = NeuralNetClassifier(\n",
        "    Cnn(),\n",
        "    max_epochs=10,\n",
        "    lr=0.002,\n",
        "    optimizer=torch.optim.Adam,\n",
        "    device=device,\n",
        ")"
      ]
    },
    {
      "cell_type": "code",
      "execution_count": null,
      "metadata": {
        "colab": {
          "base_uri": "https://localhost:8080/"
        },
        "id": "KRtHfgg8_v7u",
        "outputId": "51392a72-4af9-4a04-a9c9-4ae68555a6b7"
      },
      "outputs": [
        {
          "name": "stdout",
          "output_type": "stream",
          "text": [
            "  epoch    train_loss    valid_acc    valid_loss     dur\n",
            "-------  ------------  -----------  ------------  ------\n",
            "      1        \u001b[36m0.4314\u001b[0m       \u001b[32m0.9716\u001b[0m        \u001b[35m0.0900\u001b[0m  2.0413\n",
            "      2        \u001b[36m0.1635\u001b[0m       \u001b[32m0.9804\u001b[0m        \u001b[35m0.0628\u001b[0m  1.5684\n",
            "      3        \u001b[36m0.1336\u001b[0m       \u001b[32m0.9838\u001b[0m        \u001b[35m0.0554\u001b[0m  1.5583\n",
            "      4        \u001b[36m0.1130\u001b[0m       \u001b[32m0.9851\u001b[0m        \u001b[35m0.0499\u001b[0m  1.7229\n",
            "      5        \u001b[36m0.1016\u001b[0m       \u001b[32m0.9863\u001b[0m        \u001b[35m0.0446\u001b[0m  1.9671\n",
            "      6        \u001b[36m0.0959\u001b[0m       \u001b[32m0.9880\u001b[0m        \u001b[35m0.0398\u001b[0m  1.5590\n",
            "      7        \u001b[36m0.0860\u001b[0m       0.9870        0.0410  1.5439\n",
            "      8        \u001b[36m0.0837\u001b[0m       0.9879        \u001b[35m0.0382\u001b[0m  1.5647\n",
            "      9        \u001b[36m0.0804\u001b[0m       \u001b[32m0.9894\u001b[0m        \u001b[35m0.0356\u001b[0m  1.5608\n",
            "     10        \u001b[36m0.0758\u001b[0m       0.9893        0.0364  1.5571\n"
          ]
        }
      ],
      "source": [
        "cnn.fit(X_train, y_train);"
      ]
    },
    {
      "cell_type": "code",
      "execution_count": null,
      "metadata": {
        "colab": {
          "base_uri": "https://localhost:8080/"
        },
        "id": "BQ3ubdg9MkSm",
        "outputId": "d0a5bafa-b476-437d-8c82-e51258191ba3"
      },
      "outputs": [
        {
          "data": {
            "text/plain": [
              "0.9866857142857143"
            ]
          },
          "execution_count": 29,
          "metadata": {},
          "output_type": "execute_result"
        }
      ],
      "source": [
        "y_pred = cnn.predict(X_test)\n",
        "accuracy_score(y_test, y_pred)"
      ]
    },
    {
      "cell_type": "code",
      "execution_count": null,
      "metadata": {
        "colab": {
          "base_uri": "https://localhost:8080/"
        },
        "id": "3axUSJ-SmmWE",
        "outputId": "67aef22d-4a19-4ad2-d802-7caa15ab6157"
      },
      "outputs": [
        {
          "data": {
            "text/plain": [
              "(17500, 784)"
            ]
          },
          "execution_count": 43,
          "metadata": {},
          "output_type": "execute_result"
        }
      ],
      "source": [
        "X_test.shape"
      ]
    },
    {
      "cell_type": "code",
      "execution_count": null,
      "metadata": {
        "colab": {
          "base_uri": "https://localhost:8080/"
        },
        "id": "sVg63bZmaOct",
        "outputId": "9d5d11da-0763-430b-c16f-1f0468dc28f0"
      },
      "outputs": [
        {
          "name": "stdout",
          "output_type": "stream",
          "text": [
            "correlation between net1 and cnn: 0.8798602\n",
            "correlation between net2 and cnn: 0.8562551\n",
            "correlation between net3 and cnn: 0.9083873\n",
            "correlation between net4 and cnn: 0.83104825\n",
            "correlation between net5 and cnn: 0.41640413\n"
          ]
        }
      ],
      "source": [
        "for i in range(len(nets)):\n",
        "  correlation = get_correlation(nets[i].module, cnn.module, torch.tensor(X_test[:10]).to(device))\n",
        "  print(\"correlation between net\" + str(i + 1) + \" and cnn:\", correlation)"
      ]
    }
  ],
  "metadata": {
    "accelerator": "GPU",
    "colab": {
      "gpuType": "T4",
      "provenance": []
    },
    "kernelspec": {
      "display_name": "Python 3",
      "name": "python3"
    },
    "language_info": {
      "codemirror_mode": {
        "name": "ipython",
        "version": 3
      },
      "file_extension": ".py",
      "mimetype": "text/x-python",
      "name": "python",
      "nbconvert_exporter": "python",
      "pygments_lexer": "ipython3",
      "version": "3.7.13 (default, Mar 28 2022, 08:03:21) [MSC v.1916 64 bit (AMD64)]"
    },
    "vscode": {
      "interpreter": {
        "hash": "bd97b8bffa4d3737e84826bc3d37be3046061822757ce35137ab82ad4c5a2016"
      }
    }
  },
  "nbformat": 4,
  "nbformat_minor": 0
}
