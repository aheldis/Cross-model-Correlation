{
  "cells": [
    {
      "cell_type": "markdown",
      "metadata": {
        "id": "DJsUjs19_v63"
      },
      "source": [
        "# Fashion MNIST with SciKit-Learn and skorch"
      ]
    },
    {
      "cell_type": "code",
      "execution_count": null,
      "metadata": {
        "id": "8qYGNO2S_v6_"
      },
      "outputs": [],
      "source": [
        "import subprocess\n",
        "\n",
        "# Installation on Google Colab\n",
        "try:\n",
        "    import google.colab\n",
        "    subprocess.run(['python', '-m', 'pip', 'install', 'skorch' , 'torch'])\n",
        "except ImportError:\n",
        "    pass"
      ]
    },
    {
      "cell_type": "code",
      "execution_count": null,
      "metadata": {
        "id": "Gj0pvjxT_v7G"
      },
      "outputs": [],
      "source": [
        "from sklearn.datasets import fetch_openml\n",
        "from sklearn.model_selection import train_test_split\n",
        "import numpy as np\n",
        "import matplotlib.pyplot as plt"
      ]
    },
    {
      "cell_type": "markdown",
      "metadata": {
        "id": "mPz6Bjqw_v7H"
      },
      "source": [
        "## Loading Data"
      ]
    },
    {
      "cell_type": "code",
      "execution_count": null,
      "metadata": {
        "colab": {
          "base_uri": "https://localhost:8080/"
        },
        "id": "mwpfASvc_v7J",
        "outputId": "1050ff9c-4574-46f1-f406-6379f8025f13"
      },
      "outputs": [
        {
          "name": "stderr",
          "output_type": "stream",
          "text": [
            "/usr/local/lib/python3.10/dist-packages/sklearn/datasets/_openml.py:968: FutureWarning: The default value of `parser` will change from `'liac-arff'` to `'auto'` in 1.4. You can set `parser='auto'` to silence this warning. Therefore, an `ImportError` will be raised from 1.4 if the dataset is dense and pandas is not installed. Note that the pandas parser may return different data types. See the Notes Section in fetch_openml's API doc for details.\n",
            "  warn(\n"
          ]
        }
      ],
      "source": [
        "mnist = fetch_openml('Fashion-MNIST', as_frame=False, cache=False)"
      ]
    },
    {
      "cell_type": "code",
      "execution_count": null,
      "metadata": {
        "colab": {
          "base_uri": "https://localhost:8080/"
        },
        "id": "9Pt2JKyb_v7K",
        "outputId": "9f33024e-b99f-40fd-dc63-7999d920e489"
      },
      "outputs": [
        {
          "data": {
            "text/plain": [
              "(70000, 784)"
            ]
          },
          "execution_count": 4,
          "metadata": {},
          "output_type": "execute_result"
        }
      ],
      "source": [
        "mnist.data.shape"
      ]
    },
    {
      "cell_type": "markdown",
      "metadata": {
        "id": "sV0ehb52_v7L"
      },
      "source": [
        "## Preprocessing Data\n"
      ]
    },
    {
      "cell_type": "code",
      "execution_count": null,
      "metadata": {
        "id": "F2v_Fwne_v7M"
      },
      "outputs": [],
      "source": [
        "X = mnist.data.astype('float32')\n",
        "y = mnist.target.astype('int64')"
      ]
    },
    {
      "cell_type": "code",
      "execution_count": null,
      "metadata": {
        "id": "8RirCOTr_v7O"
      },
      "outputs": [],
      "source": [
        "X /= 255.0"
      ]
    },
    {
      "cell_type": "code",
      "execution_count": null,
      "metadata": {
        "colab": {
          "base_uri": "https://localhost:8080/"
        },
        "id": "rohyp3d1_v7P",
        "outputId": "6fc4c845-44ff-4980-9da3-d0c89d601a19"
      },
      "outputs": [
        {
          "data": {
            "text/plain": [
              "(0.0, 1.0)"
            ]
          },
          "execution_count": 7,
          "metadata": {},
          "output_type": "execute_result"
        }
      ],
      "source": [
        "X.min(), X.max()"
      ]
    },
    {
      "cell_type": "markdown",
      "metadata": {
        "id": "tyUlsu0V_v7Q"
      },
      "source": [
        "Note: data is not normalized."
      ]
    },
    {
      "cell_type": "code",
      "execution_count": null,
      "metadata": {
        "id": "gILlsHJS_v7R"
      },
      "outputs": [],
      "source": [
        "X_train, X_test, y_train, y_test = train_test_split(X, y, test_size=0.25, random_state=42)"
      ]
    },
    {
      "cell_type": "code",
      "execution_count": null,
      "metadata": {
        "id": "jGpA4v4u_v7R"
      },
      "outputs": [],
      "source": [
        "assert(X_train.shape[0] + X_test.shape[0] == mnist.data.shape[0])"
      ]
    },
    {
      "cell_type": "code",
      "execution_count": null,
      "metadata": {
        "colab": {
          "base_uri": "https://localhost:8080/"
        },
        "id": "plXmcsp2_v7b",
        "outputId": "670855b6-96df-487d-dcd5-d29175da5d4a"
      },
      "outputs": [
        {
          "data": {
            "text/plain": [
              "((52500, 784), (52500,))"
            ]
          },
          "execution_count": 54,
          "metadata": {},
          "output_type": "execute_result"
        }
      ],
      "source": [
        "X_train.shape, y_train.shape"
      ]
    },
    {
      "cell_type": "markdown",
      "metadata": {
        "id": "6EKEvbuP_v7c"
      },
      "source": [
        "### Print a selection of training images and their labels"
      ]
    },
    {
      "cell_type": "code",
      "execution_count": null,
      "metadata": {
        "id": "C9muXJPC_v7d"
      },
      "outputs": [],
      "source": [
        "def plot_example(X, y):\n",
        "    \"\"\"Plot the first 5 images and their labels in a row.\"\"\"\n",
        "    for i, (img, y) in enumerate(zip(X[:5].reshape(5, 28, 28), y[:5])):\n",
        "        plt.subplot(151 + i)\n",
        "        plt.imshow(img)\n",
        "        plt.xticks([])\n",
        "        plt.yticks([])\n",
        "        plt.title(y)"
      ]
    },
    {
      "cell_type": "code",
      "execution_count": null,
      "metadata": {
        "colab": {
          "base_uri": "https://localhost:8080/",
          "height": 144
        },
        "id": "h2-R1-Df_v7e",
        "outputId": "71358b79-5b51-4443-cf28-f42164dedcb7"
      },
      "outputs": [
        {
          "data": {
            "image/png": "[encoded data removed]",
            "text/plain": [
              "<Figure size 640x480 with 5 Axes>"
            ]
          },
          "metadata": {},
          "output_type": "display_data"
        }
      ],
      "source": [
        "plot_example(X_train, y_train)"
      ]
    },
    {
      "cell_type": "markdown",
      "metadata": {
        "id": "YQvC-rWf_v7f"
      },
      "source": [
        "## Build Neural Network with PyTorch"
      ]
    },
    {
      "cell_type": "code",
      "execution_count": null,
      "metadata": {
        "id": "5PG7R0W8_v7f"
      },
      "outputs": [],
      "source": [
        "import torch\n",
        "from torch import nn\n",
        "import torch.nn.functional as F\n",
        "from sklearn.metrics import accuracy_score"
      ]
    },
    {
      "cell_type": "code",
      "execution_count": null,
      "metadata": {
        "id": "NUjWrGBP_v7g"
      },
      "outputs": [],
      "source": [
        "device = 'cuda' if torch.cuda.is_available() else 'cpu'"
      ]
    },
    {
      "cell_type": "code",
      "execution_count": null,
      "metadata": {
        "id": "gVCW8F3N_v7g"
      },
      "outputs": [],
      "source": [
        "mnist_dim = X.shape[1]\n",
        "hidden_dims = [int(mnist_dim/8)]\n",
        "output_dim = len(np.unique(mnist.target))"
      ]
    },
    {
      "cell_type": "code",
      "execution_count": null,
      "metadata": {
        "colab": {
          "base_uri": "https://localhost:8080/"
        },
        "id": "ShYicHlv_v7h",
        "outputId": "9258b37d-351c-435b-a054-0b53bf88afc8"
      },
      "outputs": [
        {
          "data": {
            "text/plain": [
              "(784, [98], 10)"
            ]
          },
          "execution_count": 14,
          "metadata": {},
          "output_type": "execute_result"
        }
      ],
      "source": [
        "mnist_dim, hidden_dims, output_dim"
      ]
    },
    {
      "cell_type": "code",
      "execution_count": null,
      "metadata": {
        "id": "Xxtli0l__v7j"
      },
      "outputs": [],
      "source": [
        "class ClassifierModule(nn.Module):\n",
        "    def __init__(\n",
        "            self,\n",
        "            input_dim=mnist_dim,\n",
        "            hidden_dims=hidden_dims,\n",
        "            output_dim=output_dim,\n",
        "            dropout=0.5,\n",
        "    ):\n",
        "        super(ClassifierModule, self).__init__()\n",
        "        self.dropout = nn.Dropout(dropout)\n",
        "        self.hidden = nn.ModuleList()\n",
        "        for i in range(len(hidden_dims)):\n",
        "            if i == 0:\n",
        "              self.hidden.append(nn.Linear(mnist_dim, hidden_dims[i]))\n",
        "            else:\n",
        "              self.hidden.append(nn.Linear(hidden_dims[i - 1], hidden_dims[i]))\n",
        "        self.output = nn.Linear(hidden_dims[-1], output_dim)\n",
        "\n",
        "    def forward(self, X, eval=False, **kwargs):\n",
        "        Ts = None\n",
        "        layers = None\n",
        "        layer_num = 0\n",
        "        for h in self.hidden:\n",
        "          X = F.relu(h(X))\n",
        "          if eval:\n",
        "            Ts = torch.cat((Ts, X), 1) if Ts is not None else X\n",
        "            l = torch.ones_like(X) * layer_num\n",
        "            layers = torch.cat((layers, l), 1) if layers is not None else l\n",
        "          layer_num += 1\n",
        "        X = self.dropout(X)\n",
        "        X = F.softmax(self.output(X), dim=-1)\n",
        "        if eval:\n",
        "          return X, Ts, layers\n",
        "        return X"
      ]
    },
    {
      "cell_type": "code",
      "execution_count": null,
      "metadata": {
        "id": "s0aDatqN_v7l"
      },
      "outputs": [],
      "source": [
        "from skorch import NeuralNetClassifier\n",
        "nets = []"
      ]
    },
    {
      "cell_type": "code",
      "execution_count": null,
      "metadata": {
        "id": "dOrCbBjk_v7m"
      },
      "outputs": [],
      "source": [
        "torch.manual_seed(0)\n",
        "\n",
        "net1 = NeuralNetClassifier(\n",
        "    ClassifierModule(mnist_dim, [100], output_dim),\n",
        "    max_epochs=20,\n",
        "    lr=0.1,\n",
        "    device=device,\n",
        ")"
      ]
    },
    {
      "cell_type": "code",
      "execution_count": null,
      "metadata": {
        "colab": {
          "base_uri": "https://localhost:8080/"
        },
        "id": "8i_gnvPi_v7m",
        "outputId": "09960fc9-e624-4508-8765-9dd96ed8bdf6"
      },
      "outputs": [
        {
          "name": "stdout",
          "output_type": "stream",
          "text": [
            "  epoch    train_loss    valid_acc    valid_loss     dur\n",
            "-------  ------------  -----------  ------------  ------\n",
            "      1        \u001b[36m0.9335\u001b[0m       \u001b[32m0.7359\u001b[0m        \u001b[35m0.6875\u001b[0m  2.2765\n",
            "      2        \u001b[36m0.6190\u001b[0m       \u001b[32m0.7488\u001b[0m        \u001b[35m0.6166\u001b[0m  2.2336\n",
            "      3        \u001b[36m0.5546\u001b[0m       \u001b[32m0.8241\u001b[0m        \u001b[35m0.4889\u001b[0m  1.7545\n",
            "      4        \u001b[36m0.5163\u001b[0m       0.8153        0.4946  1.7518\n",
            "      5        \u001b[36m0.4953\u001b[0m       \u001b[32m0.8270\u001b[0m        \u001b[35m0.4674\u001b[0m  2.1016\n",
            "      6        \u001b[36m0.4776\u001b[0m       \u001b[32m0.8382\u001b[0m        \u001b[35m0.4376\u001b[0m  2.1092\n",
            "      7        \u001b[36m0.4657\u001b[0m       0.8145        0.4720  1.9089\n",
            "      8        \u001b[36m0.4569\u001b[0m       0.8012        0.4983  3.1471\n",
            "      9        \u001b[36m0.4468\u001b[0m       0.8256        0.4512  1.9625\n",
            "     10        \u001b[36m0.4373\u001b[0m       \u001b[32m0.8455\u001b[0m        \u001b[35m0.4122\u001b[0m  2.5142\n",
            "     11        \u001b[36m0.4337\u001b[0m       0.8429        0.4181  1.4887\n",
            "     12        \u001b[36m0.4244\u001b[0m       0.8247        0.4464  0.9453\n",
            "     13        \u001b[36m0.4193\u001b[0m       \u001b[32m0.8476\u001b[0m        \u001b[35m0.4107\u001b[0m  0.9297\n",
            "     14        \u001b[36m0.4153\u001b[0m       \u001b[32m0.8570\u001b[0m        \u001b[35m0.3922\u001b[0m  0.9499\n",
            "     15        \u001b[36m0.4104\u001b[0m       \u001b[32m0.8574\u001b[0m        \u001b[35m0.3839\u001b[0m  1.0585\n",
            "     16        \u001b[36m0.4047\u001b[0m       0.8558        0.3922  1.3097\n",
            "     17        \u001b[36m0.4023\u001b[0m       0.8384        0.4193  1.2484\n",
            "     18        \u001b[36m0.3961\u001b[0m       \u001b[32m0.8607\u001b[0m        \u001b[35m0.3796\u001b[0m  0.9182\n",
            "     19        \u001b[36m0.3942\u001b[0m       0.8543        0.3864  0.9792\n",
            "     20        \u001b[36m0.3897\u001b[0m       \u001b[32m0.8632\u001b[0m        \u001b[35m0.3762\u001b[0m  0.9497\n"
          ]
        }
      ],
      "source": [
        "net1.fit(X_train, y_train);\n",
        "nets.append(net1)"
      ]
    },
    {
      "cell_type": "code",
      "execution_count": null,
      "metadata": {
        "colab": {
          "base_uri": "https://localhost:8080/"
        },
        "id": "d0qsHpd8qPYk",
        "outputId": "2c27ef9c-ec12-4d50-c925-4597fc05cbe7"
      },
      "outputs": [
        {
          "data": {
            "text/plain": [
              "(tensor([[1.1801e-04, 5.5010e-04, 7.7350e-01,  ..., 8.0221e-09, 5.9632e-04,\n",
              "          3.0549e-07],\n",
              "         [3.1447e-07, 1.0455e-07, 2.1085e-07,  ..., 9.9671e-01, 1.9299e-04,\n",
              "          1.0647e-05],\n",
              "         [5.8427e-01, 1.5919e-02, 2.9157e-03,  ..., 7.5533e-07, 1.1539e-03,\n",
              "          6.2748e-06],\n",
              "         ...,\n",
              "         [2.0115e-06, 1.6654e-06, 9.8200e-03,  ..., 3.3027e-11, 5.1383e-05,\n",
              "          7.7709e-09],\n",
              "         [2.7254e-05, 9.9997e-01, 4.1435e-08,  ..., 9.7972e-11, 1.7783e-10,\n",
              "          1.3181e-10],\n",
              "         [1.9633e-07, 8.5795e-08, 1.6513e-07,  ..., 9.8580e-01, 1.5568e-04,\n",
              "          4.7028e-05]], device='cuda:0', grad_fn=<SoftmaxBackward0>),\n",
              " tensor([[1.0005, 0.6328, 1.8747,  ..., 0.0000, 0.0000, 0.2108],\n",
              "         [0.6530, 0.0000, 0.0000,  ..., 0.0000, 0.0000, 0.9999],\n",
              "         [1.1237, 0.6099, 2.1949,  ..., 0.9265, 0.7015, 0.0481],\n",
              "         ...,\n",
              "         [0.6884, 0.7608, 2.8408,  ..., 0.0000, 0.0000, 1.7168],\n",
              "         [2.6313, 0.0000, 2.9877,  ..., 2.8201, 1.0601, 0.0000],\n",
              "         [0.6345, 0.0000, 0.0000,  ..., 0.0000, 0.0000, 1.0690]],\n",
              "        device='cuda:0', grad_fn=<ReluBackward0>),\n",
              " tensor([[0., 0., 0.,  ..., 0., 0., 0.],\n",
              "         [0., 0., 0.,  ..., 0., 0., 0.],\n",
              "         [0., 0., 0.,  ..., 0., 0., 0.],\n",
              "         ...,\n",
              "         [0., 0., 0.,  ..., 0., 0., 0.],\n",
              "         [0., 0., 0.,  ..., 0., 0., 0.],\n",
              "         [0., 0., 0.,  ..., 0., 0., 0.]], device='cuda:0'))"
            ]
          },
          "execution_count": 65,
          "metadata": {},
          "output_type": "execute_result"
        }
      ],
      "source": [
        "net1.module.forward(torch.tensor(X_test).to(device),eval=True)"
      ]
    },
    {
      "cell_type": "code",
      "execution_count": null,
      "metadata": {
        "colab": {
          "base_uri": "https://localhost:8080/"
        },
        "id": "LCWachuM_v7o",
        "outputId": "653d7a74-1336-423d-dfe2-caa967be6022"
      },
      "outputs": [
        {
          "data": {
            "text/plain": [
              "0.8681142857142857"
            ]
          },
          "execution_count": 66,
          "metadata": {},
          "output_type": "execute_result"
        }
      ],
      "source": [
        "y_pred = net1.predict(X_test)\n",
        "accuracy_score(y_test, y_pred)"
      ]
    },
    {
      "cell_type": "code",
      "execution_count": null,
      "metadata": {
        "colab": {
          "base_uri": "https://localhost:8080/"
        },
        "id": "BW7oUwIsefSx",
        "outputId": "e3092da2-5e6c-4cd5-b24b-d26f36572e56"
      },
      "outputs": [
        {
          "name": "stdout",
          "output_type": "stream",
          "text": [
            "  epoch    train_loss    valid_acc    valid_loss     dur\n",
            "-------  ------------  -----------  ------------  ------\n",
            "      1        \u001b[36m1.2109\u001b[0m       \u001b[32m0.6453\u001b[0m        \u001b[35m0.8895\u001b[0m  1.0391\n",
            "      2        \u001b[36m0.7902\u001b[0m       0.5770        1.0472  1.0056\n",
            "      3        \u001b[36m0.7161\u001b[0m       \u001b[32m0.7691\u001b[0m        \u001b[35m0.6223\u001b[0m  1.0079\n",
            "      4        \u001b[36m0.6498\u001b[0m       0.7240        0.6439  1.0022\n",
            "      5        \u001b[36m0.6071\u001b[0m       \u001b[32m0.7945\u001b[0m        \u001b[35m0.5513\u001b[0m  0.9942\n",
            "      6        \u001b[36m0.5753\u001b[0m       \u001b[32m0.8278\u001b[0m        \u001b[35m0.4553\u001b[0m  1.0098\n",
            "      7        \u001b[36m0.5515\u001b[0m       0.7891        0.5538  1.2789\n",
            "      8        \u001b[36m0.5292\u001b[0m       \u001b[32m0.8286\u001b[0m        0.4593  1.4455\n",
            "      9        \u001b[36m0.5095\u001b[0m       0.8023        0.5056  1.0974\n",
            "     10        \u001b[36m0.4912\u001b[0m       0.8114        0.4982  1.0075\n",
            "     11        \u001b[36m0.4830\u001b[0m       \u001b[32m0.8323\u001b[0m        \u001b[35m0.4477\u001b[0m  1.0051\n",
            "     12        \u001b[36m0.4715\u001b[0m       \u001b[32m0.8374\u001b[0m        \u001b[35m0.4292\u001b[0m  0.9940\n",
            "     13        \u001b[36m0.4614\u001b[0m       \u001b[32m0.8381\u001b[0m        0.4430  0.9909\n",
            "     14        \u001b[36m0.4535\u001b[0m       0.7677        0.5746  0.9858\n",
            "     15        \u001b[36m0.4454\u001b[0m       0.8221        0.4627  0.9939\n",
            "     16        \u001b[36m0.4333\u001b[0m       0.8138        0.4821  1.0079\n",
            "     17        \u001b[36m0.4269\u001b[0m       0.8282        0.4515  1.0091\n",
            "     18        \u001b[36m0.4234\u001b[0m       0.7852        0.5361  1.0181\n",
            "     19        \u001b[36m0.4182\u001b[0m       \u001b[32m0.8596\u001b[0m        \u001b[35m0.3868\u001b[0m  1.3458\n",
            "     20        \u001b[36m0.4134\u001b[0m       0.8191        0.4795  1.4599\n"
          ]
        }
      ],
      "source": [
        "hidden_dims = [60, 40]\n",
        "net2 = NeuralNetClassifier(ClassifierModule(mnist_dim, hidden_dims, output_dim), max_epochs=20, lr=0.1, device=device)\n",
        "net2.fit(X_train, y_train);\n",
        "nets.append(net2)"
      ]
    },
    {
      "cell_type": "code",
      "execution_count": null,
      "metadata": {
        "colab": {
          "base_uri": "https://localhost:8080/"
        },
        "id": "oOJu7u0DefNS",
        "outputId": "cdb1242c-0e59-4c44-ebe3-ac411d3d0866"
      },
      "outputs": [
        {
          "data": {
            "text/plain": [
              "0.8242285714285714"
            ]
          },
          "execution_count": 68,
          "metadata": {},
          "output_type": "execute_result"
        }
      ],
      "source": [
        "y_pred = net2.predict(X_test)\n",
        "accuracy_score(y_test, y_pred)"
      ]
    },
    {
      "cell_type": "code",
      "execution_count": null,
      "metadata": {
        "colab": {
          "base_uri": "https://localhost:8080/"
        },
        "id": "8brVrmkFfBZN",
        "outputId": "ab6536df-e1d6-4e3d-e9c7-fa266ea01abd"
      },
      "outputs": [
        {
          "name": "stdout",
          "output_type": "stream",
          "text": [
            "  epoch    train_loss    valid_acc    valid_loss     dur\n",
            "-------  ------------  -----------  ------------  ------\n",
            "      1        \u001b[36m1.1003\u001b[0m       \u001b[32m0.6938\u001b[0m        \u001b[35m0.7909\u001b[0m  1.0206\n",
            "      2        \u001b[36m0.6983\u001b[0m       \u001b[32m0.7576\u001b[0m        \u001b[35m0.6256\u001b[0m  1.0462\n",
            "      3        \u001b[36m0.6160\u001b[0m       0.7432        \u001b[35m0.6171\u001b[0m  1.0133\n",
            "      4        \u001b[36m0.5703\u001b[0m       \u001b[32m0.7693\u001b[0m        \u001b[35m0.6060\u001b[0m  1.0121\n",
            "      5        \u001b[36m0.5364\u001b[0m       0.7675        0.6092  1.0046\n",
            "      6        \u001b[36m0.5145\u001b[0m       \u001b[32m0.8191\u001b[0m        \u001b[35m0.4873\u001b[0m  1.0252\n",
            "      7        \u001b[36m0.4981\u001b[0m       \u001b[32m0.8253\u001b[0m        \u001b[35m0.4625\u001b[0m  1.0211\n",
            "      8        \u001b[36m0.4840\u001b[0m       \u001b[32m0.8279\u001b[0m        0.4911  1.0201\n",
            "      9        \u001b[36m0.4702\u001b[0m       \u001b[32m0.8282\u001b[0m        0.4651  0.9847\n",
            "     10        \u001b[36m0.4626\u001b[0m       \u001b[32m0.8348\u001b[0m        0.4701  1.2179\n",
            "     11        \u001b[36m0.4477\u001b[0m       0.8158        0.5299  1.3938\n",
            "     12        \u001b[36m0.4376\u001b[0m       0.8209        0.4755  1.0864\n",
            "     13        \u001b[36m0.4334\u001b[0m       0.7740        0.5545  0.9896\n",
            "     14        \u001b[36m0.4263\u001b[0m       \u001b[32m0.8390\u001b[0m        \u001b[35m0.4351\u001b[0m  1.0082\n",
            "     15        \u001b[36m0.4205\u001b[0m       0.8377        \u001b[35m0.4283\u001b[0m  1.0076\n",
            "     16        \u001b[36m0.4148\u001b[0m       \u001b[32m0.8481\u001b[0m        \u001b[35m0.4140\u001b[0m  0.9964\n",
            "     17        \u001b[36m0.4110\u001b[0m       0.8252        0.4580  1.0060\n",
            "     18        \u001b[36m0.4051\u001b[0m       0.8415        0.4292  0.9996\n",
            "     19        \u001b[36m0.3995\u001b[0m       \u001b[32m0.8562\u001b[0m        \u001b[35m0.3951\u001b[0m  1.0066\n",
            "     20        \u001b[36m0.3925\u001b[0m       0.8181        0.4752  1.0016\n"
          ]
        }
      ],
      "source": [
        "hidden_dims = [40, 60]\n",
        "net3 = NeuralNetClassifier(ClassifierModule(mnist_dim, hidden_dims, output_dim), max_epochs=20, lr=0.1, device=device)\n",
        "net3.fit(X_train, y_train);\n",
        "nets.append(net3)"
      ]
    },
    {
      "cell_type": "code",
      "execution_count": null,
      "metadata": {
        "colab": {
          "base_uri": "https://localhost:8080/"
        },
        "id": "RPdX6V3RfbIO",
        "outputId": "b5c4d76b-80e6-485c-861d-391cc1d38585"
      },
      "outputs": [
        {
          "data": {
            "text/plain": [
              "0.8237714285714286"
            ]
          },
          "execution_count": 70,
          "metadata": {},
          "output_type": "execute_result"
        }
      ],
      "source": [
        "y_pred = net3.predict(X_test)\n",
        "accuracy_score(y_test, y_pred)"
      ]
    },
    {
      "cell_type": "code",
      "execution_count": null,
      "metadata": {
        "id": "XddXR1_a_v7p"
      },
      "outputs": [],
      "source": [
        "error_mask = y_pred != y_test"
      ]
    },
    {
      "cell_type": "code",
      "execution_count": null,
      "metadata": {
        "colab": {
          "base_uri": "https://localhost:8080/",
          "height": 144
        },
        "id": "hXlNTrlt_v7q",
        "outputId": "e6c2f73a-52e5-4852-ff19-a6dc5b4d984a"
      },
      "outputs": [
        {
          "data": {
            "image/png": "[encoded data removed]",
            "text/plain": [
              "<Figure size 640x480 with 5 Axes>"
            ]
          },
          "metadata": {},
          "output_type": "display_data"
        }
      ],
      "source": [
        "plot_example(X_test[error_mask], y_pred[error_mask])"
      ]
    },
    {
      "cell_type": "code",
      "execution_count": null,
      "metadata": {
        "colab": {
          "base_uri": "https://localhost:8080/"
        },
        "id": "EV9i52A1Ltos",
        "outputId": "ae618439-2b14-4a93-f789-51aaa142b4e1"
      },
      "outputs": [
        {
          "data": {
            "text/plain": [
              "[196, 392]"
            ]
          },
          "execution_count": 73,
          "metadata": {},
          "output_type": "execute_result"
        }
      ],
      "source": [
        "[mnist_dim//4, mnist_dim//2]"
      ]
    },
    {
      "cell_type": "code",
      "execution_count": null,
      "metadata": {
        "colab": {
          "base_uri": "https://localhost:8080/"
        },
        "id": "uuq0j5qOS9cK",
        "outputId": "d987ae70-9d07-4ac8-ab7f-cf88fa7002be"
      },
      "outputs": [
        {
          "name": "stdout",
          "output_type": "stream",
          "text": [
            "  epoch    train_loss    valid_acc    valid_loss     dur\n",
            "-------  ------------  -----------  ------------  ------\n",
            "      1        \u001b[36m1.1002\u001b[0m       \u001b[32m0.6804\u001b[0m        \u001b[35m0.7671\u001b[0m  1.5382\n",
            "      2        \u001b[36m0.7087\u001b[0m       \u001b[32m0.7756\u001b[0m        \u001b[35m0.6172\u001b[0m  1.1105\n",
            "      3        \u001b[36m0.6289\u001b[0m       \u001b[32m0.7841\u001b[0m        \u001b[35m0.5666\u001b[0m  1.4193\n",
            "      4        \u001b[36m0.5822\u001b[0m       \u001b[32m0.8015\u001b[0m        \u001b[35m0.5204\u001b[0m  3.2848\n",
            "      5        \u001b[36m0.5478\u001b[0m       0.7976        0.5226  2.5135\n",
            "      6        \u001b[36m0.5253\u001b[0m       \u001b[32m0.8065\u001b[0m        \u001b[35m0.5153\u001b[0m  1.7045\n",
            "      7        \u001b[36m0.5073\u001b[0m       \u001b[32m0.8070\u001b[0m        \u001b[35m0.5127\u001b[0m  2.2682\n",
            "      8        \u001b[36m0.4934\u001b[0m       \u001b[32m0.8336\u001b[0m        \u001b[35m0.4498\u001b[0m  1.9802\n",
            "      9        \u001b[36m0.4761\u001b[0m       \u001b[32m0.8350\u001b[0m        \u001b[35m0.4430\u001b[0m  1.0232\n",
            "     10        \u001b[36m0.4652\u001b[0m       0.7644        0.6547  1.0358\n",
            "     11        \u001b[36m0.4574\u001b[0m       0.7932        0.5158  1.3292\n",
            "     12        \u001b[36m0.4486\u001b[0m       0.8159        0.4731  1.6066\n",
            "     13        \u001b[36m0.4373\u001b[0m       0.7983        0.4862  1.4027\n",
            "     14        \u001b[36m0.4305\u001b[0m       0.8139        0.4825  1.3010\n",
            "     15        \u001b[36m0.4186\u001b[0m       \u001b[32m0.8450\u001b[0m        \u001b[35m0.4169\u001b[0m  1.0297\n",
            "     16        0.4208       0.7705        0.6087  0.9930\n",
            "     17        \u001b[36m0.4126\u001b[0m       0.8354        0.4316  1.0658\n",
            "     18        \u001b[36m0.4062\u001b[0m       \u001b[32m0.8455\u001b[0m        0.4215  1.0070\n",
            "     19        \u001b[36m0.3983\u001b[0m       \u001b[32m0.8530\u001b[0m        \u001b[35m0.4057\u001b[0m  1.0045\n",
            "     20        \u001b[36m0.3922\u001b[0m       0.8046        0.5113  1.0438\n"
          ]
        }
      ],
      "source": [
        "hidden_dims = [50, 50]\n",
        "net4 = NeuralNetClassifier(ClassifierModule(mnist_dim, hidden_dims, output_dim), max_epochs=20, lr=0.1, device=device)\n",
        "net4.fit(X_train, y_train);\n",
        "nets.append(net4)"
      ]
    },
    {
      "cell_type": "code",
      "execution_count": null,
      "metadata": {
        "colab": {
          "base_uri": "https://localhost:8080/"
        },
        "id": "q1QSzz6g-9Fy",
        "outputId": "a0018a4e-1995-4eac-8144-cdca64deef13"
      },
      "outputs": [
        {
          "data": {
            "text/plain": [
              "0.8088"
            ]
          },
          "execution_count": 19,
          "metadata": {},
          "output_type": "execute_result"
        }
      ],
      "source": [
        "y_pred = net4.predict(X_test)\n",
        "accuracy_score(y_test, y_pred)"
      ]
    },
    {
      "cell_type": "code",
      "execution_count": null,
      "metadata": {
        "colab": {
          "base_uri": "https://localhost:8080/"
        },
        "id": "vCC7A8VmTAoX",
        "outputId": "a0646a0f-9c8d-4c9d-9148-de7aaf98c617"
      },
      "outputs": [
        {
          "name": "stdout",
          "output_type": "stream",
          "text": [
            "  epoch    train_loss    valid_acc    valid_loss     dur\n",
            "-------  ------------  -----------  ------------  ------\n",
            "      1        \u001b[36m2.2627\u001b[0m       \u001b[32m0.2017\u001b[0m        \u001b[35m1.9843\u001b[0m  1.3073\n",
            "      2        \u001b[36m1.6617\u001b[0m       \u001b[32m0.4955\u001b[0m        \u001b[35m1.3683\u001b[0m  1.6114\n",
            "      3        \u001b[36m1.2950\u001b[0m       0.4944        \u001b[35m1.2156\u001b[0m  1.3194\n",
            "      4        \u001b[36m1.1810\u001b[0m       \u001b[32m0.5719\u001b[0m        \u001b[35m1.0716\u001b[0m  1.1631\n",
            "      5        \u001b[36m1.1209\u001b[0m       \u001b[32m0.6303\u001b[0m        \u001b[35m0.8899\u001b[0m  1.2270\n",
            "      6        \u001b[36m1.0598\u001b[0m       0.4847        1.4796  1.1917\n",
            "      7        \u001b[36m1.0453\u001b[0m       0.4505        2.1787  1.6391\n",
            "      8        1.1537       0.5924        \u001b[35m0.8623\u001b[0m  1.1809\n",
            "      9        \u001b[36m0.9558\u001b[0m       0.6217        0.9961  1.2595\n",
            "     10        0.9605       0.6226        0.9394  1.1691\n",
            "     11        \u001b[36m0.8907\u001b[0m       \u001b[32m0.6676\u001b[0m        0.9170  1.5938\n",
            "     12        \u001b[36m0.8638\u001b[0m       \u001b[32m0.7229\u001b[0m        \u001b[35m0.7566\u001b[0m  1.4762\n",
            "     13        \u001b[36m0.8276\u001b[0m       0.7027        \u001b[35m0.7536\u001b[0m  1.2455\n",
            "     14        \u001b[36m0.8025\u001b[0m       0.6999        \u001b[35m0.6762\u001b[0m  1.2327\n",
            "     15        \u001b[36m0.7936\u001b[0m       0.7106        0.7675  1.2130\n",
            "     16        \u001b[36m0.7888\u001b[0m       0.7068        0.7905  1.1929\n",
            "     17        \u001b[36m0.7802\u001b[0m       \u001b[32m0.7774\u001b[0m        \u001b[35m0.5910\u001b[0m  1.1895\n",
            "     18        \u001b[36m0.7581\u001b[0m       0.7419        0.6290  1.2103\n",
            "     19        \u001b[36m0.7516\u001b[0m       0.7486        0.6244  1.2209\n",
            "     20        \u001b[36m0.7419\u001b[0m       \u001b[32m0.7788\u001b[0m        0.6073  1.2983\n"
          ]
        }
      ],
      "source": [
        "hidden_dims = [20, 20, 20, 20, 20]\n",
        "net5 = NeuralNetClassifier(ClassifierModule(mnist_dim, hidden_dims, output_dim), max_epochs=20, lr=0.1, device=device)\n",
        "net5.fit(X_train, y_train);\n",
        "nets.append(net5)"
      ]
    },
    {
      "cell_type": "code",
      "execution_count": null,
      "metadata": {
        "colab": {
          "base_uri": "https://localhost:8080/"
        },
        "id": "ioEIKLGP--vq",
        "outputId": "cad50f61-697c-4bc1-ac37-2b675d8f1ef1"
      },
      "outputs": [
        {
          "data": {
            "text/plain": [
              "0.7777714285714286"
            ]
          },
          "execution_count": 21,
          "metadata": {},
          "output_type": "execute_result"
        }
      ],
      "source": [
        "y_pred = net5.predict(X_test)\n",
        "accuracy_score(y_test, y_pred)"
      ]
    },
    {
      "cell_type": "code",
      "execution_count": null,
      "metadata": {
        "id": "A6-i10M0-N1E"
      },
      "outputs": [],
      "source": [
        "def get_correlation(module1, module2, X):\n",
        "  Ts1, layers1 = module1.forward(X, eval=True)[1], module1.forward(X, eval=True)[2]\n",
        "  Ts2, layers2 = module2.forward(X, eval=True)[1], module2.forward(X, eval=True)[2]\n",
        "\n",
        "  correlations = np.zeros_like(Ts1.cpu().detach().numpy()[0])\n",
        "  for i in range(Ts1.shape[1]):\n",
        "    neuron_i = Ts1[:, i]\n",
        "    max_idx = 0\n",
        "    max_corr = -1\n",
        "    for j in range(Ts2.shape[1]):\n",
        "      neuron_j = Ts2[:, j]\n",
        "      stacked = torch.stack((neuron_i, neuron_j))\n",
        "      corr = torch.corrcoef(stacked)[0, 1] / (abs(layers1[0, i] - layers2[0, j]) + 1)\n",
        "      corr = corr.cpu().detach().numpy()\n",
        "      if corr > max_corr:\n",
        "        max_corr = corr\n",
        "        max_idx = j\n",
        "    correlations[i] = max_corr\n",
        "\n",
        "  return correlations.mean()\n",
        "\n",
        "def mean_correlation(module1, module2, X):\n",
        "    return (get_correlation(module1, module2, X) + get_correlation(module2, module1, X)) / 2"
      ]
    },
    {
      "cell_type": "code",
      "execution_count": null,
      "metadata": {
        "colab": {
          "base_uri": "https://localhost:8080/"
        },
        "id": "3vwYOHjOKy9F",
        "outputId": "91a79e31-339f-4994-9cf2-09ed0e74d91e"
      },
      "outputs": [
        {
          "name": "stdout",
          "output_type": "stream",
          "text": [
            "correlation between net1 and net2: 0.6841235\n",
            "correlation between net1 and net3: 0.6663947\n",
            "correlation between net1 and net4: 0.6706339\n",
            "correlation between net1 and net5: 0.6143566\n",
            "correlation between net2 and net3: 0.7243448\n",
            "correlation between net2 and net4: 0.7242228\n",
            "correlation between net2 and net5: 0.664303\n",
            "correlation between net3 and net4: 0.7474202\n",
            "correlation between net3 and net5: 0.6392411\n",
            "correlation between net4 and net5: 0.6042386\n"
          ]
        }
      ],
      "source": [
        "for i in range(len(nets)):\n",
        "  for j in range(i + 1, len(nets)):\n",
        "    correlation = get_correlation(nets[i].module, nets[j].module, torch.tensor(X_test).to(device))\n",
        "    print(\"correlation between net\" + str(i + 1) + \" and net\" + str(j + 1) + \":\", correlation)"
      ]
    },
    {
      "cell_type": "markdown",
      "metadata": {
        "id": "I2GsBaxH_v7r"
      },
      "source": [
        "# Convolutional Network\n"
      ]
    },
    {
      "cell_type": "code",
      "execution_count": null,
      "metadata": {
        "id": "Bwsaz88X_v7r"
      },
      "outputs": [],
      "source": [
        "XCnn = X.reshape(-1, 1, 28, 28)"
      ]
    },
    {
      "cell_type": "code",
      "execution_count": null,
      "metadata": {
        "id": "YdQ-ISvb_v7u"
      },
      "outputs": [],
      "source": [
        "class Cnn(nn.Module):\n",
        "    def __init__(self, dropout=0.5):\n",
        "        super(Cnn, self).__init__()\n",
        "        self.conv1 = nn.Conv2d(1, 32, kernel_size=3)\n",
        "        self.conv2 = nn.Conv2d(32, 64, kernel_size=3)\n",
        "        self.conv2_drop = nn.Dropout2d(p=dropout)\n",
        "        self.fc1 = nn.Linear(1600, 100) # 1600 = number channels * width * height\n",
        "        self.fc2 = nn.Linear(100, 10)\n",
        "        self.fc1_drop = nn.Dropout(p=dropout)\n",
        "\n",
        "    def forward(self, x, eval=False):\n",
        "\n",
        "        outputs = []\n",
        "        x = x.reshape((x.shape[0], 1, 28, 28))\n",
        "\n",
        "        x = torch.relu(F.max_pool2d(self.conv1(x), 2))\n",
        "        outputs.append(x)\n",
        "        x = torch.relu(F.max_pool2d(self.conv2_drop(self.conv2(x)), 2))\n",
        "        outputs.append(x)\n",
        "\n",
        "        # flatten over channel, height and width = 1600\n",
        "        x = x.view(-1, x.size(1) * x.size(2) * x.size(3))\n",
        "\n",
        "        x = torch.relu(self.fc1_drop(self.fc1(x)))\n",
        "        x = torch.softmax(self.fc2(x), dim=-1)\n",
        "\n",
        "        Ts = None\n",
        "        layers = None\n",
        "        layer_num = 0\n",
        "        if eval:\n",
        "          for X in outputs:\n",
        "            X = X.reshape((X.shape[0], np.prod(X.shape) // X.shape[0]))\n",
        "            Ts = torch.cat((Ts, X), 1) if Ts is not None else X\n",
        "            l = torch.ones_like(X) * layer_num\n",
        "            layers = torch.cat((layers, l), 1) if layers is not None else l\n",
        "            layer_num += 1\n",
        "          return x, Ts, layers\n",
        "\n",
        "        return x\n"
      ]
    },
    {
      "cell_type": "code",
      "execution_count": null,
      "metadata": {
        "id": "WJrWyFfb_v7u"
      },
      "outputs": [],
      "source": [
        "torch.manual_seed(0)\n",
        "\n",
        "cnn = NeuralNetClassifier(\n",
        "    Cnn(),\n",
        "    max_epochs=10,\n",
        "    lr=0.002,\n",
        "    optimizer=torch.optim.Adam,\n",
        "    device=device,\n",
        ")"
      ]
    },
    {
      "cell_type": "code",
      "execution_count": null,
      "metadata": {
        "colab": {
          "base_uri": "https://localhost:8080/"
        },
        "id": "KRtHfgg8_v7u",
        "outputId": "542cbf60-9828-40a2-dbc0-93b297a0fd90"
      },
      "outputs": [
        {
          "name": "stdout",
          "output_type": "stream",
          "text": [
            "  epoch    train_loss    valid_acc    valid_loss     dur\n",
            "-------  ------------  -----------  ------------  ------\n",
            "      1        \u001b[36m0.7696\u001b[0m       \u001b[32m0.8181\u001b[0m        \u001b[35m0.4822\u001b[0m  2.5088\n",
            "      2        \u001b[36m0.5248\u001b[0m       \u001b[32m0.8485\u001b[0m        \u001b[35m0.4088\u001b[0m  1.6183\n",
            "      3        \u001b[36m0.4647\u001b[0m       \u001b[32m0.8738\u001b[0m        \u001b[35m0.3535\u001b[0m  1.6279\n",
            "      4        \u001b[36m0.4256\u001b[0m       \u001b[32m0.8761\u001b[0m        \u001b[35m0.3385\u001b[0m  1.6277\n",
            "      5        \u001b[36m0.4046\u001b[0m       \u001b[32m0.8820\u001b[0m        \u001b[35m0.3217\u001b[0m  1.5999\n",
            "      6        \u001b[36m0.3864\u001b[0m       \u001b[32m0.8842\u001b[0m        \u001b[35m0.3157\u001b[0m  1.6119\n",
            "      7        \u001b[36m0.3688\u001b[0m       \u001b[32m0.8911\u001b[0m        \u001b[35m0.2953\u001b[0m  1.7551\n",
            "      8        \u001b[36m0.3616\u001b[0m       0.8911        0.2979  2.0252\n",
            "      9        \u001b[36m0.3504\u001b[0m       \u001b[32m0.8936\u001b[0m        \u001b[35m0.2868\u001b[0m  1.5754\n",
            "     10        \u001b[36m0.3380\u001b[0m       0.8931        \u001b[35m0.2845\u001b[0m  1.6112\n"
          ]
        }
      ],
      "source": [
        "cnn.fit(X_train, y_train);"
      ]
    },
    {
      "cell_type": "code",
      "execution_count": null,
      "metadata": {
        "colab": {
          "base_uri": "https://localhost:8080/"
        },
        "id": "5GFi5rv-_DFT",
        "outputId": "d020c0d0-87d3-44d5-9e27-4bdeae82af48"
      },
      "outputs": [
        {
          "data": {
            "text/plain": [
              "0.8990857142857143"
            ]
          },
          "execution_count": 25,
          "metadata": {},
          "output_type": "execute_result"
        }
      ],
      "source": [
        "y_pred = cnn.predict(X_test)\n",
        "accuracy_score(y_test, y_pred)"
      ]
    },
    {
      "cell_type": "code",
      "execution_count": null,
      "metadata": {
        "colab": {
          "base_uri": "https://localhost:8080/"
        },
        "id": "3axUSJ-SmmWE",
        "outputId": "3cdabdf3-8426-4176-d2f5-43128d060255"
      },
      "outputs": [
        {
          "data": {
            "text/plain": [
              "(17500, 784)"
            ]
          },
          "execution_count": 87,
          "metadata": {},
          "output_type": "execute_result"
        }
      ],
      "source": [
        "X_test.shape"
      ]
    },
    {
      "cell_type": "code",
      "execution_count": null,
      "metadata": {
        "colab": {
          "base_uri": "https://localhost:8080/"
        },
        "id": "sVg63bZmaOct",
        "outputId": "2f3705ac-08cd-43a9-a893-b891f61576c4"
      },
      "outputs": [
        {
          "name": "stdout",
          "output_type": "stream",
          "text": [
            "correlation between net1 and cnn: 0.75602305\n",
            "correlation between net2 and cnn: 0.8229956\n",
            "correlation between net3 and cnn: 0.81979144\n",
            "correlation between net4 and cnn: 0.7551918\n",
            "correlation between net5 and cnn: 0.31736726\n"
          ]
        }
      ],
      "source": [
        "for i in range(len(nets)):\n",
        "  correlation = get_correlation(nets[i].module, cnn.module, torch.tensor(X_test[:10]).to(device))\n",
        "  print(\"correlation between net\" + str(i + 1) + \" and cnn:\", correlation)"
      ]
    }
  ],
  "metadata": {
    "accelerator": "GPU",
    "colab": {
      "gpuType": "T4",
      "provenance": []
    },
    "kernelspec": {
      "display_name": "Python 3",
      "name": "python3"
    },
    "language_info": {
      "codemirror_mode": {
        "name": "ipython",
        "version": 3
      },
      "file_extension": ".py",
      "mimetype": "text/x-python",
      "name": "python",
      "nbconvert_exporter": "python",
      "pygments_lexer": "ipython3",
      "version": "3.7.13 (default, Mar 28 2022, 08:03:21) [MSC v.1916 64 bit (AMD64)]"
    },
    "vscode": {
      "interpreter": {
        "hash": "bd97b8bffa4d3737e84826bc3d37be3046061822757ce35137ab82ad4c5a2016"
      }
    }
  },
  "nbformat": 4,
  "nbformat_minor": 0
}
