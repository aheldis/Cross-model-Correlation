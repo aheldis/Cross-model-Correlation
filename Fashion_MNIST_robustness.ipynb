{
  "cells": [
    {
      "cell_type": "markdown",
      "metadata": {
        "id": "DJsUjs19_v63"
      },
      "source": [
        "# Fashion MNIST with SciKit-Learn and skorch"
      ]
    },
    {
      "cell_type": "code",
      "execution_count": null,
      "metadata": {
        "id": "8qYGNO2S_v6_"
      },
      "outputs": [],
      "source": [
        "import subprocess\n",
        "\n",
        "# Installation on Google Colab\n",
        "try:\n",
        "    import google.colab\n",
        "    subprocess.run(['python', '-m', 'pip', 'install', 'skorch' , 'torch'])\n",
        "except ImportError:\n",
        "    pass"
      ]
    },
    {
      "cell_type": "code",
      "execution_count": null,
      "metadata": {
        "id": "Gj0pvjxT_v7G"
      },
      "outputs": [],
      "source": [
        "from sklearn.datasets import fetch_openml\n",
        "from sklearn.model_selection import train_test_split\n",
        "import numpy as np\n",
        "import matplotlib.pyplot as plt"
      ]
    },
    {
      "cell_type": "markdown",
      "metadata": {
        "id": "mPz6Bjqw_v7H"
      },
      "source": [
        "## Loading Data"
      ]
    },
    {
      "cell_type": "code",
      "execution_count": null,
      "metadata": {
        "colab": {
          "base_uri": "https://localhost:8080/"
        },
        "id": "mwpfASvc_v7J",
        "outputId": "c096ed6a-5b52-4ae7-ea64-ddce91bdd967"
      },
      "outputs": [
        {
          "name": "stderr",
          "output_type": "stream",
          "text": [
            "/usr/local/lib/python3.10/dist-packages/sklearn/datasets/_openml.py:1022: FutureWarning: The default value of `parser` will change from `'liac-arff'` to `'auto'` in 1.4. You can set `parser='auto'` to silence this warning. Therefore, an `ImportError` will be raised from 1.4 if the dataset is dense and pandas is not installed. Note that the pandas parser may return different data types. See the Notes Section in fetch_openml's API doc for details.\n",
            "  warn(\n"
          ]
        }
      ],
      "source": [
        "mnist = fetch_openml('Fashion-MNIST', as_frame=False, cache=False)"
      ]
    },
    {
      "cell_type": "code",
      "execution_count": null,
      "metadata": {
        "colab": {
          "base_uri": "https://localhost:8080/"
        },
        "id": "9Pt2JKyb_v7K",
        "outputId": "b5132301-a14b-4879-ee7b-c4ae60d4bc49"
      },
      "outputs": [
        {
          "data": {
            "text/plain": [
              "(70000, 784)"
            ]
          },
          "execution_count": 57,
          "metadata": {},
          "output_type": "execute_result"
        }
      ],
      "source": [
        "mnist.data.shape"
      ]
    },
    {
      "cell_type": "code",
      "execution_count": null,
      "metadata": {
        "colab": {
          "base_uri": "https://localhost:8080/"
        },
        "id": "K_KlbDuWV_y5",
        "outputId": "8a3472fc-5df5-471a-8d31-4405633f4396"
      },
      "outputs": [
        {
          "data": {
            "text/plain": [
              "dict_values([array([[0., 0., 0., ..., 0., 0., 0.],\n",
              "       [0., 0., 0., ..., 0., 0., 0.],\n",
              "       [0., 0., 0., ..., 0., 0., 0.],\n",
              "       ...,\n",
              "       [0., 0., 0., ..., 0., 0., 0.],\n",
              "       [0., 0., 0., ..., 0., 0., 0.],\n",
              "       [0., 0., 0., ..., 0., 0., 0.]]), array(['9', '0', '0', ..., '8', '1', '5'], dtype=object), None, {}, ['pixel1', 'pixel2', 'pixel3', 'pixel4', 'pixel5', 'pixel6', 'pixel7', 'pixel8', 'pixel9', 'pixel10', 'pixel11', 'pixel12', 'pixel13', 'pixel14', 'pixel15', 'pixel16', 'pixel17', 'pixel18', 'pixel19', 'pixel20', 'pixel21', 'pixel22', 'pixel23', 'pixel24', 'pixel25', 'pixel26', 'pixel27', 'pixel28', 'pixel29', 'pixel30', 'pixel31', 'pixel32', 'pixel33', 'pixel34', 'pixel35', 'pixel36', 'pixel37', 'pixel38', 'pixel39', 'pixel40', 'pixel41', 'pixel42', 'pixel43', 'pixel44', 'pixel45', 'pixel46', 'pixel47', 'pixel48', 'pixel49', 'pixel50', 'pixel51', 'pixel52', 'pixel53', 'pixel54', 'pixel55', 'pixel56', 'pixel57', 'pixel58', 'pixel59', 'pixel60', 'pixel61', 'pixel62', 'pixel63', 'pixel64', 'pixel65', 'pixel66', 'pixel67', 'pixel68', 'pixel69', 'pixel70', 'pixel71', 'pixel72', 'pixel73', 'pixel74', 'pixel75', 'pixel76', 'pixel77', 'pixel78', 'pixel79', 'pixel80', 'pixel81', 'pixel82', 'pixel83', 'pixel84', 'pixel85', 'pixel86', 'pixel87', 'pixel88', 'pixel89', 'pixel90', 'pixel91', 'pixel92', 'pixel93', 'pixel94', 'pixel95', 'pixel96', 'pixel97', 'pixel98', 'pixel99', 'pixel100', 'pixel101', 'pixel102', 'pixel103', 'pixel104', 'pixel105', 'pixel106', 'pixel107', 'pixel108', 'pixel109', 'pixel110', 'pixel111', 'pixel112', 'pixel113', 'pixel114', 'pixel115', 'pixel116', 'pixel117', 'pixel118', 'pixel119', 'pixel120', 'pixel121', 'pixel122', 'pixel123', 'pixel124', 'pixel125', 'pixel126', 'pixel127', 'pixel128', 'pixel129', 'pixel130', 'pixel131', 'pixel132', 'pixel133', 'pixel134', 'pixel135', 'pixel136', 'pixel137', 'pixel138', 'pixel139', 'pixel140', 'pixel141', 'pixel142', 'pixel143', 'pixel144', 'pixel145', 'pixel146', 'pixel147', 'pixel148', 'pixel149', 'pixel150', 'pixel151', 'pixel152', 'pixel153', 'pixel154', 'pixel155', 'pixel156', 'pixel157', 'pixel158', 'pixel159', 'pixel160', 'pixel161', 'pixel162', 'pixel163', 'pixel164', 'pixel165', 'pixel166', 'pixel167', 'pixel168', 'pixel169', 'pixel170', 'pixel171', 'pixel172', 'pixel173', 'pixel174', 'pixel175', 'pixel176', 'pixel177', 'pixel178', 'pixel179', 'pixel180', 'pixel181', 'pixel182', 'pixel183', 'pixel184', 'pixel185', 'pixel186', 'pixel187', 'pixel188', 'pixel189', 'pixel190', 'pixel191', 'pixel192', 'pixel193', 'pixel194', 'pixel195', 'pixel196', 'pixel197', 'pixel198', 'pixel199', 'pixel200', 'pixel201', 'pixel202', 'pixel203', 'pixel204', 'pixel205', 'pixel206', 'pixel207', 'pixel208', 'pixel209', 'pixel210', 'pixel211', 'pixel212', 'pixel213', 'pixel214', 'pixel215', 'pixel216', 'pixel217', 'pixel218', 'pixel219', 'pixel220', 'pixel221', 'pixel222', 'pixel223', 'pixel224', 'pixel225', 'pixel226', 'pixel227', 'pixel228', 'pixel229', 'pixel230', 'pixel231', 'pixel232', 'pixel233', 'pixel234', 'pixel235', 'pixel236', 'pixel237', 'pixel238', 'pixel239', 'pixel240', 'pixel241', 'pixel242', 'pixel243', 'pixel244', 'pixel245', 'pixel246', 'pixel247', 'pixel248', 'pixel249', 'pixel250', 'pixel251', 'pixel252', 'pixel253', 'pixel254', 'pixel255', 'pixel256', 'pixel257', 'pixel258', 'pixel259', 'pixel260', 'pixel261', 'pixel262', 'pixel263', 'pixel264', 'pixel265', 'pixel266', 'pixel267', 'pixel268', 'pixel269', 'pixel270', 'pixel271', 'pixel272', 'pixel273', 'pixel274', 'pixel275', 'pixel276', 'pixel277', 'pixel278', 'pixel279', 'pixel280', 'pixel281', 'pixel282', 'pixel283', 'pixel284', 'pixel285', 'pixel286', 'pixel287', 'pixel288', 'pixel289', 'pixel290', 'pixel291', 'pixel292', 'pixel293', 'pixel294', 'pixel295', 'pixel296', 'pixel297', 'pixel298', 'pixel299', 'pixel300', 'pixel301', 'pixel302', 'pixel303', 'pixel304', 'pixel305', 'pixel306', 'pixel307', 'pixel308', 'pixel309', 'pixel310', 'pixel311', 'pixel312', 'pixel313', 'pixel314', 'pixel315', 'pixel316', 'pixel317', 'pixel318', 'pixel319', 'pixel320', 'pixel321', 'pixel322', 'pixel323', 'pixel324', 'pixel325', 'pixel326', 'pixel327', 'pixel328', 'pixel329', 'pixel330', 'pixel331', 'pixel332', 'pixel333', 'pixel334', 'pixel335', 'pixel336', 'pixel337', 'pixel338', 'pixel339', 'pixel340', 'pixel341', 'pixel342', 'pixel343', 'pixel344', 'pixel345', 'pixel346', 'pixel347', 'pixel348', 'pixel349', 'pixel350', 'pixel351', 'pixel352', 'pixel353', 'pixel354', 'pixel355', 'pixel356', 'pixel357', 'pixel358', 'pixel359', 'pixel360', 'pixel361', 'pixel362', 'pixel363', 'pixel364', 'pixel365', 'pixel366', 'pixel367', 'pixel368', 'pixel369', 'pixel370', 'pixel371', 'pixel372', 'pixel373', 'pixel374', 'pixel375', 'pixel376', 'pixel377', 'pixel378', 'pixel379', 'pixel380', 'pixel381', 'pixel382', 'pixel383', 'pixel384', 'pixel385', 'pixel386', 'pixel387', 'pixel388', 'pixel389', 'pixel390', 'pixel391', 'pixel392', 'pixel393', 'pixel394', 'pixel395', 'pixel396', 'pixel397', 'pixel398', 'pixel399', 'pixel400', 'pixel401', 'pixel402', 'pixel403', 'pixel404', 'pixel405', 'pixel406', 'pixel407', 'pixel408', 'pixel409', 'pixel410', 'pixel411', 'pixel412', 'pixel413', 'pixel414', 'pixel415', 'pixel416', 'pixel417', 'pixel418', 'pixel419', 'pixel420', 'pixel421', 'pixel422', 'pixel423', 'pixel424', 'pixel425', 'pixel426', 'pixel427', 'pixel428', 'pixel429', 'pixel430', 'pixel431', 'pixel432', 'pixel433', 'pixel434', 'pixel435', 'pixel436', 'pixel437', 'pixel438', 'pixel439', 'pixel440', 'pixel441', 'pixel442', 'pixel443', 'pixel444', 'pixel445', 'pixel446', 'pixel447', 'pixel448', 'pixel449', 'pixel450', 'pixel451', 'pixel452', 'pixel453', 'pixel454', 'pixel455', 'pixel456', 'pixel457', 'pixel458', 'pixel459', 'pixel460', 'pixel461', 'pixel462', 'pixel463', 'pixel464', 'pixel465', 'pixel466', 'pixel467', 'pixel468', 'pixel469', 'pixel470', 'pixel471', 'pixel472', 'pixel473', 'pixel474', 'pixel475', 'pixel476', 'pixel477', 'pixel478', 'pixel479', 'pixel480', 'pixel481', 'pixel482', 'pixel483', 'pixel484', 'pixel485', 'pixel486', 'pixel487', 'pixel488', 'pixel489', 'pixel490', 'pixel491', 'pixel492', 'pixel493', 'pixel494', 'pixel495', 'pixel496', 'pixel497', 'pixel498', 'pixel499', 'pixel500', 'pixel501', 'pixel502', 'pixel503', 'pixel504', 'pixel505', 'pixel506', 'pixel507', 'pixel508', 'pixel509', 'pixel510', 'pixel511', 'pixel512', 'pixel513', 'pixel514', 'pixel515', 'pixel516', 'pixel517', 'pixel518', 'pixel519', 'pixel520', 'pixel521', 'pixel522', 'pixel523', 'pixel524', 'pixel525', 'pixel526', 'pixel527', 'pixel528', 'pixel529', 'pixel530', 'pixel531', 'pixel532', 'pixel533', 'pixel534', 'pixel535', 'pixel536', 'pixel537', 'pixel538', 'pixel539', 'pixel540', 'pixel541', 'pixel542', 'pixel543', 'pixel544', 'pixel545', 'pixel546', 'pixel547', 'pixel548', 'pixel549', 'pixel550', 'pixel551', 'pixel552', 'pixel553', 'pixel554', 'pixel555', 'pixel556', 'pixel557', 'pixel558', 'pixel559', 'pixel560', 'pixel561', 'pixel562', 'pixel563', 'pixel564', 'pixel565', 'pixel566', 'pixel567', 'pixel568', 'pixel569', 'pixel570', 'pixel571', 'pixel572', 'pixel573', 'pixel574', 'pixel575', 'pixel576', 'pixel577', 'pixel578', 'pixel579', 'pixel580', 'pixel581', 'pixel582', 'pixel583', 'pixel584', 'pixel585', 'pixel586', 'pixel587', 'pixel588', 'pixel589', 'pixel590', 'pixel591', 'pixel592', 'pixel593', 'pixel594', 'pixel595', 'pixel596', 'pixel597', 'pixel598', 'pixel599', 'pixel600', 'pixel601', 'pixel602', 'pixel603', 'pixel604', 'pixel605', 'pixel606', 'pixel607', 'pixel608', 'pixel609', 'pixel610', 'pixel611', 'pixel612', 'pixel613', 'pixel614', 'pixel615', 'pixel616', 'pixel617', 'pixel618', 'pixel619', 'pixel620', 'pixel621', 'pixel622', 'pixel623', 'pixel624', 'pixel625', 'pixel626', 'pixel627', 'pixel628', 'pixel629', 'pixel630', 'pixel631', 'pixel632', 'pixel633', 'pixel634', 'pixel635', 'pixel636', 'pixel637', 'pixel638', 'pixel639', 'pixel640', 'pixel641', 'pixel642', 'pixel643', 'pixel644', 'pixel645', 'pixel646', 'pixel647', 'pixel648', 'pixel649', 'pixel650', 'pixel651', 'pixel652', 'pixel653', 'pixel654', 'pixel655', 'pixel656', 'pixel657', 'pixel658', 'pixel659', 'pixel660', 'pixel661', 'pixel662', 'pixel663', 'pixel664', 'pixel665', 'pixel666', 'pixel667', 'pixel668', 'pixel669', 'pixel670', 'pixel671', 'pixel672', 'pixel673', 'pixel674', 'pixel675', 'pixel676', 'pixel677', 'pixel678', 'pixel679', 'pixel680', 'pixel681', 'pixel682', 'pixel683', 'pixel684', 'pixel685', 'pixel686', 'pixel687', 'pixel688', 'pixel689', 'pixel690', 'pixel691', 'pixel692', 'pixel693', 'pixel694', 'pixel695', 'pixel696', 'pixel697', 'pixel698', 'pixel699', 'pixel700', 'pixel701', 'pixel702', 'pixel703', 'pixel704', 'pixel705', 'pixel706', 'pixel707', 'pixel708', 'pixel709', 'pixel710', 'pixel711', 'pixel712', 'pixel713', 'pixel714', 'pixel715', 'pixel716', 'pixel717', 'pixel718', 'pixel719', 'pixel720', 'pixel721', 'pixel722', 'pixel723', 'pixel724', 'pixel725', 'pixel726', 'pixel727', 'pixel728', 'pixel729', 'pixel730', 'pixel731', 'pixel732', 'pixel733', 'pixel734', 'pixel735', 'pixel736', 'pixel737', 'pixel738', 'pixel739', 'pixel740', 'pixel741', 'pixel742', 'pixel743', 'pixel744', 'pixel745', 'pixel746', 'pixel747', 'pixel748', 'pixel749', 'pixel750', 'pixel751', 'pixel752', 'pixel753', 'pixel754', 'pixel755', 'pixel756', 'pixel757', 'pixel758', 'pixel759', 'pixel760', 'pixel761', 'pixel762', 'pixel763', 'pixel764', 'pixel765', 'pixel766', 'pixel767', 'pixel768', 'pixel769', 'pixel770', 'pixel771', 'pixel772', 'pixel773', 'pixel774', 'pixel775', 'pixel776', 'pixel777', 'pixel778', 'pixel779', 'pixel780', 'pixel781', 'pixel782', 'pixel783', 'pixel784'], ['class'], \"**Author**: Han Xiao, Kashif Rasul, Roland Vollgraf  \\n**Source**: [Zalando Research](https://github.com/zalandoresearch/fashion-mnist)  \\n**Please cite**: Han Xiao and Kashif Rasul and Roland Vollgraf, Fashion-MNIST: a Novel Image Dataset for Benchmarking Machine Learning Algorithms, arXiv, cs.LG/1708.07747  \\n\\nFashion-MNIST is a dataset of Zalando's article images, consisting of a training set of 60,000 examples and a test set of 10,000 examples. Each example is a 28x28 grayscale image, associated with a label from 10 classes. Fashion-MNIST is intended to serve as a direct drop-in replacement for the original MNIST dataset for benchmarking machine learning algorithms. It shares the same image size and structure of training and testing splits. \\n\\nRaw data available at: https://github.com/zalandoresearch/fashion-mnist\\n\\n### Target classes\\nEach training and test example is assigned to one of the following labels:\\nLabel  Description  \\n0  T-shirt/top  \\n1  Trouser  \\n2  Pullover  \\n3  Dress  \\n4  Coat  \\n5  Sandal  \\n6  Shirt  \\n7  Sneaker  \\n8  Bag  \\n9  Ankle boot\\n\\nDownloaded from openml.org.\", {'id': '40996', 'name': 'Fashion-MNIST', 'version': '1', 'description_version': '1', 'format': 'ARFF', 'creator': ['Han Xiao', 'Kashif Rasul', 'Roland Vollgraf'], 'upload_date': '2017-12-20T13:28:27', 'licence': 'Public', 'url': 'https://api.openml.org/data/v1/download/18238735/Fashion-MNIST.arff', 'parquet_url': 'https://openml1.win.tue.nl/datasets/0004/40996/dataset_40996.pq', 'file_id': '18238735', 'default_target_attribute': 'class', 'version_label': '1.0', 'citation': '@online{xiao2017/online,\\n  author       = {Han Xiao and Kashif Rasul and Roland Vollgraf},\\n  title        = {Fashion-MNIST: a Novel Image Dataset for Benchmarking Machine Learning Algorithms},\\n  date         = {2017-08-28},\\n  year         = {2017},\\n  eprintclass  = {cs.LG},\\n  eprinttype   = {arXiv},\\n  eprint       = {cs.LG/1708.07747},\\n}', 'tag': ['Meteorology', 'OpenML-CC18', 'study_218', 'study_99', 'Transportation', 'vision'], 'visibility': 'public', 'original_data_url': 'https://github.com/zalandoresearch/fashion-mnist', 'paper_url': 'Fashion-MNIST: a Novel Image Dataset for Benchmarking Machine Learning Algorithms. Han Xiao, Kashif Rasul, Roland Vollgraf. arXiv:1708.07747', 'minio_url': 'https://openml1.win.tue.nl/datasets/0004/40996/dataset_40996.pq', 'status': 'active', 'processing_date': '2018-10-04 07:21:31', 'md5_checksum': 'cdfc9c58cb9fe86ffaa76af247ae2ef2'}, 'https://www.openml.org/d/40996'])"
            ]
          },
          "execution_count": 112,
          "metadata": {},
          "output_type": "execute_result"
        }
      ],
      "source": [
        "mnist.values()"
      ]
    },
    {
      "cell_type": "markdown",
      "metadata": {
        "id": "sV0ehb52_v7L"
      },
      "source": [
        "## Preprocessing Data\n"
      ]
    },
    {
      "cell_type": "code",
      "execution_count": null,
      "metadata": {
        "id": "F2v_Fwne_v7M"
      },
      "outputs": [],
      "source": [
        "X = mnist.data.astype('float32')\n",
        "y = mnist.target.astype('int64')"
      ]
    },
    {
      "cell_type": "code",
      "execution_count": null,
      "metadata": {
        "id": "8RirCOTr_v7O"
      },
      "outputs": [],
      "source": [
        "X /= 255.0"
      ]
    },
    {
      "cell_type": "code",
      "execution_count": null,
      "metadata": {
        "colab": {
          "base_uri": "https://localhost:8080/"
        },
        "id": "rohyp3d1_v7P",
        "outputId": "bd0fa20b-6b8b-4d35-bec0-4f878821890b"
      },
      "outputs": [
        {
          "data": {
            "text/plain": [
              "(0.0, 1.0)"
            ]
          },
          "execution_count": 60,
          "metadata": {},
          "output_type": "execute_result"
        }
      ],
      "source": [
        "X.min(), X.max()"
      ]
    },
    {
      "cell_type": "markdown",
      "metadata": {
        "id": "tyUlsu0V_v7Q"
      },
      "source": [
        "Note: data is not normalized."
      ]
    },
    {
      "cell_type": "code",
      "execution_count": null,
      "metadata": {
        "id": "gILlsHJS_v7R"
      },
      "outputs": [],
      "source": [
        "X_train, X_test, y_train, y_test = train_test_split(X, y, test_size=0.25, random_state=42)"
      ]
    },
    {
      "cell_type": "code",
      "execution_count": null,
      "metadata": {
        "id": "jGpA4v4u_v7R"
      },
      "outputs": [],
      "source": [
        "assert(X_train.shape[0] + X_test.shape[0] == mnist.data.shape[0])"
      ]
    },
    {
      "cell_type": "code",
      "execution_count": null,
      "metadata": {
        "colab": {
          "base_uri": "https://localhost:8080/"
        },
        "id": "plXmcsp2_v7b",
        "outputId": "341e9ad1-bd2e-414e-d773-47f964ed617a"
      },
      "outputs": [
        {
          "data": {
            "text/plain": [
              "((52500, 784), (52500,))"
            ]
          },
          "execution_count": 63,
          "metadata": {},
          "output_type": "execute_result"
        }
      ],
      "source": [
        "X_train.shape, y_train.shape"
      ]
    },
    {
      "cell_type": "markdown",
      "metadata": {
        "id": "6EKEvbuP_v7c"
      },
      "source": [
        "### Print a selection of training images and their labels"
      ]
    },
    {
      "cell_type": "code",
      "execution_count": null,
      "metadata": {
        "id": "C9muXJPC_v7d"
      },
      "outputs": [],
      "source": [
        "def plot_example(X, y, n=5):\n",
        "    \"\"\"Plot the first 5 images and their labels in a row.\"\"\"\n",
        "    for i, (img, y) in enumerate(zip(X[:n].reshape(n, 28, 28), y[:n])):\n",
        "        plt.figure(figsize=(1.5 * n, 1.5 * n))\n",
        "        plt.subplot(1, n, 1 + i)\n",
        "        plt.imshow(img)\n",
        "        plt.xticks([])\n",
        "        plt.yticks([])\n",
        "        plt.title(y)"
      ]
    },
    {
      "cell_type": "code",
      "execution_count": null,
      "metadata": {
        "colab": {
          "base_uri": "https://localhost:8080/",
          "height": 727
        },
        "id": "h2-R1-Df_v7e",
        "outputId": "0d2ad68f-fb73-49bd-ac96-950120123aa2"
      },
      "outputs": [
        {
          "data": {
            "image/png": "[encoded data removed]",
            "text/plain": [
              "<Figure size 750x750 with 1 Axes>"
            ]
          },
          "metadata": {},
          "output_type": "display_data"
        },
        {
          "data": {
            "image/png": "[encoded data removed]",
            "text/plain": [
              "<Figure size 750x750 with 1 Axes>"
            ]
          },
          "metadata": {},
          "output_type": "display_data"
        },
        {
          "data": {
            "image/png": "[encoded data removed]",
            "text/plain": [
              "<Figure size 750x750 with 1 Axes>"
            ]
          },
          "metadata": {},
          "output_type": "display_data"
        },
        {
          "data": {
            "image/png": "[encoded data removed]",
            "text/plain": [
              "<Figure size 750x750 with 1 Axes>"
            ]
          },
          "metadata": {},
          "output_type": "display_data"
        },
        {
          "data": {
            "image/png": "[encoded data removed]",
            "text/plain": [
              "<Figure size 750x750 with 1 Axes>"
            ]
          },
          "metadata": {},
          "output_type": "display_data"
        }
      ],
      "source": [
        "plot_example(X_train, y_train)"
      ]
    },
    {
      "cell_type": "markdown",
      "metadata": {
        "id": "YQvC-rWf_v7f"
      },
      "source": [
        "## Build Neural Network with PyTorch"
      ]
    },
    {
      "cell_type": "code",
      "execution_count": null,
      "metadata": {
        "id": "5PG7R0W8_v7f"
      },
      "outputs": [],
      "source": [
        "import torch\n",
        "from torch import nn\n",
        "import torch.nn.functional as F\n",
        "from sklearn.metrics import accuracy_score\n",
        "from skorch import NeuralNetClassifier"
      ]
    },
    {
      "cell_type": "code",
      "execution_count": null,
      "metadata": {
        "id": "drnBUNph2_fZ"
      },
      "outputs": [],
      "source": [
        "device = 'cuda' if torch.cuda.is_available() else 'cpu'"
      ]
    },
    {
      "cell_type": "code",
      "execution_count": null,
      "metadata": {
        "id": "GiwV-rBO25e6"
      },
      "outputs": [],
      "source": [
        "class Cnn(nn.Module):\n",
        "    def __init__(self, dropout=0.5):\n",
        "        super(Cnn, self).__init__()\n",
        "        self.conv1 = nn.Conv2d(1, 32, kernel_size=3)\n",
        "        self.conv2 = nn.Conv2d(32, 64, kernel_size=3)\n",
        "        self.conv2_drop = nn.Dropout2d(p=dropout)\n",
        "        self.fc1 = nn.Linear(1600, 100) # 1600 = number channels * width * height\n",
        "        self.fc2 = nn.Linear(100, 10)\n",
        "        self.fc1_drop = nn.Dropout(p=dropout)\n",
        "\n",
        "    def forward(self, x, eval=False):\n",
        "\n",
        "        outputs = []\n",
        "        x = x.reshape((x.shape[0], 1, 28, 28))\n",
        "\n",
        "        x = torch.relu(F.max_pool2d(self.conv1(x), 2))\n",
        "        outputs.append(x)\n",
        "        x = torch.relu(F.max_pool2d(self.conv2_drop(self.conv2(x)), 2))\n",
        "        outputs.append(x)\n",
        "\n",
        "        # flatten over channel, height and width = 1600\n",
        "        x = x.view(-1, x.size(1) * x.size(2) * x.size(3))\n",
        "\n",
        "        x = torch.relu(self.fc1_drop(self.fc1(x)))\n",
        "        x = torch.softmax(self.fc2(x), dim=-1)\n",
        "\n",
        "        Ts = None\n",
        "        layers = None\n",
        "        layer_num = 0\n",
        "        if eval:\n",
        "          for X in outputs:\n",
        "            X = X.reshape((X.shape[0], np.prod(X.shape) // X.shape[0]))\n",
        "            Ts = torch.cat((Ts, X), 1) if Ts is not None else X\n",
        "            l = torch.ones_like(X) * layer_num\n",
        "            layers = torch.cat((layers, l), 1) if layers is not None else l\n",
        "            layer_num += 1\n",
        "          return x, Ts, layers\n",
        "\n",
        "        return x\n"
      ]
    },
    {
      "cell_type": "code",
      "execution_count": null,
      "metadata": {
        "id": "Cw8JjE793CDX"
      },
      "outputs": [],
      "source": [
        "\n",
        "torch.manual_seed(0)\n",
        "\n",
        "module = Cnn()\n",
        "cnn = NeuralNetClassifier(\n",
        "    module,\n",
        "    max_epochs=3,\n",
        "    lr=0.002,\n",
        "    optimizer=torch.optim.Adam,\n",
        "    device=device,\n",
        ")"
      ]
    },
    {
      "cell_type": "code",
      "execution_count": null,
      "metadata": {
        "id": "xZIpJjgX3CyN"
      },
      "outputs": [],
      "source": [
        "adversaries_x = torch.tensor(X_test).to(device)\n",
        "adversaries_y = torch.tensor(y_test).to(device)\n",
        "epsilon = 10 / 255"
      ]
    },
    {
      "cell_type": "code",
      "execution_count": null,
      "metadata": {
        "colab": {
          "base_uri": "https://localhost:8080/"
        },
        "id": "pIXD-FaC3EPR",
        "outputId": "5d95706b-2493-4927-d367-e793ac63b61b"
      },
      "outputs": [
        {
          "name": "stdout",
          "output_type": "stream",
          "text": [
            "  epoch    train_loss    valid_acc    valid_loss     dur\n",
            "-------  ------------  -----------  ------------  ------\n",
            "      1        \u001b[36m1.0358\u001b[0m       \u001b[32m0.7677\u001b[0m        \u001b[35m0.5923\u001b[0m  1.3684\n",
            "      2        \u001b[36m0.6546\u001b[0m       \u001b[32m0.7989\u001b[0m        \u001b[35m0.5081\u001b[0m  1.0766\n",
            "      3        \u001b[36m0.5828\u001b[0m       \u001b[32m0.8203\u001b[0m        \u001b[35m0.4675\u001b[0m  1.2197\n"
          ]
        },
        {
          "name": "stderr",
          "output_type": "stream",
          "text": [
            "<ipython-input-71-afb6d1902390>:11: UserWarning: To copy construct from a tensor, it is recommended to use sourceTensor.clone().detach() or sourceTensor.clone().detach().requires_grad_(True), rather than torch.tensor(sourceTensor).\n",
            "  loss_val = loss(out, torch.tensor(adversaries_y[j:j + step]).to(device))\n"
          ]
        },
        {
          "name": "stdout",
          "output_type": "stream",
          "text": [
            "Re-initializing module.\n",
            "Re-initializing criterion.\n",
            "Re-initializing optimizer.\n",
            "  epoch    train_loss    valid_acc    valid_loss     dur\n",
            "-------  ------------  -----------  ------------  ------\n",
            "      1        \u001b[36m0.7774\u001b[0m       \u001b[32m0.7486\u001b[0m        \u001b[35m0.6188\u001b[0m  1.1728\n",
            "      2        \u001b[36m0.6792\u001b[0m       \u001b[32m0.7803\u001b[0m        \u001b[35m0.5646\u001b[0m  1.2735\n",
            "      3        \u001b[36m0.6332\u001b[0m       \u001b[32m0.8060\u001b[0m        \u001b[35m0.5120\u001b[0m  0.9696\n"
          ]
        },
        {
          "name": "stderr",
          "output_type": "stream",
          "text": [
            "<ipython-input-71-afb6d1902390>:11: UserWarning: To copy construct from a tensor, it is recommended to use sourceTensor.clone().detach() or sourceTensor.clone().detach().requires_grad_(True), rather than torch.tensor(sourceTensor).\n",
            "  loss_val = loss(out, torch.tensor(adversaries_y[j:j + step]).to(device))\n"
          ]
        },
        {
          "name": "stdout",
          "output_type": "stream",
          "text": [
            "Re-initializing module.\n",
            "Re-initializing criterion.\n",
            "Re-initializing optimizer.\n",
            "  epoch    train_loss    valid_acc    valid_loss     dur\n",
            "-------  ------------  -----------  ------------  ------\n",
            "      1        \u001b[36m0.8156\u001b[0m       \u001b[32m0.7263\u001b[0m        \u001b[35m0.6813\u001b[0m  1.1813\n",
            "      2        \u001b[36m0.7241\u001b[0m       \u001b[32m0.7529\u001b[0m        \u001b[35m0.6140\u001b[0m  2.4571\n",
            "      3        \u001b[36m0.6332\u001b[0m       \u001b[32m0.8160\u001b[0m        \u001b[35m0.4496\u001b[0m  1.4258\n"
          ]
        },
        {
          "name": "stderr",
          "output_type": "stream",
          "text": [
            "<ipython-input-71-afb6d1902390>:11: UserWarning: To copy construct from a tensor, it is recommended to use sourceTensor.clone().detach() or sourceTensor.clone().detach().requires_grad_(True), rather than torch.tensor(sourceTensor).\n",
            "  loss_val = loss(out, torch.tensor(adversaries_y[j:j + step]).to(device))\n"
          ]
        },
        {
          "name": "stdout",
          "output_type": "stream",
          "text": [
            "Re-initializing module.\n",
            "Re-initializing criterion.\n",
            "Re-initializing optimizer.\n",
            "  epoch    train_loss    valid_acc    valid_loss     dur\n",
            "-------  ------------  -----------  ------------  ------\n",
            "      1        \u001b[36m0.8515\u001b[0m       \u001b[32m0.7349\u001b[0m        \u001b[35m0.6717\u001b[0m  0.9386\n",
            "      2        \u001b[36m0.6886\u001b[0m       \u001b[32m0.8151\u001b[0m        \u001b[35m0.4913\u001b[0m  1.0197\n",
            "      3        \u001b[36m0.5240\u001b[0m       \u001b[32m0.8817\u001b[0m        \u001b[35m0.3502\u001b[0m  0.8812\n"
          ]
        },
        {
          "name": "stderr",
          "output_type": "stream",
          "text": [
            "<ipython-input-71-afb6d1902390>:11: UserWarning: To copy construct from a tensor, it is recommended to use sourceTensor.clone().detach() or sourceTensor.clone().detach().requires_grad_(True), rather than torch.tensor(sourceTensor).\n",
            "  loss_val = loss(out, torch.tensor(adversaries_y[j:j + step]).to(device))\n"
          ]
        },
        {
          "name": "stdout",
          "output_type": "stream",
          "text": [
            "Re-initializing module.\n",
            "Re-initializing criterion.\n",
            "Re-initializing optimizer.\n",
            "  epoch    train_loss    valid_acc    valid_loss     dur\n",
            "-------  ------------  -----------  ------------  ------\n",
            "      1        \u001b[36m1.0079\u001b[0m       \u001b[32m0.7129\u001b[0m        \u001b[35m0.7217\u001b[0m  1.1652\n",
            "      2        \u001b[36m0.7187\u001b[0m       \u001b[32m0.8371\u001b[0m        \u001b[35m0.5014\u001b[0m  1.1706\n",
            "      3        \u001b[36m0.5209\u001b[0m       \u001b[32m0.9126\u001b[0m        \u001b[35m0.2909\u001b[0m  0.5880\n",
            "Re-initializing module.\n",
            "Re-initializing criterion.\n",
            "Re-initializing optimizer.\n"
          ]
        },
        {
          "name": "stderr",
          "output_type": "stream",
          "text": [
            "<ipython-input-71-afb6d1902390>:11: UserWarning: To copy construct from a tensor, it is recommended to use sourceTensor.clone().detach() or sourceTensor.clone().detach().requires_grad_(True), rather than torch.tensor(sourceTensor).\n",
            "  loss_val = loss(out, torch.tensor(adversaries_y[j:j + step]).to(device))\n"
          ]
        },
        {
          "name": "stdout",
          "output_type": "stream",
          "text": [
            "  epoch    train_loss    valid_acc    valid_loss     dur\n",
            "-------  ------------  -----------  ------------  ------\n",
            "      1        \u001b[36m1.0352\u001b[0m       \u001b[32m0.7377\u001b[0m        \u001b[35m0.7058\u001b[0m  0.5944\n",
            "      2        \u001b[36m0.7118\u001b[0m       \u001b[32m0.8220\u001b[0m        \u001b[35m0.5152\u001b[0m  0.5825\n",
            "      3        \u001b[36m0.5394\u001b[0m       \u001b[32m0.9206\u001b[0m        \u001b[35m0.3056\u001b[0m  0.5907\n"
          ]
        },
        {
          "name": "stderr",
          "output_type": "stream",
          "text": [
            "<ipython-input-71-afb6d1902390>:11: UserWarning: To copy construct from a tensor, it is recommended to use sourceTensor.clone().detach() or sourceTensor.clone().detach().requires_grad_(True), rather than torch.tensor(sourceTensor).\n",
            "  loss_val = loss(out, torch.tensor(adversaries_y[j:j + step]).to(device))\n"
          ]
        },
        {
          "name": "stdout",
          "output_type": "stream",
          "text": [
            "Re-initializing module.\n",
            "Re-initializing criterion.\n",
            "Re-initializing optimizer.\n",
            "  epoch    train_loss    valid_acc    valid_loss     dur\n",
            "-------  ------------  -----------  ------------  ------\n",
            "      1        \u001b[36m1.0613\u001b[0m       \u001b[32m0.7066\u001b[0m        \u001b[35m0.7794\u001b[0m  0.6989\n",
            "      2        \u001b[36m0.8005\u001b[0m       \u001b[32m0.8000\u001b[0m        \u001b[35m0.5886\u001b[0m  0.7434\n",
            "      3        \u001b[36m0.6349\u001b[0m       \u001b[32m0.8840\u001b[0m        \u001b[35m0.3973\u001b[0m  0.7556\n"
          ]
        },
        {
          "name": "stderr",
          "output_type": "stream",
          "text": [
            "<ipython-input-71-afb6d1902390>:11: UserWarning: To copy construct from a tensor, it is recommended to use sourceTensor.clone().detach() or sourceTensor.clone().detach().requires_grad_(True), rather than torch.tensor(sourceTensor).\n",
            "  loss_val = loss(out, torch.tensor(adversaries_y[j:j + step]).to(device))\n"
          ]
        },
        {
          "name": "stdout",
          "output_type": "stream",
          "text": [
            "Re-initializing module.\n",
            "Re-initializing criterion.\n",
            "Re-initializing optimizer.\n",
            "  epoch    train_loss    valid_acc    valid_loss     dur\n",
            "-------  ------------  -----------  ------------  ------\n",
            "      1        \u001b[36m1.0743\u001b[0m       \u001b[32m0.7897\u001b[0m        \u001b[35m0.6256\u001b[0m  1.0978\n",
            "      2        \u001b[36m0.6569\u001b[0m       \u001b[32m0.8909\u001b[0m        \u001b[35m0.3968\u001b[0m  0.6105\n",
            "      3        \u001b[36m0.4848\u001b[0m       \u001b[32m0.9180\u001b[0m        \u001b[35m0.2778\u001b[0m  0.5788\n",
            "Re-initializing module.\n"
          ]
        },
        {
          "name": "stderr",
          "output_type": "stream",
          "text": [
            "<ipython-input-71-afb6d1902390>:11: UserWarning: To copy construct from a tensor, it is recommended to use sourceTensor.clone().detach() or sourceTensor.clone().detach().requires_grad_(True), rather than torch.tensor(sourceTensor).\n",
            "  loss_val = loss(out, torch.tensor(adversaries_y[j:j + step]).to(device))\n"
          ]
        },
        {
          "name": "stdout",
          "output_type": "stream",
          "text": [
            "Re-initializing criterion.\n",
            "Re-initializing optimizer.\n",
            "  epoch    train_loss    valid_acc    valid_loss     dur\n",
            "-------  ------------  -----------  ------------  ------\n",
            "      1        \u001b[36m1.1634\u001b[0m       \u001b[32m0.6811\u001b[0m        \u001b[35m0.8690\u001b[0m  0.5935\n",
            "      2        \u001b[36m0.8950\u001b[0m       \u001b[32m0.8049\u001b[0m        \u001b[35m0.6403\u001b[0m  0.6001\n",
            "      3        \u001b[36m0.6904\u001b[0m       \u001b[32m0.8906\u001b[0m        \u001b[35m0.4120\u001b[0m  0.5804\n"
          ]
        },
        {
          "name": "stderr",
          "output_type": "stream",
          "text": [
            "<ipython-input-71-afb6d1902390>:11: UserWarning: To copy construct from a tensor, it is recommended to use sourceTensor.clone().detach() or sourceTensor.clone().detach().requires_grad_(True), rather than torch.tensor(sourceTensor).\n",
            "  loss_val = loss(out, torch.tensor(adversaries_y[j:j + step]).to(device))\n"
          ]
        },
        {
          "name": "stdout",
          "output_type": "stream",
          "text": [
            "Re-initializing module.\n",
            "Re-initializing criterion.\n",
            "Re-initializing optimizer.\n",
            "  epoch    train_loss    valid_acc    valid_loss     dur\n",
            "-------  ------------  -----------  ------------  ------\n",
            "      1        \u001b[36m0.8859\u001b[0m       \u001b[32m0.8754\u001b[0m        \u001b[35m0.4147\u001b[0m  0.5860\n",
            "      2        \u001b[36m0.5194\u001b[0m       \u001b[32m0.9063\u001b[0m        \u001b[35m0.3055\u001b[0m  0.5742\n",
            "      3        \u001b[36m0.4344\u001b[0m       \u001b[32m0.9137\u001b[0m        \u001b[35m0.2648\u001b[0m  0.5801\n"
          ]
        },
        {
          "name": "stderr",
          "output_type": "stream",
          "text": [
            "<ipython-input-71-afb6d1902390>:11: UserWarning: To copy construct from a tensor, it is recommended to use sourceTensor.clone().detach() or sourceTensor.clone().detach().requires_grad_(True), rather than torch.tensor(sourceTensor).\n",
            "  loss_val = loss(out, torch.tensor(adversaries_y[j:j + step]).to(device))\n"
          ]
        }
      ],
      "source": [
        "step = 500\n",
        "for i in range(10):\n",
        "  adversaries_x = adversaries_x.to(device)\n",
        "  cnn.fit(adversaries_x, adversaries_y)\n",
        "  loss = nn.CrossEntropyLoss()\n",
        "  inp = adversaries_x\n",
        "  inp.requires_grad = True\n",
        "  for j in range(0, inp.shape[0], step):\n",
        "    module.eval()\n",
        "    out = cnn.module(inp[j:j + step])\n",
        "    loss_val = loss(out, torch.tensor(adversaries_y[j:j + step]).to(device))\n",
        "    loss_val.backward()\n",
        "    delta = epsilon * torch.sign(inp.grad.detach()[j:j + step])\n",
        "    if j == 0:\n",
        "      adversaries_x = torch.clamp(inp.detach()[j:j + step] + delta, 0.0, 1)\n",
        "    else:\n",
        "      adversaries_x = torch.cat((adversaries_x.detach(), torch.clamp(inp.detach()[j:j + step] + delta, 0.0, 1)), 0)\n",
        "attacked = adversaries_x.cpu().detach().numpy()"
      ]
    },
    {
      "cell_type": "code",
      "execution_count": null,
      "metadata": {
        "id": "gVCW8F3N_v7g"
      },
      "outputs": [],
      "source": [
        "mnist_dim = X.shape[1]\n",
        "hidden_dims = [int(mnist_dim/8)]\n",
        "output_dim = len(np.unique(mnist.target))"
      ]
    },
    {
      "cell_type": "code",
      "execution_count": null,
      "metadata": {
        "id": "ShYicHlv_v7h"
      },
      "outputs": [],
      "source": [
        "mnist_dim, hidden_dims, output_dim"
      ]
    },
    {
      "cell_type": "code",
      "execution_count": null,
      "metadata": {
        "id": "Xxtli0l__v7j"
      },
      "outputs": [],
      "source": [
        "class ClassifierModule(nn.Module):\n",
        "    def __init__(\n",
        "            self,\n",
        "            input_dim=mnist_dim,\n",
        "            hidden_dims=hidden_dims,\n",
        "            output_dim=output_dim,\n",
        "            dropout=0.5,\n",
        "    ):\n",
        "        super(ClassifierModule, self).__init__()\n",
        "        self.dropout = nn.Dropout(dropout)\n",
        "        self.hidden = nn.ModuleList()\n",
        "        for i in range(len(hidden_dims)):\n",
        "            if i == 0:\n",
        "              self.hidden.append(nn.Linear(mnist_dim, hidden_dims[i]))\n",
        "            else:\n",
        "              self.hidden.append(nn.Linear(hidden_dims[i - 1], hidden_dims[i]))\n",
        "        self.output = nn.Linear(hidden_dims[-1], output_dim)\n",
        "\n",
        "    def forward(self, X, eval=False, **kwargs):\n",
        "        Ts = None\n",
        "        layers = None\n",
        "        layer_num = 0\n",
        "        for h in self.hidden:\n",
        "          X = F.relu(h(X))\n",
        "          if eval:\n",
        "            Ts = torch.cat((Ts, X), 1) if Ts is not None else X\n",
        "            l = torch.ones_like(X) * layer_num\n",
        "            layers = torch.cat((layers, l), 1) if layers is not None else l\n",
        "          layer_num += 1\n",
        "        X = self.dropout(X)\n",
        "        X = F.softmax(self.output(X), dim=-1)\n",
        "        if eval:\n",
        "          return X, Ts, layers\n",
        "        return X"
      ]
    },
    {
      "cell_type": "code",
      "execution_count": null,
      "metadata": {
        "id": "s0aDatqN_v7l"
      },
      "outputs": [],
      "source": [
        "from skorch import NeuralNetClassifier\n",
        "nets = []"
      ]
    },
    {
      "cell_type": "code",
      "execution_count": null,
      "metadata": {
        "id": "dOrCbBjk_v7m"
      },
      "outputs": [],
      "source": [
        "torch.manual_seed(0)\n",
        "\n",
        "net1 = NeuralNetClassifier(\n",
        "    ClassifierModule(mnist_dim, [100], output_dim),\n",
        "    max_epochs=20,\n",
        "    lr=0.1,\n",
        "    device=device,\n",
        ")"
      ]
    },
    {
      "cell_type": "code",
      "execution_count": null,
      "metadata": {
        "colab": {
          "base_uri": "https://localhost:8080/"
        },
        "id": "8i_gnvPi_v7m",
        "outputId": "467933e0-29ac-4a1f-c1e3-4e6286c3a82a"
      },
      "outputs": [
        {
          "name": "stdout",
          "output_type": "stream",
          "text": [
            "  epoch    train_loss    valid_acc    valid_loss     dur\n",
            "-------  ------------  -----------  ------------  ------\n",
            "      1        \u001b[36m0.9335\u001b[0m       \u001b[32m0.7359\u001b[0m        \u001b[35m0.6875\u001b[0m  1.0870\n",
            "      2        \u001b[36m0.6190\u001b[0m       \u001b[32m0.7488\u001b[0m        \u001b[35m0.6166\u001b[0m  1.0472\n",
            "      3        \u001b[36m0.5546\u001b[0m       \u001b[32m0.8241\u001b[0m        \u001b[35m0.4889\u001b[0m  1.0361\n",
            "      4        \u001b[36m0.5163\u001b[0m       0.8153        0.4946  1.2714\n",
            "      5        \u001b[36m0.4953\u001b[0m       \u001b[32m0.8270\u001b[0m        \u001b[35m0.4674\u001b[0m  1.4835\n",
            "      6        \u001b[36m0.4776\u001b[0m       \u001b[32m0.8382\u001b[0m        \u001b[35m0.4376\u001b[0m  1.0510\n",
            "      7        \u001b[36m0.4657\u001b[0m       0.8145        0.4720  1.0244\n",
            "      8        \u001b[36m0.4569\u001b[0m       0.8012        0.4983  1.0217\n",
            "      9        \u001b[36m0.4468\u001b[0m       0.8256        0.4512  1.0280\n",
            "     10        \u001b[36m0.4373\u001b[0m       \u001b[32m0.8455\u001b[0m        \u001b[35m0.4122\u001b[0m  1.0337\n",
            "     11        \u001b[36m0.4337\u001b[0m       0.8429        0.4181  1.0126\n",
            "     12        \u001b[36m0.4244\u001b[0m       0.8247        0.4464  1.0130\n",
            "     13        \u001b[36m0.4193\u001b[0m       \u001b[32m0.8476\u001b[0m        \u001b[35m0.4107\u001b[0m  1.0132\n",
            "     14        \u001b[36m0.4153\u001b[0m       \u001b[32m0.8570\u001b[0m        \u001b[35m0.3922\u001b[0m  1.0269\n",
            "     15        \u001b[36m0.4104\u001b[0m       \u001b[32m0.8574\u001b[0m        \u001b[35m0.3839\u001b[0m  1.1591\n",
            "     16        \u001b[36m0.4047\u001b[0m       0.8558        0.3922  1.3964\n",
            "     17        \u001b[36m0.4023\u001b[0m       0.8384        0.4193  1.2234\n",
            "     18        \u001b[36m0.3961\u001b[0m       \u001b[32m0.8607\u001b[0m        \u001b[35m0.3796\u001b[0m  1.0363\n",
            "     19        \u001b[36m0.3942\u001b[0m       0.8543        0.3864  1.0468\n",
            "     20        \u001b[36m0.3897\u001b[0m       \u001b[32m0.8632\u001b[0m        \u001b[35m0.3762\u001b[0m  1.0549\n"
          ]
        }
      ],
      "source": [
        "net1.fit(X_train, y_train);\n",
        "nets.append(net1)"
      ]
    },
    {
      "cell_type": "code",
      "execution_count": null,
      "metadata": {
        "id": "LCWachuM_v7o"
      },
      "outputs": [],
      "source": [
        "y_pred = net1.predict(X_test)\n",
        "accuracy_score(y_test, y_pred)"
      ]
    },
    {
      "cell_type": "code",
      "execution_count": null,
      "metadata": {
        "id": "WIHa1VkN3Op7"
      },
      "outputs": [],
      "source": [
        "y_pred = net1.predict(attacked)\n",
        "accuracy_score(y_test, y_pred)"
      ]
    },
    {
      "cell_type": "code",
      "execution_count": null,
      "metadata": {
        "id": "BW7oUwIsefSx"
      },
      "outputs": [],
      "source": [
        "hidden_dims = [60, 40]\n",
        "net2 = NeuralNetClassifier(ClassifierModule(mnist_dim, hidden_dims, output_dim), max_epochs=20, lr=0.1, device=device)\n",
        "net2.fit(X_train, y_train);\n",
        "nets.append(net2)"
      ]
    },
    {
      "cell_type": "code",
      "execution_count": null,
      "metadata": {
        "id": "oOJu7u0DefNS"
      },
      "outputs": [],
      "source": [
        "y_pred = net2.predict(X_test)\n",
        "accuracy_score(y_test, y_pred)"
      ]
    },
    {
      "cell_type": "code",
      "execution_count": null,
      "metadata": {
        "id": "U1JhzSFf3STL"
      },
      "outputs": [],
      "source": [
        "y_pred = net2.predict(attacked)\n",
        "accuracy_score(y_test, y_pred)"
      ]
    },
    {
      "cell_type": "code",
      "execution_count": null,
      "metadata": {
        "id": "8brVrmkFfBZN"
      },
      "outputs": [],
      "source": [
        "hidden_dims = [40, 60]\n",
        "net3 = NeuralNetClassifier(ClassifierModule(mnist_dim, hidden_dims, output_dim), max_epochs=20, lr=0.1, device=device)\n",
        "net3.fit(X_train, y_train);\n",
        "nets.append(net3)"
      ]
    },
    {
      "cell_type": "code",
      "execution_count": null,
      "metadata": {
        "id": "RPdX6V3RfbIO"
      },
      "outputs": [],
      "source": [
        "y_pred = net3.predict(X_test)\n",
        "accuracy_score(y_test, y_pred)"
      ]
    },
    {
      "cell_type": "code",
      "execution_count": null,
      "metadata": {
        "colab": {
          "base_uri": "https://localhost:8080/"
        },
        "id": "7-1nlTey3UAB",
        "outputId": "68bc82ad-42d7-41c0-8b6d-98a899bfd7a8"
      },
      "outputs": [
        {
          "data": {
            "text/plain": [
              "0.5331428571428571"
            ]
          },
          "execution_count": 85,
          "metadata": {},
          "output_type": "execute_result"
        }
      ],
      "source": [
        "y_pred = net3.predict(attacked)\n",
        "accuracy_score(y_test, y_pred)"
      ]
    },
    {
      "cell_type": "code",
      "execution_count": null,
      "metadata": {
        "id": "XddXR1_a_v7p"
      },
      "outputs": [],
      "source": [
        "error_mask = y_pred != y_test"
      ]
    },
    {
      "cell_type": "code",
      "execution_count": null,
      "metadata": {
        "id": "hXlNTrlt_v7q"
      },
      "outputs": [],
      "source": [
        "plot_example(X_test[error_mask], y_pred[error_mask])"
      ]
    },
    {
      "cell_type": "code",
      "execution_count": null,
      "metadata": {
        "id": "EV9i52A1Ltos"
      },
      "outputs": [],
      "source": [
        "[mnist_dim//4, mnist_dim//2]"
      ]
    },
    {
      "cell_type": "code",
      "execution_count": null,
      "metadata": {
        "id": "uuq0j5qOS9cK"
      },
      "outputs": [],
      "source": [
        "hidden_dims = [50, 50]\n",
        "net4 = NeuralNetClassifier(ClassifierModule(mnist_dim, hidden_dims, output_dim), max_epochs=20, lr=0.1, device=device)\n",
        "net4.fit(X_train, y_train);\n",
        "nets.append(net4)"
      ]
    },
    {
      "cell_type": "code",
      "execution_count": null,
      "metadata": {
        "colab": {
          "base_uri": "https://localhost:8080/"
        },
        "id": "q1QSzz6g-9Fy",
        "outputId": "bf4576af-3265-4090-9cf6-8c29462e5714"
      },
      "outputs": [
        {
          "data": {
            "text/plain": [
              "0.8676"
            ]
          },
          "execution_count": 90,
          "metadata": {},
          "output_type": "execute_result"
        }
      ],
      "source": [
        "y_pred = net4.predict(X_test)\n",
        "accuracy_score(y_test, y_pred)"
      ]
    },
    {
      "cell_type": "code",
      "execution_count": null,
      "metadata": {
        "colab": {
          "base_uri": "https://localhost:8080/"
        },
        "id": "9D1e4otR3W6Q",
        "outputId": "20ae49ed-bcda-42e5-d767-7bf4e65c6b05"
      },
      "outputs": [
        {
          "data": {
            "text/plain": [
              "0.5806857142857142"
            ]
          },
          "execution_count": 91,
          "metadata": {},
          "output_type": "execute_result"
        }
      ],
      "source": [
        "y_pred = net4.predict(attacked)\n",
        "accuracy_score(y_test, y_pred)"
      ]
    },
    {
      "cell_type": "code",
      "execution_count": null,
      "metadata": {
        "colab": {
          "base_uri": "https://localhost:8080/"
        },
        "id": "vCC7A8VmTAoX",
        "outputId": "88f5080a-886a-4fd0-9168-d149057a44ca"
      },
      "outputs": [
        {
          "name": "stdout",
          "output_type": "stream",
          "text": [
            "  epoch    train_loss    valid_acc    valid_loss     dur\n",
            "-------  ------------  -----------  ------------  ------\n",
            "      1        \u001b[36m2.3041\u001b[0m       \u001b[32m0.0998\u001b[0m        \u001b[35m2.3019\u001b[0m  1.3129\n",
            "      2        \u001b[36m2.1595\u001b[0m       \u001b[32m0.2777\u001b[0m        \u001b[35m1.9645\u001b[0m  1.2536\n",
            "      3        \u001b[36m1.6866\u001b[0m       \u001b[32m0.4684\u001b[0m        \u001b[35m1.5507\u001b[0m  1.2452\n",
            "      4        \u001b[36m1.3642\u001b[0m       \u001b[32m0.5337\u001b[0m        \u001b[35m1.0450\u001b[0m  1.2482\n",
            "      5        \u001b[36m1.2230\u001b[0m       0.5290        \u001b[35m1.0312\u001b[0m  1.2431\n",
            "      6        \u001b[36m1.1566\u001b[0m       0.3563        1.9225  1.2555\n",
            "      7        1.2396       \u001b[32m0.5590\u001b[0m        1.1146  1.2598\n",
            "      8        \u001b[36m1.1109\u001b[0m       0.5517        1.0588  1.7044\n",
            "      9        \u001b[36m1.0442\u001b[0m       \u001b[32m0.5732\u001b[0m        \u001b[35m0.8178\u001b[0m  1.5743\n",
            "     10        \u001b[36m1.0044\u001b[0m       \u001b[32m0.6160\u001b[0m        0.8692  1.2487\n",
            "     11        \u001b[36m0.9874\u001b[0m       \u001b[32m0.7355\u001b[0m        \u001b[35m0.6893\u001b[0m  1.2413\n",
            "     12        \u001b[36m0.9665\u001b[0m       0.6998        0.7072  1.2594\n",
            "     13        \u001b[36m0.9378\u001b[0m       0.5607        1.2229  1.2694\n",
            "     14        \u001b[36m0.9339\u001b[0m       0.6378        0.9210  1.2610\n",
            "     15        \u001b[36m0.9057\u001b[0m       \u001b[32m0.7673\u001b[0m        \u001b[35m0.6012\u001b[0m  1.2507\n",
            "     16        \u001b[36m0.8857\u001b[0m       \u001b[32m0.7712\u001b[0m        0.6269  1.2500\n",
            "     17        \u001b[36m0.8843\u001b[0m       \u001b[32m0.8111\u001b[0m        \u001b[35m0.5463\u001b[0m  1.5163\n",
            "     18        \u001b[36m0.8618\u001b[0m       0.7796        0.5689  1.6665\n",
            "     19        \u001b[36m0.8451\u001b[0m       0.7730        0.5763  1.2310\n",
            "     20        \u001b[36m0.8296\u001b[0m       0.7793        0.5623  1.2798\n"
          ]
        }
      ],
      "source": [
        "hidden_dims = [20, 20, 20, 20, 20]\n",
        "net5 = NeuralNetClassifier(ClassifierModule(mnist_dim, hidden_dims, output_dim), max_epochs=20, lr=0.1, device=device)\n",
        "net5.fit(X_train, y_train);\n",
        "nets.append(net5)"
      ]
    },
    {
      "cell_type": "code",
      "execution_count": null,
      "metadata": {
        "colab": {
          "base_uri": "https://localhost:8080/"
        },
        "id": "ioEIKLGP--vq",
        "outputId": "308d547a-b42c-423b-f4c5-8bb0f7d8d2a4"
      },
      "outputs": [
        {
          "data": {
            "text/plain": [
              "0.7745714285714286"
            ]
          },
          "execution_count": 93,
          "metadata": {},
          "output_type": "execute_result"
        }
      ],
      "source": [
        "y_pred = net5.predict(X_test)\n",
        "accuracy_score(y_test, y_pred)"
      ]
    },
    {
      "cell_type": "code",
      "execution_count": null,
      "metadata": {
        "colab": {
          "base_uri": "https://localhost:8080/"
        },
        "id": "dnW63CxA3Y0N",
        "outputId": "e60e9635-eff1-4b7d-a9a1-85568678d590"
      },
      "outputs": [
        {
          "data": {
            "text/plain": [
              "0.5949142857142857"
            ]
          },
          "execution_count": 94,
          "metadata": {},
          "output_type": "execute_result"
        }
      ],
      "source": [
        "y_pred = net1.predict(attacked)\n",
        "accuracy_score(y_test, y_pred)"
      ]
    },
    {
      "cell_type": "markdown",
      "metadata": {
        "id": "I2GsBaxH_v7r"
      },
      "source": [
        "# Convolutional Network\n"
      ]
    },
    {
      "cell_type": "code",
      "execution_count": null,
      "metadata": {
        "id": "Bwsaz88X_v7r"
      },
      "outputs": [],
      "source": [
        "XCnn = X.reshape(-1, 1, 28, 28)"
      ]
    },
    {
      "cell_type": "code",
      "execution_count": null,
      "metadata": {
        "colab": {
          "base_uri": "https://localhost:8080/"
        },
        "id": "Go0Yz8xl_v7s",
        "outputId": "b93810a3-1f53-4c36-fb62-46e1198ec619"
      },
      "outputs": [
        {
          "data": {
            "text/plain": [
              "(70000, 1, 28, 28)"
            ]
          },
          "execution_count": 97,
          "metadata": {},
          "output_type": "execute_result"
        }
      ],
      "source": [
        "XCnn.shape"
      ]
    },
    {
      "cell_type": "code",
      "execution_count": null,
      "metadata": {
        "id": "YdQ-ISvb_v7u"
      },
      "outputs": [],
      "source": [
        "class Cnn(nn.Module):\n",
        "    def __init__(self, dropout=0.5):\n",
        "        super(Cnn, self).__init__()\n",
        "        self.conv1 = nn.Conv2d(1, 32, kernel_size=3)\n",
        "        self.conv2 = nn.Conv2d(32, 64, kernel_size=3)\n",
        "        self.conv2_drop = nn.Dropout2d(p=dropout)\n",
        "        self.fc1 = nn.Linear(1600, 100) # 1600 = number channels * width * height\n",
        "        self.fc2 = nn.Linear(100, 10)\n",
        "        self.fc1_drop = nn.Dropout(p=dropout)\n",
        "\n",
        "    def forward(self, x, eval=False):\n",
        "\n",
        "        outputs = []\n",
        "        x = x.reshape((x.shape[0], 1, 28, 28))\n",
        "\n",
        "        x = torch.relu(F.max_pool2d(self.conv1(x), 2))\n",
        "        outputs.append(x)\n",
        "        x = torch.relu(F.max_pool2d(self.conv2_drop(self.conv2(x)), 2))\n",
        "        outputs.append(x)\n",
        "\n",
        "        # flatten over channel, height and width = 1600\n",
        "        x = x.view(-1, x.size(1) * x.size(2) * x.size(3))\n",
        "\n",
        "        x = torch.relu(self.fc1_drop(self.fc1(x)))\n",
        "        x = torch.softmax(self.fc2(x), dim=-1)\n",
        "\n",
        "        Ts = None\n",
        "        layers = None\n",
        "        layer_num = 0\n",
        "        if eval:\n",
        "          for X in outputs:\n",
        "            X = X.reshape((X.shape[0], np.prod(X.shape) // X.shape[0]))\n",
        "            Ts = torch.cat((Ts, X), 1) if Ts is not None else X\n",
        "            l = torch.ones_like(X) * layer_num\n",
        "            layers = torch.cat((layers, l), 1) if layers is not None else l\n",
        "            layer_num += 1\n",
        "          return x, Ts, layers\n",
        "\n",
        "        return x\n"
      ]
    },
    {
      "cell_type": "code",
      "execution_count": null,
      "metadata": {
        "id": "WJrWyFfb_v7u"
      },
      "outputs": [],
      "source": [
        "torch.manual_seed(0)\n",
        "\n",
        "cnn = NeuralNetClassifier(\n",
        "    Cnn(),\n",
        "    max_epochs=10,\n",
        "    lr=0.002,\n",
        "    optimizer=torch.optim.Adam,\n",
        "    device=device,\n",
        ")"
      ]
    },
    {
      "cell_type": "code",
      "execution_count": null,
      "metadata": {
        "colab": {
          "base_uri": "https://localhost:8080/"
        },
        "id": "KRtHfgg8_v7u",
        "outputId": "9ffc8335-5433-4023-a0fb-151809b04b87"
      },
      "outputs": [
        {
          "name": "stdout",
          "output_type": "stream",
          "text": [
            "  epoch    train_loss    valid_acc    valid_loss     dur\n",
            "-------  ------------  -----------  ------------  ------\n",
            "      1        \u001b[36m0.7696\u001b[0m       \u001b[32m0.8181\u001b[0m        \u001b[35m0.4822\u001b[0m  1.7682\n",
            "      2        \u001b[36m0.5248\u001b[0m       \u001b[32m0.8485\u001b[0m        \u001b[35m0.4088\u001b[0m  1.6900\n",
            "      3        \u001b[36m0.4647\u001b[0m       \u001b[32m0.8738\u001b[0m        \u001b[35m0.3535\u001b[0m  1.6431\n",
            "      4        \u001b[36m0.4256\u001b[0m       \u001b[32m0.8761\u001b[0m        \u001b[35m0.3385\u001b[0m  1.7749\n",
            "      5        \u001b[36m0.4046\u001b[0m       \u001b[32m0.8820\u001b[0m        \u001b[35m0.3217\u001b[0m  2.1149\n",
            "      6        \u001b[36m0.3864\u001b[0m       \u001b[32m0.8842\u001b[0m        \u001b[35m0.3157\u001b[0m  1.6482\n",
            "      7        \u001b[36m0.3688\u001b[0m       \u001b[32m0.8911\u001b[0m        \u001b[35m0.2953\u001b[0m  1.6517\n",
            "      8        \u001b[36m0.3616\u001b[0m       0.8911        0.2979  1.6506\n",
            "      9        \u001b[36m0.3504\u001b[0m       \u001b[32m0.8936\u001b[0m        \u001b[35m0.2868\u001b[0m  1.6750\n",
            "     10        \u001b[36m0.3380\u001b[0m       0.8931        \u001b[35m0.2845\u001b[0m  1.6394\n"
          ]
        }
      ],
      "source": [
        "cnn.fit(X_train, y_train);"
      ]
    },
    {
      "cell_type": "code",
      "execution_count": null,
      "metadata": {
        "colab": {
          "base_uri": "https://localhost:8080/"
        },
        "id": "5GFi5rv-_DFT",
        "outputId": "660ddbaa-0748-4501-8b16-8948a203af4e"
      },
      "outputs": [
        {
          "data": {
            "text/plain": [
              "0.8990857142857143"
            ]
          },
          "execution_count": 103,
          "metadata": {},
          "output_type": "execute_result"
        }
      ],
      "source": [
        "y_pred = cnn.predict(X_test)\n",
        "accuracy_score(y_test, y_pred)"
      ]
    },
    {
      "cell_type": "code",
      "execution_count": null,
      "metadata": {
        "colab": {
          "base_uri": "https://localhost:8080/"
        },
        "id": "nv4QTnFL3egE",
        "outputId": "8eebe4fa-7d6f-4bbb-e374-498ee17506b9"
      },
      "outputs": [
        {
          "data": {
            "text/plain": [
              "0.5949142857142857"
            ]
          },
          "execution_count": 104,
          "metadata": {},
          "output_type": "execute_result"
        }
      ],
      "source": [
        "y_pred = net1.predict(attacked)\n",
        "accuracy_score(y_test, y_pred)"
      ]
    },
    {
      "cell_type": "code",
      "execution_count": null,
      "metadata": {
        "colab": {
          "base_uri": "https://localhost:8080/",
          "height": 1000
        },
        "id": "kqLk5OFWSlcW",
        "outputId": "f9821ee6-ec8c-405e-b8ec-e582bbc774ed"
      },
      "outputs": [
        {
          "data": {
            "image/png": "[encoded data removed]",
            "text/plain": [
              "<Figure size 2250x2250 with 1 Axes>"
            ]
          },
          "metadata": {},
          "output_type": "display_data"
        },
        {
          "data": {
            "image/png": "[encoded data removed]",
            "text/plain": [
              "<Figure size 2250x2250 with 1 Axes>"
            ]
          },
          "metadata": {},
          "output_type": "display_data"
        },
        {
          "data": {
            "image/png": "[encoded data removed]",
            "text/plain": [
              "<Figure size 2250x2250 with 1 Axes>"
            ]
          },
          "metadata": {},
          "output_type": "display_data"
        },
        {
          "data": {
            "image/png": "[encoded data removed]",
            "text/plain": [
              "<Figure size 2250x2250 with 1 Axes>"
            ]
          },
          "metadata": {},
          "output_type": "display_data"
        },
        {
          "data": {
            "image/png": "[encoded data removed]",
            "text/plain": [
              "<Figure size 2250x2250 with 1 Axes>"
            ]
          },
          "metadata": {},
          "output_type": "display_data"
        },
        {
          "data": {
            "image/png": "[encoded data removed]",
            "text/plain": [
              "<Figure size 2250x2250 with 1 Axes>"
            ]
          },
          "metadata": {},
          "output_type": "display_data"
        },
        {
          "data": {
            "image/png": "[encoded data removed]",
            "text/plain": [
              "<Figure size 2250x2250 with 1 Axes>"
            ]
          },
          "metadata": {},
          "output_type": "display_data"
        },
        {
          "data": {
            "image/png": "[encoded data removed]",
            "text/plain": [
              "<Figure size 2250x2250 with 1 Axes>"
            ]
          },
          "metadata": {},
          "output_type": "display_data"
        },
        {
          "data": {
            "image/png": "[encoded data removed]",
            "text/plain": [
              "<Figure size 2250x2250 with 1 Axes>"
            ]
          },
          "metadata": {},
          "output_type": "display_data"
        },
        {
          "data": {
            "image/png": "[encoded data removed]",
            "text/plain": [
              "<Figure size 2250x2250 with 1 Axes>"
            ]
          },
          "metadata": {},
          "output_type": "display_data"
        },
        {
          "data": {
            "image/png": "[encoded data removed]",
            "text/plain": [
              "<Figure size 2250x2250 with 1 Axes>"
            ]
          },
          "metadata": {},
          "output_type": "display_data"
        },
        {
          "data": {
            "image/png": "[encoded data removed]",
            "text/plain": [
              "<Figure size 2250x2250 with 1 Axes>"
            ]
          },
          "metadata": {},
          "output_type": "display_data"
        },
        {
          "data": {
            "image/png": "[encoded data removed]",
            "text/plain": [
              "<Figure size 2250x2250 with 1 Axes>"
            ]
          },
          "metadata": {},
          "output_type": "display_data"
        },
        {
          "data": {
            "image/png": "[encoded data removed]",
            "text/plain": [
              "<Figure size 2250x2250 with 1 Axes>"
            ]
          },
          "metadata": {},
          "output_type": "display_data"
        },
        {
          "data": {
            "image/png": "[encoded data removed]",
            "text/plain": [
              "<Figure size 2250x2250 with 1 Axes>"
            ]
          },
          "metadata": {},
          "output_type": "display_data"
        }
      ],
      "source": [
        "plot_example(X_test, y_test, n=15)"
      ]
    },
    {
      "cell_type": "code",
      "execution_count": null,
      "metadata": {
        "colab": {
          "base_uri": "https://localhost:8080/",
          "height": 1000
        },
        "id": "7wEYxWvTSoHW",
        "outputId": "b1be82ab-c2de-4657-d7fb-270261a16efa"
      },
      "outputs": [
        {
          "data": {
            "image/png": "[encoded data removed]",
            "text/plain": [
              "<Figure size 2250x2250 with 1 Axes>"
            ]
          },
          "metadata": {},
          "output_type": "display_data"
        },
        {
          "data": {
            "image/png": "[encoded data removed]",
            "text/plain": [
              "<Figure size 2250x2250 with 1 Axes>"
            ]
          },
          "metadata": {},
          "output_type": "display_data"
        },
        {
          "data": {
            "image/png": "[encoded data removed]",
            "text/plain": [
              "<Figure size 2250x2250 with 1 Axes>"
            ]
          },
          "metadata": {},
          "output_type": "display_data"
        },
        {
          "data": {
            "image/png": "[encoded data removed]",
            "text/plain": [
              "<Figure size 2250x2250 with 1 Axes>"
            ]
          },
          "metadata": {},
          "output_type": "display_data"
        },
        {
          "data": {
            "image/png": "[encoded data removed]",
            "text/plain": [
              "<Figure size 2250x2250 with 1 Axes>"
            ]
          },
          "metadata": {},
          "output_type": "display_data"
        },
        {
          "data": {
            "image/png": "[encoded data removed]",
            "text/plain": [
              "<Figure size 2250x2250 with 1 Axes>"
            ]
          },
          "metadata": {},
          "output_type": "display_data"
        },
        {
          "data": {
            "image/png": "[encoded data removed]",
            "text/plain": [
              "<Figure size 2250x2250 with 1 Axes>"
            ]
          },
          "metadata": {},
          "output_type": "display_data"
        },
        {
          "data": {
            "image/png": "[encoded data removed]",
            "text/plain": [
              "<Figure size 2250x2250 with 1 Axes>"
            ]
          },
          "metadata": {},
          "output_type": "display_data"
        },
        {
          "data": {
            "image/png": "[encoded data removed]",
            "text/plain": [
              "<Figure size 2250x2250 with 1 Axes>"
            ]
          },
          "metadata": {},
          "output_type": "display_data"
        },
        {
          "data": {
            "image/png": "[encoded data removed]",
            "text/plain": [
              "<Figure size 2250x2250 with 1 Axes>"
            ]
          },
          "metadata": {},
          "output_type": "display_data"
        },
        {
          "data": {
            "image/png": "[encoded data removed]",
            "text/plain": [
              "<Figure size 2250x2250 with 1 Axes>"
            ]
          },
          "metadata": {},
          "output_type": "display_data"
        },
        {
          "data": {
            "image/png": "[encoded data removed]",
            "text/plain": [
              "<Figure size 2250x2250 with 1 Axes>"
            ]
          },
          "metadata": {},
          "output_type": "display_data"
        },
        {
          "data": {
            "image/png": "[encoded data removed]",
            "text/plain": [
              "<Figure size 2250x2250 with 1 Axes>"
            ]
          },
          "metadata": {},
          "output_type": "display_data"
        },
        {
          "data": {
            "image/png": "[encoded data removed]",
            "text/plain": [
              "<Figure size 2250x2250 with 1 Axes>"
            ]
          },
          "metadata": {},
          "output_type": "display_data"
        },
        {
          "data": {
            "image/png": "[encoded data removed]",
            "text/plain": [
              "<Figure size 2250x2250 with 1 Axes>"
            ]
          },
          "metadata": {},
          "output_type": "display_data"
        }
      ],
      "source": [
        "plot_example(attacked, y_pred, n=15)"
      ]
    }
  ],
  "metadata": {
    "accelerator": "GPU",
    "colab": {
      "gpuType": "T4",
      "provenance": []
    },
    "kernelspec": {
      "display_name": "Python 3",
      "name": "python3"
    },
    "language_info": {
      "codemirror_mode": {
        "name": "ipython",
        "version": 3
      },
      "file_extension": ".py",
      "mimetype": "text/x-python",
      "name": "python",
      "nbconvert_exporter": "python",
      "pygments_lexer": "ipython3",
      "version": "3.7.13 (default, Mar 28 2022, 08:03:21) [MSC v.1916 64 bit (AMD64)]"
    },
    "vscode": {
      "interpreter": {
        "hash": "bd97b8bffa4d3737e84826bc3d37be3046061822757ce35137ab82ad4c5a2016"
      }
    }
  },
  "nbformat": 4,
  "nbformat_minor": 0
}
