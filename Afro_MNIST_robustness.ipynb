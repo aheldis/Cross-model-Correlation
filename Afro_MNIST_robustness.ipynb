{
  "cells": [
    {
      "cell_type": "markdown",
      "metadata": {
        "id": "DJsUjs19_v63"
      },
      "source": [
        "# Afro-MNIST with SciKit-Learn and skorch"
      ]
    },
    {
      "cell_type": "code",
      "execution_count": null,
      "metadata": {
        "id": "8qYGNO2S_v6_"
      },
      "outputs": [],
      "source": [
        "import subprocess\n",
        "\n",
        "# Installation on Google Colab\n",
        "try:\n",
        "    import google.colab\n",
        "    subprocess.run(['python', '-m', 'pip', 'install', 'skorch' , 'torch'])\n",
        "except ImportError:\n",
        "    pass"
      ]
    },
    {
      "cell_type": "code",
      "execution_count": null,
      "metadata": {
        "id": "Gj0pvjxT_v7G"
      },
      "outputs": [],
      "source": [
        "from sklearn.datasets import fetch_openml\n",
        "from sklearn.model_selection import train_test_split\n",
        "import numpy as np\n",
        "import matplotlib.pyplot as plt"
      ]
    },
    {
      "cell_type": "markdown",
      "metadata": {
        "id": "mPz6Bjqw_v7H"
      },
      "source": [
        "## Loading Data"
      ]
    },
    {
      "cell_type": "code",
      "source": [
        "!gdown 1GwzlZh15WOwEPcadkn0DHRbiQH9FuQzr"
      ],
      "metadata": {
        "colab": {
          "base_uri": "https://localhost:8080/"
        },
        "id": "Q9nSDUP6b27q",
        "outputId": "23fba627-17d7-4547-80c1-dbe56d4249ef"
      },
      "execution_count": null,
      "outputs": [
        {
          "output_type": "stream",
          "name": "stdout",
          "text": [
            "Downloading...\n",
            "From (original): https://drive.google.com/uc?id=1GwzlZh15WOwEPcadkn0DHRbiQH9FuQzr\n",
            "From (redirected): https://drive.google.com/uc?id=1GwzlZh15WOwEPcadkn0DHRbiQH9FuQzr&confirm=t&uuid=1c67fae0-bb9d-47c8-b40f-6f4316fdea67\n",
            "To: /content/Afro-MNIST.zip\n",
            "100% 108M/108M [00:01<00:00, 73.4MB/s]\n"
          ]
        }
      ]
    },
    {
      "cell_type": "code",
      "source": [
        "!unzip Afro-MNIST.zip"
      ],
      "metadata": {
        "colab": {
          "base_uri": "https://localhost:8080/"
        },
        "id": "jRvF3wWF6reS",
        "outputId": "d436a859-4d8f-4071-af51-85a62e08f875"
      },
      "execution_count": null,
      "outputs": [
        {
          "output_type": "stream",
          "name": "stdout",
          "text": [
            "Archive:  Afro-MNIST.zip\n",
            "  inflating: Ethiopic/Ethiopic_MNIST_X_test.npy  \n",
            "  inflating: Ethiopic/Ethiopic_MNIST_X_train.npy  \n",
            "  inflating: Ethiopic/Ethiopic_MNIST_y_test.npy  \n",
            "  inflating: Ethiopic/Ethiopic_MNIST_y_train.npy  \n",
            "  inflating: NKo/NKo_MNIST_X_test.npy  \n",
            "  inflating: NKo/NKo_MNIST_X_train.npy  \n",
            "  inflating: NKo/NKo_MNIST_y_test.npy  \n",
            "  inflating: NKo/NKo_MNIST_y_train.npy  \n",
            "  inflating: Osmanya/Osmanya_MNIST_X_test.npy  \n",
            "  inflating: Osmanya/Osmanya_MNIST_X_train.npy  \n",
            "  inflating: Osmanya/Osmanya_MNIST_y_test.npy  \n",
            "  inflating: Osmanya/Osmanya_MNIST_y_train.npy  \n",
            "  inflating: Vai/Vai_MNIST_X_test.npy  \n",
            "  inflating: Vai/Vai_MNIST_X_train.npy  \n",
            "  inflating: Vai/Vai_MNIST_y_test.npy  \n",
            "  inflating: Vai/Vai_MNIST_y_train.npy  \n"
          ]
        }
      ]
    },
    {
      "cell_type": "code",
      "source": [
        "cd Ethiopic"
      ],
      "metadata": {
        "colab": {
          "base_uri": "https://localhost:8080/"
        },
        "id": "wFjVkI5V6tyO",
        "outputId": "cf6e23de-9b5b-4325-c7ac-6ecb87709765"
      },
      "execution_count": null,
      "outputs": [
        {
          "output_type": "stream",
          "name": "stdout",
          "text": [
            "/content/Ethiopic\n"
          ]
        }
      ]
    },
    {
      "cell_type": "code",
      "execution_count": null,
      "metadata": {
        "id": "plXmcsp2_v7b"
      },
      "outputs": [],
      "source": [
        "X_train = np.load(\"Ethiopic_MNIST_X_train.npy\")\n",
        "y_train = np.load(\"Ethiopic_MNIST_y_train.npy\").astype('int64')\n",
        "X_test  = np.load(\"Ethiopic_MNIST_X_test.npy\")\n",
        "y_test  = np.load(\"Ethiopic_MNIST_y_test.npy\").astype('int64')\n",
        "img_rows, img_cols = 28, 28\n",
        "\n",
        "X_train = X_train.reshape(X_train.shape[0], img_rows, img_cols)\n",
        "X_test = X_test.reshape(X_test.shape[0], img_rows, img_cols)\n",
        "input_shape = (img_rows, img_cols, 1)\n",
        "\n",
        "X_train = X_train.astype('float32')\n",
        "X_test = X_test.astype('float32')\n",
        "X_train /= 255\n",
        "X_test /= 255"
      ]
    },
    {
      "cell_type": "code",
      "source": [
        "X_train[0].shape, X_test[0].shape"
      ],
      "metadata": {
        "colab": {
          "base_uri": "https://localhost:8080/"
        },
        "id": "s0BntHiRozyz",
        "outputId": "89a88025-57c8-4a48-a953-0d239e109c5c"
      },
      "execution_count": null,
      "outputs": [
        {
          "output_type": "execute_result",
          "data": {
            "text/plain": [
              "((28, 28), (28, 28))"
            ]
          },
          "metadata": {},
          "execution_count": 7
        }
      ]
    },
    {
      "cell_type": "code",
      "source": [
        "X_train = X_train.reshape((X_train.shape[0], 28*28))\n",
        "X_test = X_test.reshape((X_test.shape[0], 28*28))"
      ],
      "metadata": {
        "id": "P21ad5xAWrG0"
      },
      "execution_count": null,
      "outputs": []
    },
    {
      "cell_type": "markdown",
      "metadata": {
        "id": "6EKEvbuP_v7c"
      },
      "source": [
        "### Print a selection of training images and their labels"
      ]
    },
    {
      "cell_type": "code",
      "execution_count": null,
      "metadata": {
        "id": "C9muXJPC_v7d"
      },
      "outputs": [],
      "source": [
        "def plot_example(X, y, n=5):\n",
        "    \"\"\"Plot the first 5 images and their labels in a row.\"\"\"\n",
        "    for i, (img, y) in enumerate(zip(X[:n].reshape(n, 28, 28), y[:n])):\n",
        "        plt.figure(figsize=(1.5 * n, 1.5 * n))\n",
        "        plt.subplot(1, n, 1 + i)\n",
        "        plt.imshow(img)\n",
        "        plt.xticks([])\n",
        "        plt.yticks([])\n",
        "        plt.title(y)"
      ]
    },
    {
      "cell_type": "code",
      "execution_count": null,
      "metadata": {
        "id": "h2-R1-Df_v7e",
        "outputId": "96654e7d-0dc1-41eb-ced8-9c36f12ac449",
        "colab": {
          "base_uri": "https://localhost:8080/",
          "height": 727
        }
      },
      "outputs": [
        {
          "output_type": "display_data",
          "data": {
            "text/plain": [
              "<Figure size 750x750 with 1 Axes>"
            ],
            "image/png": "[encoded data removed]"
          },
          "metadata": {}
        },
        {
          "output_type": "display_data",
          "data": {
            "text/plain": [
              "<Figure size 750x750 with 1 Axes>"
            ],
            "image/png": "[encoded data removed]"
          },
          "metadata": {}
        },
        {
          "output_type": "display_data",
          "data": {
            "text/plain": [
              "<Figure size 750x750 with 1 Axes>"
            ],
            "image/png": "[encoded data removed]"
          },
          "metadata": {}
        },
        {
          "output_type": "display_data",
          "data": {
            "text/plain": [
              "<Figure size 750x750 with 1 Axes>"
            ],
            "image/png": "[encoded data removed]"
          },
          "metadata": {}
        },
        {
          "output_type": "display_data",
          "data": {
            "text/plain": [
              "<Figure size 750x750 with 1 Axes>"
            ],
            "image/png": "[encoded data removed]"
          },
          "metadata": {}
        }
      ],
      "source": [
        "plot_example(X_train, y_train)"
      ]
    },
    {
      "cell_type": "markdown",
      "metadata": {
        "id": "YQvC-rWf_v7f"
      },
      "source": [
        "## Build Neural Network with PyTorch"
      ]
    },
    {
      "cell_type": "code",
      "execution_count": null,
      "metadata": {
        "id": "5PG7R0W8_v7f"
      },
      "outputs": [],
      "source": [
        "import torch\n",
        "from torch import nn\n",
        "import torch.nn.functional as F\n",
        "from sklearn.metrics import accuracy_score\n",
        "from skorch import NeuralNetClassifier"
      ]
    },
    {
      "cell_type": "code",
      "execution_count": null,
      "metadata": {
        "id": "NUjWrGBP_v7g"
      },
      "outputs": [],
      "source": [
        "device = 'cuda' if torch.cuda.is_available() else 'cpu'"
      ]
    },
    {
      "cell_type": "code",
      "source": [
        "class Cnn(nn.Module):\n",
        "    def __init__(self, dropout=0.5):\n",
        "        super(Cnn, self).__init__()\n",
        "        self.conv1 = nn.Conv2d(1, 32, kernel_size=3)\n",
        "        self.conv2 = nn.Conv2d(32, 64, kernel_size=3)\n",
        "        self.conv2_drop = nn.Dropout2d(p=dropout)\n",
        "        self.fc1 = nn.Linear(1600, 100) # 1600 = number channels * width * height\n",
        "        self.fc2 = nn.Linear(100, 10)\n",
        "        self.fc1_drop = nn.Dropout(p=dropout)\n",
        "\n",
        "    def forward(self, x, eval=False):\n",
        "\n",
        "        outputs = []\n",
        "        x = x.reshape((x.shape[0], 1, 28, 28))\n",
        "\n",
        "        x = torch.relu(F.max_pool2d(self.conv1(x), 2))\n",
        "        outputs.append(x)\n",
        "        x = torch.relu(F.max_pool2d(self.conv2_drop(self.conv2(x)), 2))\n",
        "        outputs.append(x)\n",
        "\n",
        "        # flatten over channel, height and width = 1600\n",
        "        x = x.view(-1, x.size(1) * x.size(2) * x.size(3))\n",
        "\n",
        "        x = torch.relu(self.fc1_drop(self.fc1(x)))\n",
        "        x = torch.softmax(self.fc2(x), dim=-1)\n",
        "\n",
        "        Ts = None\n",
        "        layers = None\n",
        "        layer_num = 0\n",
        "        if eval:\n",
        "          for X in outputs:\n",
        "            X = X.reshape((X.shape[0], np.prod(X.shape) // X.shape[0]))\n",
        "            Ts = torch.cat((Ts, X), 1) if Ts is not None else X\n",
        "            l = torch.ones_like(X) * layer_num\n",
        "            layers = torch.cat((layers, l), 1) if layers is not None else l\n",
        "            layer_num += 1\n",
        "          return x, Ts, layers\n",
        "\n",
        "        return x\n"
      ],
      "metadata": {
        "id": "OmIJpGkVJdQp"
      },
      "execution_count": null,
      "outputs": []
    },
    {
      "cell_type": "code",
      "source": [
        "\n",
        "torch.manual_seed(0)\n",
        "\n",
        "module = Cnn()\n",
        "cnn = NeuralNetClassifier(\n",
        "    module,\n",
        "    max_epochs=3,\n",
        "    lr=0.002,\n",
        "    optimizer=torch.optim.Adam,\n",
        "    device=device,\n",
        ")"
      ],
      "metadata": {
        "id": "mmGB0DCMJd2n"
      },
      "execution_count": null,
      "outputs": []
    },
    {
      "cell_type": "code",
      "source": [
        "adversaries_x = torch.tensor(X_test).to(device)\n",
        "adversaries_y = torch.tensor(y_test).to(device)\n",
        "epsilon = 10 / 255"
      ],
      "metadata": {
        "id": "qOyIb7eEJfZl"
      },
      "execution_count": null,
      "outputs": []
    },
    {
      "cell_type": "code",
      "source": [
        "step = 500\n",
        "for i in range(10):\n",
        "  adversaries_x = adversaries_x.to(device)\n",
        "  cnn.fit(adversaries_x, adversaries_y)\n",
        "  loss = nn.CrossEntropyLoss()\n",
        "  inp = adversaries_x\n",
        "  inp.requires_grad = True\n",
        "  for j in range(0, inp.shape[0], step):\n",
        "    module.eval()\n",
        "    out = cnn.module(inp[j:j + step])\n",
        "    loss_val = loss(out, torch.tensor(adversaries_y[j:j + step]).to(device))\n",
        "    loss_val.backward()\n",
        "    delta = epsilon * torch.sign(inp.grad.detach()[j:j + step])\n",
        "    if j == 0:\n",
        "      adversaries_x = torch.clamp(inp.detach()[j:j + step] + delta, 0.0, 1)\n",
        "    else:\n",
        "      adversaries_x = torch.cat((adversaries_x.detach(), torch.clamp(inp.detach()[j:j + step] + delta, 0.0, 1)), 0)\n",
        "attacked = adversaries_x.cpu().detach().numpy()"
      ],
      "metadata": {
        "colab": {
          "base_uri": "https://localhost:8080/"
        },
        "id": "FUAO8S3kJhST",
        "outputId": "0d1c4a8e-9771-4745-82f7-6a35c576f188"
      },
      "execution_count": null,
      "outputs": [
        {
          "output_type": "stream",
          "name": "stdout",
          "text": [
            "  epoch    train_loss    valid_acc    valid_loss     dur\n",
            "-------  ------------  -----------  ------------  ------\n",
            "      1        \u001b[36m1.1269\u001b[0m       \u001b[32m0.9745\u001b[0m        \u001b[35m0.1084\u001b[0m  1.3589\n",
            "      2        \u001b[36m0.1505\u001b[0m       \u001b[32m0.9915\u001b[0m        \u001b[35m0.0271\u001b[0m  0.3250\n",
            "      3        \u001b[36m0.0863\u001b[0m       \u001b[32m0.9965\u001b[0m        \u001b[35m0.0159\u001b[0m  0.3857\n",
            "Re-initializing module.\n",
            "Re-initializing criterion.\n",
            "Re-initializing optimizer.\n"
          ]
        },
        {
          "output_type": "stream",
          "name": "stderr",
          "text": [
            "<ipython-input-16-afb6d1902390>:11: UserWarning: To copy construct from a tensor, it is recommended to use sourceTensor.clone().detach() or sourceTensor.clone().detach().requires_grad_(True), rather than torch.tensor(sourceTensor).\n",
            "  loss_val = loss(out, torch.tensor(adversaries_y[j:j + step]).to(device))\n"
          ]
        },
        {
          "output_type": "stream",
          "name": "stdout",
          "text": [
            "  epoch    train_loss    valid_acc    valid_loss     dur\n",
            "-------  ------------  -----------  ------------  ------\n",
            "      1        \u001b[36m0.1919\u001b[0m       \u001b[32m0.9755\u001b[0m        \u001b[35m0.0725\u001b[0m  0.3931\n",
            "      2        \u001b[36m0.1243\u001b[0m       \u001b[32m0.9845\u001b[0m        \u001b[35m0.0412\u001b[0m  0.4035\n",
            "      3        \u001b[36m0.0883\u001b[0m       \u001b[32m0.9860\u001b[0m        \u001b[35m0.0357\u001b[0m  0.4288\n",
            "Re-initializing module.\n",
            "Re-initializing criterion.\n",
            "Re-initializing optimizer.\n"
          ]
        },
        {
          "output_type": "stream",
          "name": "stderr",
          "text": [
            "<ipython-input-16-afb6d1902390>:11: UserWarning: To copy construct from a tensor, it is recommended to use sourceTensor.clone().detach() or sourceTensor.clone().detach().requires_grad_(True), rather than torch.tensor(sourceTensor).\n",
            "  loss_val = loss(out, torch.tensor(adversaries_y[j:j + step]).to(device))\n"
          ]
        },
        {
          "output_type": "stream",
          "name": "stdout",
          "text": [
            "  epoch    train_loss    valid_acc    valid_loss     dur\n",
            "-------  ------------  -----------  ------------  ------\n",
            "      1        \u001b[36m0.2692\u001b[0m       \u001b[32m0.9525\u001b[0m        \u001b[35m0.1226\u001b[0m  0.4399\n",
            "      2        \u001b[36m0.1752\u001b[0m       \u001b[32m0.9635\u001b[0m        \u001b[35m0.0925\u001b[0m  0.3229\n",
            "      3        \u001b[36m0.1425\u001b[0m       \u001b[32m0.9720\u001b[0m        \u001b[35m0.0701\u001b[0m  0.3108\n",
            "Re-initializing module.\n",
            "Re-initializing criterion.\n",
            "Re-initializing optimizer.\n"
          ]
        },
        {
          "output_type": "stream",
          "name": "stderr",
          "text": [
            "<ipython-input-16-afb6d1902390>:11: UserWarning: To copy construct from a tensor, it is recommended to use sourceTensor.clone().detach() or sourceTensor.clone().detach().requires_grad_(True), rather than torch.tensor(sourceTensor).\n",
            "  loss_val = loss(out, torch.tensor(adversaries_y[j:j + step]).to(device))\n"
          ]
        },
        {
          "output_type": "stream",
          "name": "stdout",
          "text": [
            "  epoch    train_loss    valid_acc    valid_loss     dur\n",
            "-------  ------------  -----------  ------------  ------\n",
            "      1        \u001b[36m0.3787\u001b[0m       \u001b[32m0.9155\u001b[0m        \u001b[35m0.2007\u001b[0m  0.3215\n",
            "      2        \u001b[36m0.2707\u001b[0m       \u001b[32m0.9370\u001b[0m        \u001b[35m0.1520\u001b[0m  0.3097\n",
            "      3        \u001b[36m0.2218\u001b[0m       \u001b[32m0.9565\u001b[0m        \u001b[35m0.1143\u001b[0m  0.3085\n",
            "Re-initializing module.\n",
            "Re-initializing criterion.\n",
            "Re-initializing optimizer.\n"
          ]
        },
        {
          "output_type": "stream",
          "name": "stderr",
          "text": [
            "<ipython-input-16-afb6d1902390>:11: UserWarning: To copy construct from a tensor, it is recommended to use sourceTensor.clone().detach() or sourceTensor.clone().detach().requires_grad_(True), rather than torch.tensor(sourceTensor).\n",
            "  loss_val = loss(out, torch.tensor(adversaries_y[j:j + step]).to(device))\n"
          ]
        },
        {
          "output_type": "stream",
          "name": "stdout",
          "text": [
            "  epoch    train_loss    valid_acc    valid_loss     dur\n",
            "-------  ------------  -----------  ------------  ------\n",
            "      1        \u001b[36m0.4886\u001b[0m       \u001b[32m0.8815\u001b[0m        \u001b[35m0.2991\u001b[0m  0.3130\n",
            "      2        \u001b[36m0.3878\u001b[0m       \u001b[32m0.8980\u001b[0m        \u001b[35m0.2510\u001b[0m  0.3063\n",
            "      3        \u001b[36m0.3255\u001b[0m       \u001b[32m0.9170\u001b[0m        \u001b[35m0.2015\u001b[0m  0.3158\n",
            "Re-initializing module.\n",
            "Re-initializing criterion.\n",
            "Re-initializing optimizer.\n"
          ]
        },
        {
          "output_type": "stream",
          "name": "stderr",
          "text": [
            "<ipython-input-16-afb6d1902390>:11: UserWarning: To copy construct from a tensor, it is recommended to use sourceTensor.clone().detach() or sourceTensor.clone().detach().requires_grad_(True), rather than torch.tensor(sourceTensor).\n",
            "  loss_val = loss(out, torch.tensor(adversaries_y[j:j + step]).to(device))\n"
          ]
        },
        {
          "output_type": "stream",
          "name": "stdout",
          "text": [
            "  epoch    train_loss    valid_acc    valid_loss     dur\n",
            "-------  ------------  -----------  ------------  ------\n",
            "      1        \u001b[36m0.6105\u001b[0m       \u001b[32m0.8165\u001b[0m        \u001b[35m0.4058\u001b[0m  0.3172\n",
            "      2        \u001b[36m0.5118\u001b[0m       \u001b[32m0.8565\u001b[0m        \u001b[35m0.3422\u001b[0m  0.3079\n",
            "      3        \u001b[36m0.4313\u001b[0m       \u001b[32m0.8790\u001b[0m        \u001b[35m0.3004\u001b[0m  0.3170\n",
            "Re-initializing module.\n",
            "Re-initializing criterion.\n",
            "Re-initializing optimizer.\n"
          ]
        },
        {
          "output_type": "stream",
          "name": "stderr",
          "text": [
            "<ipython-input-16-afb6d1902390>:11: UserWarning: To copy construct from a tensor, it is recommended to use sourceTensor.clone().detach() or sourceTensor.clone().detach().requires_grad_(True), rather than torch.tensor(sourceTensor).\n",
            "  loss_val = loss(out, torch.tensor(adversaries_y[j:j + step]).to(device))\n"
          ]
        },
        {
          "output_type": "stream",
          "name": "stdout",
          "text": [
            "  epoch    train_loss    valid_acc    valid_loss     dur\n",
            "-------  ------------  -----------  ------------  ------\n",
            "      1        \u001b[36m0.7348\u001b[0m       \u001b[32m0.7665\u001b[0m        \u001b[35m0.5199\u001b[0m  0.3090\n",
            "      2        \u001b[36m0.6343\u001b[0m       \u001b[32m0.8025\u001b[0m        \u001b[35m0.4708\u001b[0m  0.3149\n",
            "      3        \u001b[36m0.5717\u001b[0m       \u001b[32m0.8230\u001b[0m        \u001b[35m0.4175\u001b[0m  0.3082\n",
            "Re-initializing module.\n",
            "Re-initializing criterion.\n",
            "Re-initializing optimizer.\n"
          ]
        },
        {
          "output_type": "stream",
          "name": "stderr",
          "text": [
            "<ipython-input-16-afb6d1902390>:11: UserWarning: To copy construct from a tensor, it is recommended to use sourceTensor.clone().detach() or sourceTensor.clone().detach().requires_grad_(True), rather than torch.tensor(sourceTensor).\n",
            "  loss_val = loss(out, torch.tensor(adversaries_y[j:j + step]).to(device))\n"
          ]
        },
        {
          "output_type": "stream",
          "name": "stdout",
          "text": [
            "  epoch    train_loss    valid_acc    valid_loss     dur\n",
            "-------  ------------  -----------  ------------  ------\n",
            "      1        \u001b[36m0.8639\u001b[0m       \u001b[32m0.7055\u001b[0m        \u001b[35m0.6643\u001b[0m  0.3225\n",
            "      2        \u001b[36m0.7585\u001b[0m       \u001b[32m0.7430\u001b[0m        \u001b[35m0.6023\u001b[0m  0.3142\n",
            "      3        \u001b[36m0.7063\u001b[0m       \u001b[32m0.7595\u001b[0m        \u001b[35m0.5564\u001b[0m  0.3082\n",
            "Re-initializing module.\n",
            "Re-initializing criterion.\n",
            "Re-initializing optimizer.\n"
          ]
        },
        {
          "output_type": "stream",
          "name": "stderr",
          "text": [
            "<ipython-input-16-afb6d1902390>:11: UserWarning: To copy construct from a tensor, it is recommended to use sourceTensor.clone().detach() or sourceTensor.clone().detach().requires_grad_(True), rather than torch.tensor(sourceTensor).\n",
            "  loss_val = loss(out, torch.tensor(adversaries_y[j:j + step]).to(device))\n"
          ]
        },
        {
          "output_type": "stream",
          "name": "stdout",
          "text": [
            "  epoch    train_loss    valid_acc    valid_loss     dur\n",
            "-------  ------------  -----------  ------------  ------\n",
            "      1        \u001b[36m0.9762\u001b[0m       \u001b[32m0.6685\u001b[0m        \u001b[35m0.7818\u001b[0m  0.3132\n",
            "      2        \u001b[36m0.8819\u001b[0m       \u001b[32m0.6880\u001b[0m        \u001b[35m0.7193\u001b[0m  0.3202\n",
            "      3        \u001b[36m0.8225\u001b[0m       \u001b[32m0.7180\u001b[0m        \u001b[35m0.6715\u001b[0m  0.3028\n",
            "Re-initializing module.\n",
            "Re-initializing criterion.\n",
            "Re-initializing optimizer.\n"
          ]
        },
        {
          "output_type": "stream",
          "name": "stderr",
          "text": [
            "<ipython-input-16-afb6d1902390>:11: UserWarning: To copy construct from a tensor, it is recommended to use sourceTensor.clone().detach() or sourceTensor.clone().detach().requires_grad_(True), rather than torch.tensor(sourceTensor).\n",
            "  loss_val = loss(out, torch.tensor(adversaries_y[j:j + step]).to(device))\n"
          ]
        },
        {
          "output_type": "stream",
          "name": "stdout",
          "text": [
            "  epoch    train_loss    valid_acc    valid_loss     dur\n",
            "-------  ------------  -----------  ------------  ------\n",
            "      1        \u001b[36m1.0835\u001b[0m       \u001b[32m0.6090\u001b[0m        \u001b[35m0.9011\u001b[0m  0.3169\n",
            "      2        \u001b[36m0.9808\u001b[0m       \u001b[32m0.6280\u001b[0m        \u001b[35m0.8297\u001b[0m  0.3148\n",
            "      3        \u001b[36m0.9148\u001b[0m       \u001b[32m0.6605\u001b[0m        \u001b[35m0.7888\u001b[0m  0.3013\n"
          ]
        },
        {
          "output_type": "stream",
          "name": "stderr",
          "text": [
            "<ipython-input-16-afb6d1902390>:11: UserWarning: To copy construct from a tensor, it is recommended to use sourceTensor.clone().detach() or sourceTensor.clone().detach().requires_grad_(True), rather than torch.tensor(sourceTensor).\n",
            "  loss_val = loss(out, torch.tensor(adversaries_y[j:j + step]).to(device))\n"
          ]
        }
      ]
    },
    {
      "cell_type": "code",
      "source": [
        "mnist_dim = 28 * 28\n",
        "hidden_dims = [int(mnist_dim/8)]\n",
        "output_dim = 10"
      ],
      "metadata": {
        "id": "Kpr9Kbc3fl9_"
      },
      "execution_count": null,
      "outputs": []
    },
    {
      "cell_type": "code",
      "source": [
        "class ClassifierModule(nn.Module):\n",
        "    def __init__(\n",
        "            self,\n",
        "            input_dim=mnist_dim,\n",
        "            hidden_dims=hidden_dims,\n",
        "            output_dim=output_dim,\n",
        "            dropout=0.5,\n",
        "    ):\n",
        "        super(ClassifierModule, self).__init__()\n",
        "        self.dropout = nn.Dropout(dropout)\n",
        "        self.hidden = nn.ModuleList()\n",
        "        for i in range(len(hidden_dims)):\n",
        "            if i == 0:\n",
        "              self.hidden.append(nn.Linear(mnist_dim, hidden_dims[i]))\n",
        "            else:\n",
        "              self.hidden.append(nn.Linear(hidden_dims[i - 1], hidden_dims[i]))\n",
        "        self.output = nn.Linear(hidden_dims[-1], output_dim)\n",
        "\n",
        "    def forward(self, X, eval=False, **kwargs):\n",
        "        Ts = None\n",
        "        layers = None\n",
        "        layer_num = 0\n",
        "        for h in self.hidden:\n",
        "          X = F.relu(h(X))\n",
        "          if eval:\n",
        "            Ts = torch.cat((Ts, X), 1) if Ts is not None else X\n",
        "            l = torch.ones_like(X) * layer_num\n",
        "            layers = torch.cat((layers, l), 1) if layers is not None else l\n",
        "          layer_num += 1\n",
        "        X = self.dropout(X)\n",
        "        X = F.softmax(self.output(X), dim=-1)\n",
        "        if eval:\n",
        "          return X, Ts, layers\n",
        "        return X"
      ],
      "metadata": {
        "id": "TUzpzJwNfgN3"
      },
      "execution_count": null,
      "outputs": []
    },
    {
      "cell_type": "code",
      "execution_count": null,
      "metadata": {
        "id": "s0aDatqN_v7l"
      },
      "outputs": [],
      "source": [
        "from skorch import NeuralNetClassifier\n",
        "nets = []"
      ]
    },
    {
      "cell_type": "code",
      "execution_count": null,
      "metadata": {
        "id": "dOrCbBjk_v7m"
      },
      "outputs": [],
      "source": [
        "torch.manual_seed(0)\n",
        "\n",
        "net1 = NeuralNetClassifier(\n",
        "    ClassifierModule(mnist_dim, [100], output_dim),\n",
        "    max_epochs=20,\n",
        "    lr=0.1,\n",
        "    device=device,\n",
        ")"
      ]
    },
    {
      "cell_type": "code",
      "source": [
        "X_train.shape, y_train.shape, 3584*28, 2352*100, 28*28*3"
      ],
      "metadata": {
        "colab": {
          "base_uri": "https://localhost:8080/"
        },
        "id": "WSCvLHR0NBI4",
        "outputId": "9d96b5de-0fa9-4fe1-bafa-6e1a6725e364"
      },
      "execution_count": null,
      "outputs": [
        {
          "output_type": "execute_result",
          "data": {
            "text/plain": [
              "((60000, 784), (60000,), 100352, 235200, 2352)"
            ]
          },
          "metadata": {},
          "execution_count": 21
        }
      ]
    },
    {
      "cell_type": "code",
      "execution_count": null,
      "metadata": {
        "id": "8i_gnvPi_v7m",
        "outputId": "1017b602-aed2-4475-8362-393c00a00fde",
        "colab": {
          "base_uri": "https://localhost:8080/"
        }
      },
      "outputs": [
        {
          "output_type": "stream",
          "name": "stdout",
          "text": [
            "  epoch    train_loss    valid_acc    valid_loss     dur\n",
            "-------  ------------  -----------  ------------  ------\n",
            "      1        \u001b[36m0.5622\u001b[0m       \u001b[32m0.9805\u001b[0m        \u001b[35m0.0971\u001b[0m  1.1164\n",
            "      2        \u001b[36m0.1370\u001b[0m       \u001b[32m0.9868\u001b[0m        \u001b[35m0.0537\u001b[0m  1.4379\n",
            "      3        \u001b[36m0.0962\u001b[0m       \u001b[32m0.9884\u001b[0m        \u001b[35m0.0403\u001b[0m  1.4240\n",
            "      4        \u001b[36m0.0801\u001b[0m       \u001b[32m0.9897\u001b[0m        \u001b[35m0.0341\u001b[0m  1.0691\n",
            "      5        \u001b[36m0.0705\u001b[0m       \u001b[32m0.9905\u001b[0m        \u001b[35m0.0313\u001b[0m  1.0521\n",
            "      6        \u001b[36m0.0635\u001b[0m       0.9904        \u001b[35m0.0286\u001b[0m  1.0648\n",
            "      7        \u001b[36m0.0578\u001b[0m       0.9895        0.0292  1.0674\n",
            "      8        \u001b[36m0.0521\u001b[0m       \u001b[32m0.9908\u001b[0m        \u001b[35m0.0260\u001b[0m  1.0404\n",
            "      9        \u001b[36m0.0507\u001b[0m       \u001b[32m0.9916\u001b[0m        \u001b[35m0.0250\u001b[0m  1.0469\n",
            "     10        \u001b[36m0.0479\u001b[0m       0.9908        0.0259  1.0396\n",
            "     11        \u001b[36m0.0453\u001b[0m       \u001b[32m0.9918\u001b[0m        \u001b[35m0.0227\u001b[0m  1.0448\n",
            "     12        \u001b[36m0.0452\u001b[0m       \u001b[32m0.9922\u001b[0m        0.0229  1.0391\n",
            "     13        \u001b[36m0.0418\u001b[0m       \u001b[32m0.9926\u001b[0m        \u001b[35m0.0223\u001b[0m  1.3807\n",
            "     14        \u001b[36m0.0404\u001b[0m       0.9926        \u001b[35m0.0217\u001b[0m  1.4617\n",
            "     15        \u001b[36m0.0399\u001b[0m       0.9923        \u001b[35m0.0204\u001b[0m  1.0750\n",
            "     16        \u001b[36m0.0379\u001b[0m       0.9924        0.0207  1.0506\n",
            "     17        \u001b[36m0.0374\u001b[0m       0.9922        0.0215  1.0287\n",
            "     18        \u001b[36m0.0356\u001b[0m       \u001b[32m0.9930\u001b[0m        \u001b[35m0.0193\u001b[0m  1.0658\n",
            "     19        \u001b[36m0.0344\u001b[0m       0.9923        0.0214  1.0537\n",
            "     20        \u001b[36m0.0340\u001b[0m       0.9928        0.0195  1.0899\n"
          ]
        }
      ],
      "source": [
        "net1.fit(X_train, y_train)\n",
        "nets.append(net1)"
      ]
    },
    {
      "cell_type": "code",
      "execution_count": null,
      "metadata": {
        "id": "LCWachuM_v7o",
        "outputId": "2a3ec409-81d9-40c9-c697-3edea1f29d6e",
        "colab": {
          "base_uri": "https://localhost:8080/"
        }
      },
      "outputs": [
        {
          "output_type": "execute_result",
          "data": {
            "text/plain": [
              "0.9923"
            ]
          },
          "metadata": {},
          "execution_count": 23
        }
      ],
      "source": [
        "y_pred = net1.predict(X_test)\n",
        "accuracy_score(y_test, y_pred)"
      ]
    },
    {
      "cell_type": "code",
      "source": [
        "y_pred = net1.predict(attacked)\n",
        "accuracy_score(y_test, y_pred)"
      ],
      "metadata": {
        "colab": {
          "base_uri": "https://localhost:8080/"
        },
        "id": "LjPuWxptJrND",
        "outputId": "401524cb-7ab3-45cb-9662-f2e6418ca428"
      },
      "execution_count": null,
      "outputs": [
        {
          "output_type": "execute_result",
          "data": {
            "text/plain": [
              "0.4509"
            ]
          },
          "metadata": {},
          "execution_count": 24
        }
      ]
    },
    {
      "cell_type": "code",
      "source": [
        "hidden_dims = [60, 40]\n",
        "net2 = NeuralNetClassifier(ClassifierModule(mnist_dim, hidden_dims, output_dim), max_epochs=20, lr=0.1, device=device)\n",
        "net2.fit(X_train, y_train);\n",
        "nets.append(net2)"
      ],
      "metadata": {
        "colab": {
          "base_uri": "https://localhost:8080/"
        },
        "id": "BW7oUwIsefSx",
        "outputId": "85f85216-e740-4cee-cb5b-321172461a3c"
      },
      "execution_count": null,
      "outputs": [
        {
          "output_type": "stream",
          "name": "stdout",
          "text": [
            "  epoch    train_loss    valid_acc    valid_loss     dur\n",
            "-------  ------------  -----------  ------------  ------\n",
            "      1        \u001b[36m0.8916\u001b[0m       \u001b[32m0.9706\u001b[0m        \u001b[35m0.1333\u001b[0m  1.1456\n",
            "      2        \u001b[36m0.2468\u001b[0m       \u001b[32m0.9786\u001b[0m        \u001b[35m0.0722\u001b[0m  1.1133\n",
            "      3        \u001b[36m0.1719\u001b[0m       \u001b[32m0.9852\u001b[0m        \u001b[35m0.0447\u001b[0m  1.2855\n",
            "      4        \u001b[36m0.1405\u001b[0m       \u001b[32m0.9870\u001b[0m        \u001b[35m0.0375\u001b[0m  1.5598\n",
            "      5        \u001b[36m0.1210\u001b[0m       0.9862        \u001b[35m0.0367\u001b[0m  1.2369\n",
            "      6        \u001b[36m0.1040\u001b[0m       \u001b[32m0.9892\u001b[0m        \u001b[35m0.0297\u001b[0m  1.1031\n",
            "      7        \u001b[36m0.0938\u001b[0m       \u001b[32m0.9897\u001b[0m        \u001b[35m0.0284\u001b[0m  1.1351\n",
            "      8        \u001b[36m0.0881\u001b[0m       \u001b[32m0.9900\u001b[0m        \u001b[35m0.0282\u001b[0m  1.1236\n",
            "      9        \u001b[36m0.0824\u001b[0m       \u001b[32m0.9912\u001b[0m        \u001b[35m0.0259\u001b[0m  1.1108\n",
            "     10        \u001b[36m0.0746\u001b[0m       \u001b[32m0.9917\u001b[0m        \u001b[35m0.0237\u001b[0m  1.1062\n",
            "     11        \u001b[36m0.0714\u001b[0m       \u001b[32m0.9918\u001b[0m        \u001b[35m0.0229\u001b[0m  1.1204\n",
            "     12        \u001b[36m0.0674\u001b[0m       0.9917        0.0262  1.1196\n",
            "     13        \u001b[36m0.0636\u001b[0m       0.9912        0.0270  1.1206\n",
            "     14        \u001b[36m0.0595\u001b[0m       \u001b[32m0.9925\u001b[0m        0.0239  1.4535\n",
            "     15        0.0596       0.9925        \u001b[35m0.0223\u001b[0m  1.4428\n",
            "     16        \u001b[36m0.0562\u001b[0m       \u001b[32m0.9930\u001b[0m        \u001b[35m0.0200\u001b[0m  1.1575\n",
            "     17        \u001b[36m0.0526\u001b[0m       \u001b[32m0.9934\u001b[0m        0.0201  1.1152\n",
            "     18        \u001b[36m0.0522\u001b[0m       0.9932        0.0205  1.1397\n",
            "     19        \u001b[36m0.0514\u001b[0m       0.9926        0.0239  1.1630\n",
            "     20        0.0514       0.9932        \u001b[35m0.0194\u001b[0m  1.1302\n"
          ]
        }
      ]
    },
    {
      "cell_type": "code",
      "source": [
        "y_pred = net2.predict(X_test)\n",
        "accuracy_score(y_test, y_pred)"
      ],
      "metadata": {
        "colab": {
          "base_uri": "https://localhost:8080/"
        },
        "id": "oOJu7u0DefNS",
        "outputId": "52aaebb4-1d6c-46c4-ad50-85dab412a0db"
      },
      "execution_count": null,
      "outputs": [
        {
          "output_type": "execute_result",
          "data": {
            "text/plain": [
              "0.9943"
            ]
          },
          "metadata": {},
          "execution_count": 26
        }
      ]
    },
    {
      "cell_type": "code",
      "source": [
        "y_pred = net2.predict(attacked)\n",
        "accuracy_score(y_test, y_pred)"
      ],
      "metadata": {
        "colab": {
          "base_uri": "https://localhost:8080/"
        },
        "id": "qJAF1uDpJsyL",
        "outputId": "dab12656-c1d4-450c-bd72-b02a6adc9c14"
      },
      "execution_count": null,
      "outputs": [
        {
          "output_type": "execute_result",
          "data": {
            "text/plain": [
              "0.4431"
            ]
          },
          "metadata": {},
          "execution_count": 27
        }
      ]
    },
    {
      "cell_type": "code",
      "source": [
        "hidden_dims = [40, 60]\n",
        "net3 = NeuralNetClassifier(ClassifierModule(mnist_dim, hidden_dims, output_dim), max_epochs=20, lr=0.1, device=device)\n",
        "net3.fit(X_train, y_train);\n",
        "nets.append(net3)"
      ],
      "metadata": {
        "colab": {
          "base_uri": "https://localhost:8080/"
        },
        "id": "8brVrmkFfBZN",
        "outputId": "8bc0ba71-bad8-4321-ad6a-d1d5278ee2d6"
      },
      "execution_count": null,
      "outputs": [
        {
          "output_type": "stream",
          "name": "stdout",
          "text": [
            "  epoch    train_loss    valid_acc    valid_loss     dur\n",
            "-------  ------------  -----------  ------------  ------\n",
            "      1        \u001b[36m0.7142\u001b[0m       \u001b[32m0.9707\u001b[0m        \u001b[35m0.0995\u001b[0m  1.2466\n",
            "      2        \u001b[36m0.1501\u001b[0m       \u001b[32m0.9821\u001b[0m        \u001b[35m0.0543\u001b[0m  1.1601\n",
            "      3        \u001b[36m0.1127\u001b[0m       \u001b[32m0.9856\u001b[0m        \u001b[35m0.0445\u001b[0m  1.1619\n",
            "      4        \u001b[36m0.0959\u001b[0m       \u001b[32m0.9868\u001b[0m        \u001b[35m0.0383\u001b[0m  1.5620\n",
            "      5        \u001b[36m0.0868\u001b[0m       0.9855        0.0404  1.4147\n",
            "      6        \u001b[36m0.0768\u001b[0m       \u001b[32m0.9881\u001b[0m        \u001b[35m0.0341\u001b[0m  1.1286\n",
            "      7        \u001b[36m0.0698\u001b[0m       \u001b[32m0.9888\u001b[0m        \u001b[35m0.0306\u001b[0m  1.1341\n",
            "      8        \u001b[36m0.0645\u001b[0m       \u001b[32m0.9896\u001b[0m        \u001b[35m0.0300\u001b[0m  1.1638\n",
            "      9        \u001b[36m0.0603\u001b[0m       \u001b[32m0.9899\u001b[0m        \u001b[35m0.0290\u001b[0m  1.1519\n",
            "     10        \u001b[36m0.0575\u001b[0m       \u001b[32m0.9912\u001b[0m        \u001b[35m0.0256\u001b[0m  1.1565\n",
            "     11        \u001b[36m0.0555\u001b[0m       0.9911        \u001b[35m0.0245\u001b[0m  1.1391\n",
            "     12        \u001b[36m0.0531\u001b[0m       0.9898        0.0297  1.1557\n",
            "     13        \u001b[36m0.0498\u001b[0m       0.9910        0.0255  1.1212\n",
            "     14        \u001b[36m0.0477\u001b[0m       \u001b[32m0.9915\u001b[0m        0.0248  1.4310\n",
            "     15        \u001b[36m0.0448\u001b[0m       \u001b[32m0.9917\u001b[0m        \u001b[35m0.0235\u001b[0m  1.5620\n",
            "     16        0.0450       0.9910        0.0250  1.4693\n",
            "     17        \u001b[36m0.0438\u001b[0m       0.9914        \u001b[35m0.0232\u001b[0m  1.1425\n",
            "     18        \u001b[36m0.0410\u001b[0m       0.9915        0.0234  1.1381\n",
            "     19        \u001b[36m0.0393\u001b[0m       0.9915        0.0257  1.1076\n",
            "     20        \u001b[36m0.0353\u001b[0m       0.9912        0.0256  1.1300\n"
          ]
        }
      ]
    },
    {
      "cell_type": "code",
      "source": [
        "y_pred = net3.predict(X_test)\n",
        "accuracy_score(y_test, y_pred)"
      ],
      "metadata": {
        "colab": {
          "base_uri": "https://localhost:8080/"
        },
        "id": "RPdX6V3RfbIO",
        "outputId": "e5e8de22-812c-4273-e355-3280a46cac0a"
      },
      "execution_count": null,
      "outputs": [
        {
          "output_type": "execute_result",
          "data": {
            "text/plain": [
              "0.9913"
            ]
          },
          "metadata": {},
          "execution_count": 29
        }
      ]
    },
    {
      "cell_type": "code",
      "source": [
        "y_pred = net3.predict(attacked)\n",
        "accuracy_score(y_test, y_pred)"
      ],
      "metadata": {
        "colab": {
          "base_uri": "https://localhost:8080/"
        },
        "id": "aNekBnFDJuUN",
        "outputId": "e225a592-d819-4af9-ee72-b5fc13737d11"
      },
      "execution_count": null,
      "outputs": [
        {
          "output_type": "execute_result",
          "data": {
            "text/plain": [
              "0.4447"
            ]
          },
          "metadata": {},
          "execution_count": 30
        }
      ]
    },
    {
      "cell_type": "code",
      "execution_count": null,
      "metadata": {
        "id": "XddXR1_a_v7p"
      },
      "outputs": [],
      "source": [
        "error_mask = y_pred != y_test"
      ]
    },
    {
      "cell_type": "code",
      "execution_count": null,
      "metadata": {
        "id": "hXlNTrlt_v7q",
        "outputId": "a0cfc6d2-5f9a-4bbb-c20e-4b99c2311bb1",
        "colab": {
          "base_uri": "https://localhost:8080/",
          "height": 727
        }
      },
      "outputs": [
        {
          "output_type": "display_data",
          "data": {
            "text/plain": [
              "<Figure size 750x750 with 1 Axes>"
            ],
            "image/png": "[encoded data removed]"
          },
          "metadata": {}
        },
        {
          "output_type": "display_data",
          "data": {
            "text/plain": [
              "<Figure size 750x750 with 1 Axes>"
            ],
            "image/png": "[encoded data removed]"
          },
          "metadata": {}
        },
        {
          "output_type": "display_data",
          "data": {
            "text/plain": [
              "<Figure size 750x750 with 1 Axes>"
            ],
            "image/png": "[encoded data removed]"
          },
          "metadata": {}
        },
        {
          "output_type": "display_data",
          "data": {
            "text/plain": [
              "<Figure size 750x750 with 1 Axes>"
            ],
            "image/png": "[encoded data removed]"
          },
          "metadata": {}
        },
        {
          "output_type": "display_data",
          "data": {
            "text/plain": [
              "<Figure size 750x750 with 1 Axes>"
            ],
            "image/png": "[encoded data removed]"
          },
          "metadata": {}
        }
      ],
      "source": [
        "plot_example(X_test[error_mask], y_pred[error_mask])"
      ]
    },
    {
      "cell_type": "code",
      "source": [
        "[mnist_dim//4, mnist_dim//2]"
      ],
      "metadata": {
        "colab": {
          "base_uri": "https://localhost:8080/"
        },
        "id": "EV9i52A1Ltos",
        "outputId": "4a462888-8db7-4435-8547-445c51455169"
      },
      "execution_count": null,
      "outputs": [
        {
          "output_type": "execute_result",
          "data": {
            "text/plain": [
              "[196, 392]"
            ]
          },
          "metadata": {},
          "execution_count": 33
        }
      ]
    },
    {
      "cell_type": "code",
      "source": [
        "hidden_dims = [50, 50]\n",
        "net4 = NeuralNetClassifier(ClassifierModule(mnist_dim, hidden_dims, output_dim), max_epochs=20, lr=0.1, device=device)\n",
        "net4.fit(X_train, y_train);\n",
        "nets.append(net4)"
      ],
      "metadata": {
        "colab": {
          "base_uri": "https://localhost:8080/"
        },
        "id": "uuq0j5qOS9cK",
        "outputId": "4af2538b-6348-44e5-a0fa-72ec203b2546"
      },
      "execution_count": null,
      "outputs": [
        {
          "output_type": "stream",
          "name": "stdout",
          "text": [
            "  epoch    train_loss    valid_acc    valid_loss     dur\n",
            "-------  ------------  -----------  ------------  ------\n",
            "      1        \u001b[36m0.7779\u001b[0m       \u001b[32m0.9683\u001b[0m        \u001b[35m0.1056\u001b[0m  1.1830\n",
            "      2        \u001b[36m0.1783\u001b[0m       \u001b[32m0.9842\u001b[0m        \u001b[35m0.0511\u001b[0m  1.1221\n",
            "      3        \u001b[36m0.1289\u001b[0m       \u001b[32m0.9862\u001b[0m        \u001b[35m0.0407\u001b[0m  1.2983\n",
            "      4        \u001b[36m0.1088\u001b[0m       \u001b[32m0.9880\u001b[0m        \u001b[35m0.0348\u001b[0m  1.5614\n",
            "      5        \u001b[36m0.0931\u001b[0m       \u001b[32m0.9884\u001b[0m        \u001b[35m0.0331\u001b[0m  1.2336\n",
            "      6        \u001b[36m0.0828\u001b[0m       \u001b[32m0.9897\u001b[0m        \u001b[35m0.0294\u001b[0m  1.1648\n",
            "      7        \u001b[36m0.0777\u001b[0m       0.9894        0.0304  1.1304\n",
            "      8        \u001b[36m0.0733\u001b[0m       \u001b[32m0.9902\u001b[0m        \u001b[35m0.0290\u001b[0m  1.1371\n",
            "      9        \u001b[36m0.0694\u001b[0m       \u001b[32m0.9915\u001b[0m        \u001b[35m0.0238\u001b[0m  1.1538\n",
            "     10        \u001b[36m0.0619\u001b[0m       \u001b[32m0.9918\u001b[0m        0.0252  1.1127\n",
            "     11        \u001b[36m0.0612\u001b[0m       0.9915        0.0256  1.1115\n",
            "     12        \u001b[36m0.0564\u001b[0m       0.9916        \u001b[35m0.0230\u001b[0m  1.1172\n",
            "     13        \u001b[36m0.0534\u001b[0m       0.9918        0.0245  1.1215\n",
            "     14        \u001b[36m0.0510\u001b[0m       \u001b[32m0.9922\u001b[0m        0.0231  1.5822\n",
            "     15        0.0512       \u001b[32m0.9929\u001b[0m        \u001b[35m0.0209\u001b[0m  1.3470\n",
            "     16        \u001b[36m0.0483\u001b[0m       0.9929        \u001b[35m0.0204\u001b[0m  1.0985\n",
            "     17        \u001b[36m0.0454\u001b[0m       \u001b[32m0.9930\u001b[0m        \u001b[35m0.0201\u001b[0m  1.1181\n",
            "     18        \u001b[36m0.0445\u001b[0m       0.9929        0.0219  1.1141\n",
            "     19        \u001b[36m0.0423\u001b[0m       0.9923        0.0221  1.1115\n",
            "     20        0.0424       0.9922        0.0226  1.1168\n"
          ]
        }
      ]
    },
    {
      "cell_type": "code",
      "source": [
        "y_pred = net4.predict(X_test)\n",
        "accuracy_score(y_test, y_pred)"
      ],
      "metadata": {
        "colab": {
          "base_uri": "https://localhost:8080/"
        },
        "id": "q1QSzz6g-9Fy",
        "outputId": "deb54bc8-1067-481a-c761-97d34019f638"
      },
      "execution_count": null,
      "outputs": [
        {
          "output_type": "execute_result",
          "data": {
            "text/plain": [
              "0.9922"
            ]
          },
          "metadata": {},
          "execution_count": 35
        }
      ]
    },
    {
      "cell_type": "code",
      "source": [
        "y_pred = net4.predict(attacked)\n",
        "accuracy_score(y_test, y_pred)"
      ],
      "metadata": {
        "colab": {
          "base_uri": "https://localhost:8080/"
        },
        "id": "vn25_ivbJwcs",
        "outputId": "4960ff4d-5e73-4476-dc55-62f20cafc21e"
      },
      "execution_count": null,
      "outputs": [
        {
          "output_type": "execute_result",
          "data": {
            "text/plain": [
              "0.4498"
            ]
          },
          "metadata": {},
          "execution_count": 36
        }
      ]
    },
    {
      "cell_type": "code",
      "source": [
        "hidden_dims = [20, 20, 20, 20, 20]\n",
        "net5 = NeuralNetClassifier(ClassifierModule(mnist_dim, hidden_dims, output_dim), max_epochs=20, lr=0.1, device=device)\n",
        "net5.fit(X_train, y_train);\n",
        "nets.append(net5)"
      ],
      "metadata": {
        "colab": {
          "base_uri": "https://localhost:8080/"
        },
        "id": "vCC7A8VmTAoX",
        "outputId": "525d51bf-def7-44cb-d398-6a69bb04ea0c"
      },
      "execution_count": null,
      "outputs": [
        {
          "output_type": "stream",
          "name": "stdout",
          "text": [
            "  epoch    train_loss    valid_acc    valid_loss     dur\n",
            "-------  ------------  -----------  ------------  ------\n",
            "      1        \u001b[36m2.3037\u001b[0m       \u001b[32m0.1000\u001b[0m        \u001b[35m2.3019\u001b[0m  1.3276\n",
            "      2        \u001b[36m2.2963\u001b[0m       \u001b[32m0.2223\u001b[0m        \u001b[35m2.2433\u001b[0m  1.2740\n",
            "      3        \u001b[36m1.9247\u001b[0m       \u001b[32m0.3468\u001b[0m        \u001b[35m1.6578\u001b[0m  1.5415\n",
            "      4        \u001b[36m1.4918\u001b[0m       \u001b[32m0.6458\u001b[0m        \u001b[35m1.1775\u001b[0m  1.8502\n",
            "      5        \u001b[36m1.1341\u001b[0m       \u001b[32m0.7750\u001b[0m        \u001b[35m0.7242\u001b[0m  1.3563\n",
            "      6        \u001b[36m0.8528\u001b[0m       \u001b[32m0.8393\u001b[0m        \u001b[35m0.5785\u001b[0m  1.3005\n",
            "      7        \u001b[36m0.7531\u001b[0m       \u001b[32m0.8874\u001b[0m        \u001b[35m0.4561\u001b[0m  1.2825\n",
            "      8        1.9126       0.4859        1.3605  1.2869\n",
            "      9        1.5046       0.7798        1.0384  1.3280\n",
            "     10        1.0029       \u001b[32m0.9253\u001b[0m        \u001b[35m0.4436\u001b[0m  1.3009\n",
            "     11        0.7570       0.7752        0.6007  1.3166\n",
            "     12        \u001b[36m0.6738\u001b[0m       \u001b[32m0.9742\u001b[0m        \u001b[35m0.2430\u001b[0m  1.5911\n",
            "     13        \u001b[36m0.6555\u001b[0m       \u001b[32m0.9778\u001b[0m        \u001b[35m0.2306\u001b[0m  1.7554\n",
            "     14        \u001b[36m0.6087\u001b[0m       0.9755        \u001b[35m0.2126\u001b[0m  1.2669\n",
            "     15        \u001b[36m0.5927\u001b[0m       \u001b[32m0.9798\u001b[0m        \u001b[35m0.2028\u001b[0m  1.2737\n",
            "     16        0.6040       \u001b[32m0.9828\u001b[0m        \u001b[35m0.1928\u001b[0m  1.3070\n",
            "     17        \u001b[36m0.5655\u001b[0m       \u001b[32m0.9837\u001b[0m        \u001b[35m0.1810\u001b[0m  1.2774\n",
            "     18        \u001b[36m0.5630\u001b[0m       \u001b[32m0.9839\u001b[0m        \u001b[35m0.1801\u001b[0m  1.3179\n",
            "     19        \u001b[36m0.5286\u001b[0m       \u001b[32m0.9840\u001b[0m        \u001b[35m0.1676\u001b[0m  1.3938\n",
            "     20        \u001b[36m0.4507\u001b[0m       \u001b[32m0.9845\u001b[0m        \u001b[35m0.1451\u001b[0m  1.3261\n"
          ]
        }
      ]
    },
    {
      "cell_type": "code",
      "source": [
        "y_pred = net5.predict(X_test)\n",
        "accuracy_score(y_test, y_pred)"
      ],
      "metadata": {
        "colab": {
          "base_uri": "https://localhost:8080/"
        },
        "id": "ioEIKLGP--vq",
        "outputId": "11039303-ab7f-4492-ab40-e4af93d63096"
      },
      "execution_count": null,
      "outputs": [
        {
          "output_type": "execute_result",
          "data": {
            "text/plain": [
              "0.9853"
            ]
          },
          "metadata": {},
          "execution_count": 38
        }
      ]
    },
    {
      "cell_type": "code",
      "source": [
        "y_pred = net5.predict(attacked)\n",
        "accuracy_score(y_test, y_pred)"
      ],
      "metadata": {
        "colab": {
          "base_uri": "https://localhost:8080/"
        },
        "id": "FSJDxb5tJx32",
        "outputId": "51bdb34d-c815-462b-8ab8-301fbb429ec7"
      },
      "execution_count": null,
      "outputs": [
        {
          "output_type": "execute_result",
          "data": {
            "text/plain": [
              "0.403"
            ]
          },
          "metadata": {},
          "execution_count": 39
        }
      ]
    },
    {
      "cell_type": "code",
      "source": [
        "def get_correlation(module1, module2, X):\n",
        "  Ts1, layers1 = module1.forward(X, eval=True)[1], module1.forward(X, eval=True)[2]\n",
        "  Ts2, layers2 = module2.forward(X, eval=True)[1], module2.forward(X, eval=True)[2]\n",
        "\n",
        "  correlations = np.zeros_like(Ts1.cpu().detach().numpy()[0])\n",
        "  for i in range(Ts1.shape[1]):\n",
        "    neuron_i = Ts1[:, i]\n",
        "    max_idx = 0\n",
        "    max_corr = -1\n",
        "    for j in range(Ts2.shape[1]):\n",
        "      neuron_j = Ts2[:, j]\n",
        "      stacked = torch.stack((neuron_i, neuron_j))\n",
        "      corr = torch.corrcoef(stacked)[0, 1] / (abs(layers1[0, i] - layers2[0, j]) + 1)\n",
        "      corr = corr.cpu().detach().numpy()\n",
        "      if corr > max_corr:\n",
        "        max_corr = corr\n",
        "        max_idx = j\n",
        "    correlations[i] = max_corr\n",
        "\n",
        "  return correlations.mean()\n",
        "\n",
        "def mean_correlation(module1, module2, X):\n",
        "    return (get_correlation(module1, module2, X) + get_correlation(module2, module1, X)) / 2"
      ],
      "metadata": {
        "id": "A6-i10M0-N1E"
      },
      "execution_count": null,
      "outputs": []
    },
    {
      "cell_type": "markdown",
      "metadata": {
        "id": "I2GsBaxH_v7r"
      },
      "source": [
        "# Convolutional Network\n"
      ]
    },
    {
      "cell_type": "code",
      "execution_count": null,
      "metadata": {
        "id": "Rt8ETXGa_v7t"
      },
      "outputs": [],
      "source": [
        "# XCnn_train, XCnn_test, y_train, y_test = train_test_split(XCnn, y, test_size=0.25, random_state=42)"
      ]
    },
    {
      "cell_type": "code",
      "execution_count": null,
      "metadata": {
        "id": "-jQm85il_v7t"
      },
      "outputs": [],
      "source": [
        "# XCnn_train.shape, y_train.shape"
      ]
    },
    {
      "cell_type": "code",
      "execution_count": null,
      "metadata": {
        "id": "YdQ-ISvb_v7u"
      },
      "outputs": [],
      "source": [
        "class Cnn(nn.Module):\n",
        "    def __init__(self, dropout=0.5):\n",
        "        super(Cnn, self).__init__()\n",
        "        self.conv1 = nn.Conv2d(1, 32, kernel_size=3)\n",
        "        self.conv2 = nn.Conv2d(32, 64, kernel_size=3)\n",
        "        self.conv2_drop = nn.Dropout2d(p=dropout)\n",
        "        self.fc1 = nn.Linear(1600, 100) # 1600 = number channels * width * height\n",
        "        self.fc2 = nn.Linear(100, 10)\n",
        "        self.fc1_drop = nn.Dropout(p=dropout)\n",
        "\n",
        "    def forward(self, x, eval=False):\n",
        "\n",
        "        outputs = []\n",
        "        x = x.reshape((x.shape[0], 1, 28, 28))\n",
        "\n",
        "        x = torch.relu(F.max_pool2d(self.conv1(x), 2))\n",
        "        outputs.append(x)\n",
        "        x = torch.relu(F.max_pool2d(self.conv2_drop(self.conv2(x)), 2))\n",
        "        outputs.append(x)\n",
        "\n",
        "        # flatten over channel, height and width = 1600\n",
        "        x = x.view(-1, x.size(1) * x.size(2) * x.size(3))\n",
        "\n",
        "        x = torch.relu(self.fc1_drop(self.fc1(x)))\n",
        "        x = torch.softmax(self.fc2(x), dim=-1)\n",
        "\n",
        "        Ts = None\n",
        "        layers = None\n",
        "        layer_num = 0\n",
        "        if eval:\n",
        "          for X in outputs:\n",
        "            X = X.reshape((X.shape[0], np.prod(X.shape) // X.shape[0]))\n",
        "            Ts = torch.cat((Ts, X), 1) if Ts is not None else X\n",
        "            l = torch.ones_like(X) * layer_num\n",
        "            layers = torch.cat((layers, l), 1) if layers is not None else l\n",
        "            layer_num += 1\n",
        "          return x, Ts, layers\n",
        "\n",
        "        return x\n"
      ]
    },
    {
      "cell_type": "code",
      "execution_count": null,
      "metadata": {
        "id": "WJrWyFfb_v7u"
      },
      "outputs": [],
      "source": [
        "torch.manual_seed(0)\n",
        "\n",
        "cnn = NeuralNetClassifier(\n",
        "    Cnn(),\n",
        "    max_epochs=10,\n",
        "    lr=0.002,\n",
        "    optimizer=torch.optim.Adam,\n",
        "    device=device,\n",
        ")"
      ]
    },
    {
      "cell_type": "code",
      "execution_count": null,
      "metadata": {
        "id": "KRtHfgg8_v7u",
        "outputId": "ddb16a96-856c-44df-cc71-8eff5087aea2",
        "colab": {
          "base_uri": "https://localhost:8080/"
        }
      },
      "outputs": [
        {
          "output_type": "stream",
          "name": "stdout",
          "text": [
            "  epoch    train_loss    valid_acc    valid_loss     dur\n",
            "-------  ------------  -----------  ------------  ------\n",
            "      1        \u001b[36m0.3426\u001b[0m       \u001b[32m0.9981\u001b[0m        \u001b[35m0.0072\u001b[0m  2.3480\n",
            "      2        \u001b[36m0.0374\u001b[0m       \u001b[32m0.9991\u001b[0m        \u001b[35m0.0034\u001b[0m  1.8995\n",
            "      3        \u001b[36m0.0246\u001b[0m       0.9991        \u001b[35m0.0028\u001b[0m  1.8014\n",
            "      4        \u001b[36m0.0164\u001b[0m       \u001b[32m0.9999\u001b[0m        \u001b[35m0.0004\u001b[0m  1.8556\n",
            "      5        \u001b[36m0.0142\u001b[0m       0.9998        0.0007  1.8834\n",
            "      6        0.0147       0.9998        0.0004  1.7867\n",
            "      7        \u001b[36m0.0125\u001b[0m       0.9997        0.0010  1.9996\n",
            "      8        \u001b[36m0.0103\u001b[0m       0.9998        0.0004  2.1244\n",
            "      9        \u001b[36m0.0098\u001b[0m       0.9998        \u001b[35m0.0003\u001b[0m  1.8095\n",
            "     10        0.0105       0.9997        0.0010  1.7996\n"
          ]
        }
      ],
      "source": [
        "cnn.fit(X_train, y_train);"
      ]
    },
    {
      "cell_type": "code",
      "source": [
        "y_pred = cnn.predict(X_test)\n",
        "accuracy_score(y_test, y_pred)"
      ],
      "metadata": {
        "id": "5GFi5rv-_DFT",
        "colab": {
          "base_uri": "https://localhost:8080/"
        },
        "outputId": "90f7e421-9a72-4821-91bc-dc9c2d16d0e7"
      },
      "execution_count": null,
      "outputs": [
        {
          "output_type": "execute_result",
          "data": {
            "text/plain": [
              "0.9998"
            ]
          },
          "metadata": {},
          "execution_count": 46
        }
      ]
    },
    {
      "cell_type": "code",
      "source": [
        "y_pred = cnn.predict(attacked)\n",
        "accuracy_score(y_test, y_pred)"
      ],
      "metadata": {
        "id": "imcUYTIjJ4Z3",
        "colab": {
          "base_uri": "https://localhost:8080/"
        },
        "outputId": "30faa325-b9c1-4dcd-ccd6-195a9022cf2b"
      },
      "execution_count": null,
      "outputs": [
        {
          "output_type": "execute_result",
          "data": {
            "text/plain": [
              "0.2712"
            ]
          },
          "metadata": {},
          "execution_count": 47
        }
      ]
    },
    {
      "cell_type": "code",
      "source": [
        "X_test.shape"
      ],
      "metadata": {
        "id": "3axUSJ-SmmWE",
        "colab": {
          "base_uri": "https://localhost:8080/"
        },
        "outputId": "a54ba1a2-5e6f-48bf-b933-35b341a325c7"
      },
      "execution_count": null,
      "outputs": [
        {
          "output_type": "execute_result",
          "data": {
            "text/plain": [
              "(10000, 784)"
            ]
          },
          "metadata": {},
          "execution_count": 48
        }
      ]
    },
    {
      "cell_type": "code",
      "source": [
        "plot_example(X_test, y_test, n=15)"
      ],
      "metadata": {
        "colab": {
          "base_uri": "https://localhost:8080/",
          "height": 1000
        },
        "id": "d3zXfTiALUyA",
        "outputId": "9ab1571e-dcac-4edf-a367-1bf15c7511d6"
      },
      "execution_count": null,
      "outputs": [
        {
          "output_type": "display_data",
          "data": {
            "text/plain": [
              "<Figure size 2250x2250 with 1 Axes>"
            ],
            "image/png": "[encoded data removed]"
          },
          "metadata": {}
        },
        {
          "output_type": "display_data",
          "data": {
            "text/plain": [
              "<Figure size 2250x2250 with 1 Axes>"
            ],
            "image/png": "[encoded data removed]"
          },
          "metadata": {}
        },
        {
          "output_type": "display_data",
          "data": {
            "text/plain": [
              "<Figure size 2250x2250 with 1 Axes>"
            ],
            "image/png": "[encoded data removed]"
          },
          "metadata": {}
        },
        {
          "output_type": "display_data",
          "data": {
            "text/plain": [
              "<Figure size 2250x2250 with 1 Axes>"
            ],
            "image/png": "[encoded data removed]"
          },
          "metadata": {}
        },
        {
          "output_type": "display_data",
          "data": {
            "text/plain": [
              "<Figure size 2250x2250 with 1 Axes>"
            ],
            "image/png": "[encoded data removed]"
          },
          "metadata": {}
        },
        {
          "output_type": "display_data",
          "data": {
            "text/plain": [
              "<Figure size 2250x2250 with 1 Axes>"
            ],
            "image/png": "[encoded data removed]"
          },
          "metadata": {}
        },
        {
          "output_type": "display_data",
          "data": {
            "text/plain": [
              "<Figure size 2250x2250 with 1 Axes>"
            ],
            "image/png": "[encoded data removed]"
          },
          "metadata": {}
        },
        {
          "output_type": "display_data",
          "data": {
            "text/plain": [
              "<Figure size 2250x2250 with 1 Axes>"
            ],
            "image/png": "[encoded data removed]"
          },
          "metadata": {}
        },
        {
          "output_type": "display_data",
          "data": {
            "text/plain": [
              "<Figure size 2250x2250 with 1 Axes>"
            ],
            "image/png": "[encoded data removed]"
          },
          "metadata": {}
        },
        {
          "output_type": "display_data",
          "data": {
            "text/plain": [
              "<Figure size 2250x2250 with 1 Axes>"
            ],
            "image/png": "[encoded data removed]"
          },
          "metadata": {}
        },
        {
          "output_type": "display_data",
          "data": {
            "text/plain": [
              "<Figure size 2250x2250 with 1 Axes>"
            ],
            "image/png": "[encoded data removed]"
          },
          "metadata": {}
        },
        {
          "output_type": "display_data",
          "data": {
            "text/plain": [
              "<Figure size 2250x2250 with 1 Axes>"
            ],
            "image/png": "[encoded data removed]"
          },
          "metadata": {}
        },
        {
          "output_type": "display_data",
          "data": {
            "text/plain": [
              "<Figure size 2250x2250 with 1 Axes>"
            ],
            "image/png": "[encoded data removed]"
          },
          "metadata": {}
        },
        {
          "output_type": "display_data",
          "data": {
            "text/plain": [
              "<Figure size 2250x2250 with 1 Axes>"
            ],
            "image/png": "[encoded data removed]"
          },
          "metadata": {}
        },
        {
          "output_type": "display_data",
          "data": {
            "text/plain": [
              "<Figure size 2250x2250 with 1 Axes>"
            ],
            "image/png": "[encoded data removed]"
          },
          "metadata": {}
        }
      ]
    },
    {
      "cell_type": "code",
      "source": [
        "plot_example(attacked, y_pred, n=15)"
      ],
      "metadata": {
        "colab": {
          "base_uri": "https://localhost:8080/",
          "height": 1000
        },
        "id": "TVz99gfkLbqY",
        "outputId": "51fac3ab-29e5-4c16-be15-2845eb95c6d8"
      },
      "execution_count": null,
      "outputs": [
        {
          "output_type": "display_data",
          "data": {
            "text/plain": [
              "<Figure size 2250x2250 with 1 Axes>"
            ],
            "image/png": "[encoded data removed]"
          },
          "metadata": {}
        },
        {
          "output_type": "display_data",
          "data": {
            "text/plain": [
              "<Figure size 2250x2250 with 1 Axes>"
            ],
            "image/png": "[encoded data removed]"
          },
          "metadata": {}
        },
        {
          "output_type": "display_data",
          "data": {
            "text/plain": [
              "<Figure size 2250x2250 with 1 Axes>"
            ],
            "image/png": "[encoded data removed]"
          },
          "metadata": {}
        },
        {
          "output_type": "display_data",
          "data": {
            "text/plain": [
              "<Figure size 2250x2250 with 1 Axes>"
            ],
            "image/png": "[encoded data removed]"
          },
          "metadata": {}
        },
        {
          "output_type": "display_data",
          "data": {
            "text/plain": [
              "<Figure size 2250x2250 with 1 Axes>"
            ],
            "image/png": "[encoded data removed]"
          },
          "metadata": {}
        },
        {
          "output_type": "display_data",
          "data": {
            "text/plain": [
              "<Figure size 2250x2250 with 1 Axes>"
            ],
            "image/png": "[encoded data removed]"
          },
          "metadata": {}
        },
        {
          "output_type": "display_data",
          "data": {
            "text/plain": [
              "<Figure size 2250x2250 with 1 Axes>"
            ],
            "image/png": "[encoded data removed]"
          },
          "metadata": {}
        },
        {
          "output_type": "display_data",
          "data": {
            "text/plain": [
              "<Figure size 2250x2250 with 1 Axes>"
            ],
            "image/png": "[encoded data removed]"
          },
          "metadata": {}
        },
        {
          "output_type": "display_data",
          "data": {
            "text/plain": [
              "<Figure size 2250x2250 with 1 Axes>"
            ],
            "image/png": "[encoded data removed]"
          },
          "metadata": {}
        },
        {
          "output_type": "display_data",
          "data": {
            "text/plain": [
              "<Figure size 2250x2250 with 1 Axes>"
            ],
            "image/png": "[encoded data removed]"
          },
          "metadata": {}
        },
        {
          "output_type": "display_data",
          "data": {
            "text/plain": [
              "<Figure size 2250x2250 with 1 Axes>"
            ],
            "image/png": "[encoded data removed]"
          },
          "metadata": {}
        },
        {
          "output_type": "display_data",
          "data": {
            "text/plain": [
              "<Figure size 2250x2250 with 1 Axes>"
            ],
            "image/png": "[encoded data removed]"
          },
          "metadata": {}
        },
        {
          "output_type": "display_data",
          "data": {
            "text/plain": [
              "<Figure size 2250x2250 with 1 Axes>"
            ],
            "image/png": "[encoded data removed]"
          },
          "metadata": {}
        },
        {
          "output_type": "display_data",
          "data": {
            "text/plain": [
              "<Figure size 2250x2250 with 1 Axes>"
            ],
            "image/png": "[encoded data removed]"
          },
          "metadata": {}
        },
        {
          "output_type": "display_data",
          "data": {
            "text/plain": [
              "<Figure size 2250x2250 with 1 Axes>"
            ],
            "image/png": "[encoded data removed]"
          },
          "metadata": {}
        }
      ]
    }
  ],
  "metadata": {
    "kernelspec": {
      "display_name": "Python 3",
      "name": "python3"
    },
    "language_info": {
      "codemirror_mode": {
        "name": "ipython",
        "version": 3
      },
      "file_extension": ".py",
      "mimetype": "text/x-python",
      "name": "python",
      "nbconvert_exporter": "python",
      "pygments_lexer": "ipython3",
      "version": "3.7.13 (default, Mar 28 2022, 08:03:21) [MSC v.1916 64 bit (AMD64)]"
    },
    "vscode": {
      "interpreter": {
        "hash": "bd97b8bffa4d3737e84826bc3d37be3046061822757ce35137ab82ad4c5a2016"
      }
    },
    "colab": {
      "provenance": [],
      "gpuType": "T4"
    },
    "accelerator": "GPU"
  },
  "nbformat": 4,
  "nbformat_minor": 0
}