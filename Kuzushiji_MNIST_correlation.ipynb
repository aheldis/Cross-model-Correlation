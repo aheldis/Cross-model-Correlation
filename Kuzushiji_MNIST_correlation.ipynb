{
  "cells": [
    {
      "cell_type": "markdown",
      "metadata": {
        "id": "DJsUjs19_v63"
      },
      "source": [
        "# kuzushiji-MNIST with SciKit-Learn and skorch"
      ]
    },
    {
      "cell_type": "code",
      "execution_count": null,
      "metadata": {
        "id": "8qYGNO2S_v6_"
      },
      "outputs": [],
      "source": [
        "import subprocess\n",
        "\n",
        "# Installation on Google Colab\n",
        "try:\n",
        "    import google.colab\n",
        "    subprocess.run(['python', '-m', 'pip', 'install', 'skorch' , 'torch'])\n",
        "except ImportError:\n",
        "    pass"
      ]
    },
    {
      "cell_type": "code",
      "execution_count": null,
      "metadata": {
        "id": "Gj0pvjxT_v7G"
      },
      "outputs": [],
      "source": [
        "from sklearn.datasets import fetch_openml\n",
        "from sklearn.model_selection import train_test_split\n",
        "import numpy as np\n",
        "import matplotlib.pyplot as plt"
      ]
    },
    {
      "cell_type": "markdown",
      "metadata": {
        "id": "mPz6Bjqw_v7H"
      },
      "source": [
        "## Loading Data"
      ]
    },
    {
      "cell_type": "code",
      "execution_count": null,
      "metadata": {
        "colab": {
          "base_uri": "https://localhost:8080/"
        },
        "id": "Q9nSDUP6b27q",
        "outputId": "c1ec069a-3ef9-498c-c98c-72e2e3900cb2"
      },
      "outputs": [
        {
          "name": "stdout",
          "output_type": "stream",
          "text": [
            "--2024-08-30 03:01:44--  http://codh.rois.ac.jp/kmnist/dataset/kmnist/kmnist-train-imgs.npz\n",
            "Resolving codh.rois.ac.jp (codh.rois.ac.jp)... 136.187.88.58\n",
            "Connecting to codh.rois.ac.jp (codh.rois.ac.jp)|136.187.88.58|:80... connected.\n",
            "HTTP request sent, awaiting response... 200 OK\n",
            "Length: 18384171 (18M)\n",
            "Saving to: ‘kmnist-train-imgs.npz’\n",
            "\n",
            "kmnist-train-imgs.n 100%[===================>]  17.53M  1.56MB/s    in 16s     \n",
            "\n",
            "2024-08-30 03:02:00 (1.12 MB/s) - ‘kmnist-train-imgs.npz’ saved [18384171/18384171]\n",
            "\n",
            "--2024-08-30 03:02:00--  http://codh.rois.ac.jp/kmnist/dataset/kmnist/kmnist-train-labels.npz\n",
            "Resolving codh.rois.ac.jp (codh.rois.ac.jp)... 136.187.88.58\n",
            "Connecting to codh.rois.ac.jp (codh.rois.ac.jp)|136.187.88.58|:80... connected.\n",
            "HTTP request sent, awaiting response... 200 OK\n",
            "Length: 29700 (29K)\n",
            "Saving to: ‘kmnist-train-labels.npz’\n",
            "\n",
            "kmnist-train-labels 100%[===================>]  29.00K  --.-KB/s    in 0.1s    \n",
            "\n",
            "2024-08-30 03:02:00 (198 KB/s) - ‘kmnist-train-labels.npz’ saved [29700/29700]\n",
            "\n",
            "--2024-08-30 03:02:00--  http://codh.rois.ac.jp/kmnist/dataset/kmnist/kmnist-test-imgs.npz\n",
            "Resolving codh.rois.ac.jp (codh.rois.ac.jp)... 136.187.88.58\n",
            "Connecting to codh.rois.ac.jp (codh.rois.ac.jp)|136.187.88.58|:80... connected.\n",
            "HTTP request sent, awaiting response... 200 OK\n",
            "Length: 3079479 (2.9M)\n",
            "Saving to: ‘kmnist-test-imgs.npz’\n",
            "\n",
            "kmnist-test-imgs.np 100%[===================>]   2.94M  1.66MB/s    in 1.8s    \n",
            "\n",
            "2024-08-30 03:02:02 (1.66 MB/s) - ‘kmnist-test-imgs.npz’ saved [3079479/3079479]\n",
            "\n",
            "--2024-08-30 03:02:03--  http://codh.rois.ac.jp/kmnist/dataset/kmnist/kmnist-test-labels.npz\n",
            "Resolving codh.rois.ac.jp (codh.rois.ac.jp)... 136.187.88.58\n",
            "Connecting to codh.rois.ac.jp (codh.rois.ac.jp)|136.187.88.58|:80... connected.\n",
            "HTTP request sent, awaiting response... 200 OK\n",
            "Length: 5304 (5.2K)\n",
            "Saving to: ‘kmnist-test-labels.npz’\n",
            "\n",
            "kmnist-test-labels. 100%[===================>]   5.18K  --.-KB/s    in 0s      \n",
            "\n",
            "2024-08-30 03:02:03 (523 MB/s) - ‘kmnist-test-labels.npz’ saved [5304/5304]\n",
            "\n"
          ]
        }
      ],
      "source": [
        "!wget http://codh.rois.ac.jp/kmnist/dataset/kmnist/kmnist-train-imgs.npz\n",
        "!wget http://codh.rois.ac.jp/kmnist/dataset/kmnist/kmnist-train-labels.npz\n",
        "!wget http://codh.rois.ac.jp/kmnist/dataset/kmnist/kmnist-test-imgs.npz\n",
        "!wget http://codh.rois.ac.jp/kmnist/dataset/kmnist/kmnist-test-labels.npz"
      ]
    },
    {
      "cell_type": "code",
      "execution_count": null,
      "metadata": {
        "id": "Git89CnRmNaB"
      },
      "outputs": [],
      "source": [
        "def load(f):\n",
        "    return np.load(f)['arr_0']\n",
        "\n",
        "# Load the data\n",
        "X_train = load('kmnist-train-imgs.npz')\n",
        "X_test = load('kmnist-test-imgs.npz')\n",
        "y_train = load('kmnist-train-labels.npz')\n",
        "y_test = load('kmnist-test-labels.npz')\n",
        "\n",
        "img_rows, img_cols = 28, 28\n",
        "\n",
        "X_train = X_train.reshape(X_train.shape[0], img_rows, img_cols)\n",
        "X_test = X_test.reshape(X_test.shape[0], img_rows, img_cols)\n",
        "input_shape = (img_rows, img_cols, 1)\n",
        "\n",
        "X_train = X_train.astype('float32')\n",
        "X_test = X_test.astype('float32')\n",
        "X_train /= 255\n",
        "X_test /= 255"
      ]
    },
    {
      "cell_type": "code",
      "execution_count": null,
      "metadata": {
        "colab": {
          "base_uri": "https://localhost:8080/"
        },
        "id": "s0BntHiRozyz",
        "outputId": "2bd63f3b-de60-48d1-cb47-5dcef64f0da6"
      },
      "outputs": [
        {
          "data": {
            "text/plain": [
              "((28, 28), (28, 28))"
            ]
          },
          "execution_count": 5,
          "metadata": {},
          "output_type": "execute_result"
        }
      ],
      "source": [
        "X_train[0].shape, X_test[0].shape"
      ]
    },
    {
      "cell_type": "code",
      "execution_count": null,
      "metadata": {
        "id": "P21ad5xAWrG0"
      },
      "outputs": [],
      "source": [
        "X_train = X_train.reshape((X_train.shape[0], 28*28))\n",
        "X_test = X_test.reshape((X_test.shape[0], 28*28))"
      ]
    },
    {
      "cell_type": "markdown",
      "metadata": {
        "id": "6EKEvbuP_v7c"
      },
      "source": [
        "### Print a selection of training images and their labels"
      ]
    },
    {
      "cell_type": "code",
      "execution_count": null,
      "metadata": {
        "id": "C9muXJPC_v7d"
      },
      "outputs": [],
      "source": [
        "def plot_example(X, y):\n",
        "    \"\"\"Plot the first 5 images and their labels in a row.\"\"\"\n",
        "    for i, (img, y) in enumerate(zip(X[:5].reshape(5, 28, 28), y[:5])):\n",
        "        plt.subplot(151 + i)\n",
        "        plt.imshow(img)\n",
        "        plt.xticks([])\n",
        "        plt.yticks([])\n",
        "        plt.title(y)"
      ]
    },
    {
      "cell_type": "code",
      "execution_count": null,
      "metadata": {
        "colab": {
          "base_uri": "https://localhost:8080/",
          "height": 144
        },
        "id": "h2-R1-Df_v7e",
        "outputId": "96516fe4-9c0b-43ac-d201-b0673fc3bd04"
      },
      "outputs": [
        {
          "data": {
            "image/png": "[encoded data removed]",
            "text/plain": [
              "<Figure size 640x480 with 5 Axes>"
            ]
          },
          "metadata": {},
          "output_type": "display_data"
        }
      ],
      "source": [
        "plot_example(X_train, y_train)"
      ]
    },
    {
      "cell_type": "markdown",
      "metadata": {
        "id": "YQvC-rWf_v7f"
      },
      "source": [
        "## Build Neural Network with PyTorch"
      ]
    },
    {
      "cell_type": "code",
      "execution_count": null,
      "metadata": {
        "id": "5PG7R0W8_v7f"
      },
      "outputs": [],
      "source": [
        "import torch\n",
        "from torch import nn\n",
        "import torch.nn.functional as F\n",
        "from sklearn.metrics import accuracy_score"
      ]
    },
    {
      "cell_type": "code",
      "execution_count": null,
      "metadata": {
        "id": "NUjWrGBP_v7g"
      },
      "outputs": [],
      "source": [
        "device = 'cuda' if torch.cuda.is_available() else 'cpu'"
      ]
    },
    {
      "cell_type": "code",
      "execution_count": null,
      "metadata": {
        "id": "Kpr9Kbc3fl9_"
      },
      "outputs": [],
      "source": [
        "mnist_dim = 28 * 28\n",
        "hidden_dims = [int(mnist_dim/8)]\n",
        "output_dim = 10"
      ]
    },
    {
      "cell_type": "code",
      "execution_count": null,
      "metadata": {
        "id": "TUzpzJwNfgN3"
      },
      "outputs": [],
      "source": [
        "class ClassifierModule(nn.Module):\n",
        "    def __init__(\n",
        "            self,\n",
        "            input_dim=mnist_dim,\n",
        "            hidden_dims=hidden_dims,\n",
        "            output_dim=output_dim,\n",
        "            dropout=0.5,\n",
        "    ):\n",
        "        super(ClassifierModule, self).__init__()\n",
        "        self.dropout = nn.Dropout(dropout)\n",
        "        self.hidden = nn.ModuleList()\n",
        "        for i in range(len(hidden_dims)):\n",
        "            if i == 0:\n",
        "              self.hidden.append(nn.Linear(mnist_dim, hidden_dims[i]))\n",
        "            else:\n",
        "              self.hidden.append(nn.Linear(hidden_dims[i - 1], hidden_dims[i]))\n",
        "        self.output = nn.Linear(hidden_dims[-1], output_dim)\n",
        "\n",
        "    def forward(self, X, eval=False, **kwargs):\n",
        "        Ts = None\n",
        "        layers = None\n",
        "        layer_num = 0\n",
        "        for h in self.hidden:\n",
        "          X = F.relu(h(X))\n",
        "          if eval:\n",
        "            Ts = torch.cat((Ts, X), 1) if Ts is not None else X\n",
        "            l = torch.ones_like(X) * layer_num\n",
        "            layers = torch.cat((layers, l), 1) if layers is not None else l\n",
        "          layer_num += 1\n",
        "        X = self.dropout(X)\n",
        "        X = F.softmax(self.output(X), dim=-1)\n",
        "        if eval:\n",
        "          return X, Ts, layers\n",
        "        return X"
      ]
    },
    {
      "cell_type": "code",
      "execution_count": null,
      "metadata": {
        "id": "s0aDatqN_v7l"
      },
      "outputs": [],
      "source": [
        "from skorch import NeuralNetClassifier\n",
        "nets = []"
      ]
    },
    {
      "cell_type": "code",
      "execution_count": null,
      "metadata": {
        "id": "dOrCbBjk_v7m"
      },
      "outputs": [],
      "source": [
        "torch.manual_seed(0)\n",
        "\n",
        "net1 = NeuralNetClassifier(\n",
        "    ClassifierModule(mnist_dim, [100], output_dim),\n",
        "    max_epochs=20,\n",
        "    lr=0.1,\n",
        "    device=device,\n",
        ")"
      ]
    },
    {
      "cell_type": "code",
      "execution_count": null,
      "metadata": {
        "colab": {
          "base_uri": "https://localhost:8080/"
        },
        "id": "8i_gnvPi_v7m",
        "outputId": "955eabab-ee3b-4e2d-9b21-c65677044ddf"
      },
      "outputs": [
        {
          "name": "stdout",
          "output_type": "stream",
          "text": [
            "  epoch    train_loss    valid_acc    valid_loss     dur\n",
            "-------  ------------  -----------  ------------  ------\n",
            "      1        \u001b[36m1.0337\u001b[0m       \u001b[32m0.8302\u001b[0m        \u001b[35m0.5790\u001b[0m  2.5865\n",
            "      2        \u001b[36m0.6256\u001b[0m       \u001b[32m0.8645\u001b[0m        \u001b[35m0.4523\u001b[0m  2.3818\n",
            "      3        \u001b[36m0.5348\u001b[0m       \u001b[32m0.8812\u001b[0m        \u001b[35m0.3943\u001b[0m  2.4028\n",
            "      4        \u001b[36m0.4823\u001b[0m       \u001b[32m0.8927\u001b[0m        \u001b[35m0.3585\u001b[0m  2.4129\n",
            "      5        \u001b[36m0.4499\u001b[0m       \u001b[32m0.9004\u001b[0m        \u001b[35m0.3342\u001b[0m  2.6590\n",
            "      6        \u001b[36m0.4299\u001b[0m       \u001b[32m0.9052\u001b[0m        \u001b[35m0.3167\u001b[0m  2.4076\n",
            "      7        \u001b[36m0.4060\u001b[0m       \u001b[32m0.9107\u001b[0m        \u001b[35m0.3029\u001b[0m  1.8485\n",
            "      8        \u001b[36m0.3935\u001b[0m       \u001b[32m0.9140\u001b[0m        \u001b[35m0.2948\u001b[0m  1.9159\n",
            "      9        \u001b[36m0.3817\u001b[0m       \u001b[32m0.9160\u001b[0m        \u001b[35m0.2847\u001b[0m  1.8603\n",
            "     10        \u001b[36m0.3695\u001b[0m       \u001b[32m0.9181\u001b[0m        \u001b[35m0.2743\u001b[0m  1.8388\n",
            "     11        \u001b[36m0.3589\u001b[0m       \u001b[32m0.9194\u001b[0m        \u001b[35m0.2704\u001b[0m  1.7130\n",
            "     12        \u001b[36m0.3514\u001b[0m       \u001b[32m0.9207\u001b[0m        \u001b[35m0.2642\u001b[0m  2.0935\n",
            "     13        \u001b[36m0.3429\u001b[0m       \u001b[32m0.9227\u001b[0m        \u001b[35m0.2568\u001b[0m  1.9588\n",
            "     14        \u001b[36m0.3385\u001b[0m       \u001b[32m0.9228\u001b[0m        \u001b[35m0.2547\u001b[0m  1.4492\n",
            "     15        \u001b[36m0.3314\u001b[0m       \u001b[32m0.9241\u001b[0m        \u001b[35m0.2527\u001b[0m  1.4386\n",
            "     16        \u001b[36m0.3236\u001b[0m       \u001b[32m0.9248\u001b[0m        \u001b[35m0.2492\u001b[0m  1.4262\n",
            "     17        \u001b[36m0.3176\u001b[0m       \u001b[32m0.9254\u001b[0m        \u001b[35m0.2449\u001b[0m  1.4582\n",
            "     18        \u001b[36m0.3161\u001b[0m       \u001b[32m0.9283\u001b[0m        \u001b[35m0.2404\u001b[0m  1.4359\n",
            "     19        \u001b[36m0.3110\u001b[0m       0.9274        \u001b[35m0.2387\u001b[0m  1.4852\n",
            "     20        \u001b[36m0.3061\u001b[0m       \u001b[32m0.9292\u001b[0m        \u001b[35m0.2373\u001b[0m  1.8864\n"
          ]
        }
      ],
      "source": [
        "net1.fit(X_train, y_train)\n",
        "nets.append(net1)"
      ]
    },
    {
      "cell_type": "code",
      "execution_count": null,
      "metadata": {
        "colab": {
          "base_uri": "https://localhost:8080/"
        },
        "id": "LCWachuM_v7o",
        "outputId": "ada4ebd4-c5d1-4d43-b0ae-b6a91ff6a223"
      },
      "outputs": [
        {
          "data": {
            "text/plain": [
              "0.8452"
            ]
          },
          "execution_count": 16,
          "metadata": {},
          "output_type": "execute_result"
        }
      ],
      "source": [
        "y_pred = net1.predict(X_test)\n",
        "accuracy_score(y_test, y_pred)"
      ]
    },
    {
      "cell_type": "code",
      "execution_count": null,
      "metadata": {
        "colab": {
          "base_uri": "https://localhost:8080/"
        },
        "id": "BW7oUwIsefSx",
        "outputId": "a18ef2f4-0b54-4a91-c794-626f017f8bf1"
      },
      "outputs": [
        {
          "name": "stdout",
          "output_type": "stream",
          "text": [
            "  epoch    train_loss    valid_acc    valid_loss     dur\n",
            "-------  ------------  -----------  ------------  ------\n",
            "      1        \u001b[36m1.4085\u001b[0m       \u001b[32m0.7895\u001b[0m        \u001b[35m0.7249\u001b[0m  1.9600\n",
            "      2        \u001b[36m0.8375\u001b[0m       \u001b[32m0.8357\u001b[0m        \u001b[35m0.5366\u001b[0m  1.3609\n",
            "      3        \u001b[36m0.6827\u001b[0m       \u001b[32m0.8620\u001b[0m        \u001b[35m0.4469\u001b[0m  1.3573\n",
            "      4        \u001b[36m0.5879\u001b[0m       \u001b[32m0.8786\u001b[0m        \u001b[35m0.3948\u001b[0m  1.3752\n",
            "      5        \u001b[36m0.5127\u001b[0m       \u001b[32m0.8898\u001b[0m        \u001b[35m0.3542\u001b[0m  1.3824\n",
            "      6        \u001b[36m0.4609\u001b[0m       \u001b[32m0.9008\u001b[0m        \u001b[35m0.3239\u001b[0m  1.3750\n",
            "      7        \u001b[36m0.4206\u001b[0m       \u001b[32m0.9091\u001b[0m        \u001b[35m0.3020\u001b[0m  1.3745\n",
            "      8        \u001b[36m0.3849\u001b[0m       \u001b[32m0.9119\u001b[0m        \u001b[35m0.2919\u001b[0m  1.3578\n",
            "      9        \u001b[36m0.3550\u001b[0m       \u001b[32m0.9157\u001b[0m        \u001b[35m0.2796\u001b[0m  2.0877\n",
            "     10        \u001b[36m0.3368\u001b[0m       \u001b[32m0.9190\u001b[0m        \u001b[35m0.2681\u001b[0m  1.7810\n",
            "     11        \u001b[36m0.3124\u001b[0m       \u001b[32m0.9211\u001b[0m        \u001b[35m0.2616\u001b[0m  1.3916\n",
            "     12        \u001b[36m0.3001\u001b[0m       \u001b[32m0.9244\u001b[0m        \u001b[35m0.2570\u001b[0m  1.3642\n",
            "     13        \u001b[36m0.2868\u001b[0m       \u001b[32m0.9263\u001b[0m        \u001b[35m0.2521\u001b[0m  1.3443\n",
            "     14        \u001b[36m0.2700\u001b[0m       \u001b[32m0.9263\u001b[0m        \u001b[35m0.2502\u001b[0m  1.3470\n",
            "     15        \u001b[36m0.2605\u001b[0m       \u001b[32m0.9269\u001b[0m        \u001b[35m0.2482\u001b[0m  1.3260\n",
            "     16        \u001b[36m0.2494\u001b[0m       \u001b[32m0.9287\u001b[0m        \u001b[35m0.2472\u001b[0m  1.3347\n",
            "     17        \u001b[36m0.2409\u001b[0m       0.9274        0.2498  1.4115\n",
            "     18        \u001b[36m0.2353\u001b[0m       0.9279        0.2487  2.1378\n",
            "     19        \u001b[36m0.2296\u001b[0m       0.9276        0.2492  1.6761\n",
            "     20        \u001b[36m0.2164\u001b[0m       \u001b[32m0.9311\u001b[0m        \u001b[35m0.2447\u001b[0m  1.3393\n"
          ]
        }
      ],
      "source": [
        "hidden_dims = [60, 40]\n",
        "net2 = NeuralNetClassifier(ClassifierModule(mnist_dim, hidden_dims, output_dim), max_epochs=20, lr=0.1, device=device)\n",
        "net2.fit(X_train, y_train);\n",
        "nets.append(net2)"
      ]
    },
    {
      "cell_type": "code",
      "execution_count": null,
      "metadata": {
        "colab": {
          "base_uri": "https://localhost:8080/"
        },
        "id": "oOJu7u0DefNS",
        "outputId": "34576089-f336-41e8-99ae-5d74e377c8c2"
      },
      "outputs": [
        {
          "data": {
            "text/plain": [
              "0.8519"
            ]
          },
          "execution_count": 18,
          "metadata": {},
          "output_type": "execute_result"
        }
      ],
      "source": [
        "y_pred = net2.predict(X_test)\n",
        "accuracy_score(y_test, y_pred)"
      ]
    },
    {
      "cell_type": "code",
      "execution_count": null,
      "metadata": {
        "colab": {
          "base_uri": "https://localhost:8080/"
        },
        "id": "8brVrmkFfBZN",
        "outputId": "f24e2fc9-8a6a-4f22-f50c-eff858bc2b16"
      },
      "outputs": [
        {
          "name": "stdout",
          "output_type": "stream",
          "text": [
            "  epoch    train_loss    valid_acc    valid_loss     dur\n",
            "-------  ------------  -----------  ------------  ------\n",
            "      1        \u001b[36m1.2790\u001b[0m       \u001b[32m0.8078\u001b[0m        \u001b[35m0.6319\u001b[0m  1.2788\n",
            "      2        \u001b[36m0.6766\u001b[0m       \u001b[32m0.8563\u001b[0m        \u001b[35m0.4676\u001b[0m  1.2431\n",
            "      3        \u001b[36m0.5463\u001b[0m       \u001b[32m0.8732\u001b[0m        \u001b[35m0.4072\u001b[0m  1.2652\n",
            "      4        \u001b[36m0.4792\u001b[0m       \u001b[32m0.8888\u001b[0m        \u001b[35m0.3653\u001b[0m  1.2955\n",
            "      5        \u001b[36m0.4297\u001b[0m       \u001b[32m0.8957\u001b[0m        \u001b[35m0.3427\u001b[0m  1.2839\n",
            "      6        \u001b[36m0.3919\u001b[0m       \u001b[32m0.9018\u001b[0m        \u001b[35m0.3238\u001b[0m  1.4128\n",
            "      7        \u001b[36m0.3662\u001b[0m       \u001b[32m0.9052\u001b[0m        \u001b[35m0.3083\u001b[0m  1.9521\n",
            "      8        \u001b[36m0.3445\u001b[0m       \u001b[32m0.9092\u001b[0m        \u001b[35m0.3016\u001b[0m  1.6225\n",
            "      9        \u001b[36m0.3220\u001b[0m       \u001b[32m0.9110\u001b[0m        \u001b[35m0.2945\u001b[0m  1.2321\n",
            "     10        \u001b[36m0.3078\u001b[0m       \u001b[32m0.9132\u001b[0m        \u001b[35m0.2873\u001b[0m  1.2475\n",
            "     11        \u001b[36m0.2943\u001b[0m       \u001b[32m0.9169\u001b[0m        \u001b[35m0.2798\u001b[0m  1.2626\n",
            "     12        \u001b[36m0.2842\u001b[0m       0.9166        \u001b[35m0.2794\u001b[0m  1.2530\n",
            "     13        \u001b[36m0.2737\u001b[0m       \u001b[32m0.9177\u001b[0m        \u001b[35m0.2779\u001b[0m  1.2566\n",
            "     14        \u001b[36m0.2637\u001b[0m       0.9177        0.2800  1.2526\n",
            "     15        \u001b[36m0.2533\u001b[0m       \u001b[32m0.9190\u001b[0m        \u001b[35m0.2744\u001b[0m  1.7949\n",
            "     16        \u001b[36m0.2484\u001b[0m       0.9184        0.2795  1.9269\n",
            "     17        \u001b[36m0.2414\u001b[0m       0.9183        0.2775  1.7693\n",
            "     18        \u001b[36m0.2331\u001b[0m       \u001b[32m0.9218\u001b[0m        0.2756  1.2872\n",
            "     19        \u001b[36m0.2265\u001b[0m       0.9186        0.2893  1.2561\n",
            "     20        \u001b[36m0.2189\u001b[0m       0.9171        0.2854  1.2262\n"
          ]
        }
      ],
      "source": [
        "hidden_dims = [40, 60]\n",
        "net3 = NeuralNetClassifier(ClassifierModule(mnist_dim, hidden_dims, output_dim), max_epochs=20, lr=0.1, device=device)\n",
        "net3.fit(X_train, y_train);\n",
        "nets.append(net3)"
      ]
    },
    {
      "cell_type": "code",
      "execution_count": null,
      "metadata": {
        "colab": {
          "base_uri": "https://localhost:8080/"
        },
        "id": "RPdX6V3RfbIO",
        "outputId": "dfab414a-5af5-43e4-b983-994a33d43068"
      },
      "outputs": [
        {
          "data": {
            "text/plain": [
              "0.8285"
            ]
          },
          "execution_count": 20,
          "metadata": {},
          "output_type": "execute_result"
        }
      ],
      "source": [
        "y_pred = net3.predict(X_test)\n",
        "accuracy_score(y_test, y_pred)"
      ]
    },
    {
      "cell_type": "code",
      "execution_count": null,
      "metadata": {
        "id": "XddXR1_a_v7p"
      },
      "outputs": [],
      "source": [
        "error_mask = y_pred != y_test"
      ]
    },
    {
      "cell_type": "code",
      "execution_count": null,
      "metadata": {
        "colab": {
          "base_uri": "https://localhost:8080/",
          "height": 144
        },
        "id": "hXlNTrlt_v7q",
        "outputId": "f795540a-49da-4966-cb03-d658565955e1"
      },
      "outputs": [
        {
          "data": {
            "image/png": "[encoded data removed]",
            "text/plain": [
              "<Figure size 640x480 with 5 Axes>"
            ]
          },
          "metadata": {},
          "output_type": "display_data"
        }
      ],
      "source": [
        "plot_example(X_test[error_mask], y_pred[error_mask])"
      ]
    },
    {
      "cell_type": "code",
      "execution_count": null,
      "metadata": {
        "colab": {
          "base_uri": "https://localhost:8080/"
        },
        "id": "uuq0j5qOS9cK",
        "outputId": "0118db64-8b1b-4694-c11b-9326553585c9"
      },
      "outputs": [
        {
          "name": "stdout",
          "output_type": "stream",
          "text": [
            "  epoch    train_loss    valid_acc    valid_loss     dur\n",
            "-------  ------------  -----------  ------------  ------\n",
            "      1        \u001b[36m1.2891\u001b[0m       \u001b[32m0.8027\u001b[0m        \u001b[35m0.6585\u001b[0m  1.3429\n",
            "      2        \u001b[36m0.7299\u001b[0m       \u001b[32m0.8502\u001b[0m        \u001b[35m0.4916\u001b[0m  1.3352\n",
            "      3        \u001b[36m0.5893\u001b[0m       \u001b[32m0.8754\u001b[0m        \u001b[35m0.4094\u001b[0m  1.3347\n",
            "      4        \u001b[36m0.5135\u001b[0m       \u001b[32m0.8855\u001b[0m        \u001b[35m0.3734\u001b[0m  1.4977\n",
            "      5        \u001b[36m0.4538\u001b[0m       \u001b[32m0.8973\u001b[0m        \u001b[35m0.3388\u001b[0m  2.0255\n",
            "      6        \u001b[36m0.4169\u001b[0m       \u001b[32m0.9054\u001b[0m        \u001b[35m0.3192\u001b[0m  1.5138\n",
            "      7        \u001b[36m0.3872\u001b[0m       \u001b[32m0.9110\u001b[0m        \u001b[35m0.3015\u001b[0m  1.3145\n",
            "      8        \u001b[36m0.3580\u001b[0m       \u001b[32m0.9131\u001b[0m        \u001b[35m0.2918\u001b[0m  1.3002\n",
            "      9        \u001b[36m0.3372\u001b[0m       \u001b[32m0.9140\u001b[0m        \u001b[35m0.2809\u001b[0m  1.3036\n",
            "     10        \u001b[36m0.3177\u001b[0m       \u001b[32m0.9187\u001b[0m        \u001b[35m0.2729\u001b[0m  1.3068\n",
            "     11        \u001b[36m0.3057\u001b[0m       \u001b[32m0.9200\u001b[0m        \u001b[35m0.2657\u001b[0m  1.3594\n",
            "     12        \u001b[36m0.2904\u001b[0m       \u001b[32m0.9212\u001b[0m        \u001b[35m0.2653\u001b[0m  1.3125\n",
            "     13        \u001b[36m0.2779\u001b[0m       \u001b[32m0.9243\u001b[0m        \u001b[35m0.2588\u001b[0m  1.4834\n",
            "     14        \u001b[36m0.2674\u001b[0m       \u001b[32m0.9244\u001b[0m        \u001b[35m0.2541\u001b[0m  2.0644\n",
            "     15        \u001b[36m0.2528\u001b[0m       \u001b[32m0.9251\u001b[0m        0.2554  1.5392\n",
            "     16        \u001b[36m0.2490\u001b[0m       \u001b[32m0.9274\u001b[0m        \u001b[35m0.2506\u001b[0m  1.2705\n",
            "     17        \u001b[36m0.2387\u001b[0m       \u001b[32m0.9279\u001b[0m        \u001b[35m0.2500\u001b[0m  1.3124\n",
            "     18        \u001b[36m0.2319\u001b[0m       \u001b[32m0.9281\u001b[0m        \u001b[35m0.2466\u001b[0m  1.3222\n",
            "     19        \u001b[36m0.2200\u001b[0m       \u001b[32m0.9293\u001b[0m        0.2551  1.3117\n",
            "     20        \u001b[36m0.2161\u001b[0m       0.9289        0.2534  1.2775\n"
          ]
        }
      ],
      "source": [
        "hidden_dims = [50, 50]\n",
        "net4 = NeuralNetClassifier(ClassifierModule(mnist_dim, hidden_dims, output_dim), max_epochs=20, lr=0.1, device=device)\n",
        "net4.fit(X_train, y_train);\n",
        "nets.append(net4)"
      ]
    },
    {
      "cell_type": "code",
      "execution_count": null,
      "metadata": {
        "colab": {
          "base_uri": "https://localhost:8080/"
        },
        "id": "q1QSzz6g-9Fy",
        "outputId": "227ae6a8-2ca2-414c-8450-873a988e9913"
      },
      "outputs": [
        {
          "data": {
            "text/plain": [
              "0.8416"
            ]
          },
          "execution_count": 25,
          "metadata": {},
          "output_type": "execute_result"
        }
      ],
      "source": [
        "y_pred = net4.predict(X_test)\n",
        "accuracy_score(y_test, y_pred)"
      ]
    },
    {
      "cell_type": "code",
      "execution_count": null,
      "metadata": {
        "colab": {
          "base_uri": "https://localhost:8080/"
        },
        "id": "vCC7A8VmTAoX",
        "outputId": "455999d6-3a32-4599-9594-bb0b724262b7"
      },
      "outputs": [
        {
          "name": "stdout",
          "output_type": "stream",
          "text": [
            "  epoch    train_loss    valid_acc    valid_loss     dur\n",
            "-------  ------------  -----------  ------------  ------\n",
            "      1        \u001b[36m2.2978\u001b[0m       \u001b[32m0.1767\u001b[0m        \u001b[35m2.2615\u001b[0m  1.6731\n",
            "      2        \u001b[36m1.8910\u001b[0m       \u001b[32m0.4856\u001b[0m        \u001b[35m1.4441\u001b[0m  2.4307\n",
            "      3        \u001b[36m1.4538\u001b[0m       \u001b[32m0.6247\u001b[0m        \u001b[35m1.1228\u001b[0m  3.1495\n",
            "      4        \u001b[36m1.2285\u001b[0m       \u001b[32m0.7323\u001b[0m        \u001b[35m0.8917\u001b[0m  1.6506\n",
            "      5        \u001b[36m1.0768\u001b[0m       \u001b[32m0.7827\u001b[0m        \u001b[35m0.7650\u001b[0m  1.3885\n",
            "      6        \u001b[36m0.9658\u001b[0m       \u001b[32m0.8158\u001b[0m        \u001b[35m0.6702\u001b[0m  1.3467\n",
            "      7        \u001b[36m0.9010\u001b[0m       \u001b[32m0.8277\u001b[0m        \u001b[35m0.6281\u001b[0m  1.3171\n",
            "      8        \u001b[36m0.8427\u001b[0m       \u001b[32m0.8332\u001b[0m        \u001b[35m0.6034\u001b[0m  1.3493\n",
            "      9        \u001b[36m0.8039\u001b[0m       \u001b[32m0.8503\u001b[0m        \u001b[35m0.5632\u001b[0m  1.3560\n",
            "     10        \u001b[36m0.7663\u001b[0m       0.8469        0.5844  1.4474\n",
            "     11        \u001b[36m0.7448\u001b[0m       0.8440        0.5650  2.0352\n",
            "     12        \u001b[36m0.7250\u001b[0m       0.8470        0.5682  1.7057\n",
            "     13        \u001b[36m0.7056\u001b[0m       \u001b[32m0.8636\u001b[0m        \u001b[35m0.5456\u001b[0m  1.3619\n",
            "     14        \u001b[36m0.6709\u001b[0m       0.8615        \u001b[35m0.5367\u001b[0m  1.2922\n",
            "     15        \u001b[36m0.6497\u001b[0m       0.8603        \u001b[35m0.5345\u001b[0m  1.3356\n",
            "     16        \u001b[36m0.6321\u001b[0m       0.8616        0.5376  1.3509\n",
            "     17        \u001b[36m0.6195\u001b[0m       \u001b[32m0.8705\u001b[0m        \u001b[35m0.5120\u001b[0m  1.3431\n",
            "     18        \u001b[36m0.6054\u001b[0m       0.8615        0.5528  1.3046\n",
            "     19        \u001b[36m0.5928\u001b[0m       \u001b[32m0.8768\u001b[0m        \u001b[35m0.5023\u001b[0m  1.3544\n",
            "     20        \u001b[36m0.5789\u001b[0m       0.8720        0.5152  2.0138\n"
          ]
        }
      ],
      "source": [
        "hidden_dims = [20, 20, 20, 20, 20]\n",
        "net5 = NeuralNetClassifier(ClassifierModule(mnist_dim, hidden_dims, output_dim), max_epochs=20, lr=0.1, device=device)\n",
        "net5.fit(X_train, y_train);\n",
        "nets.append(net5)"
      ]
    },
    {
      "cell_type": "code",
      "execution_count": null,
      "metadata": {
        "colab": {
          "base_uri": "https://localhost:8080/"
        },
        "id": "ioEIKLGP--vq",
        "outputId": "fc0e0ad3-8779-4cd1-da2a-8351a816e58e"
      },
      "outputs": [
        {
          "data": {
            "text/plain": [
              "0.7503"
            ]
          },
          "execution_count": 27,
          "metadata": {},
          "output_type": "execute_result"
        }
      ],
      "source": [
        "y_pred = net5.predict(X_test)\n",
        "accuracy_score(y_test, y_pred)"
      ]
    },
    {
      "cell_type": "code",
      "execution_count": null,
      "metadata": {
        "id": "A6-i10M0-N1E"
      },
      "outputs": [],
      "source": [
        "def get_correlation(module1, module2, X):\n",
        "  Ts1, layers1 = module1.forward(X, eval=True)[1], module1.forward(X, eval=True)[2]\n",
        "  Ts2, layers2 = module2.forward(X, eval=True)[1], module2.forward(X, eval=True)[2]\n",
        "\n",
        "  correlations = np.zeros_like(Ts1.cpu().detach().numpy()[0])\n",
        "  for i in range(Ts1.shape[1]):\n",
        "    neuron_i = Ts1[:, i]\n",
        "    max_idx = 0\n",
        "    max_corr = -1\n",
        "    for j in range(Ts2.shape[1]):\n",
        "      neuron_j = Ts2[:, j]\n",
        "      stacked = torch.stack((neuron_i, neuron_j))\n",
        "      corr = torch.corrcoef(stacked)[0, 1] / (abs(layers1[0, i] - layers2[0, j]) + 1)\n",
        "      corr = np.abs(corr.cpu().detach().numpy())\n",
        "      if np.isnan(corr):\n",
        "        corr = 0\n",
        "      if corr > max_corr:\n",
        "        max_corr = corr\n",
        "        max_idx = j\n",
        "    correlations[i] = max_corr\n",
        "\n",
        "  return correlations.mean()\n",
        "\n",
        "def mean_correlation(module1, module2, X):\n",
        "    return (get_correlation(module1, module2, X) + get_correlation(module2, module1, X)) / 2"
      ]
    },
    {
      "cell_type": "code",
      "execution_count": null,
      "metadata": {
        "colab": {
          "base_uri": "https://localhost:8080/"
        },
        "id": "3vwYOHjOKy9F",
        "outputId": "a4b6941c-4b0d-4729-8436-de7f672d1843"
      },
      "outputs": [
        {
          "name": "stdout",
          "output_type": "stream",
          "text": [
            "correlation between net1 and net2: 0.5643478\n",
            "correlation between net1 and net3: 0.5769708\n",
            "correlation between net1 and net4: 0.59022254\n",
            "correlation between net1 and net5: 0.5230021\n",
            "correlation between net2 and net3: 0.6126397\n",
            "correlation between net2 and net4: 0.6199032\n",
            "correlation between net2 and net5: 0.52668005\n",
            "correlation between net3 and net4: 0.67054975\n",
            "correlation between net3 and net5: 0.5436354\n",
            "correlation between net4 and net5: 0.509585\n"
          ]
        }
      ],
      "source": [
        "for i in range(len(nets)):\n",
        "  for j in range(i + 1, len(nets)):\n",
        "    correlation = get_correlation(nets[i].module, nets[j].module, torch.tensor(X_test).to(device))\n",
        "    print(\"correlation between net\" + str(i + 1) + \" and net\" + str(j + 1) + \":\", correlation)"
      ]
    },
    {
      "cell_type": "markdown",
      "metadata": {
        "id": "I2GsBaxH_v7r"
      },
      "source": [
        "# Convolutional Network\n"
      ]
    },
    {
      "cell_type": "code",
      "execution_count": null,
      "metadata": {
        "id": "YdQ-ISvb_v7u"
      },
      "outputs": [],
      "source": [
        "class Cnn(nn.Module):\n",
        "    def __init__(self, dropout=0.5):\n",
        "        super(Cnn, self).__init__()\n",
        "        self.conv1 = nn.Conv2d(1, 32, kernel_size=3)\n",
        "        self.conv2 = nn.Conv2d(32, 64, kernel_size=3)\n",
        "        self.conv2_drop = nn.Dropout2d(p=dropout)\n",
        "        self.fc1 = nn.Linear(1600, 100) # 1600 = number channels * width * height\n",
        "        self.fc2 = nn.Linear(100, 10)\n",
        "        self.fc1_drop = nn.Dropout(p=dropout)\n",
        "\n",
        "    def forward(self, x, eval=False):\n",
        "\n",
        "        outputs = []\n",
        "        x = x.reshape((x.shape[0], 1, 28, 28))\n",
        "\n",
        "        x = torch.relu(F.max_pool2d(self.conv1(x), 2))\n",
        "        outputs.append(x)\n",
        "        x = torch.relu(F.max_pool2d(self.conv2_drop(self.conv2(x)), 2))\n",
        "        outputs.append(x)\n",
        "\n",
        "        # flatten over channel, height and width = 1600\n",
        "        x = x.view(-1, x.size(1) * x.size(2) * x.size(3))\n",
        "\n",
        "        x = torch.relu(self.fc1_drop(self.fc1(x)))\n",
        "        x = torch.softmax(self.fc2(x), dim=-1)\n",
        "\n",
        "        Ts = None\n",
        "        layers = None\n",
        "        layer_num = 0\n",
        "        if eval:\n",
        "          for X in outputs:\n",
        "            X = X.reshape((X.shape[0], np.prod(X.shape) // X.shape[0]))\n",
        "            Ts = torch.cat((Ts, X), 1) if Ts is not None else X\n",
        "            l = torch.ones_like(X) * layer_num\n",
        "            layers = torch.cat((layers, l), 1) if layers is not None else l\n",
        "            layer_num += 1\n",
        "          return x, Ts, layers\n",
        "\n",
        "        return x\n"
      ]
    },
    {
      "cell_type": "code",
      "execution_count": null,
      "metadata": {
        "id": "WJrWyFfb_v7u"
      },
      "outputs": [],
      "source": [
        "torch.manual_seed(0)\n",
        "\n",
        "cnn = NeuralNetClassifier(\n",
        "    Cnn(),\n",
        "    max_epochs=10,\n",
        "    lr=0.002,\n",
        "    optimizer=torch.optim.Adam,\n",
        "    device=device,\n",
        ")"
      ]
    },
    {
      "cell_type": "code",
      "execution_count": null,
      "metadata": {
        "colab": {
          "base_uri": "https://localhost:8080/"
        },
        "id": "KRtHfgg8_v7u",
        "outputId": "adae2ede-5138-423f-be1d-17bf38fedc2e"
      },
      "outputs": [
        {
          "name": "stdout",
          "output_type": "stream",
          "text": [
            "  epoch    train_loss    valid_acc    valid_loss      dur\n",
            "-------  ------------  -----------  ------------  -------\n",
            "      1        \u001b[36m0.7671\u001b[0m       \u001b[32m0.9287\u001b[0m        \u001b[35m0.2462\u001b[0m  45.6223\n",
            "      2        \u001b[36m0.4076\u001b[0m       \u001b[32m0.9471\u001b[0m        \u001b[35m0.1737\u001b[0m  44.8325\n",
            "      3        \u001b[36m0.3285\u001b[0m       \u001b[32m0.9558\u001b[0m        \u001b[35m0.1488\u001b[0m  54.9283\n",
            "      4        \u001b[36m0.2964\u001b[0m       \u001b[32m0.9621\u001b[0m        \u001b[35m0.1292\u001b[0m  45.2156\n",
            "      5        \u001b[36m0.2717\u001b[0m       \u001b[32m0.9663\u001b[0m        \u001b[35m0.1129\u001b[0m  46.7353\n",
            "      6        \u001b[36m0.2481\u001b[0m       \u001b[32m0.9690\u001b[0m        \u001b[35m0.1033\u001b[0m  45.1683\n",
            "      7        \u001b[36m0.2374\u001b[0m       0.9686        0.1042  46.9966\n",
            "      8        \u001b[36m0.2240\u001b[0m       \u001b[32m0.9709\u001b[0m        \u001b[35m0.0990\u001b[0m  45.0433\n",
            "      9        \u001b[36m0.2107\u001b[0m       \u001b[32m0.9734\u001b[0m        \u001b[35m0.0909\u001b[0m  45.4089\n",
            "     10        \u001b[36m0.2086\u001b[0m       \u001b[32m0.9740\u001b[0m        \u001b[35m0.0859\u001b[0m  45.6253\n"
          ]
        }
      ],
      "source": [
        "cnn.fit(X_train, y_train);"
      ]
    },
    {
      "cell_type": "code",
      "execution_count": null,
      "metadata": {
        "colab": {
          "base_uri": "https://localhost:8080/"
        },
        "id": "5GFi5rv-_DFT",
        "outputId": "4948bb3f-c2ca-472b-b8de-19db638e4b25"
      },
      "outputs": [
        {
          "data": {
            "text/plain": [
              "0.9263"
            ]
          },
          "execution_count": 37,
          "metadata": {},
          "output_type": "execute_result"
        }
      ],
      "source": [
        "y_pred = cnn.predict(X_test)\n",
        "accuracy_score(y_test, y_pred)"
      ]
    },
    {
      "cell_type": "code",
      "execution_count": null,
      "metadata": {
        "colab": {
          "base_uri": "https://localhost:8080/"
        },
        "id": "sVg63bZmaOct",
        "outputId": "da12e748-0ff6-4f34-a6f9-ecab68bd7a88"
      },
      "outputs": [
        {
          "name": "stdout",
          "output_type": "stream",
          "text": [
            "correlation between net1 and cnn: 0.9245271\n",
            "correlation between net2 and cnn: 0.9171139\n",
            "correlation between net3 and cnn: 0.9486944\n",
            "correlation between net4 and cnn: 0.9421186\n",
            "correlation between net5 and cnn: 0.54904926\n"
          ]
        }
      ],
      "source": [
        "for i in range(len(nets)):\n",
        "  correlation = get_correlation(nets[i].module, cnn.module, torch.tensor(X_test[:10]).to(device))\n",
        "  print(\"correlation between net\" + str(i + 1) + \" and cnn:\", correlation)"
      ]
    }
  ],
  "metadata": {
    "colab": {
      "provenance": []
    },
    "kernelspec": {
      "display_name": "Python 3",
      "name": "python3"
    },
    "language_info": {
      "codemirror_mode": {
        "name": "ipython",
        "version": 3
      },
      "file_extension": ".py",
      "mimetype": "text/x-python",
      "name": "python",
      "nbconvert_exporter": "python",
      "pygments_lexer": "ipython3",
      "version": "3.7.13 (default, Mar 28 2022, 08:03:21) [MSC v.1916 64 bit (AMD64)]"
    },
    "vscode": {
      "interpreter": {
        "hash": "bd97b8bffa4d3737e84826bc3d37be3046061822757ce35137ab82ad4c5a2016"
      }
    }
  },
  "nbformat": 4,
  "nbformat_minor": 0
}
