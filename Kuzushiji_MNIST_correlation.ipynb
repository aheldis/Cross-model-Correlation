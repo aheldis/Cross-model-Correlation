{
  "cells": [
    {
      "cell_type": "markdown",
      "metadata": {
        "id": "DJsUjs19_v63"
      },
      "source": [
        "# kuzushiji-MNIST with SciKit-Learn and skorch"
      ]
    },
    {
      "cell_type": "code",
      "execution_count": null,
      "metadata": {
        "id": "8qYGNO2S_v6_"
      },
      "outputs": [],
      "source": [
        "import subprocess\n",
        "\n",
        "# Installation on Google Colab\n",
        "try:\n",
        "    import google.colab\n",
        "    subprocess.run(['python', '-m', 'pip', 'install', 'skorch' , 'torch'])\n",
        "except ImportError:\n",
        "    pass"
      ]
    },
    {
      "cell_type": "code",
      "execution_count": null,
      "metadata": {
        "id": "Gj0pvjxT_v7G"
      },
      "outputs": [],
      "source": [
        "from sklearn.datasets import fetch_openml\n",
        "from sklearn.model_selection import train_test_split\n",
        "import numpy as np\n",
        "import matplotlib.pyplot as plt"
      ]
    },
    {
      "cell_type": "markdown",
      "metadata": {
        "id": "mPz6Bjqw_v7H"
      },
      "source": [
        "## Loading Data"
      ]
    },
    {
      "cell_type": "code",
      "source": [
        "!wget http://codh.rois.ac.jp/kmnist/dataset/kmnist/kmnist-train-imgs.npz\n",
        "!wget http://codh.rois.ac.jp/kmnist/dataset/kmnist/kmnist-train-labels.npz\n",
        "!wget http://codh.rois.ac.jp/kmnist/dataset/kmnist/kmnist-test-imgs.npz\n",
        "!wget http://codh.rois.ac.jp/kmnist/dataset/kmnist/kmnist-test-labels.npz"
      ],
      "metadata": {
        "colab": {
          "base_uri": "https://localhost:8080/"
        },
        "id": "Q9nSDUP6b27q",
        "outputId": "abd2df84-8d8a-435d-a196-008a9fc569cf"
      },
      "execution_count": null,
      "outputs": [
        {
          "output_type": "stream",
          "name": "stdout",
          "text": [
            "--2024-07-14 10:50:29--  http://codh.rois.ac.jp/kmnist/dataset/kmnist/kmnist-train-imgs.npz\n",
            "Resolving codh.rois.ac.jp (codh.rois.ac.jp)... 136.187.88.58\n",
            "Connecting to codh.rois.ac.jp (codh.rois.ac.jp)|136.187.88.58|:80... connected.\n",
            "HTTP request sent, awaiting response... 200 OK\n",
            "Length: 18384171 (18M)\n",
            "Saving to: ‘kmnist-train-imgs.npz’\n",
            "\n",
            "kmnist-train-imgs.n 100%[===================>]  17.53M  1.52MB/s    in 14s     \n",
            "\n",
            "2024-07-14 10:50:44 (1.22 MB/s) - ‘kmnist-train-imgs.npz’ saved [18384171/18384171]\n",
            "\n",
            "--2024-07-14 10:50:44--  http://codh.rois.ac.jp/kmnist/dataset/kmnist/kmnist-train-labels.npz\n",
            "Resolving codh.rois.ac.jp (codh.rois.ac.jp)... 136.187.88.58\n",
            "Connecting to codh.rois.ac.jp (codh.rois.ac.jp)|136.187.88.58|:80... connected.\n",
            "HTTP request sent, awaiting response... 200 OK\n",
            "Length: 29700 (29K)\n",
            "Saving to: ‘kmnist-train-labels.npz’\n",
            "\n",
            "kmnist-train-labels 100%[===================>]  29.00K   182KB/s    in 0.2s    \n",
            "\n",
            "2024-07-14 10:50:45 (182 KB/s) - ‘kmnist-train-labels.npz’ saved [29700/29700]\n",
            "\n",
            "--2024-07-14 10:50:45--  http://codh.rois.ac.jp/kmnist/dataset/kmnist/kmnist-test-imgs.npz\n",
            "Resolving codh.rois.ac.jp (codh.rois.ac.jp)... 136.187.88.58\n",
            "Connecting to codh.rois.ac.jp (codh.rois.ac.jp)|136.187.88.58|:80... connected.\n",
            "HTTP request sent, awaiting response... 200 OK\n",
            "Length: 3079479 (2.9M)\n",
            "Saving to: ‘kmnist-test-imgs.npz’\n",
            "\n",
            "kmnist-test-imgs.np 100%[===================>]   2.94M   881KB/s    in 3.7s    \n",
            "\n",
            "2024-07-14 10:50:49 (818 KB/s) - ‘kmnist-test-imgs.npz’ saved [3079479/3079479]\n",
            "\n",
            "--2024-07-14 10:50:49--  http://codh.rois.ac.jp/kmnist/dataset/kmnist/kmnist-test-labels.npz\n",
            "Resolving codh.rois.ac.jp (codh.rois.ac.jp)... 136.187.88.58\n",
            "Connecting to codh.rois.ac.jp (codh.rois.ac.jp)|136.187.88.58|:80... connected.\n",
            "HTTP request sent, awaiting response... 200 OK\n",
            "Length: 5304 (5.2K)\n",
            "Saving to: ‘kmnist-test-labels.npz’\n",
            "\n",
            "kmnist-test-labels. 100%[===================>]   5.18K  --.-KB/s    in 0s      \n",
            "\n",
            "2024-07-14 10:50:49 (486 MB/s) - ‘kmnist-test-labels.npz’ saved [5304/5304]\n",
            "\n"
          ]
        }
      ]
    },
    {
      "cell_type": "code",
      "source": [
        "def load(f):\n",
        "    return np.load(f)['arr_0']\n",
        "\n",
        "# Load the data\n",
        "X_train = load('kmnist-train-imgs.npz')\n",
        "X_test = load('kmnist-test-imgs.npz')\n",
        "y_train = load('kmnist-train-labels.npz')\n",
        "y_test = load('kmnist-test-labels.npz')\n",
        "\n",
        "img_rows, img_cols = 28, 28\n",
        "\n",
        "X_train = X_train.reshape(X_train.shape[0], img_rows, img_cols)\n",
        "X_test = X_test.reshape(X_test.shape[0], img_rows, img_cols)\n",
        "input_shape = (img_rows, img_cols, 1)\n",
        "\n",
        "X_train = X_train.astype('float32')\n",
        "X_test = X_test.astype('float32')\n",
        "X_train /= 255\n",
        "X_test /= 255"
      ],
      "metadata": {
        "id": "Git89CnRmNaB"
      },
      "execution_count": null,
      "outputs": []
    },
    {
      "cell_type": "code",
      "source": [
        "X_train[0].shape, X_test[0].shape"
      ],
      "metadata": {
        "colab": {
          "base_uri": "https://localhost:8080/"
        },
        "id": "s0BntHiRozyz",
        "outputId": "c17a02ac-17dc-4906-9156-f0d280899eb7"
      },
      "execution_count": null,
      "outputs": [
        {
          "output_type": "execute_result",
          "data": {
            "text/plain": [
              "((28, 28), (28, 28))"
            ]
          },
          "metadata": {},
          "execution_count": 12
        }
      ]
    },
    {
      "cell_type": "code",
      "source": [
        "X_train = X_train.reshape((X_train.shape[0], 28*28))\n",
        "X_test = X_test.reshape((X_test.shape[0], 28*28))"
      ],
      "metadata": {
        "id": "P21ad5xAWrG0"
      },
      "execution_count": null,
      "outputs": []
    },
    {
      "cell_type": "markdown",
      "metadata": {
        "id": "6EKEvbuP_v7c"
      },
      "source": [
        "### Print a selection of training images and their labels"
      ]
    },
    {
      "cell_type": "code",
      "execution_count": null,
      "metadata": {
        "id": "C9muXJPC_v7d"
      },
      "outputs": [],
      "source": [
        "def plot_example(X, y):\n",
        "    \"\"\"Plot the first 5 images and their labels in a row.\"\"\"\n",
        "    for i, (img, y) in enumerate(zip(X[:5].reshape(5, 28, 28), y[:5])):\n",
        "        plt.subplot(151 + i)\n",
        "        plt.imshow(img)\n",
        "        plt.xticks([])\n",
        "        plt.yticks([])\n",
        "        plt.title(y)"
      ]
    },
    {
      "cell_type": "code",
      "execution_count": null,
      "metadata": {
        "id": "h2-R1-Df_v7e",
        "outputId": "8b7bd42a-e816-4bda-eb9f-c01b82e605ca",
        "colab": {
          "base_uri": "https://localhost:8080/",
          "height": 144
        }
      },
      "outputs": [
        {
          "output_type": "display_data",
          "data": {
            "text/plain": [
              "<Figure size 640x480 with 5 Axes>"
            ],
            "image/png": "[encoded data removed]"
          },
          "metadata": {}
        }
      ],
      "source": [
        "plot_example(X_train, y_train)"
      ]
    },
    {
      "cell_type": "markdown",
      "metadata": {
        "id": "YQvC-rWf_v7f"
      },
      "source": [
        "## Build Neural Network with PyTorch"
      ]
    },
    {
      "cell_type": "code",
      "execution_count": null,
      "metadata": {
        "id": "5PG7R0W8_v7f"
      },
      "outputs": [],
      "source": [
        "import torch\n",
        "from torch import nn\n",
        "import torch.nn.functional as F\n",
        "from sklearn.metrics import accuracy_score"
      ]
    },
    {
      "cell_type": "code",
      "execution_count": null,
      "metadata": {
        "id": "NUjWrGBP_v7g"
      },
      "outputs": [],
      "source": [
        "device = 'cuda' if torch.cuda.is_available() else 'cpu'"
      ]
    },
    {
      "cell_type": "code",
      "source": [
        "mnist_dim = 28 * 28\n",
        "hidden_dims = [int(mnist_dim/8)]\n",
        "output_dim = 10"
      ],
      "metadata": {
        "id": "Kpr9Kbc3fl9_"
      },
      "execution_count": null,
      "outputs": []
    },
    {
      "cell_type": "code",
      "source": [
        "class ClassifierModule(nn.Module):\n",
        "    def __init__(\n",
        "            self,\n",
        "            input_dim=mnist_dim,\n",
        "            hidden_dims=hidden_dims,\n",
        "            output_dim=output_dim,\n",
        "            dropout=0.5,\n",
        "    ):\n",
        "        super(ClassifierModule, self).__init__()\n",
        "        self.dropout = nn.Dropout(dropout)\n",
        "        self.hidden = nn.ModuleList()\n",
        "        for i in range(len(hidden_dims)):\n",
        "            if i == 0:\n",
        "              self.hidden.append(nn.Linear(mnist_dim, hidden_dims[i]))\n",
        "            else:\n",
        "              self.hidden.append(nn.Linear(hidden_dims[i - 1], hidden_dims[i]))\n",
        "        self.output = nn.Linear(hidden_dims[-1], output_dim)\n",
        "\n",
        "    def forward(self, X, eval=False, **kwargs):\n",
        "        Ts = None\n",
        "        layers = None\n",
        "        layer_num = 0\n",
        "        for h in self.hidden:\n",
        "          X = F.relu(h(X))\n",
        "          if eval:\n",
        "            Ts = torch.cat((Ts, X), 1) if Ts is not None else X\n",
        "            l = torch.ones_like(X) * layer_num\n",
        "            layers = torch.cat((layers, l), 1) if layers is not None else l\n",
        "          layer_num += 1\n",
        "        X = self.dropout(X)\n",
        "        X = F.softmax(self.output(X), dim=-1)\n",
        "        if eval:\n",
        "          return X, Ts, layers\n",
        "        return X"
      ],
      "metadata": {
        "id": "TUzpzJwNfgN3"
      },
      "execution_count": null,
      "outputs": []
    },
    {
      "cell_type": "code",
      "execution_count": null,
      "metadata": {
        "id": "s0aDatqN_v7l"
      },
      "outputs": [],
      "source": [
        "from skorch import NeuralNetClassifier\n",
        "nets = []"
      ]
    },
    {
      "cell_type": "code",
      "execution_count": null,
      "metadata": {
        "id": "dOrCbBjk_v7m"
      },
      "outputs": [],
      "source": [
        "torch.manual_seed(0)\n",
        "\n",
        "net1 = NeuralNetClassifier(\n",
        "    ClassifierModule(mnist_dim, [100], output_dim),\n",
        "    max_epochs=20,\n",
        "    lr=0.1,\n",
        "    device=device,\n",
        ")"
      ]
    },
    {
      "cell_type": "code",
      "execution_count": null,
      "metadata": {
        "id": "8i_gnvPi_v7m",
        "outputId": "a0edb7a2-ce3b-4d38-b28f-331be5fb9d70",
        "colab": {
          "base_uri": "https://localhost:8080/"
        }
      },
      "outputs": [
        {
          "output_type": "stream",
          "name": "stdout",
          "text": [
            "  epoch    train_loss    valid_acc    valid_loss     dur\n",
            "-------  ------------  -----------  ------------  ------\n",
            "      1        \u001b[36m1.0346\u001b[0m       \u001b[32m0.8288\u001b[0m        \u001b[35m0.5873\u001b[0m  1.5596\n",
            "      2        \u001b[36m0.6281\u001b[0m       \u001b[32m0.8632\u001b[0m        \u001b[35m0.4563\u001b[0m  1.0608\n",
            "      3        \u001b[36m0.5362\u001b[0m       \u001b[32m0.8812\u001b[0m        \u001b[35m0.3989\u001b[0m  1.0496\n",
            "      4        \u001b[36m0.4877\u001b[0m       \u001b[32m0.8908\u001b[0m        \u001b[35m0.3614\u001b[0m  1.0939\n",
            "      5        \u001b[36m0.4532\u001b[0m       \u001b[32m0.8976\u001b[0m        \u001b[35m0.3380\u001b[0m  1.0360\n",
            "      6        \u001b[36m0.4285\u001b[0m       \u001b[32m0.9041\u001b[0m        \u001b[35m0.3189\u001b[0m  1.0171\n",
            "      7        \u001b[36m0.4121\u001b[0m       \u001b[32m0.9070\u001b[0m        \u001b[35m0.3084\u001b[0m  1.3549\n",
            "      8        \u001b[36m0.3891\u001b[0m       \u001b[32m0.9122\u001b[0m        \u001b[35m0.2945\u001b[0m  1.4779\n",
            "      9        \u001b[36m0.3816\u001b[0m       \u001b[32m0.9137\u001b[0m        \u001b[35m0.2890\u001b[0m  1.6491\n",
            "     10        \u001b[36m0.3709\u001b[0m       \u001b[32m0.9176\u001b[0m        \u001b[35m0.2768\u001b[0m  1.4695\n",
            "     11        \u001b[36m0.3621\u001b[0m       \u001b[32m0.9197\u001b[0m        \u001b[35m0.2743\u001b[0m  1.0678\n",
            "     12        \u001b[36m0.3529\u001b[0m       \u001b[32m0.9203\u001b[0m        \u001b[35m0.2685\u001b[0m  1.0304\n",
            "     13        \u001b[36m0.3476\u001b[0m       \u001b[32m0.9228\u001b[0m        \u001b[35m0.2620\u001b[0m  1.0525\n",
            "     14        \u001b[36m0.3374\u001b[0m       0.9226        \u001b[35m0.2593\u001b[0m  1.0510\n",
            "     15        \u001b[36m0.3345\u001b[0m       \u001b[32m0.9239\u001b[0m        \u001b[35m0.2552\u001b[0m  1.0669\n",
            "     16        \u001b[36m0.3226\u001b[0m       \u001b[32m0.9259\u001b[0m        \u001b[35m0.2524\u001b[0m  1.0413\n",
            "     17        0.3231       0.9258        \u001b[35m0.2504\u001b[0m  1.3361\n",
            "     18        \u001b[36m0.3150\u001b[0m       \u001b[32m0.9264\u001b[0m        \u001b[35m0.2478\u001b[0m  1.4514\n",
            "     19        \u001b[36m0.3122\u001b[0m       \u001b[32m0.9275\u001b[0m        \u001b[35m0.2437\u001b[0m  1.0284\n",
            "     20        \u001b[36m0.3074\u001b[0m       \u001b[32m0.9277\u001b[0m        \u001b[35m0.2421\u001b[0m  1.0576\n"
          ]
        }
      ],
      "source": [
        "net1.fit(X_train, y_train)\n",
        "nets.append(net1)"
      ]
    },
    {
      "cell_type": "code",
      "execution_count": null,
      "metadata": {
        "id": "LCWachuM_v7o",
        "outputId": "673accb5-572f-4261-de59-3134d77f17b8",
        "colab": {
          "base_uri": "https://localhost:8080/"
        }
      },
      "outputs": [
        {
          "output_type": "execute_result",
          "data": {
            "text/plain": [
              "0.8435"
            ]
          },
          "metadata": {},
          "execution_count": 26
        }
      ],
      "source": [
        "y_pred = net1.predict(X_test)\n",
        "accuracy_score(y_test, y_pred)"
      ]
    },
    {
      "cell_type": "code",
      "source": [
        "hidden_dims = [60, 40]\n",
        "net2 = NeuralNetClassifier(ClassifierModule(mnist_dim, hidden_dims, output_dim), max_epochs=20, lr=0.1, device=device)\n",
        "net2.fit(X_train, y_train);\n",
        "nets.append(net2)"
      ],
      "metadata": {
        "colab": {
          "base_uri": "https://localhost:8080/"
        },
        "id": "BW7oUwIsefSx",
        "outputId": "7310868e-41f2-4827-f105-cefb5edbe5d0"
      },
      "execution_count": null,
      "outputs": [
        {
          "output_type": "stream",
          "name": "stdout",
          "text": [
            "  epoch    train_loss    valid_acc    valid_loss     dur\n",
            "-------  ------------  -----------  ------------  ------\n",
            "      1        \u001b[36m1.3564\u001b[0m       \u001b[32m0.8000\u001b[0m        \u001b[35m0.6730\u001b[0m  1.1552\n",
            "      2        \u001b[36m0.7620\u001b[0m       \u001b[32m0.8539\u001b[0m        \u001b[35m0.4901\u001b[0m  1.2246\n",
            "      3        \u001b[36m0.6093\u001b[0m       \u001b[32m0.8775\u001b[0m        \u001b[35m0.4119\u001b[0m  1.1648\n",
            "      4        \u001b[36m0.5186\u001b[0m       \u001b[32m0.8912\u001b[0m        \u001b[35m0.3580\u001b[0m  1.1264\n",
            "      5        \u001b[36m0.4650\u001b[0m       \u001b[32m0.9022\u001b[0m        \u001b[35m0.3306\u001b[0m  1.3142\n",
            "      6        \u001b[36m0.4162\u001b[0m       \u001b[32m0.9077\u001b[0m        \u001b[35m0.3072\u001b[0m  2.5288\n",
            "      7        \u001b[36m0.3827\u001b[0m       \u001b[32m0.9107\u001b[0m        \u001b[35m0.2956\u001b[0m  3.3097\n",
            "      8        \u001b[36m0.3571\u001b[0m       \u001b[32m0.9152\u001b[0m        \u001b[35m0.2793\u001b[0m  1.9093\n",
            "      9        \u001b[36m0.3328\u001b[0m       \u001b[32m0.9154\u001b[0m        \u001b[35m0.2761\u001b[0m  1.2254\n",
            "     10        \u001b[36m0.3182\u001b[0m       \u001b[32m0.9205\u001b[0m        \u001b[35m0.2664\u001b[0m  1.1508\n",
            "     11        \u001b[36m0.2960\u001b[0m       \u001b[32m0.9253\u001b[0m        \u001b[35m0.2580\u001b[0m  1.1630\n",
            "     12        \u001b[36m0.2821\u001b[0m       0.9237        0.2586  1.2131\n",
            "     13        \u001b[36m0.2732\u001b[0m       \u001b[32m0.9277\u001b[0m        \u001b[35m0.2465\u001b[0m  1.1467\n",
            "     14        \u001b[36m0.2609\u001b[0m       \u001b[32m0.9287\u001b[0m        0.2475  1.1824\n",
            "     15        \u001b[36m0.2495\u001b[0m       0.9277        0.2487  1.4957\n",
            "     16        \u001b[36m0.2370\u001b[0m       \u001b[32m0.9293\u001b[0m        0.2466  1.5156\n",
            "     17        \u001b[36m0.2284\u001b[0m       \u001b[32m0.9303\u001b[0m        0.2540  1.4168\n",
            "     18        \u001b[36m0.2248\u001b[0m       0.9303        0.2513  1.1088\n",
            "     19        \u001b[36m0.2131\u001b[0m       \u001b[32m0.9317\u001b[0m        \u001b[35m0.2463\u001b[0m  1.0694\n",
            "     20        \u001b[36m0.2069\u001b[0m       0.9291        0.2534  1.0904\n"
          ]
        }
      ]
    },
    {
      "cell_type": "code",
      "source": [
        "y_pred = net2.predict(X_test)\n",
        "accuracy_score(y_test, y_pred)"
      ],
      "metadata": {
        "colab": {
          "base_uri": "https://localhost:8080/"
        },
        "id": "oOJu7u0DefNS",
        "outputId": "938955cb-671d-410a-b075-c96b6030cfa3"
      },
      "execution_count": null,
      "outputs": [
        {
          "output_type": "execute_result",
          "data": {
            "text/plain": [
              "0.8446"
            ]
          },
          "metadata": {},
          "execution_count": 28
        }
      ]
    },
    {
      "cell_type": "code",
      "source": [
        "hidden_dims = [40, 60]\n",
        "net3 = NeuralNetClassifier(ClassifierModule(mnist_dim, hidden_dims, output_dim), max_epochs=20, lr=0.1, device=device)\n",
        "net3.fit(X_train, y_train);\n",
        "nets.append(net3)"
      ],
      "metadata": {
        "colab": {
          "base_uri": "https://localhost:8080/"
        },
        "id": "8brVrmkFfBZN",
        "outputId": "cab91ee5-68e2-4150-feac-274d1b0abd41"
      },
      "execution_count": null,
      "outputs": [
        {
          "output_type": "stream",
          "name": "stdout",
          "text": [
            "  epoch    train_loss    valid_acc    valid_loss     dur\n",
            "-------  ------------  -----------  ------------  ------\n",
            "      1        \u001b[36m1.2467\u001b[0m       \u001b[32m0.7995\u001b[0m        \u001b[35m0.6603\u001b[0m  1.1383\n",
            "      2        \u001b[36m0.6918\u001b[0m       \u001b[32m0.8485\u001b[0m        \u001b[35m0.4935\u001b[0m  1.1046\n",
            "      3        \u001b[36m0.5707\u001b[0m       \u001b[32m0.8690\u001b[0m        \u001b[35m0.4291\u001b[0m  1.1091\n",
            "      4        \u001b[36m0.4971\u001b[0m       \u001b[32m0.8818\u001b[0m        \u001b[35m0.3800\u001b[0m  1.1170\n",
            "      5        \u001b[36m0.4485\u001b[0m       \u001b[32m0.8890\u001b[0m        \u001b[35m0.3643\u001b[0m  1.3484\n",
            "      6        \u001b[36m0.4113\u001b[0m       \u001b[32m0.9000\u001b[0m        \u001b[35m0.3293\u001b[0m  1.5707\n",
            "      7        \u001b[36m0.3809\u001b[0m       \u001b[32m0.9052\u001b[0m        \u001b[35m0.3173\u001b[0m  1.2189\n",
            "      8        \u001b[36m0.3575\u001b[0m       \u001b[32m0.9065\u001b[0m        \u001b[35m0.3150\u001b[0m  1.1584\n",
            "      9        \u001b[36m0.3367\u001b[0m       \u001b[32m0.9103\u001b[0m        \u001b[35m0.2989\u001b[0m  1.1253\n",
            "     10        \u001b[36m0.3241\u001b[0m       0.9091        0.2998  1.0839\n",
            "     11        \u001b[36m0.3064\u001b[0m       \u001b[32m0.9123\u001b[0m        \u001b[35m0.2927\u001b[0m  1.0964\n",
            "     12        \u001b[36m0.2934\u001b[0m       \u001b[32m0.9157\u001b[0m        \u001b[35m0.2868\u001b[0m  1.1144\n",
            "     13        \u001b[36m0.2832\u001b[0m       0.9127        0.2928  1.0889\n",
            "     14        \u001b[36m0.2669\u001b[0m       \u001b[32m0.9162\u001b[0m        \u001b[35m0.2865\u001b[0m  1.0908\n",
            "     15        \u001b[36m0.2621\u001b[0m       \u001b[32m0.9178\u001b[0m        \u001b[35m0.2811\u001b[0m  1.1119\n",
            "     16        \u001b[36m0.2502\u001b[0m       0.9173        0.2890  1.4285\n",
            "     17        \u001b[36m0.2437\u001b[0m       \u001b[32m0.9188\u001b[0m        0.2830  1.4385\n",
            "     18        \u001b[36m0.2368\u001b[0m       \u001b[32m0.9198\u001b[0m        \u001b[35m0.2767\u001b[0m  1.0975\n",
            "     19        \u001b[36m0.2297\u001b[0m       \u001b[32m0.9201\u001b[0m        0.2804  1.0966\n",
            "     20        \u001b[36m0.2235\u001b[0m       \u001b[32m0.9217\u001b[0m        0.2826  1.1108\n"
          ]
        }
      ]
    },
    {
      "cell_type": "code",
      "source": [
        "y_pred = net3.predict(X_test)\n",
        "accuracy_score(y_test, y_pred)"
      ],
      "metadata": {
        "colab": {
          "base_uri": "https://localhost:8080/"
        },
        "id": "RPdX6V3RfbIO",
        "outputId": "e0e79475-3bec-45a4-f463-98e88c834504"
      },
      "execution_count": null,
      "outputs": [
        {
          "output_type": "execute_result",
          "data": {
            "text/plain": [
              "0.8275"
            ]
          },
          "metadata": {},
          "execution_count": 30
        }
      ]
    },
    {
      "cell_type": "code",
      "execution_count": null,
      "metadata": {
        "id": "XddXR1_a_v7p"
      },
      "outputs": [],
      "source": [
        "error_mask = y_pred != y_test"
      ]
    },
    {
      "cell_type": "code",
      "execution_count": null,
      "metadata": {
        "id": "hXlNTrlt_v7q",
        "outputId": "03a156be-ea54-44da-fed5-464758b92cd2",
        "colab": {
          "base_uri": "https://localhost:8080/",
          "height": 144
        }
      },
      "outputs": [
        {
          "output_type": "display_data",
          "data": {
            "text/plain": [
              "<Figure size 640x480 with 5 Axes>"
            ],
            "image/png": "[encoded data removed]"
          },
          "metadata": {}
        }
      ],
      "source": [
        "plot_example(X_test[error_mask], y_pred[error_mask])"
      ]
    },
    {
      "cell_type": "code",
      "source": [
        "[mnist_dim//4, mnist_dim//2]"
      ],
      "metadata": {
        "colab": {
          "base_uri": "https://localhost:8080/"
        },
        "id": "EV9i52A1Ltos",
        "outputId": "8aacbf93-764f-41ab-bd5c-8484ab5bcd84"
      },
      "execution_count": null,
      "outputs": [
        {
          "output_type": "execute_result",
          "data": {
            "text/plain": [
              "[196, 392]"
            ]
          },
          "metadata": {},
          "execution_count": 33
        }
      ]
    },
    {
      "cell_type": "code",
      "source": [
        "hidden_dims = [50, 50]\n",
        "net4 = NeuralNetClassifier(ClassifierModule(mnist_dim, hidden_dims, output_dim), max_epochs=20, lr=0.1, device=device)\n",
        "net4.fit(X_train, y_train);\n",
        "nets.append(net4)"
      ],
      "metadata": {
        "colab": {
          "base_uri": "https://localhost:8080/"
        },
        "id": "uuq0j5qOS9cK",
        "outputId": "9d54dd89-25f1-4c79-fd10-80338d64a18d"
      },
      "execution_count": null,
      "outputs": [
        {
          "output_type": "stream",
          "name": "stdout",
          "text": [
            "  epoch    train_loss    valid_acc    valid_loss     dur\n",
            "-------  ------------  -----------  ------------  ------\n",
            "      1        \u001b[36m1.2852\u001b[0m       \u001b[32m0.8014\u001b[0m        \u001b[35m0.6530\u001b[0m  1.1864\n",
            "      2        \u001b[36m0.7290\u001b[0m       \u001b[32m0.8454\u001b[0m        \u001b[35m0.4956\u001b[0m  1.1079\n",
            "      3        \u001b[36m0.6060\u001b[0m       \u001b[32m0.8692\u001b[0m        \u001b[35m0.4179\u001b[0m  1.0991\n",
            "      4        \u001b[36m0.5256\u001b[0m       \u001b[32m0.8838\u001b[0m        \u001b[35m0.3763\u001b[0m  1.1027\n",
            "      5        \u001b[36m0.4676\u001b[0m       \u001b[32m0.8946\u001b[0m        \u001b[35m0.3423\u001b[0m  1.1147\n",
            "      6        \u001b[36m0.4279\u001b[0m       \u001b[32m0.9010\u001b[0m        \u001b[35m0.3231\u001b[0m  1.3861\n",
            "      7        \u001b[36m0.3934\u001b[0m       \u001b[32m0.9110\u001b[0m        \u001b[35m0.2964\u001b[0m  1.4330\n",
            "      8        \u001b[36m0.3653\u001b[0m       \u001b[32m0.9135\u001b[0m        \u001b[35m0.2851\u001b[0m  1.0950\n",
            "      9        \u001b[36m0.3473\u001b[0m       \u001b[32m0.9154\u001b[0m        \u001b[35m0.2802\u001b[0m  1.1025\n",
            "     10        \u001b[36m0.3286\u001b[0m       \u001b[32m0.9192\u001b[0m        \u001b[35m0.2722\u001b[0m  1.0954\n",
            "     11        \u001b[36m0.3087\u001b[0m       \u001b[32m0.9207\u001b[0m        \u001b[35m0.2673\u001b[0m  1.0994\n",
            "     12        \u001b[36m0.2925\u001b[0m       \u001b[32m0.9220\u001b[0m        \u001b[35m0.2634\u001b[0m  1.0905\n",
            "     13        \u001b[36m0.2830\u001b[0m       \u001b[32m0.9229\u001b[0m        \u001b[35m0.2603\u001b[0m  1.0858\n",
            "     14        \u001b[36m0.2701\u001b[0m       \u001b[32m0.9253\u001b[0m        \u001b[35m0.2589\u001b[0m  1.0843\n",
            "     15        \u001b[36m0.2608\u001b[0m       0.9222        0.2656  1.4581\n",
            "     16        \u001b[36m0.2535\u001b[0m       \u001b[32m0.9257\u001b[0m        \u001b[35m0.2570\u001b[0m  2.5462\n",
            "     17        \u001b[36m0.2426\u001b[0m       \u001b[32m0.9294\u001b[0m        \u001b[35m0.2518\u001b[0m  1.8463\n",
            "     18        \u001b[36m0.2326\u001b[0m       0.9261        0.2585  1.0996\n",
            "     19        0.2335       0.9282        \u001b[35m0.2498\u001b[0m  1.0836\n",
            "     20        \u001b[36m0.2222\u001b[0m       0.9290        0.2501  1.0926\n"
          ]
        }
      ]
    },
    {
      "cell_type": "code",
      "source": [
        "y_pred = net4.predict(X_test)\n",
        "accuracy_score(y_test, y_pred)"
      ],
      "metadata": {
        "colab": {
          "base_uri": "https://localhost:8080/"
        },
        "id": "q1QSzz6g-9Fy",
        "outputId": "0863da8f-66b7-47e4-9e73-dbd90678bb77"
      },
      "execution_count": null,
      "outputs": [
        {
          "output_type": "execute_result",
          "data": {
            "text/plain": [
              "0.8451"
            ]
          },
          "metadata": {},
          "execution_count": 35
        }
      ]
    },
    {
      "cell_type": "code",
      "source": [
        "hidden_dims = [20, 20, 20, 20, 20]\n",
        "net5 = NeuralNetClassifier(ClassifierModule(mnist_dim, hidden_dims, output_dim), max_epochs=20, lr=0.1, device=device)\n",
        "net5.fit(X_train, y_train);\n",
        "nets.append(net5)"
      ],
      "metadata": {
        "colab": {
          "base_uri": "https://localhost:8080/"
        },
        "id": "vCC7A8VmTAoX",
        "outputId": "34f562c7-2173-4ca2-ab29-491f5309cc5c"
      },
      "execution_count": null,
      "outputs": [
        {
          "output_type": "stream",
          "name": "stdout",
          "text": [
            "  epoch    train_loss    valid_acc    valid_loss     dur\n",
            "-------  ------------  -----------  ------------  ------\n",
            "      1        \u001b[36m2.3025\u001b[0m       \u001b[32m0.1692\u001b[0m        \u001b[35m2.2979\u001b[0m  1.2938\n",
            "      2        \u001b[36m2.1595\u001b[0m       \u001b[32m0.1946\u001b[0m        \u001b[35m1.8559\u001b[0m  1.2744\n",
            "      3        \u001b[36m1.8141\u001b[0m       \u001b[32m0.4262\u001b[0m        \u001b[35m1.5069\u001b[0m  1.3018\n",
            "      4        \u001b[36m1.5045\u001b[0m       \u001b[32m0.7123\u001b[0m        \u001b[35m1.0864\u001b[0m  1.2927\n",
            "      5        \u001b[36m1.1728\u001b[0m       \u001b[32m0.7762\u001b[0m        \u001b[35m0.7697\u001b[0m  1.6069\n",
            "      6        \u001b[36m0.9717\u001b[0m       \u001b[32m0.8143\u001b[0m        \u001b[35m0.6694\u001b[0m  1.6718\n",
            "      7        \u001b[36m0.8890\u001b[0m       \u001b[32m0.8274\u001b[0m        \u001b[35m0.6455\u001b[0m  1.2666\n",
            "      8        \u001b[36m0.8185\u001b[0m       \u001b[32m0.8433\u001b[0m        \u001b[35m0.5843\u001b[0m  1.2750\n",
            "      9        \u001b[36m0.7889\u001b[0m       0.8398        0.6078  1.2791\n",
            "     10        \u001b[36m0.7490\u001b[0m       \u001b[32m0.8483\u001b[0m        \u001b[35m0.5640\u001b[0m  1.2751\n",
            "     11        \u001b[36m0.7202\u001b[0m       \u001b[32m0.8558\u001b[0m        \u001b[35m0.5308\u001b[0m  1.2602\n",
            "     12        \u001b[36m0.6814\u001b[0m       \u001b[32m0.8616\u001b[0m        0.5403  1.2802\n",
            "     13        \u001b[36m0.6479\u001b[0m       \u001b[32m0.8620\u001b[0m        0.5497  1.2647\n",
            "     14        \u001b[36m0.6186\u001b[0m       \u001b[32m0.8642\u001b[0m        0.5335  1.4814\n",
            "     15        \u001b[36m0.6024\u001b[0m       \u001b[32m0.8661\u001b[0m        \u001b[35m0.5142\u001b[0m  1.8016\n",
            "     16        \u001b[36m0.5902\u001b[0m       \u001b[32m0.8693\u001b[0m        0.5148  1.2571\n",
            "     17        \u001b[36m0.5753\u001b[0m       0.8625        0.5572  1.2940\n",
            "     18        \u001b[36m0.5680\u001b[0m       \u001b[32m0.8712\u001b[0m        \u001b[35m0.5084\u001b[0m  1.2716\n",
            "     19        \u001b[36m0.5569\u001b[0m       \u001b[32m0.8799\u001b[0m        \u001b[35m0.5055\u001b[0m  1.2778\n",
            "     20        \u001b[36m0.5412\u001b[0m       0.8778        0.5329  1.2788\n"
          ]
        }
      ]
    },
    {
      "cell_type": "code",
      "source": [
        "y_pred = net5.predict(X_test)\n",
        "accuracy_score(y_test, y_pred)"
      ],
      "metadata": {
        "colab": {
          "base_uri": "https://localhost:8080/"
        },
        "id": "ioEIKLGP--vq",
        "outputId": "98c07d7d-bfc8-40e5-e5b1-d85b9c35ad73"
      },
      "execution_count": null,
      "outputs": [
        {
          "output_type": "execute_result",
          "data": {
            "text/plain": [
              "0.7583"
            ]
          },
          "metadata": {},
          "execution_count": 37
        }
      ]
    },
    {
      "cell_type": "code",
      "source": [
        "def get_correlation(module1, module2, X):\n",
        "  Ts1, layers1 = module1.forward(X, eval=True)[1], module1.forward(X, eval=True)[2]\n",
        "  Ts2, layers2 = module2.forward(X, eval=True)[1], module2.forward(X, eval=True)[2]\n",
        "\n",
        "  correlations = np.zeros_like(Ts1.cpu().detach().numpy()[0])\n",
        "  for i in range(Ts1.shape[1]):\n",
        "    neuron_i = Ts1[:, i]\n",
        "    max_idx = 0\n",
        "    max_corr = -1\n",
        "    for j in range(Ts2.shape[1]):\n",
        "      neuron_j = Ts2[:, j]\n",
        "      stacked = torch.stack((neuron_i, neuron_j))\n",
        "      corr = torch.corrcoef(stacked)[0, 1] / (abs(layers1[0, i] - layers2[0, j]) + 1)\n",
        "      corr = corr.cpu().detach().numpy()\n",
        "      if corr > max_corr:\n",
        "        max_corr = corr\n",
        "        max_idx = j\n",
        "    correlations[i] = max_corr\n",
        "\n",
        "  return correlations.mean()\n",
        "\n",
        "def mean_correlation(module1, module2, X):\n",
        "    return (get_correlation(module1, module2, X) + get_correlation(module2, module1, X)) / 2"
      ],
      "metadata": {
        "id": "A6-i10M0-N1E"
      },
      "execution_count": null,
      "outputs": []
    },
    {
      "cell_type": "code",
      "source": [
        "for i in range(len(nets)):\n",
        "  for j in range(i + 1, len(nets)):\n",
        "    correlation = get_correlation(nets[i].module, nets[j].module, torch.tensor(X_test).to(device))\n",
        "    print(\"correlation between net\" + str(i + 1) + \" and net\" + str(j + 1) + \":\", correlation)"
      ],
      "metadata": {
        "colab": {
          "base_uri": "https://localhost:8080/"
        },
        "id": "3vwYOHjOKy9F",
        "outputId": "ff9e426d-c972-45a6-ff4f-dd59b0ce0a29"
      },
      "execution_count": null,
      "outputs": [
        {
          "output_type": "stream",
          "name": "stdout",
          "text": [
            "correlation between net1 and net2: 0.57208073\n",
            "correlation between net1 and net3: 0.5557628\n",
            "correlation between net1 and net4: 0.58108485\n",
            "correlation between net1 and net5: 0.5101588\n",
            "correlation between net2 and net3: 0.62256503\n",
            "correlation between net2 and net4: 0.6189548\n",
            "correlation between net2 and net5: 0.5115519\n",
            "correlation between net3 and net4: 0.67899024\n",
            "correlation between net3 and net5: 0.5379509\n",
            "correlation between net4 and net5: 0.53018576\n"
          ]
        }
      ]
    },
    {
      "cell_type": "code",
      "source": [
        "def get_layers_names(net):\n",
        "  children = []\n",
        "  for child in net.named_children():\n",
        "    if isinstance(child[1], nn.Dropout):\n",
        "      continue\n",
        "    elif isinstance(child[1], nn.ModuleList):\n",
        "      for ch in child[1]._modules:\n",
        "        children.append((child[1], child[0], ch))\n",
        "    else:\n",
        "      children.append(child[0])\n",
        "  return children\n",
        "\n",
        "get_layers_names(net2.module)"
      ],
      "metadata": {
        "colab": {
          "base_uri": "https://localhost:8080/"
        },
        "id": "9qwpYAtLIDHg",
        "outputId": "02fd650b-4025-4bb8-e3df-497aa51ffee2"
      },
      "execution_count": null,
      "outputs": [
        {
          "output_type": "execute_result",
          "data": {
            "text/plain": [
              "[(ModuleList(\n",
              "    (0): Linear(in_features=784, out_features=60, bias=True)\n",
              "    (1): Linear(in_features=60, out_features=40, bias=True)\n",
              "  ),\n",
              "  'hidden',\n",
              "  '0'),\n",
              " (ModuleList(\n",
              "    (0): Linear(in_features=784, out_features=60, bias=True)\n",
              "    (1): Linear(in_features=60, out_features=40, bias=True)\n",
              "  ),\n",
              "  'hidden',\n",
              "  '1'),\n",
              " 'output']"
            ]
          },
          "metadata": {},
          "execution_count": 40
        }
      ]
    },
    {
      "cell_type": "code",
      "source": [
        "activation = {}\n",
        "def get_activation(name):\n",
        "    def hook(model, input, output):\n",
        "        activation[name] = output.detach()\n",
        "    return hook\n",
        "\n",
        "# def get_outputs(net, test):\n",
        "#   layers = get_layers_names(net)\n",
        "#   layer_num = 0\n",
        "#   layer_nums = None\n",
        "#   Ts = None\n",
        "#   for layer in layers:\n",
        "#     if isinstance(layer[0], nn.ModuleList):\n",
        "#       net._modules[layer[1]]._modules[layer[2]].register_forward_hook(get_activation(layer[2]))\n",
        "#       out = net(test)\n",
        "#       output = activation[layer[2]]\n",
        "#     else:\n",
        "#       getattr(net, layer).register_forward_hook(get_activation(layer))\n",
        "#       out = net(test)\n",
        "#       output = activation[layer]\n",
        "#     Ts = torch.cat((Ts, output), 1) if Ts is not None else output\n",
        "#     l = torch.ones_like(output) * layer_num\n",
        "#     layer_nums = torch.cat((layer_nums, l), 1) if layer_nums is not None else l\n",
        "#     layer_num += 1\n",
        "#   return Ts, layer_nums\n",
        "\n",
        "\n",
        "# get_outputs(net2.module, torch.tensor(X_test).to(device))"
      ],
      "metadata": {
        "id": "QTOdYZ2DG9pT"
      },
      "execution_count": null,
      "outputs": []
    },
    {
      "cell_type": "markdown",
      "metadata": {
        "id": "I2GsBaxH_v7r"
      },
      "source": [
        "# Convolutional Network\n"
      ]
    },
    {
      "cell_type": "code",
      "execution_count": null,
      "metadata": {
        "id": "Rt8ETXGa_v7t"
      },
      "outputs": [],
      "source": [
        "# XCnn_train, XCnn_test, y_train, y_test = train_test_split(XCnn, y, test_size=0.25, random_state=42)"
      ]
    },
    {
      "cell_type": "code",
      "execution_count": null,
      "metadata": {
        "id": "-jQm85il_v7t"
      },
      "outputs": [],
      "source": [
        "# XCnn_train.shape, y_train.shape"
      ]
    },
    {
      "cell_type": "code",
      "execution_count": null,
      "metadata": {
        "id": "YdQ-ISvb_v7u"
      },
      "outputs": [],
      "source": [
        "class Cnn(nn.Module):\n",
        "    def __init__(self, dropout=0.5):\n",
        "        super(Cnn, self).__init__()\n",
        "        self.conv1 = nn.Conv2d(1, 32, kernel_size=3)\n",
        "        self.conv2 = nn.Conv2d(32, 64, kernel_size=3)\n",
        "        self.conv2_drop = nn.Dropout2d(p=dropout)\n",
        "        self.fc1 = nn.Linear(1600, 100) # 1600 = number channels * width * height\n",
        "        self.fc2 = nn.Linear(100, 10)\n",
        "        self.fc1_drop = nn.Dropout(p=dropout)\n",
        "\n",
        "    def forward(self, x, eval=False):\n",
        "\n",
        "        outputs = []\n",
        "        x = x.reshape((x.shape[0], 1, 28, 28))\n",
        "\n",
        "        x = torch.relu(F.max_pool2d(self.conv1(x), 2))\n",
        "        outputs.append(x)\n",
        "        x = torch.relu(F.max_pool2d(self.conv2_drop(self.conv2(x)), 2))\n",
        "        outputs.append(x)\n",
        "\n",
        "        # flatten over channel, height and width = 1600\n",
        "        x = x.view(-1, x.size(1) * x.size(2) * x.size(3))\n",
        "\n",
        "        x = torch.relu(self.fc1_drop(self.fc1(x)))\n",
        "        x = torch.softmax(self.fc2(x), dim=-1)\n",
        "\n",
        "        Ts = None\n",
        "        layers = None\n",
        "        layer_num = 0\n",
        "        if eval:\n",
        "          for X in outputs:\n",
        "            X = X.reshape((X.shape[0], np.prod(X.shape) // X.shape[0]))\n",
        "            Ts = torch.cat((Ts, X), 1) if Ts is not None else X\n",
        "            l = torch.ones_like(X) * layer_num\n",
        "            layers = torch.cat((layers, l), 1) if layers is not None else l\n",
        "            layer_num += 1\n",
        "          return x, Ts, layers\n",
        "\n",
        "        return x\n"
      ]
    },
    {
      "cell_type": "code",
      "execution_count": null,
      "metadata": {
        "id": "WJrWyFfb_v7u"
      },
      "outputs": [],
      "source": [
        "torch.manual_seed(0)\n",
        "\n",
        "cnn = NeuralNetClassifier(\n",
        "    Cnn(),\n",
        "    max_epochs=10,\n",
        "    lr=0.002,\n",
        "    optimizer=torch.optim.Adam,\n",
        "    device=device,\n",
        ")"
      ]
    },
    {
      "cell_type": "code",
      "execution_count": null,
      "metadata": {
        "id": "KRtHfgg8_v7u",
        "outputId": "c91cea01-f81e-4bc5-d687-f86367462844",
        "colab": {
          "base_uri": "https://localhost:8080/"
        }
      },
      "outputs": [
        {
          "output_type": "stream",
          "name": "stdout",
          "text": [
            "  epoch    train_loss    valid_acc    valid_loss     dur\n",
            "-------  ------------  -----------  ------------  ------\n",
            "      1        \u001b[36m0.8320\u001b[0m       \u001b[32m0.9183\u001b[0m        \u001b[35m0.2745\u001b[0m  2.2241\n",
            "      2        \u001b[36m0.4532\u001b[0m       \u001b[32m0.9425\u001b[0m        \u001b[35m0.1956\u001b[0m  1.7795\n",
            "      3        \u001b[36m0.3769\u001b[0m       \u001b[32m0.9517\u001b[0m        \u001b[35m0.1609\u001b[0m  1.8010\n",
            "      4        \u001b[36m0.3438\u001b[0m       \u001b[32m0.9568\u001b[0m        \u001b[35m0.1454\u001b[0m  1.9166\n",
            "      5        \u001b[36m0.3170\u001b[0m       \u001b[32m0.9590\u001b[0m        \u001b[35m0.1352\u001b[0m  2.1884\n",
            "      6        \u001b[36m0.2950\u001b[0m       \u001b[32m0.9628\u001b[0m        \u001b[35m0.1224\u001b[0m  1.8233\n",
            "      7        \u001b[36m0.2780\u001b[0m       \u001b[32m0.9649\u001b[0m        \u001b[35m0.1117\u001b[0m  1.7884\n",
            "      8        \u001b[36m0.2630\u001b[0m       \u001b[32m0.9678\u001b[0m        \u001b[35m0.1098\u001b[0m  1.7996\n",
            "      9        \u001b[36m0.2545\u001b[0m       \u001b[32m0.9681\u001b[0m        \u001b[35m0.1029\u001b[0m  1.7873\n",
            "     10        \u001b[36m0.2429\u001b[0m       \u001b[32m0.9699\u001b[0m        \u001b[35m0.0989\u001b[0m  1.7808\n"
          ]
        }
      ],
      "source": [
        "cnn.fit(X_train, y_train);"
      ]
    },
    {
      "cell_type": "code",
      "source": [
        "y_pred = cnn.predict(X_test)\n",
        "accuracy_score(y_test, y_pred)"
      ],
      "metadata": {
        "colab": {
          "base_uri": "https://localhost:8080/"
        },
        "id": "5GFi5rv-_DFT",
        "outputId": "23f31012-e224-4278-a7cf-9a87b1856b7b"
      },
      "execution_count": null,
      "outputs": [
        {
          "output_type": "execute_result",
          "data": {
            "text/plain": [
              "0.9174"
            ]
          },
          "metadata": {},
          "execution_count": 45
        }
      ]
    },
    {
      "cell_type": "code",
      "source": [
        "X_test.shape"
      ],
      "metadata": {
        "colab": {
          "base_uri": "https://localhost:8080/"
        },
        "id": "3axUSJ-SmmWE",
        "outputId": "50171fdb-b107-4bde-98af-0a11f60f2ad3"
      },
      "execution_count": null,
      "outputs": [
        {
          "output_type": "execute_result",
          "data": {
            "text/plain": [
              "(2000, 784)"
            ]
          },
          "metadata": {},
          "execution_count": 42
        }
      ]
    },
    {
      "cell_type": "code",
      "source": [
        "for i in range(len(nets)):\n",
        "  correlation = get_correlation(nets[i].module, cnn.module, torch.tensor(X_test[:10]).to(device))\n",
        "  print(\"correlation between net\" + str(i + 1) + \" and cnn:\", correlation)"
      ],
      "metadata": {
        "id": "sVg63bZmaOct",
        "colab": {
          "base_uri": "https://localhost:8080/"
        },
        "outputId": "bdcb2edd-e874-4a71-c555-2b7ae6665079"
      },
      "execution_count": null,
      "outputs": [
        {
          "output_type": "stream",
          "name": "stdout",
          "text": [
            "correlation between net1 and cnn: 0.90018266\n",
            "correlation between net2 and cnn: 0.7688588\n",
            "correlation between net3 and cnn: 0.90984225\n",
            "correlation between net4 and cnn: 0.89354587\n",
            "correlation between net5 and cnn: 0.5188956\n"
          ]
        }
      ]
    }
  ],
  "metadata": {
    "kernelspec": {
      "display_name": "Python 3",
      "name": "python3"
    },
    "language_info": {
      "codemirror_mode": {
        "name": "ipython",
        "version": 3
      },
      "file_extension": ".py",
      "mimetype": "text/x-python",
      "name": "python",
      "nbconvert_exporter": "python",
      "pygments_lexer": "ipython3",
      "version": "3.7.13 (default, Mar 28 2022, 08:03:21) [MSC v.1916 64 bit (AMD64)]"
    },
    "vscode": {
      "interpreter": {
        "hash": "bd97b8bffa4d3737e84826bc3d37be3046061822757ce35137ab82ad4c5a2016"
      }
    },
    "colab": {
      "provenance": []
    }
  },
  "nbformat": 4,
  "nbformat_minor": 0
}