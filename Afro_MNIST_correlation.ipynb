{
  "cells": [
    {
      "cell_type": "markdown",
      "metadata": {
        "id": "DJsUjs19_v63"
      },
      "source": [
        "# Afro-MNIST with SciKit-Learn and skorch"
      ]
    },
    {
      "cell_type": "code",
      "execution_count": 1,
      "metadata": {
        "id": "8qYGNO2S_v6_"
      },
      "outputs": [],
      "source": [
        "import subprocess\n",
        "\n",
        "# Installation on Google Colab\n",
        "try:\n",
        "    import google.colab\n",
        "    subprocess.run(['python', '-m', 'pip', 'install', 'skorch' , 'torch'])\n",
        "except ImportError:\n",
        "    pass"
      ]
    },
    {
      "cell_type": "code",
      "execution_count": 2,
      "metadata": {
        "id": "Gj0pvjxT_v7G"
      },
      "outputs": [],
      "source": [
        "from sklearn.datasets import fetch_openml\n",
        "from sklearn.model_selection import train_test_split\n",
        "import numpy as np\n",
        "import matplotlib.pyplot as plt"
      ]
    },
    {
      "cell_type": "markdown",
      "metadata": {
        "id": "mPz6Bjqw_v7H"
      },
      "source": [
        "## Loading Data"
      ]
    },
    {
      "cell_type": "code",
      "execution_count": 3,
      "metadata": {
        "colab": {
          "base_uri": "https://localhost:8080/"
        },
        "id": "Ggw5wv7EwEiT",
        "outputId": "827f3999-108e-4045-e8e6-91169285c083"
      },
      "outputs": [
        {
          "name": "stdout",
          "output_type": "stream",
          "text": [
            "Downloading...\n",
            "From (original): https://drive.google.com/uc?id=1GwzlZh15WOwEPcadkn0DHRbiQH9FuQzr\n",
            "From (redirected): https://drive.google.com/uc?id=1GwzlZh15WOwEPcadkn0DHRbiQH9FuQzr&confirm=t&uuid=706f2f24-7fc0-47b8-a581-a1431016f6da\n",
            "To: /content/Afro-MNIST.zip\n",
            "100% 108M/108M [00:04<00:00, 23.7MB/s]\n"
          ]
        }
      ],
      "source": [
        "!gdown 1GwzlZh15WOwEPcadkn0DHRbiQH9FuQzr"
      ]
    },
    {
      "cell_type": "code",
      "execution_count": 4,
      "metadata": {
        "colab": {
          "base_uri": "https://localhost:8080/"
        },
        "id": "Q9nSDUP6b27q",
        "outputId": "d788fcd1-5e73-47f7-f724-2908f0810488"
      },
      "outputs": [
        {
          "name": "stdout",
          "output_type": "stream",
          "text": [
            "Archive:  Afro-MNIST.zip\n",
            "  inflating: Ethiopic/Ethiopic_MNIST_X_test.npy  \n",
            "  inflating: Ethiopic/Ethiopic_MNIST_X_train.npy  \n",
            "  inflating: Ethiopic/Ethiopic_MNIST_y_test.npy  \n",
            "  inflating: Ethiopic/Ethiopic_MNIST_y_train.npy  \n",
            "  inflating: NKo/NKo_MNIST_X_test.npy  \n",
            "  inflating: NKo/NKo_MNIST_X_train.npy  \n",
            "  inflating: NKo/NKo_MNIST_y_test.npy  \n",
            "  inflating: NKo/NKo_MNIST_y_train.npy  \n",
            "  inflating: Osmanya/Osmanya_MNIST_X_test.npy  \n",
            "  inflating: Osmanya/Osmanya_MNIST_X_train.npy  \n",
            "  inflating: Osmanya/Osmanya_MNIST_y_test.npy  \n",
            "  inflating: Osmanya/Osmanya_MNIST_y_train.npy  \n",
            "  inflating: Vai/Vai_MNIST_X_test.npy  \n",
            "  inflating: Vai/Vai_MNIST_X_train.npy  \n",
            "  inflating: Vai/Vai_MNIST_y_test.npy  \n",
            "  inflating: Vai/Vai_MNIST_y_train.npy  \n"
          ]
        }
      ],
      "source": [
        "!unzip Afro-MNIST.zip"
      ]
    },
    {
      "cell_type": "code",
      "execution_count": 5,
      "metadata": {
        "colab": {
          "base_uri": "https://localhost:8080/"
        },
        "id": "xre5L2xnuYvu",
        "outputId": "06be558d-ec49-4248-c5cf-c4660e14e0fb"
      },
      "outputs": [
        {
          "name": "stdout",
          "output_type": "stream",
          "text": [
            "/content/Ethiopic\n"
          ]
        }
      ],
      "source": [
        "cd Ethiopic"
      ]
    },
    {
      "cell_type": "code",
      "execution_count": 6,
      "metadata": {
        "id": "Git89CnRmNaB"
      },
      "outputs": [],
      "source": [
        "X_train = np.load(\"Ethiopic_MNIST_X_train.npy\")\n",
        "y_train = np.load(\"Ethiopic_MNIST_y_train.npy\").astype('int64')\n",
        "X_test  = np.load(\"Ethiopic_MNIST_X_test.npy\")\n",
        "y_test  = np.load(\"Ethiopic_MNIST_y_test.npy\").astype('int64')\n",
        "img_rows, img_cols = 28, 28\n",
        "\n",
        "X_train = X_train.reshape(X_train.shape[0], img_rows, img_cols)\n",
        "X_test = X_test.reshape(X_test.shape[0], img_rows, img_cols)\n",
        "input_shape = (img_rows, img_cols, 1)\n",
        "\n",
        "X_train = X_train.astype('float32')\n",
        "X_test = X_test.astype('float32')\n",
        "X_train /= 255\n",
        "X_test /= 255"
      ]
    },
    {
      "cell_type": "code",
      "execution_count": 7,
      "metadata": {
        "colab": {
          "base_uri": "https://localhost:8080/"
        },
        "id": "s0BntHiRozyz",
        "outputId": "c191df4c-5f59-48e7-98f9-795f4b3620f0"
      },
      "outputs": [
        {
          "data": {
            "text/plain": [
              "((60000, 28, 28), (10000, 28, 28), (60000,), (10000,))"
            ]
          },
          "execution_count": 7,
          "metadata": {},
          "output_type": "execute_result"
        }
      ],
      "source": [
        "X_train.shape, X_test.shape, y_train.shape, y_test.shape"
      ]
    },
    {
      "cell_type": "code",
      "execution_count": 8,
      "metadata": {
        "id": "P21ad5xAWrG0"
      },
      "outputs": [],
      "source": [
        "X_train = X_train.reshape((X_train.shape[0], 28*28))\n",
        "X_test = X_test.reshape((X_test.shape[0], 28*28))"
      ]
    },
    {
      "cell_type": "markdown",
      "metadata": {
        "id": "6EKEvbuP_v7c"
      },
      "source": [
        "### Print a selection of training images and their labels"
      ]
    },
    {
      "cell_type": "code",
      "execution_count": 9,
      "metadata": {
        "id": "C9muXJPC_v7d"
      },
      "outputs": [],
      "source": [
        "def plot_example(X, y):\n",
        "    \"\"\"Plot the first 5 images and their labels in a row.\"\"\"\n",
        "    for i, (img, y) in enumerate(zip(X[:5].reshape(5, 28, 28), y[:5])):\n",
        "        plt.subplot(151 + i)\n",
        "        plt.imshow(img)\n",
        "        plt.xticks([])\n",
        "        plt.yticks([])\n",
        "        plt.title(y)"
      ]
    },
    {
      "cell_type": "code",
      "execution_count": 10,
      "metadata": {
        "colab": {
          "base_uri": "https://localhost:8080/",
          "height": 144
        },
        "id": "h2-R1-Df_v7e",
        "outputId": "76e9cf8d-c822-432f-f640-0a67fee7e08c"
      },
      "outputs": [
        {
          "data": {
            "image/png": "[encoded data removed]",
            "text/plain": [
              "<Figure size 640x480 with 5 Axes>"
            ]
          },
          "metadata": {},
          "output_type": "display_data"
        }
      ],
      "source": [
        "plot_example(X_train, y_train)"
      ]
    },
    {
      "cell_type": "markdown",
      "metadata": {
        "id": "YQvC-rWf_v7f"
      },
      "source": [
        "## Build Neural Network with PyTorch"
      ]
    },
    {
      "cell_type": "code",
      "execution_count": 11,
      "metadata": {
        "id": "5PG7R0W8_v7f"
      },
      "outputs": [],
      "source": [
        "import torch\n",
        "from torch import nn\n",
        "import torch.nn.functional as F\n",
        "from sklearn.metrics import accuracy_score"
      ]
    },
    {
      "cell_type": "code",
      "execution_count": 12,
      "metadata": {
        "id": "NUjWrGBP_v7g"
      },
      "outputs": [],
      "source": [
        "device = 'cuda' if torch.cuda.is_available() else 'cpu'"
      ]
    },
    {
      "cell_type": "code",
      "execution_count": 13,
      "metadata": {
        "id": "Kpr9Kbc3fl9_"
      },
      "outputs": [],
      "source": [
        "mnist_dim = 28 * 28\n",
        "hidden_dims = [int(mnist_dim/8)]\n",
        "output_dim = 10"
      ]
    },
    {
      "cell_type": "code",
      "execution_count": 14,
      "metadata": {
        "id": "TUzpzJwNfgN3"
      },
      "outputs": [],
      "source": [
        "class ClassifierModule(nn.Module):\n",
        "    def __init__(\n",
        "            self,\n",
        "            input_dim=mnist_dim,\n",
        "            hidden_dims=hidden_dims,\n",
        "            output_dim=output_dim,\n",
        "            dropout=0.5,\n",
        "    ):\n",
        "        super(ClassifierModule, self).__init__()\n",
        "        self.dropout = nn.Dropout(dropout)\n",
        "        self.hidden = nn.ModuleList()\n",
        "        for i in range(len(hidden_dims)):\n",
        "            if i == 0:\n",
        "              self.hidden.append(nn.Linear(mnist_dim, hidden_dims[i]))\n",
        "            else:\n",
        "              self.hidden.append(nn.Linear(hidden_dims[i - 1], hidden_dims[i]))\n",
        "        self.output = nn.Linear(hidden_dims[-1], output_dim)\n",
        "\n",
        "    def forward(self, X, eval=False, **kwargs):\n",
        "        Ts = None\n",
        "        layers = None\n",
        "        layer_num = 0\n",
        "        for h in self.hidden:\n",
        "          X = F.relu(h(X))\n",
        "          if eval:\n",
        "            Ts = torch.cat((Ts, X), 1) if Ts is not None else X\n",
        "            l = torch.ones_like(X) * layer_num\n",
        "            layers = torch.cat((layers, l), 1) if layers is not None else l\n",
        "          layer_num += 1\n",
        "        X = self.dropout(X)\n",
        "        X = F.softmax(self.output(X), dim=-1)\n",
        "        if eval:\n",
        "          return X, Ts, layers\n",
        "        return X"
      ]
    },
    {
      "cell_type": "code",
      "execution_count": 15,
      "metadata": {
        "id": "s0aDatqN_v7l"
      },
      "outputs": [],
      "source": [
        "from skorch import NeuralNetClassifier\n",
        "nets = []"
      ]
    },
    {
      "cell_type": "code",
      "execution_count": 16,
      "metadata": {
        "id": "dOrCbBjk_v7m"
      },
      "outputs": [],
      "source": [
        "torch.manual_seed(0)\n",
        "\n",
        "net1 = NeuralNetClassifier(\n",
        "    ClassifierModule(mnist_dim, [100], output_dim),\n",
        "    max_epochs=20,\n",
        "    lr=0.1,\n",
        "    device=device,\n",
        ")"
      ]
    },
    {
      "cell_type": "code",
      "execution_count": 18,
      "metadata": {
        "colab": {
          "base_uri": "https://localhost:8080/"
        },
        "id": "8i_gnvPi_v7m",
        "outputId": "7bef50f6-445e-49e1-ce8a-f87037401e69"
      },
      "outputs": [
        {
          "name": "stdout",
          "output_type": "stream",
          "text": [
            "  epoch    train_loss    valid_acc    valid_loss     dur\n",
            "-------  ------------  -----------  ------------  ------\n",
            "      1        \u001b[36m0.5622\u001b[0m       \u001b[32m0.9805\u001b[0m        \u001b[35m0.0971\u001b[0m  1.7024\n",
            "      2        \u001b[36m0.1370\u001b[0m       \u001b[32m0.9868\u001b[0m        \u001b[35m0.0537\u001b[0m  1.0827\n",
            "      3        \u001b[36m0.0962\u001b[0m       \u001b[32m0.9884\u001b[0m        \u001b[35m0.0403\u001b[0m  1.0516\n",
            "      4        \u001b[36m0.0801\u001b[0m       \u001b[32m0.9897\u001b[0m        \u001b[35m0.0341\u001b[0m  1.0927\n",
            "      5        \u001b[36m0.0705\u001b[0m       \u001b[32m0.9905\u001b[0m        \u001b[35m0.0313\u001b[0m  1.0184\n",
            "      6        \u001b[36m0.0635\u001b[0m       0.9904        \u001b[35m0.0286\u001b[0m  1.0681\n",
            "      7        \u001b[36m0.0578\u001b[0m       0.9895        0.0292  1.3725\n",
            "      8        \u001b[36m0.0521\u001b[0m       \u001b[32m0.9908\u001b[0m        \u001b[35m0.0260\u001b[0m  1.3311\n",
            "      9        \u001b[36m0.0507\u001b[0m       \u001b[32m0.9916\u001b[0m        \u001b[35m0.0250\u001b[0m  1.0328\n",
            "     10        \u001b[36m0.0479\u001b[0m       0.9908        0.0259  1.0334\n",
            "     11        \u001b[36m0.0453\u001b[0m       \u001b[32m0.9918\u001b[0m        \u001b[35m0.0227\u001b[0m  1.0410\n",
            "     12        \u001b[36m0.0452\u001b[0m       \u001b[32m0.9922\u001b[0m        0.0229  1.0330\n",
            "     13        \u001b[36m0.0418\u001b[0m       \u001b[32m0.9926\u001b[0m        \u001b[35m0.0223\u001b[0m  1.0666\n",
            "     14        \u001b[36m0.0404\u001b[0m       0.9926        \u001b[35m0.0217\u001b[0m  1.0348\n",
            "     15        \u001b[36m0.0399\u001b[0m       0.9923        \u001b[35m0.0204\u001b[0m  1.0746\n",
            "     16        \u001b[36m0.0379\u001b[0m       0.9924        0.0207  1.0411\n",
            "     17        \u001b[36m0.0374\u001b[0m       0.9922        0.0215  1.0324\n",
            "     18        \u001b[36m0.0356\u001b[0m       \u001b[32m0.9930\u001b[0m        \u001b[35m0.0193\u001b[0m  1.3353\n",
            "     19        \u001b[36m0.0344\u001b[0m       0.9923        0.0214  1.4595\n",
            "     20        \u001b[36m0.0340\u001b[0m       0.9928        0.0195  1.0592\n"
          ]
        }
      ],
      "source": [
        "net1.fit(X_train, y_train)\n",
        "nets.append(net1)"
      ]
    },
    {
      "cell_type": "code",
      "execution_count": 19,
      "metadata": {
        "colab": {
          "base_uri": "https://localhost:8080/"
        },
        "id": "LCWachuM_v7o",
        "outputId": "ce31ad23-88db-450c-f367-9e50487f87b3"
      },
      "outputs": [
        {
          "data": {
            "text/plain": [
              "0.9923"
            ]
          },
          "execution_count": 19,
          "metadata": {},
          "output_type": "execute_result"
        }
      ],
      "source": [
        "y_pred = net1.predict(X_test)\n",
        "accuracy_score(y_test, y_pred)"
      ]
    },
    {
      "cell_type": "code",
      "execution_count": 20,
      "metadata": {
        "colab": {
          "base_uri": "https://localhost:8080/"
        },
        "id": "BW7oUwIsefSx",
        "outputId": "20678bbb-738d-4e8d-aae3-ffde1799ca6c"
      },
      "outputs": [
        {
          "name": "stdout",
          "output_type": "stream",
          "text": [
            "  epoch    train_loss    valid_acc    valid_loss     dur\n",
            "-------  ------------  -----------  ------------  ------\n",
            "      1        \u001b[36m0.9101\u001b[0m       \u001b[32m0.9682\u001b[0m        \u001b[35m0.1292\u001b[0m  1.1436\n",
            "      2        \u001b[36m0.2279\u001b[0m       \u001b[32m0.9806\u001b[0m        \u001b[35m0.0623\u001b[0m  1.0904\n",
            "      3        \u001b[36m0.1562\u001b[0m       \u001b[32m0.9870\u001b[0m        \u001b[35m0.0402\u001b[0m  1.1562\n",
            "      4        \u001b[36m0.1262\u001b[0m       \u001b[32m0.9891\u001b[0m        \u001b[35m0.0328\u001b[0m  1.1003\n",
            "      5        \u001b[36m0.1074\u001b[0m       0.9889        \u001b[35m0.0301\u001b[0m  1.1062\n",
            "      6        \u001b[36m0.0997\u001b[0m       \u001b[32m0.9902\u001b[0m        \u001b[35m0.0270\u001b[0m  1.2418\n",
            "      7        \u001b[36m0.0936\u001b[0m       0.9900        0.0279  1.5152\n",
            "      8        \u001b[36m0.0858\u001b[0m       \u001b[32m0.9908\u001b[0m        \u001b[35m0.0249\u001b[0m  1.6988\n",
            "      9        \u001b[36m0.0793\u001b[0m       0.9902        0.0254  1.5071\n",
            "     10        \u001b[36m0.0748\u001b[0m       0.9902        \u001b[35m0.0248\u001b[0m  1.1055\n",
            "     11        \u001b[36m0.0691\u001b[0m       \u001b[32m0.9913\u001b[0m        \u001b[35m0.0232\u001b[0m  1.1085\n",
            "     12        \u001b[36m0.0646\u001b[0m       \u001b[32m0.9922\u001b[0m        \u001b[35m0.0207\u001b[0m  1.0974\n",
            "     13        \u001b[36m0.0637\u001b[0m       0.9914        0.0217  1.1079\n",
            "     14        \u001b[36m0.0635\u001b[0m       0.9909        0.0231  1.0952\n",
            "     15        \u001b[36m0.0573\u001b[0m       0.9920        0.0210  1.0884\n",
            "     16        \u001b[36m0.0561\u001b[0m       \u001b[32m0.9926\u001b[0m        \u001b[35m0.0201\u001b[0m  1.0748\n",
            "     17        \u001b[36m0.0523\u001b[0m       0.9926        0.0210  1.0810\n",
            "     18        \u001b[36m0.0514\u001b[0m       0.9918        0.0206  1.0710\n",
            "     19        \u001b[36m0.0503\u001b[0m       \u001b[32m0.9934\u001b[0m        \u001b[35m0.0198\u001b[0m  1.4516\n",
            "     20        \u001b[36m0.0501\u001b[0m       0.9933        \u001b[35m0.0186\u001b[0m  1.4961\n"
          ]
        }
      ],
      "source": [
        "hidden_dims = [60, 40]\n",
        "net2 = NeuralNetClassifier(ClassifierModule(mnist_dim, hidden_dims, output_dim), max_epochs=20, lr=0.1, device=device)\n",
        "net2.fit(X_train, y_train);\n",
        "nets.append(net2)"
      ]
    },
    {
      "cell_type": "code",
      "execution_count": 21,
      "metadata": {
        "colab": {
          "base_uri": "https://localhost:8080/"
        },
        "id": "oOJu7u0DefNS",
        "outputId": "abe47219-d406-4d7a-b80b-6d0d854903ef"
      },
      "outputs": [
        {
          "data": {
            "text/plain": [
              "0.9934"
            ]
          },
          "execution_count": 21,
          "metadata": {},
          "output_type": "execute_result"
        }
      ],
      "source": [
        "y_pred = net2.predict(X_test)\n",
        "accuracy_score(y_test, y_pred)"
      ]
    },
    {
      "cell_type": "code",
      "execution_count": 22,
      "metadata": {
        "colab": {
          "base_uri": "https://localhost:8080/"
        },
        "id": "8brVrmkFfBZN",
        "outputId": "962ff7d5-bf4e-4c91-8045-fb35f0374246"
      },
      "outputs": [
        {
          "name": "stdout",
          "output_type": "stream",
          "text": [
            "  epoch    train_loss    valid_acc    valid_loss     dur\n",
            "-------  ------------  -----------  ------------  ------\n",
            "      1        \u001b[36m0.6982\u001b[0m       \u001b[32m0.9741\u001b[0m        \u001b[35m0.0923\u001b[0m  1.1247\n",
            "      2        \u001b[36m0.1511\u001b[0m       \u001b[32m0.9831\u001b[0m        \u001b[35m0.0534\u001b[0m  1.0996\n",
            "      3        \u001b[36m0.1114\u001b[0m       \u001b[32m0.9858\u001b[0m        \u001b[35m0.0421\u001b[0m  1.0862\n",
            "      4        \u001b[36m0.0896\u001b[0m       \u001b[32m0.9873\u001b[0m        \u001b[35m0.0372\u001b[0m  1.1140\n",
            "      5        \u001b[36m0.0779\u001b[0m       \u001b[32m0.9889\u001b[0m        \u001b[35m0.0324\u001b[0m  1.0727\n",
            "      6        \u001b[36m0.0694\u001b[0m       0.9887        0.0333  1.1517\n",
            "      7        \u001b[36m0.0630\u001b[0m       \u001b[32m0.9893\u001b[0m        \u001b[35m0.0294\u001b[0m  1.1350\n",
            "      8        \u001b[36m0.0589\u001b[0m       \u001b[32m0.9906\u001b[0m        \u001b[35m0.0259\u001b[0m  1.1236\n",
            "      9        \u001b[36m0.0552\u001b[0m       \u001b[32m0.9911\u001b[0m        \u001b[35m0.0254\u001b[0m  1.2700\n",
            "     10        \u001b[36m0.0509\u001b[0m       0.9909        \u001b[35m0.0244\u001b[0m  1.5122\n",
            "     11        \u001b[36m0.0496\u001b[0m       \u001b[32m0.9913\u001b[0m        \u001b[35m0.0235\u001b[0m  1.2665\n",
            "     12        \u001b[36m0.0461\u001b[0m       0.9909        0.0246  1.1216\n",
            "     13        \u001b[36m0.0433\u001b[0m       \u001b[32m0.9921\u001b[0m        \u001b[35m0.0208\u001b[0m  1.0955\n",
            "     14        \u001b[36m0.0427\u001b[0m       \u001b[32m0.9924\u001b[0m        0.0212  1.0623\n",
            "     15        \u001b[36m0.0376\u001b[0m       \u001b[32m0.9927\u001b[0m        \u001b[35m0.0203\u001b[0m  1.0867\n",
            "     16        0.0378       \u001b[32m0.9934\u001b[0m        \u001b[35m0.0201\u001b[0m  1.0848\n",
            "     17        \u001b[36m0.0349\u001b[0m       0.9932        \u001b[35m0.0186\u001b[0m  1.1264\n",
            "     18        0.0353       0.9927        0.0198  1.1188\n",
            "     19        \u001b[36m0.0329\u001b[0m       0.9932        0.0187  1.1025\n",
            "     20        \u001b[36m0.0324\u001b[0m       0.9928        0.0193  1.3779\n"
          ]
        }
      ],
      "source": [
        "hidden_dims = [40, 60]\n",
        "net3 = NeuralNetClassifier(ClassifierModule(mnist_dim, hidden_dims, output_dim), max_epochs=20, lr=0.1, device=device)\n",
        "net3.fit(X_train, y_train);\n",
        "nets.append(net3)"
      ]
    },
    {
      "cell_type": "code",
      "execution_count": 23,
      "metadata": {
        "colab": {
          "base_uri": "https://localhost:8080/"
        },
        "id": "RPdX6V3RfbIO",
        "outputId": "a5d325aa-69f2-4caf-d267-e1428fe547d9"
      },
      "outputs": [
        {
          "data": {
            "text/plain": [
              "0.9934"
            ]
          },
          "execution_count": 23,
          "metadata": {},
          "output_type": "execute_result"
        }
      ],
      "source": [
        "y_pred = net3.predict(X_test)\n",
        "accuracy_score(y_test, y_pred)"
      ]
    },
    {
      "cell_type": "code",
      "execution_count": 24,
      "metadata": {
        "id": "XddXR1_a_v7p"
      },
      "outputs": [],
      "source": [
        "error_mask = y_pred != y_test"
      ]
    },
    {
      "cell_type": "code",
      "execution_count": 25,
      "metadata": {
        "colab": {
          "base_uri": "https://localhost:8080/",
          "height": 144
        },
        "id": "hXlNTrlt_v7q",
        "outputId": "1cbd79bd-75d4-45d7-9e51-1049539b1d97"
      },
      "outputs": [
        {
          "data": {
            "image/png": "[encoded data removed]",
            "text/plain": [
              "<Figure size 640x480 with 5 Axes>"
            ]
          },
          "metadata": {},
          "output_type": "display_data"
        }
      ],
      "source": [
        "plot_example(X_test[error_mask], y_pred[error_mask])"
      ]
    },
    {
      "cell_type": "code",
      "execution_count": 27,
      "metadata": {
        "colab": {
          "base_uri": "https://localhost:8080/"
        },
        "id": "uuq0j5qOS9cK",
        "outputId": "5987e939-9ccc-498b-e85e-c9e101da1464"
      },
      "outputs": [
        {
          "name": "stdout",
          "output_type": "stream",
          "text": [
            "  epoch    train_loss    valid_acc    valid_loss     dur\n",
            "-------  ------------  -----------  ------------  ------\n",
            "      1        \u001b[36m0.8214\u001b[0m       \u001b[32m0.9703\u001b[0m        \u001b[35m0.1020\u001b[0m  1.3852\n",
            "      2        \u001b[36m0.1830\u001b[0m       \u001b[32m0.9807\u001b[0m        \u001b[35m0.0554\u001b[0m  1.0888\n",
            "      3        \u001b[36m0.1258\u001b[0m       \u001b[32m0.9849\u001b[0m        \u001b[35m0.0417\u001b[0m  1.0833\n",
            "      4        \u001b[36m0.0997\u001b[0m       \u001b[32m0.9869\u001b[0m        \u001b[35m0.0359\u001b[0m  1.1238\n",
            "      5        \u001b[36m0.0879\u001b[0m       \u001b[32m0.9876\u001b[0m        \u001b[35m0.0340\u001b[0m  1.1279\n",
            "      6        \u001b[36m0.0807\u001b[0m       \u001b[32m0.9890\u001b[0m        \u001b[35m0.0296\u001b[0m  1.1479\n",
            "      7        \u001b[36m0.0716\u001b[0m       \u001b[32m0.9896\u001b[0m        \u001b[35m0.0291\u001b[0m  1.5167\n",
            "      8        \u001b[36m0.0682\u001b[0m       0.9893        \u001b[35m0.0290\u001b[0m  1.1125\n",
            "      9        \u001b[36m0.0651\u001b[0m       0.9884        0.0308  1.1546\n",
            "     10        \u001b[36m0.0607\u001b[0m       \u001b[32m0.9911\u001b[0m        \u001b[35m0.0247\u001b[0m  1.4553\n",
            "     11        \u001b[36m0.0593\u001b[0m       \u001b[32m0.9912\u001b[0m        0.0251  1.5057\n",
            "     12        \u001b[36m0.0554\u001b[0m       \u001b[32m0.9914\u001b[0m        \u001b[35m0.0239\u001b[0m  1.1479\n",
            "     13        \u001b[36m0.0535\u001b[0m       0.9910        0.0246  1.1122\n",
            "     14        \u001b[36m0.0516\u001b[0m       0.9912        0.0239  1.0941\n",
            "     15        \u001b[36m0.0492\u001b[0m       \u001b[32m0.9916\u001b[0m        \u001b[35m0.0233\u001b[0m  1.0891\n",
            "     16        \u001b[36m0.0467\u001b[0m       \u001b[32m0.9922\u001b[0m        \u001b[35m0.0220\u001b[0m  1.1170\n",
            "     17        \u001b[36m0.0444\u001b[0m       0.9919        0.0227  1.1125\n",
            "     18        \u001b[36m0.0433\u001b[0m       0.9915        0.0248  1.1089\n",
            "     19        \u001b[36m0.0403\u001b[0m       0.9917        0.0246  1.1719\n",
            "     20        \u001b[36m0.0403\u001b[0m       \u001b[32m0.9929\u001b[0m        \u001b[35m0.0218\u001b[0m  1.2258\n"
          ]
        }
      ],
      "source": [
        "hidden_dims = [50, 50]\n",
        "net4 = NeuralNetClassifier(ClassifierModule(mnist_dim, hidden_dims, output_dim), max_epochs=20, lr=0.1, device=device)\n",
        "net4.fit(X_train, y_train);\n",
        "nets.append(net4)"
      ]
    },
    {
      "cell_type": "code",
      "execution_count": 28,
      "metadata": {
        "colab": {
          "base_uri": "https://localhost:8080/"
        },
        "id": "q1QSzz6g-9Fy",
        "outputId": "fbf62c61-7108-432e-9486-d41be13a53b5"
      },
      "outputs": [
        {
          "data": {
            "text/plain": [
              "0.9923"
            ]
          },
          "execution_count": 28,
          "metadata": {},
          "output_type": "execute_result"
        }
      ],
      "source": [
        "y_pred = net4.predict(X_test)\n",
        "accuracy_score(y_test, y_pred)"
      ]
    },
    {
      "cell_type": "code",
      "execution_count": 29,
      "metadata": {
        "colab": {
          "base_uri": "https://localhost:8080/"
        },
        "id": "vCC7A8VmTAoX",
        "outputId": "46866ed9-d579-481f-b1e1-be8ba11c0ca1"
      },
      "outputs": [
        {
          "name": "stdout",
          "output_type": "stream",
          "text": [
            "  epoch    train_loss    valid_acc    valid_loss     dur\n",
            "-------  ------------  -----------  ------------  ------\n",
            "      1        \u001b[36m2.3023\u001b[0m       \u001b[32m0.1102\u001b[0m        \u001b[35m2.2968\u001b[0m  1.7698\n",
            "      2        \u001b[36m2.0699\u001b[0m       \u001b[32m0.2836\u001b[0m        \u001b[35m1.5386\u001b[0m  1.3953\n",
            "      3        \u001b[36m1.3983\u001b[0m       \u001b[32m0.5862\u001b[0m        \u001b[35m0.9490\u001b[0m  1.3365\n",
            "      4        \u001b[36m0.9865\u001b[0m       \u001b[32m0.8182\u001b[0m        \u001b[35m0.5206\u001b[0m  1.2803\n",
            "      5        \u001b[36m0.7029\u001b[0m       \u001b[32m0.8345\u001b[0m        \u001b[35m0.4168\u001b[0m  1.2993\n",
            "      6        \u001b[36m0.5546\u001b[0m       \u001b[32m0.9056\u001b[0m        \u001b[35m0.3187\u001b[0m  1.2538\n",
            "      7        0.6015       \u001b[32m0.9274\u001b[0m        \u001b[35m0.3018\u001b[0m  1.2921\n",
            "      8        \u001b[36m0.4972\u001b[0m       \u001b[32m0.9347\u001b[0m        \u001b[35m0.2762\u001b[0m  1.2810\n",
            "      9        0.5802       0.9166        0.3235  1.3735\n",
            "     10        \u001b[36m0.4720\u001b[0m       0.9306        \u001b[35m0.2702\u001b[0m  1.7205\n",
            "     11        \u001b[36m0.4501\u001b[0m       \u001b[32m0.9409\u001b[0m        \u001b[35m0.2436\u001b[0m  1.4420\n",
            "     12        0.6189       0.9187        0.2975  1.3205\n",
            "     13        \u001b[36m0.4493\u001b[0m       0.9307        0.2589  1.2691\n",
            "     14        0.4577       0.9340        0.2508  1.3580\n",
            "     15        \u001b[36m0.4316\u001b[0m       0.9091        0.2935  1.3530\n",
            "     16        \u001b[36m0.4077\u001b[0m       \u001b[32m0.9440\u001b[0m        \u001b[35m0.2344\u001b[0m  1.2618\n",
            "     17        0.4319       \u001b[32m0.9443\u001b[0m        \u001b[35m0.2194\u001b[0m  1.3091\n",
            "     18        \u001b[36m0.3675\u001b[0m       \u001b[32m0.9487\u001b[0m        \u001b[35m0.2171\u001b[0m  1.3657\n",
            "     19        0.3693       \u001b[32m0.9499\u001b[0m        \u001b[35m0.2097\u001b[0m  1.7424\n",
            "     20        0.3746       0.9478        \u001b[35m0.2068\u001b[0m  1.4580\n"
          ]
        }
      ],
      "source": [
        "hidden_dims = [20, 20, 20, 20, 20]\n",
        "net5 = NeuralNetClassifier(ClassifierModule(mnist_dim, hidden_dims, output_dim), max_epochs=20, lr=0.1, device=device)\n",
        "net5.fit(X_train, y_train);\n",
        "nets.append(net5)"
      ]
    },
    {
      "cell_type": "code",
      "execution_count": 30,
      "metadata": {
        "colab": {
          "base_uri": "https://localhost:8080/"
        },
        "id": "ioEIKLGP--vq",
        "outputId": "505e9848-5030-4d0e-9d10-0c9640a19dfc"
      },
      "outputs": [
        {
          "data": {
            "text/plain": [
              "0.9496"
            ]
          },
          "execution_count": 30,
          "metadata": {},
          "output_type": "execute_result"
        }
      ],
      "source": [
        "y_pred = net5.predict(X_test)\n",
        "accuracy_score(y_test, y_pred)"
      ]
    },
    {
      "cell_type": "code",
      "execution_count": 31,
      "metadata": {
        "id": "A6-i10M0-N1E"
      },
      "outputs": [],
      "source": [
        "def get_correlation(module1, module2, X):\n",
        "  Ts1, layers1 = module1.forward(X, eval=True)[1], module1.forward(X, eval=True)[2]\n",
        "  Ts2, layers2 = module2.forward(X, eval=True)[1], module2.forward(X, eval=True)[2]\n",
        "\n",
        "  correlations = np.zeros_like(Ts1.cpu().detach().numpy()[0])\n",
        "  for i in range(Ts1.shape[1]):\n",
        "    neuron_i = Ts1[:, i]\n",
        "    max_idx = 0\n",
        "    max_corr = -1\n",
        "    for j in range(Ts2.shape[1]):\n",
        "      neuron_j = Ts2[:, j]\n",
        "      stacked = torch.stack((neuron_i, neuron_j))\n",
        "      corr = torch.corrcoef(stacked)[0, 1] / (abs(layers1[0, i] - layers2[0, j]) + 1)\n",
        "      corr = np.abs(corr.cpu().detach().numpy())\n",
        "      if np.isnan(corr):\n",
        "        corr = 0\n",
        "      if corr > max_corr:\n",
        "        max_corr = corr\n",
        "        max_idx = j\n",
        "    correlations[i] = max_corr\n",
        "\n",
        "  return correlations.mean()\n",
        "\n",
        "def mean_correlation(module1, module2, X):\n",
        "    return (get_correlation(module1, module2, X) + get_correlation(module2, module1, X)) / 2"
      ]
    },
    {
      "cell_type": "code",
      "execution_count": 32,
      "metadata": {
        "colab": {
          "base_uri": "https://localhost:8080/"
        },
        "id": "3vwYOHjOKy9F",
        "outputId": "f81c99a4-589b-4f6f-f36c-81ed9ffc1ce8"
      },
      "outputs": [
        {
          "name": "stdout",
          "output_type": "stream",
          "text": [
            "correlation between net1 and net2: 0.6208968\n",
            "correlation between net1 and net3: 0.61332965\n",
            "correlation between net1 and net4: 0.62839466\n",
            "correlation between net1 and net5: 0.46474802\n",
            "correlation between net2 and net3: 0.70023024\n",
            "correlation between net2 and net4: 0.7124784\n",
            "correlation between net2 and net5: 0.55144495\n",
            "correlation between net3 and net4: 0.7359658\n",
            "correlation between net3 and net5: 0.5564774\n",
            "correlation between net4 and net5: 0.54682314\n"
          ]
        }
      ],
      "source": [
        "for i in range(len(nets)):\n",
        "  for j in range(i + 1, len(nets)):\n",
        "    correlation = get_correlation(nets[i].module, nets[j].module, torch.tensor(X_test).to(device))\n",
        "    print(\"correlation between net\" + str(i + 1) + \" and net\" + str(j + 1) + \":\", correlation)"
      ]
    },
    {
      "cell_type": "markdown",
      "metadata": {
        "id": "I2GsBaxH_v7r"
      },
      "source": [
        "# Convolutional Network\n"
      ]
    },
    {
      "cell_type": "code",
      "execution_count": 37,
      "metadata": {
        "id": "YdQ-ISvb_v7u"
      },
      "outputs": [],
      "source": [
        "class Cnn(nn.Module):\n",
        "    def __init__(self, dropout=0.5):\n",
        "        super(Cnn, self).__init__()\n",
        "        self.conv1 = nn.Conv2d(1, 32, kernel_size=3)\n",
        "        self.conv2 = nn.Conv2d(32, 64, kernel_size=3)\n",
        "        self.conv2_drop = nn.Dropout2d(p=dropout)\n",
        "        self.fc1 = nn.Linear(1600, 100) # 1600 = number channels * width * height\n",
        "        self.fc2 = nn.Linear(100, 10)\n",
        "        self.fc1_drop = nn.Dropout(p=dropout)\n",
        "\n",
        "    def forward(self, x, eval=False):\n",
        "\n",
        "        outputs = []\n",
        "        x = x.reshape((x.shape[0], 1, 28, 28))\n",
        "\n",
        "        x = torch.relu(F.max_pool2d(self.conv1(x), 2))\n",
        "        outputs.append(x)\n",
        "        x = torch.relu(F.max_pool2d(self.conv2_drop(self.conv2(x)), 2))\n",
        "        outputs.append(x)\n",
        "\n",
        "        # flatten over channel, height and width = 1600\n",
        "        x = x.view(-1, x.size(1) * x.size(2) * x.size(3))\n",
        "\n",
        "        x = torch.relu(self.fc1_drop(self.fc1(x)))\n",
        "        x = torch.softmax(self.fc2(x), dim=-1)\n",
        "\n",
        "        Ts = None\n",
        "        layers = None\n",
        "        layer_num = 0\n",
        "        if eval:\n",
        "          for X in outputs:\n",
        "            X = X.reshape((X.shape[0], np.prod(X.shape) // X.shape[0]))\n",
        "            Ts = torch.cat((Ts, X), 1) if Ts is not None else X\n",
        "            l = torch.ones_like(X) * layer_num\n",
        "            layers = torch.cat((layers, l), 1) if layers is not None else l\n",
        "            layer_num += 1\n",
        "          return x, Ts, layers\n",
        "\n",
        "        return x\n"
      ]
    },
    {
      "cell_type": "code",
      "execution_count": 38,
      "metadata": {
        "id": "WJrWyFfb_v7u"
      },
      "outputs": [],
      "source": [
        "torch.manual_seed(0)\n",
        "\n",
        "cnn = NeuralNetClassifier(\n",
        "    Cnn(),\n",
        "    max_epochs=10,\n",
        "    lr=0.002,\n",
        "    optimizer=torch.optim.Adam,\n",
        "    device=device,\n",
        ")"
      ]
    },
    {
      "cell_type": "code",
      "execution_count": 39,
      "metadata": {
        "colab": {
          "base_uri": "https://localhost:8080/"
        },
        "id": "KRtHfgg8_v7u",
        "outputId": "385050b1-7379-46c6-c5ba-5b92bd49aaa8"
      },
      "outputs": [
        {
          "name": "stdout",
          "output_type": "stream",
          "text": [
            "  epoch    train_loss    valid_acc    valid_loss     dur\n",
            "-------  ------------  -----------  ------------  ------\n",
            "      1        \u001b[36m0.3409\u001b[0m       \u001b[32m0.9978\u001b[0m        \u001b[35m0.0069\u001b[0m  2.8060\n",
            "      2        \u001b[36m0.0348\u001b[0m       \u001b[32m0.9992\u001b[0m        \u001b[35m0.0027\u001b[0m  1.6763\n",
            "      3        \u001b[36m0.0230\u001b[0m       \u001b[32m0.9992\u001b[0m        \u001b[35m0.0023\u001b[0m  1.6495\n",
            "      4        \u001b[36m0.0168\u001b[0m       \u001b[32m0.9997\u001b[0m        \u001b[35m0.0007\u001b[0m  2.3960\n",
            "      5        \u001b[36m0.0150\u001b[0m       \u001b[32m0.9998\u001b[0m        \u001b[35m0.0006\u001b[0m  1.6405\n",
            "      6        \u001b[36m0.0130\u001b[0m       0.9998        0.0008  1.7632\n",
            "      7        \u001b[36m0.0109\u001b[0m       \u001b[32m0.9998\u001b[0m        \u001b[35m0.0004\u001b[0m  2.1031\n",
            "      8        \u001b[36m0.0107\u001b[0m       \u001b[32m0.9999\u001b[0m        \u001b[35m0.0004\u001b[0m  1.6514\n",
            "      9        \u001b[36m0.0100\u001b[0m       0.9998        0.0005  1.6391\n",
            "     10        0.0103       0.9995        0.0010  1.6376\n"
          ]
        }
      ],
      "source": [
        "cnn.fit(X_train, y_train);"
      ]
    },
    {
      "cell_type": "code",
      "execution_count": 40,
      "metadata": {
        "colab": {
          "base_uri": "https://localhost:8080/"
        },
        "id": "5GFi5rv-_DFT",
        "outputId": "c5cb1147-6c70-4240-e469-b1a31988a170"
      },
      "outputs": [
        {
          "data": {
            "text/plain": [
              "0.9993"
            ]
          },
          "execution_count": 40,
          "metadata": {},
          "output_type": "execute_result"
        }
      ],
      "source": [
        "y_pred = cnn.predict(X_test)\n",
        "accuracy_score(y_test, y_pred)"
      ]
    },
    {
      "cell_type": "code",
      "execution_count": 42,
      "metadata": {
        "colab": {
          "base_uri": "https://localhost:8080/"
        },
        "id": "sVg63bZmaOct",
        "outputId": "5ab6aab7-b554-461d-b538-ee83e8761eab"
      },
      "outputs": [
        {
          "name": "stdout",
          "output_type": "stream",
          "text": [
            "correlation between net1 and cnn: 0.776968\n",
            "correlation between net2 and cnn: 0.7943495\n",
            "correlation between net3 and cnn: 0.83942634\n",
            "correlation between net4 and cnn: 0.8396347\n",
            "correlation between net5 and cnn: 0.34819618\n"
          ]
        }
      ],
      "source": [
        "for i in range(len(nets)):\n",
        "  correlation = get_correlation(nets[i].module, cnn.module, torch.tensor(X_test[:10]).to(device))\n",
        "  print(\"correlation between net\" + str(i + 1) + \" and cnn:\", correlation)"
      ]
    }
  ],
  "metadata": {
    "accelerator": "GPU",
    "colab": {
      "gpuType": "T4",
      "provenance": []
    },
    "kernelspec": {
      "display_name": "Python 3",
      "name": "python3"
    },
    "language_info": {
      "codemirror_mode": {
        "name": "ipython",
        "version": 3
      },
      "file_extension": ".py",
      "mimetype": "text/x-python",
      "name": "python",
      "nbconvert_exporter": "python",
      "pygments_lexer": "ipython3",
      "version": "3.7.13 (default, Mar 28 2022, 08:03:21) [MSC v.1916 64 bit (AMD64)]"
    },
    "vscode": {
      "interpreter": {
        "hash": "bd97b8bffa4d3737e84826bc3d37be3046061822757ce35137ab82ad4c5a2016"
      }
    }
  },
  "nbformat": 4,
  "nbformat_minor": 0
}
