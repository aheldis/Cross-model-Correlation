{
  "cells": [
    {
      "cell_type": "markdown",
      "metadata": {
        "id": "DJsUjs19_v63"
      },
      "source": [
        "# Afro-MNIST with SciKit-Learn and skorch\n",
        "\n",
        "https://github.com/Daniel-Wu/AfroMNIST?tab=readme-ov-file"
      ]
    },
    {
      "cell_type": "code",
      "execution_count": null,
      "metadata": {
        "id": "8qYGNO2S_v6_"
      },
      "outputs": [],
      "source": [
        "import subprocess\n",
        "\n",
        "# Installation on Google Colab\n",
        "try:\n",
        "    import google.colab\n",
        "    subprocess.run(['python', '-m', 'pip', 'install', 'skorch' , 'torch'])\n",
        "except ImportError:\n",
        "    pass"
      ]
    },
    {
      "cell_type": "code",
      "execution_count": null,
      "metadata": {
        "id": "Gj0pvjxT_v7G"
      },
      "outputs": [],
      "source": [
        "from sklearn.datasets import fetch_openml\n",
        "from sklearn.model_selection import train_test_split\n",
        "import numpy as np\n",
        "import matplotlib.pyplot as plt"
      ]
    },
    {
      "cell_type": "markdown",
      "metadata": {
        "id": "mPz6Bjqw_v7H"
      },
      "source": [
        "## Loading Data"
      ]
    },
    {
      "cell_type": "code",
      "source": [
        "!gdown 1GwzlZh15WOwEPcadkn0DHRbiQH9FuQzr"
      ],
      "metadata": {
        "colab": {
          "base_uri": "https://localhost:8080/"
        },
        "id": "Ggw5wv7EwEiT",
        "outputId": "78cc1190-0292-473f-81a3-854e6fafada4"
      },
      "execution_count": null,
      "outputs": [
        {
          "output_type": "stream",
          "name": "stdout",
          "text": [
            "Downloading...\n",
            "From (original): https://drive.google.com/uc?id=1GwzlZh15WOwEPcadkn0DHRbiQH9FuQzr\n",
            "From (redirected): https://drive.google.com/uc?id=1GwzlZh15WOwEPcadkn0DHRbiQH9FuQzr&confirm=t&uuid=9397fb85-a136-4d38-aa04-a438247351f9\n",
            "To: /content/Afro-MNIST.zip\n",
            "100% 108M/108M [00:00<00:00, 169MB/s] \n"
          ]
        }
      ]
    },
    {
      "cell_type": "code",
      "source": [
        "!unzip Afro-MNIST.zip"
      ],
      "metadata": {
        "colab": {
          "base_uri": "https://localhost:8080/"
        },
        "id": "Q9nSDUP6b27q",
        "outputId": "664d641a-8e44-4c9e-82ee-5f419913c254"
      },
      "execution_count": null,
      "outputs": [
        {
          "output_type": "stream",
          "name": "stdout",
          "text": [
            "Archive:  Afro-MNIST.zip\n",
            "  inflating: Ethiopic/Ethiopic_MNIST_X_test.npy  \n",
            "  inflating: Ethiopic/Ethiopic_MNIST_X_train.npy  \n",
            "  inflating: Ethiopic/Ethiopic_MNIST_y_test.npy  \n",
            "  inflating: Ethiopic/Ethiopic_MNIST_y_train.npy  \n",
            "  inflating: NKo/NKo_MNIST_X_test.npy  \n",
            "  inflating: NKo/NKo_MNIST_X_train.npy  \n",
            "  inflating: NKo/NKo_MNIST_y_test.npy  \n",
            "  inflating: NKo/NKo_MNIST_y_train.npy  \n",
            "  inflating: Osmanya/Osmanya_MNIST_X_test.npy  \n",
            "  inflating: Osmanya/Osmanya_MNIST_X_train.npy  \n",
            "  inflating: Osmanya/Osmanya_MNIST_y_test.npy  \n",
            "  inflating: Osmanya/Osmanya_MNIST_y_train.npy  \n",
            "  inflating: Vai/Vai_MNIST_X_test.npy  \n",
            "  inflating: Vai/Vai_MNIST_X_train.npy  \n",
            "  inflating: Vai/Vai_MNIST_y_test.npy  \n",
            "  inflating: Vai/Vai_MNIST_y_train.npy  \n"
          ]
        }
      ]
    },
    {
      "cell_type": "code",
      "source": [
        "cd Ethiopic"
      ],
      "metadata": {
        "colab": {
          "base_uri": "https://localhost:8080/"
        },
        "id": "xre5L2xnuYvu",
        "outputId": "23698458-c867-40a8-a2bc-bc1db23a3010"
      },
      "execution_count": null,
      "outputs": [
        {
          "output_type": "stream",
          "name": "stdout",
          "text": [
            "/content/Ethiopic\n"
          ]
        }
      ]
    },
    {
      "cell_type": "code",
      "source": [
        "X_train = np.load(\"Ethiopic_MNIST_X_train.npy\")\n",
        "y_train = np.load(\"Ethiopic_MNIST_y_train.npy\").astype('int64')\n",
        "X_test  = np.load(\"Ethiopic_MNIST_X_test.npy\")\n",
        "y_test  = np.load(\"Ethiopic_MNIST_y_test.npy\").astype('int64')\n",
        "img_rows, img_cols = 28, 28\n",
        "\n",
        "X_train = X_train.reshape(X_train.shape[0], img_rows, img_cols)\n",
        "X_test = X_test.reshape(X_test.shape[0], img_rows, img_cols)\n",
        "input_shape = (img_rows, img_cols, 1)\n",
        "\n",
        "X_train = X_train.astype('float32')\n",
        "X_test = X_test.astype('float32')\n",
        "X_train /= 255\n",
        "X_test /= 255"
      ],
      "metadata": {
        "id": "Git89CnRmNaB"
      },
      "execution_count": null,
      "outputs": []
    },
    {
      "cell_type": "code",
      "source": [
        "X_train.shape, X_test.shape, y_train.shape, y_test.shape"
      ],
      "metadata": {
        "colab": {
          "base_uri": "https://localhost:8080/"
        },
        "id": "s0BntHiRozyz",
        "outputId": "0b2b50d9-c185-49a5-a5ed-af04f0b3af0f"
      },
      "execution_count": null,
      "outputs": [
        {
          "output_type": "execute_result",
          "data": {
            "text/plain": [
              "((60000, 28, 28), (10000, 28, 28), (60000,), (10000,))"
            ]
          },
          "metadata": {},
          "execution_count": 7
        }
      ]
    },
    {
      "cell_type": "code",
      "source": [
        "X_train = X_train.reshape((X_train.shape[0], 28*28))\n",
        "X_test = X_test.reshape((X_test.shape[0], 28*28))"
      ],
      "metadata": {
        "id": "P21ad5xAWrG0"
      },
      "execution_count": null,
      "outputs": []
    },
    {
      "cell_type": "markdown",
      "metadata": {
        "id": "6EKEvbuP_v7c"
      },
      "source": [
        "### Print a selection of training images and their labels"
      ]
    },
    {
      "cell_type": "code",
      "execution_count": null,
      "metadata": {
        "id": "C9muXJPC_v7d"
      },
      "outputs": [],
      "source": [
        "def plot_example(X, y):\n",
        "    \"\"\"Plot the first 5 images and their labels in a row.\"\"\"\n",
        "    for i, (img, y) in enumerate(zip(X[:5].reshape(5, 28, 28), y[:5])):\n",
        "        plt.subplot(151 + i)\n",
        "        plt.imshow(img)\n",
        "        plt.xticks([])\n",
        "        plt.yticks([])\n",
        "        plt.title(y)"
      ]
    },
    {
      "cell_type": "code",
      "execution_count": null,
      "metadata": {
        "id": "h2-R1-Df_v7e",
        "outputId": "79d2091d-9142-490d-beb5-b2ac55386890",
        "colab": {
          "base_uri": "https://localhost:8080/",
          "height": 144
        }
      },
      "outputs": [
        {
          "output_type": "display_data",
          "data": {
            "text/plain": [
              "<Figure size 640x480 with 5 Axes>"
            ],
            "image/png": "[encoded data removed]"
          },
          "metadata": {}
        }
      ],
      "source": [
        "plot_example(X_train, y_train)"
      ]
    },
    {
      "cell_type": "markdown",
      "metadata": {
        "id": "YQvC-rWf_v7f"
      },
      "source": [
        "## Build Neural Network with PyTorch"
      ]
    },
    {
      "cell_type": "code",
      "execution_count": null,
      "metadata": {
        "id": "5PG7R0W8_v7f"
      },
      "outputs": [],
      "source": [
        "import torch\n",
        "from torch import nn\n",
        "import torch.nn.functional as F\n",
        "from sklearn.metrics import accuracy_score"
      ]
    },
    {
      "cell_type": "code",
      "execution_count": null,
      "metadata": {
        "id": "NUjWrGBP_v7g"
      },
      "outputs": [],
      "source": [
        "device = 'cuda' if torch.cuda.is_available() else 'cpu'"
      ]
    },
    {
      "cell_type": "code",
      "source": [
        "mnist_dim = 28 * 28\n",
        "hidden_dims = [int(mnist_dim/8)]\n",
        "output_dim = 10"
      ],
      "metadata": {
        "id": "Kpr9Kbc3fl9_"
      },
      "execution_count": null,
      "outputs": []
    },
    {
      "cell_type": "code",
      "source": [
        "class ClassifierModule(nn.Module):\n",
        "    def __init__(\n",
        "            self,\n",
        "            input_dim=mnist_dim,\n",
        "            hidden_dims=hidden_dims,\n",
        "            output_dim=output_dim,\n",
        "            dropout=0.5,\n",
        "    ):\n",
        "        super(ClassifierModule, self).__init__()\n",
        "        self.dropout = nn.Dropout(dropout)\n",
        "        self.hidden = nn.ModuleList()\n",
        "        for i in range(len(hidden_dims)):\n",
        "            if i == 0:\n",
        "              self.hidden.append(nn.Linear(mnist_dim, hidden_dims[i]))\n",
        "            else:\n",
        "              self.hidden.append(nn.Linear(hidden_dims[i - 1], hidden_dims[i]))\n",
        "        self.output = nn.Linear(hidden_dims[-1], output_dim)\n",
        "\n",
        "    def forward(self, X, eval=False, **kwargs):\n",
        "        Ts = None\n",
        "        layers = None\n",
        "        layer_num = 0\n",
        "        for h in self.hidden:\n",
        "          X = F.relu(h(X))\n",
        "          if eval:\n",
        "            Ts = torch.cat((Ts, X), 1) if Ts is not None else X\n",
        "            l = torch.ones_like(X) * layer_num\n",
        "            layers = torch.cat((layers, l), 1) if layers is not None else l\n",
        "          layer_num += 1\n",
        "        X = self.dropout(X)\n",
        "        X = F.softmax(self.output(X), dim=-1)\n",
        "        if eval:\n",
        "          return X, Ts, layers\n",
        "        return X"
      ],
      "metadata": {
        "id": "TUzpzJwNfgN3"
      },
      "execution_count": null,
      "outputs": []
    },
    {
      "cell_type": "code",
      "execution_count": null,
      "metadata": {
        "id": "s0aDatqN_v7l"
      },
      "outputs": [],
      "source": [
        "from skorch import NeuralNetClassifier\n",
        "nets = []"
      ]
    },
    {
      "cell_type": "code",
      "execution_count": null,
      "metadata": {
        "id": "dOrCbBjk_v7m"
      },
      "outputs": [],
      "source": [
        "torch.manual_seed(0)\n",
        "\n",
        "net1 = NeuralNetClassifier(\n",
        "    ClassifierModule(mnist_dim, [100], output_dim),\n",
        "    max_epochs=20,\n",
        "    lr=0.1,\n",
        "    device=device,\n",
        ")"
      ]
    },
    {
      "cell_type": "code",
      "source": [
        "y_train"
      ],
      "metadata": {
        "colab": {
          "base_uri": "https://localhost:8080/"
        },
        "id": "9kKrkhtW4jxP",
        "outputId": "0d4d4f42-f5ab-46bb-f70f-3ca9db7c6329"
      },
      "execution_count": null,
      "outputs": [
        {
          "output_type": "execute_result",
          "data": {
            "text/plain": [
              "array([1, 2, 3, ..., 3, 4, 2])"
            ]
          },
          "metadata": {},
          "execution_count": 17
        }
      ]
    },
    {
      "cell_type": "code",
      "execution_count": null,
      "metadata": {
        "id": "8i_gnvPi_v7m",
        "outputId": "20627d52-3808-444e-cd41-2f9e45532419",
        "colab": {
          "base_uri": "https://localhost:8080/"
        }
      },
      "outputs": [
        {
          "output_type": "stream",
          "name": "stdout",
          "text": [
            "  epoch    train_loss    valid_acc    valid_loss     dur\n",
            "-------  ------------  -----------  ------------  ------\n",
            "      1        \u001b[36m0.5622\u001b[0m       \u001b[32m0.9805\u001b[0m        \u001b[35m0.0971\u001b[0m  1.6862\n",
            "      2        \u001b[36m0.1370\u001b[0m       \u001b[32m0.9868\u001b[0m        \u001b[35m0.0537\u001b[0m  1.4385\n",
            "      3        \u001b[36m0.0962\u001b[0m       \u001b[32m0.9884\u001b[0m        \u001b[35m0.0403\u001b[0m  1.3871\n",
            "      4        \u001b[36m0.0801\u001b[0m       \u001b[32m0.9897\u001b[0m        \u001b[35m0.0341\u001b[0m  1.0656\n",
            "      5        \u001b[36m0.0705\u001b[0m       \u001b[32m0.9905\u001b[0m        \u001b[35m0.0313\u001b[0m  1.0637\n",
            "      6        \u001b[36m0.0635\u001b[0m       0.9904        \u001b[35m0.0286\u001b[0m  1.0511\n",
            "      7        \u001b[36m0.0578\u001b[0m       0.9895        0.0292  1.0521\n",
            "      8        \u001b[36m0.0521\u001b[0m       \u001b[32m0.9908\u001b[0m        \u001b[35m0.0260\u001b[0m  1.0781\n",
            "      9        \u001b[36m0.0507\u001b[0m       \u001b[32m0.9916\u001b[0m        \u001b[35m0.0250\u001b[0m  1.0233\n",
            "     10        \u001b[36m0.0479\u001b[0m       0.9908        0.0259  1.0229\n",
            "     11        \u001b[36m0.0453\u001b[0m       \u001b[32m0.9918\u001b[0m        \u001b[35m0.0227\u001b[0m  1.0354\n",
            "     12        \u001b[36m0.0452\u001b[0m       \u001b[32m0.9922\u001b[0m        0.0229  1.0300\n",
            "     13        \u001b[36m0.0418\u001b[0m       \u001b[32m0.9926\u001b[0m        \u001b[35m0.0223\u001b[0m  1.4044\n",
            "     14        \u001b[36m0.0404\u001b[0m       0.9926        \u001b[35m0.0217\u001b[0m  1.3631\n",
            "     15        \u001b[36m0.0399\u001b[0m       0.9923        \u001b[35m0.0204\u001b[0m  1.0243\n",
            "     16        \u001b[36m0.0379\u001b[0m       0.9924        0.0207  1.0321\n",
            "     17        \u001b[36m0.0374\u001b[0m       0.9922        0.0215  1.0244\n",
            "     18        \u001b[36m0.0356\u001b[0m       \u001b[32m0.9930\u001b[0m        \u001b[35m0.0193\u001b[0m  1.0211\n",
            "     19        \u001b[36m0.0344\u001b[0m       0.9923        0.0214  1.0219\n",
            "     20        \u001b[36m0.0340\u001b[0m       0.9928        0.0195  1.0212\n"
          ]
        }
      ],
      "source": [
        "net1.fit(X_train, y_train)\n",
        "nets.append(net1)"
      ]
    },
    {
      "cell_type": "code",
      "execution_count": null,
      "metadata": {
        "id": "LCWachuM_v7o",
        "outputId": "c3971a5e-5e92-4025-fb01-021230b02c6b",
        "colab": {
          "base_uri": "https://localhost:8080/"
        }
      },
      "outputs": [
        {
          "output_type": "execute_result",
          "data": {
            "text/plain": [
              "0.9923"
            ]
          },
          "metadata": {},
          "execution_count": 19
        }
      ],
      "source": [
        "y_pred = net1.predict(X_test)\n",
        "accuracy_score(y_test, y_pred)"
      ]
    },
    {
      "cell_type": "code",
      "source": [
        "hidden_dims = [60, 40]\n",
        "net2 = NeuralNetClassifier(ClassifierModule(mnist_dim, hidden_dims, output_dim), max_epochs=20, lr=0.1, device=device)\n",
        "net2.fit(X_train, y_train);\n",
        "nets.append(net2)"
      ],
      "metadata": {
        "colab": {
          "base_uri": "https://localhost:8080/"
        },
        "id": "BW7oUwIsefSx",
        "outputId": "047d8b48-ba48-4192-e571-8c5cb26d002b"
      },
      "execution_count": null,
      "outputs": [
        {
          "output_type": "stream",
          "name": "stdout",
          "text": [
            "  epoch    train_loss    valid_acc    valid_loss     dur\n",
            "-------  ------------  -----------  ------------  ------\n",
            "      1        \u001b[36m0.9101\u001b[0m       \u001b[32m0.9682\u001b[0m        \u001b[35m0.1292\u001b[0m  1.1489\n",
            "      2        \u001b[36m0.2279\u001b[0m       \u001b[32m0.9806\u001b[0m        \u001b[35m0.0623\u001b[0m  1.1355\n",
            "      3        \u001b[36m0.1562\u001b[0m       \u001b[32m0.9870\u001b[0m        \u001b[35m0.0402\u001b[0m  1.1614\n",
            "      4        \u001b[36m0.1262\u001b[0m       \u001b[32m0.9891\u001b[0m        \u001b[35m0.0328\u001b[0m  1.5238\n",
            "      5        \u001b[36m0.1074\u001b[0m       0.9889        \u001b[35m0.0301\u001b[0m  1.3363\n",
            "      6        \u001b[36m0.0997\u001b[0m       \u001b[32m0.9902\u001b[0m        \u001b[35m0.0270\u001b[0m  1.1019\n",
            "      7        \u001b[36m0.0936\u001b[0m       0.9900        0.0279  1.0996\n",
            "      8        \u001b[36m0.0858\u001b[0m       \u001b[32m0.9908\u001b[0m        \u001b[35m0.0249\u001b[0m  1.0884\n",
            "      9        \u001b[36m0.0793\u001b[0m       0.9902        0.0254  1.0994\n",
            "     10        \u001b[36m0.0748\u001b[0m       0.9902        \u001b[35m0.0248\u001b[0m  1.0888\n",
            "     11        \u001b[36m0.0691\u001b[0m       \u001b[32m0.9913\u001b[0m        \u001b[35m0.0232\u001b[0m  1.0925\n",
            "     12        \u001b[36m0.0646\u001b[0m       \u001b[32m0.9922\u001b[0m        \u001b[35m0.0207\u001b[0m  1.1296\n",
            "     13        \u001b[36m0.0637\u001b[0m       0.9914        0.0217  1.1124\n",
            "     14        \u001b[36m0.0635\u001b[0m       0.9909        0.0231  1.3113\n",
            "     15        \u001b[36m0.0573\u001b[0m       0.9920        0.0210  1.5439\n",
            "     16        \u001b[36m0.0561\u001b[0m       \u001b[32m0.9926\u001b[0m        \u001b[35m0.0201\u001b[0m  1.1070\n",
            "     17        \u001b[36m0.0523\u001b[0m       0.9926        0.0210  1.1142\n",
            "     18        \u001b[36m0.0514\u001b[0m       0.9918        0.0206  1.1197\n",
            "     19        \u001b[36m0.0503\u001b[0m       \u001b[32m0.9934\u001b[0m        \u001b[35m0.0198\u001b[0m  1.1028\n",
            "     20        \u001b[36m0.0501\u001b[0m       0.9933        \u001b[35m0.0186\u001b[0m  1.1089\n"
          ]
        }
      ]
    },
    {
      "cell_type": "code",
      "source": [
        "y_pred = net2.predict(X_test)\n",
        "accuracy_score(y_test, y_pred)"
      ],
      "metadata": {
        "colab": {
          "base_uri": "https://localhost:8080/"
        },
        "id": "oOJu7u0DefNS",
        "outputId": "3a879224-fb40-4de0-90f0-b084c00b48e1"
      },
      "execution_count": null,
      "outputs": [
        {
          "output_type": "execute_result",
          "data": {
            "text/plain": [
              "0.9934"
            ]
          },
          "metadata": {},
          "execution_count": 21
        }
      ]
    },
    {
      "cell_type": "code",
      "source": [
        "hidden_dims = [40, 60]\n",
        "net3 = NeuralNetClassifier(ClassifierModule(mnist_dim, hidden_dims, output_dim), max_epochs=20, lr=0.1, device=device)\n",
        "net3.fit(X_train, y_train);\n",
        "nets.append(net3)"
      ],
      "metadata": {
        "colab": {
          "base_uri": "https://localhost:8080/"
        },
        "id": "8brVrmkFfBZN",
        "outputId": "81f169ce-9fbd-4ea8-ff89-b5d0e0fb1128"
      },
      "execution_count": null,
      "outputs": [
        {
          "output_type": "stream",
          "name": "stdout",
          "text": [
            "  epoch    train_loss    valid_acc    valid_loss     dur\n",
            "-------  ------------  -----------  ------------  ------\n",
            "      1        \u001b[36m0.6982\u001b[0m       \u001b[32m0.9741\u001b[0m        \u001b[35m0.0923\u001b[0m  1.1318\n",
            "      2        \u001b[36m0.1511\u001b[0m       \u001b[32m0.9831\u001b[0m        \u001b[35m0.0534\u001b[0m  1.1169\n",
            "      3        \u001b[36m0.1114\u001b[0m       \u001b[32m0.9858\u001b[0m        \u001b[35m0.0421\u001b[0m  1.1324\n",
            "      4        \u001b[36m0.0896\u001b[0m       \u001b[32m0.9873\u001b[0m        \u001b[35m0.0372\u001b[0m  1.2662\n",
            "      5        \u001b[36m0.0779\u001b[0m       \u001b[32m0.9889\u001b[0m        \u001b[35m0.0324\u001b[0m  1.5159\n",
            "      6        \u001b[36m0.0694\u001b[0m       0.9887        0.0333  1.2571\n",
            "      7        \u001b[36m0.0630\u001b[0m       \u001b[32m0.9893\u001b[0m        \u001b[35m0.0294\u001b[0m  1.1179\n",
            "      8        \u001b[36m0.0589\u001b[0m       \u001b[32m0.9906\u001b[0m        \u001b[35m0.0259\u001b[0m  1.0986\n",
            "      9        \u001b[36m0.0552\u001b[0m       \u001b[32m0.9911\u001b[0m        \u001b[35m0.0254\u001b[0m  1.1095\n",
            "     10        \u001b[36m0.0509\u001b[0m       0.9909        \u001b[35m0.0244\u001b[0m  1.1044\n",
            "     11        \u001b[36m0.0496\u001b[0m       \u001b[32m0.9913\u001b[0m        \u001b[35m0.0235\u001b[0m  1.1192\n",
            "     12        \u001b[36m0.0461\u001b[0m       0.9909        0.0246  1.1357\n",
            "     13        \u001b[36m0.0433\u001b[0m       \u001b[32m0.9921\u001b[0m        \u001b[35m0.0208\u001b[0m  1.1259\n",
            "     14        \u001b[36m0.0427\u001b[0m       \u001b[32m0.9924\u001b[0m        0.0212  1.0948\n",
            "     15        \u001b[36m0.0376\u001b[0m       \u001b[32m0.9927\u001b[0m        \u001b[35m0.0203\u001b[0m  1.4190\n",
            "     16        0.0378       \u001b[32m0.9934\u001b[0m        \u001b[35m0.0201\u001b[0m  1.4808\n",
            "     17        \u001b[36m0.0349\u001b[0m       0.9932        \u001b[35m0.0186\u001b[0m  1.0841\n",
            "     18        0.0353       0.9927        0.0198  1.0980\n",
            "     19        \u001b[36m0.0329\u001b[0m       0.9932        0.0187  1.0973\n",
            "     20        \u001b[36m0.0324\u001b[0m       0.9928        0.0193  1.1299\n"
          ]
        }
      ]
    },
    {
      "cell_type": "code",
      "source": [
        "y_pred = net3.predict(X_test)\n",
        "accuracy_score(y_test, y_pred)"
      ],
      "metadata": {
        "colab": {
          "base_uri": "https://localhost:8080/"
        },
        "id": "RPdX6V3RfbIO",
        "outputId": "ea0f82df-f7ec-4031-e0b9-a5b60447f561"
      },
      "execution_count": null,
      "outputs": [
        {
          "output_type": "execute_result",
          "data": {
            "text/plain": [
              "0.9934"
            ]
          },
          "metadata": {},
          "execution_count": 23
        }
      ]
    },
    {
      "cell_type": "code",
      "execution_count": null,
      "metadata": {
        "id": "XddXR1_a_v7p"
      },
      "outputs": [],
      "source": [
        "error_mask = y_pred != y_test"
      ]
    },
    {
      "cell_type": "code",
      "execution_count": null,
      "metadata": {
        "id": "hXlNTrlt_v7q",
        "outputId": "9a866c0f-bd99-4143-f54e-9e6ccad33d86",
        "colab": {
          "base_uri": "https://localhost:8080/",
          "height": 144
        }
      },
      "outputs": [
        {
          "output_type": "display_data",
          "data": {
            "text/plain": [
              "<Figure size 640x480 with 5 Axes>"
            ],
            "image/png": "[encoded data removed]"
          },
          "metadata": {}
        }
      ],
      "source": [
        "plot_example(X_test[error_mask], y_pred[error_mask])"
      ]
    },
    {
      "cell_type": "code",
      "source": [
        "[mnist_dim//4, mnist_dim//2]"
      ],
      "metadata": {
        "colab": {
          "base_uri": "https://localhost:8080/"
        },
        "id": "EV9i52A1Ltos",
        "outputId": "853d8585-2d3a-49d6-ace9-331d2eac0684"
      },
      "execution_count": null,
      "outputs": [
        {
          "output_type": "execute_result",
          "data": {
            "text/plain": [
              "[196, 392]"
            ]
          },
          "metadata": {},
          "execution_count": 26
        }
      ]
    },
    {
      "cell_type": "code",
      "source": [
        "hidden_dims = [50, 50]\n",
        "net4 = NeuralNetClassifier(ClassifierModule(mnist_dim, hidden_dims, output_dim), max_epochs=20, lr=0.1, device=device)\n",
        "net4.fit(X_train, y_train);\n",
        "nets.append(net4)"
      ],
      "metadata": {
        "colab": {
          "base_uri": "https://localhost:8080/"
        },
        "id": "uuq0j5qOS9cK",
        "outputId": "230ecfc5-ca53-4b6a-8252-9b405a623251"
      },
      "execution_count": null,
      "outputs": [
        {
          "output_type": "stream",
          "name": "stdout",
          "text": [
            "  epoch    train_loss    valid_acc    valid_loss     dur\n",
            "-------  ------------  -----------  ------------  ------\n",
            "      1        \u001b[36m0.8214\u001b[0m       \u001b[32m0.9703\u001b[0m        \u001b[35m0.1020\u001b[0m  1.1532\n",
            "      2        \u001b[36m0.1830\u001b[0m       \u001b[32m0.9807\u001b[0m        \u001b[35m0.0554\u001b[0m  1.1153\n",
            "      3        \u001b[36m0.1258\u001b[0m       \u001b[32m0.9849\u001b[0m        \u001b[35m0.0417\u001b[0m  1.1045\n",
            "      4        \u001b[36m0.0997\u001b[0m       \u001b[32m0.9869\u001b[0m        \u001b[35m0.0359\u001b[0m  1.1220\n",
            "      5        \u001b[36m0.0879\u001b[0m       \u001b[32m0.9876\u001b[0m        \u001b[35m0.0340\u001b[0m  2.0523\n",
            "      6        \u001b[36m0.0807\u001b[0m       \u001b[32m0.9890\u001b[0m        \u001b[35m0.0296\u001b[0m  1.3969\n",
            "      7        \u001b[36m0.0716\u001b[0m       \u001b[32m0.9896\u001b[0m        \u001b[35m0.0291\u001b[0m  1.1105\n",
            "      8        \u001b[36m0.0682\u001b[0m       0.9893        \u001b[35m0.0290\u001b[0m  1.1248\n",
            "      9        \u001b[36m0.0651\u001b[0m       0.9884        0.0308  1.0983\n",
            "     10        \u001b[36m0.0607\u001b[0m       \u001b[32m0.9911\u001b[0m        \u001b[35m0.0247\u001b[0m  1.0923\n",
            "     11        \u001b[36m0.0593\u001b[0m       \u001b[32m0.9912\u001b[0m        0.0251  1.1245\n",
            "     12        \u001b[36m0.0554\u001b[0m       \u001b[32m0.9914\u001b[0m        \u001b[35m0.0239\u001b[0m  1.1558\n",
            "     13        \u001b[36m0.0535\u001b[0m       0.9910        0.0246  1.1081\n",
            "     14        \u001b[36m0.0516\u001b[0m       0.9912        0.0239  1.1098\n",
            "     15        \u001b[36m0.0492\u001b[0m       \u001b[32m0.9916\u001b[0m        \u001b[35m0.0233\u001b[0m  1.3146\n",
            "     16        \u001b[36m0.0467\u001b[0m       \u001b[32m0.9922\u001b[0m        \u001b[35m0.0220\u001b[0m  1.5690\n",
            "     17        \u001b[36m0.0444\u001b[0m       0.9919        0.0227  1.1461\n",
            "     18        \u001b[36m0.0433\u001b[0m       0.9915        0.0248  1.0836\n",
            "     19        \u001b[36m0.0403\u001b[0m       0.9917        0.0246  1.1220\n",
            "     20        \u001b[36m0.0403\u001b[0m       \u001b[32m0.9929\u001b[0m        \u001b[35m0.0218\u001b[0m  1.1003\n"
          ]
        }
      ]
    },
    {
      "cell_type": "code",
      "source": [
        "y_pred = net4.predict(X_test)\n",
        "accuracy_score(y_test, y_pred)"
      ],
      "metadata": {
        "colab": {
          "base_uri": "https://localhost:8080/"
        },
        "id": "q1QSzz6g-9Fy",
        "outputId": "98968060-ccbd-4edf-f7dc-73690cad2e7a"
      },
      "execution_count": null,
      "outputs": [
        {
          "output_type": "execute_result",
          "data": {
            "text/plain": [
              "0.9923"
            ]
          },
          "metadata": {},
          "execution_count": 28
        }
      ]
    },
    {
      "cell_type": "code",
      "source": [
        "hidden_dims = [20, 20, 20, 20, 20]\n",
        "net5 = NeuralNetClassifier(ClassifierModule(mnist_dim, hidden_dims, output_dim), max_epochs=20, lr=0.1, device=device)\n",
        "net5.fit(X_train, y_train);\n",
        "nets.append(net5)"
      ],
      "metadata": {
        "colab": {
          "base_uri": "https://localhost:8080/"
        },
        "id": "vCC7A8VmTAoX",
        "outputId": "737c06b2-e150-432c-c846-30f9218048f8"
      },
      "execution_count": null,
      "outputs": [
        {
          "output_type": "stream",
          "name": "stdout",
          "text": [
            "  epoch    train_loss    valid_acc    valid_loss     dur\n",
            "-------  ------------  -----------  ------------  ------\n",
            "      1        \u001b[36m2.3023\u001b[0m       \u001b[32m0.1102\u001b[0m        \u001b[35m2.2968\u001b[0m  1.3326\n",
            "      2        \u001b[36m2.0699\u001b[0m       \u001b[32m0.2836\u001b[0m        \u001b[35m1.5386\u001b[0m  1.2951\n",
            "      3        \u001b[36m1.3983\u001b[0m       \u001b[32m0.5862\u001b[0m        \u001b[35m0.9490\u001b[0m  1.2625\n",
            "      4        \u001b[36m0.9865\u001b[0m       \u001b[32m0.8182\u001b[0m        \u001b[35m0.5206\u001b[0m  1.2801\n",
            "      5        \u001b[36m0.7029\u001b[0m       \u001b[32m0.8345\u001b[0m        \u001b[35m0.4168\u001b[0m  1.7019\n",
            "      6        \u001b[36m0.5546\u001b[0m       \u001b[32m0.9056\u001b[0m        \u001b[35m0.3187\u001b[0m  1.5852\n",
            "      7        0.6015       \u001b[32m0.9274\u001b[0m        \u001b[35m0.3018\u001b[0m  1.8714\n",
            "      8        \u001b[36m0.4972\u001b[0m       \u001b[32m0.9347\u001b[0m        \u001b[35m0.2762\u001b[0m  1.2825\n",
            "      9        0.5802       0.9166        0.3235  1.2735\n",
            "     10        \u001b[36m0.4720\u001b[0m       0.9306        \u001b[35m0.2702\u001b[0m  1.2903\n",
            "     11        \u001b[36m0.4501\u001b[0m       \u001b[32m0.9409\u001b[0m        \u001b[35m0.2436\u001b[0m  1.2843\n",
            "     12        0.6189       0.9187        0.2975  1.2849\n",
            "     13        \u001b[36m0.4493\u001b[0m       0.9307        0.2589  1.4162\n",
            "     14        0.4577       0.9340        0.2508  1.7795\n",
            "     15        \u001b[36m0.4316\u001b[0m       0.9091        0.2935  1.4044\n",
            "     16        \u001b[36m0.4077\u001b[0m       \u001b[32m0.9440\u001b[0m        \u001b[35m0.2344\u001b[0m  1.2867\n",
            "     17        0.4319       \u001b[32m0.9443\u001b[0m        \u001b[35m0.2194\u001b[0m  1.2941\n",
            "     18        \u001b[36m0.3675\u001b[0m       \u001b[32m0.9487\u001b[0m        \u001b[35m0.2171\u001b[0m  1.2836\n",
            "     19        0.3693       \u001b[32m0.9499\u001b[0m        \u001b[35m0.2097\u001b[0m  1.2803\n",
            "     20        0.3746       0.9478        \u001b[35m0.2068\u001b[0m  1.2471\n"
          ]
        }
      ]
    },
    {
      "cell_type": "code",
      "source": [
        "y_pred = net5.predict(X_test)\n",
        "accuracy_score(y_test, y_pred)"
      ],
      "metadata": {
        "colab": {
          "base_uri": "https://localhost:8080/"
        },
        "id": "ioEIKLGP--vq",
        "outputId": "14edc9ab-7827-4bdd-abb3-6bf04f2bd1a1"
      },
      "execution_count": null,
      "outputs": [
        {
          "output_type": "execute_result",
          "data": {
            "text/plain": [
              "0.9496"
            ]
          },
          "metadata": {},
          "execution_count": 30
        }
      ]
    },
    {
      "cell_type": "code",
      "source": [
        "def get_correlation(module1, module2, X):\n",
        "  Ts1, layers1 = module1.forward(X, eval=True)[1], module1.forward(X, eval=True)[2]\n",
        "  Ts2, layers2 = module2.forward(X, eval=True)[1], module2.forward(X, eval=True)[2]\n",
        "\n",
        "  correlations = np.zeros_like(Ts1.cpu().detach().numpy()[0])\n",
        "  for i in range(Ts1.shape[1]):\n",
        "    neuron_i = Ts1[:, i]\n",
        "    max_idx = 0\n",
        "    max_corr = -1\n",
        "    for j in range(Ts2.shape[1]):\n",
        "      neuron_j = Ts2[:, j]\n",
        "      stacked = torch.stack((neuron_i, neuron_j))\n",
        "      corr = torch.corrcoef(stacked)[0, 1] / (abs(layers1[0, i] - layers2[0, j]) + 1)\n",
        "      corr = corr.cpu().detach().numpy()\n",
        "      if corr > max_corr:\n",
        "        max_corr = corr\n",
        "        max_idx = j\n",
        "    correlations[i] = max_corr\n",
        "\n",
        "  return correlations.mean()\n",
        "\n",
        "def mean_correlation(module1, module2, X):\n",
        "    return (get_correlation(module1, module2, X) + get_correlation(module2, module1, X)) / 2"
      ],
      "metadata": {
        "id": "A6-i10M0-N1E"
      },
      "execution_count": null,
      "outputs": []
    },
    {
      "cell_type": "code",
      "source": [
        "for i in range(len(nets)):\n",
        "  for j in range(i + 1, len(nets)):\n",
        "    correlation = get_correlation(nets[i].module, nets[j].module, torch.tensor(X_test).to(device))\n",
        "    print(\"correlation between net\" + str(i + 1) + \" and net\" + str(j + 1) + \":\", correlation)"
      ],
      "metadata": {
        "colab": {
          "base_uri": "https://localhost:8080/"
        },
        "id": "3vwYOHjOKy9F",
        "outputId": "67c9ca25-1d93-475b-fdec-f3e31e59bdfe"
      },
      "execution_count": null,
      "outputs": [
        {
          "output_type": "stream",
          "name": "stdout",
          "text": [
            "correlation between net1 and net2: 0.57640976\n",
            "correlation between net1 and net3: 0.57332605\n",
            "correlation between net1 and net4: 0.5884898\n",
            "correlation between net1 and net5: 0.3727339\n",
            "correlation between net2 and net3: 0.6945586\n",
            "correlation between net2 and net4: 0.7049169\n",
            "correlation between net2 and net5: 0.50042814\n",
            "correlation between net3 and net4: 0.6991337\n",
            "correlation between net3 and net5: 0.48460385\n",
            "correlation between net4 and net5: 0.45787212\n"
          ]
        }
      ]
    },
    {
      "cell_type": "code",
      "source": [
        "def get_layers_names(net):\n",
        "  children = []\n",
        "  for child in net.named_children():\n",
        "    if isinstance(child[1], nn.Dropout):\n",
        "      continue\n",
        "    elif isinstance(child[1], nn.ModuleList):\n",
        "      for ch in child[1]._modules:\n",
        "        children.append((child[1], child[0], ch))\n",
        "    else:\n",
        "      children.append(child[0])\n",
        "  return children\n",
        "\n",
        "get_layers_names(net2.module)"
      ],
      "metadata": {
        "colab": {
          "base_uri": "https://localhost:8080/"
        },
        "id": "9qwpYAtLIDHg",
        "outputId": "8d39fb4b-0e2e-4269-e5bf-cf81540742e7"
      },
      "execution_count": null,
      "outputs": [
        {
          "output_type": "execute_result",
          "data": {
            "text/plain": [
              "[(ModuleList(\n",
              "    (0): Linear(in_features=784, out_features=60, bias=True)\n",
              "    (1): Linear(in_features=60, out_features=40, bias=True)\n",
              "  ),\n",
              "  'hidden',\n",
              "  '0'),\n",
              " (ModuleList(\n",
              "    (0): Linear(in_features=784, out_features=60, bias=True)\n",
              "    (1): Linear(in_features=60, out_features=40, bias=True)\n",
              "  ),\n",
              "  'hidden',\n",
              "  '1'),\n",
              " 'output']"
            ]
          },
          "metadata": {},
          "execution_count": 33
        }
      ]
    },
    {
      "cell_type": "code",
      "source": [
        "activation = {}\n",
        "def get_activation(name):\n",
        "    def hook(model, input, output):\n",
        "        activation[name] = output.detach()\n",
        "    return hook\n",
        "\n",
        "# def get_outputs(net, test):\n",
        "#   layers = get_layers_names(net)\n",
        "#   layer_num = 0\n",
        "#   layer_nums = None\n",
        "#   Ts = None\n",
        "#   for layer in layers:\n",
        "#     if isinstance(layer[0], nn.ModuleList):\n",
        "#       net._modules[layer[1]]._modules[layer[2]].register_forward_hook(get_activation(layer[2]))\n",
        "#       out = net(test)\n",
        "#       output = activation[layer[2]]\n",
        "#     else:\n",
        "#       getattr(net, layer).register_forward_hook(get_activation(layer))\n",
        "#       out = net(test)\n",
        "#       output = activation[layer]\n",
        "#     Ts = torch.cat((Ts, output), 1) if Ts is not None else output\n",
        "#     l = torch.ones_like(output) * layer_num\n",
        "#     layer_nums = torch.cat((layer_nums, l), 1) if layer_nums is not None else l\n",
        "#     layer_num += 1\n",
        "#   return Ts, layer_nums\n",
        "\n",
        "\n",
        "# get_outputs(net2.module, torch.tensor(X_test).to(device))"
      ],
      "metadata": {
        "id": "QTOdYZ2DG9pT"
      },
      "execution_count": null,
      "outputs": []
    },
    {
      "cell_type": "markdown",
      "metadata": {
        "id": "I2GsBaxH_v7r"
      },
      "source": [
        "# Convolutional Network\n"
      ]
    },
    {
      "cell_type": "code",
      "execution_count": null,
      "metadata": {
        "id": "Rt8ETXGa_v7t"
      },
      "outputs": [],
      "source": [
        "# XCnn_train, XCnn_test, y_train, y_test = train_test_split(XCnn, y, test_size=0.25, random_state=42)"
      ]
    },
    {
      "cell_type": "code",
      "execution_count": null,
      "metadata": {
        "id": "-jQm85il_v7t"
      },
      "outputs": [],
      "source": [
        "# XCnn_train.shape, y_train.shape"
      ]
    },
    {
      "cell_type": "code",
      "execution_count": null,
      "metadata": {
        "id": "YdQ-ISvb_v7u"
      },
      "outputs": [],
      "source": [
        "class Cnn(nn.Module):\n",
        "    def __init__(self, dropout=0.5):\n",
        "        super(Cnn, self).__init__()\n",
        "        self.conv1 = nn.Conv2d(1, 32, kernel_size=3)\n",
        "        self.conv2 = nn.Conv2d(32, 64, kernel_size=3)\n",
        "        self.conv2_drop = nn.Dropout2d(p=dropout)\n",
        "        self.fc1 = nn.Linear(1600, 100) # 1600 = number channels * width * height\n",
        "        self.fc2 = nn.Linear(100, 10)\n",
        "        self.fc1_drop = nn.Dropout(p=dropout)\n",
        "\n",
        "    def forward(self, x, eval=False):\n",
        "\n",
        "        outputs = []\n",
        "        x = x.reshape((x.shape[0], 1, 28, 28))\n",
        "\n",
        "        x = torch.relu(F.max_pool2d(self.conv1(x), 2))\n",
        "        outputs.append(x)\n",
        "        x = torch.relu(F.max_pool2d(self.conv2_drop(self.conv2(x)), 2))\n",
        "        outputs.append(x)\n",
        "\n",
        "        # flatten over channel, height and width = 1600\n",
        "        x = x.view(-1, x.size(1) * x.size(2) * x.size(3))\n",
        "\n",
        "        x = torch.relu(self.fc1_drop(self.fc1(x)))\n",
        "        x = torch.softmax(self.fc2(x), dim=-1)\n",
        "\n",
        "        Ts = None\n",
        "        layers = None\n",
        "        layer_num = 0\n",
        "        if eval:\n",
        "          for X in outputs:\n",
        "            X = X.reshape((X.shape[0], np.prod(X.shape) // X.shape[0]))\n",
        "            Ts = torch.cat((Ts, X), 1) if Ts is not None else X\n",
        "            l = torch.ones_like(X) * layer_num\n",
        "            layers = torch.cat((layers, l), 1) if layers is not None else l\n",
        "            layer_num += 1\n",
        "          return x, Ts, layers\n",
        "\n",
        "        return x\n"
      ]
    },
    {
      "cell_type": "code",
      "execution_count": null,
      "metadata": {
        "id": "WJrWyFfb_v7u"
      },
      "outputs": [],
      "source": [
        "torch.manual_seed(0)\n",
        "\n",
        "cnn = NeuralNetClassifier(\n",
        "    Cnn(),\n",
        "    max_epochs=10,\n",
        "    lr=0.002,\n",
        "    optimizer=torch.optim.Adam,\n",
        "    device=device,\n",
        ")"
      ]
    },
    {
      "cell_type": "code",
      "execution_count": null,
      "metadata": {
        "id": "KRtHfgg8_v7u",
        "outputId": "16be8efe-1007-4d30-cdb3-da7e950c7e78",
        "colab": {
          "base_uri": "https://localhost:8080/"
        }
      },
      "outputs": [
        {
          "output_type": "stream",
          "name": "stdout",
          "text": [
            "  epoch    train_loss    valid_acc    valid_loss     dur\n",
            "-------  ------------  -----------  ------------  ------\n",
            "      1        \u001b[36m0.3426\u001b[0m       \u001b[32m0.9981\u001b[0m        \u001b[35m0.0072\u001b[0m  2.7113\n",
            "      2        \u001b[36m0.0374\u001b[0m       \u001b[32m0.9991\u001b[0m        \u001b[35m0.0034\u001b[0m  1.8539\n",
            "      3        \u001b[36m0.0246\u001b[0m       0.9991        \u001b[35m0.0028\u001b[0m  2.2127\n",
            "      4        \u001b[36m0.0164\u001b[0m       \u001b[32m0.9999\u001b[0m        \u001b[35m0.0004\u001b[0m  1.8429\n",
            "      5        \u001b[36m0.0142\u001b[0m       0.9998        0.0007  1.8447\n",
            "      6        0.0147       0.9998        0.0004  1.9946\n",
            "      7        \u001b[36m0.0125\u001b[0m       0.9997        0.0010  2.2075\n",
            "      8        \u001b[36m0.0103\u001b[0m       0.9998        0.0004  1.8280\n",
            "      9        \u001b[36m0.0098\u001b[0m       0.9998        \u001b[35m0.0003\u001b[0m  1.8179\n",
            "     10        0.0105       0.9997        0.0010  1.7982\n"
          ]
        }
      ],
      "source": [
        "cnn.fit(X_train, y_train);"
      ]
    },
    {
      "cell_type": "code",
      "source": [
        "y_pred = cnn.predict(X_test)\n",
        "accuracy_score(y_test, y_pred)"
      ],
      "metadata": {
        "colab": {
          "base_uri": "https://localhost:8080/"
        },
        "id": "5GFi5rv-_DFT",
        "outputId": "e74fb25e-24aa-45c5-c91a-51851cb9be70"
      },
      "execution_count": null,
      "outputs": [
        {
          "output_type": "execute_result",
          "data": {
            "text/plain": [
              "0.9998"
            ]
          },
          "metadata": {},
          "execution_count": 40
        }
      ]
    },
    {
      "cell_type": "code",
      "source": [
        "X_test.shape"
      ],
      "metadata": {
        "colab": {
          "base_uri": "https://localhost:8080/"
        },
        "id": "3axUSJ-SmmWE",
        "outputId": "743b89fa-4185-4f8f-f68e-42d896d4312a"
      },
      "execution_count": null,
      "outputs": [
        {
          "output_type": "execute_result",
          "data": {
            "text/plain": [
              "(10000, 784)"
            ]
          },
          "metadata": {},
          "execution_count": 41
        }
      ]
    },
    {
      "cell_type": "code",
      "source": [
        "for i in range(len(nets)):\n",
        "  correlation = get_correlation(nets[i].module, cnn.module, torch.tensor(X_test[:10]).to(device))\n",
        "  print(\"correlation between net\" + str(i + 1) + \" and cnn:\", correlation)"
      ],
      "metadata": {
        "id": "sVg63bZmaOct",
        "colab": {
          "base_uri": "https://localhost:8080/"
        },
        "outputId": "bd205cd2-7169-463b-8976-bc81f5e20c2e"
      },
      "execution_count": null,
      "outputs": [
        {
          "output_type": "stream",
          "name": "stdout",
          "text": [
            "correlation between net1 and cnn: 0.58829004\n",
            "correlation between net2 and cnn: 0.628615\n",
            "correlation between net3 and cnn: 0.72999936\n",
            "correlation between net4 and cnn: 0.71836776\n",
            "correlation between net5 and cnn: 0.059317864\n"
          ]
        }
      ]
    }
  ],
  "metadata": {
    "kernelspec": {
      "display_name": "Python 3",
      "name": "python3"
    },
    "language_info": {
      "codemirror_mode": {
        "name": "ipython",
        "version": 3
      },
      "file_extension": ".py",
      "mimetype": "text/x-python",
      "name": "python",
      "nbconvert_exporter": "python",
      "pygments_lexer": "ipython3",
      "version": "3.7.13 (default, Mar 28 2022, 08:03:21) [MSC v.1916 64 bit (AMD64)]"
    },
    "vscode": {
      "interpreter": {
        "hash": "bd97b8bffa4d3737e84826bc3d37be3046061822757ce35137ab82ad4c5a2016"
      }
    },
    "colab": {
      "provenance": [],
      "gpuType": "T4"
    },
    "accelerator": "GPU"
  },
  "nbformat": 4,
  "nbformat_minor": 0
}