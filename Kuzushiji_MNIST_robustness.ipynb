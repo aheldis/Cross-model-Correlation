{
  "cells": [
    {
      "cell_type": "markdown",
      "metadata": {
        "id": "DJsUjs19_v63"
      },
      "source": [
        "# kuzushiji-MNIST with SciKit-Learn and skorch"
      ]
    },
    {
      "cell_type": "code",
      "execution_count": null,
      "metadata": {
        "id": "8qYGNO2S_v6_"
      },
      "outputs": [],
      "source": [
        "import subprocess\n",
        "\n",
        "# Installation on Google Colab\n",
        "try:\n",
        "    import google.colab\n",
        "    subprocess.run(['python', '-m', 'pip', 'install', 'skorch' , 'torch'])\n",
        "except ImportError:\n",
        "    pass"
      ]
    },
    {
      "cell_type": "code",
      "execution_count": null,
      "metadata": {
        "id": "Gj0pvjxT_v7G"
      },
      "outputs": [],
      "source": [
        "from sklearn.datasets import fetch_openml\n",
        "from sklearn.model_selection import train_test_split\n",
        "import numpy as np\n",
        "import matplotlib.pyplot as plt"
      ]
    },
    {
      "cell_type": "markdown",
      "metadata": {
        "id": "mPz6Bjqw_v7H"
      },
      "source": [
        "## Loading Data"
      ]
    },
    {
      "cell_type": "code",
      "execution_count": null,
      "metadata": {
        "colab": {
          "base_uri": "https://localhost:8080/"
        },
        "id": "Q9nSDUP6b27q",
        "outputId": "fb9c4c3b-4cda-4e93-b3e9-c9abb03e5cb7"
      },
      "outputs": [
        {
          "name": "stdout",
          "output_type": "stream",
          "text": [
            "--2024-07-28 22:08:55--  http://codh.rois.ac.jp/kmnist/dataset/kmnist/kmnist-train-imgs.npz\n",
            "Resolving codh.rois.ac.jp (codh.rois.ac.jp)... 136.187.88.58\n",
            "Connecting to codh.rois.ac.jp (codh.rois.ac.jp)|136.187.88.58|:80... connected.\n",
            "HTTP request sent, awaiting response... 200 OK\n",
            "Length: 18384171 (18M)\n",
            "Saving to: ‘kmnist-train-imgs.npz’\n",
            "\n",
            "kmnist-train-imgs.n 100%[===================>]  17.53M  1.32MB/s    in 15s     \n",
            "\n",
            "2024-07-28 22:09:10 (1.20 MB/s) - ‘kmnist-train-imgs.npz’ saved [18384171/18384171]\n",
            "\n",
            "--2024-07-28 22:09:10--  http://codh.rois.ac.jp/kmnist/dataset/kmnist/kmnist-train-labels.npz\n",
            "Resolving codh.rois.ac.jp (codh.rois.ac.jp)... 136.187.88.58\n",
            "Connecting to codh.rois.ac.jp (codh.rois.ac.jp)|136.187.88.58|:80... connected.\n",
            "HTTP request sent, awaiting response... 200 OK\n",
            "Length: 29700 (29K)\n",
            "Saving to: ‘kmnist-train-labels.npz’\n",
            "\n",
            "kmnist-train-labels 100%[===================>]  29.00K  --.-KB/s    in 0.1s    \n",
            "\n",
            "2024-07-28 22:09:10 (264 KB/s) - ‘kmnist-train-labels.npz’ saved [29700/29700]\n",
            "\n",
            "--2024-07-28 22:09:10--  http://codh.rois.ac.jp/kmnist/dataset/kmnist/kmnist-test-imgs.npz\n",
            "Resolving codh.rois.ac.jp (codh.rois.ac.jp)... 136.187.88.58\n",
            "Connecting to codh.rois.ac.jp (codh.rois.ac.jp)|136.187.88.58|:80... connected.\n",
            "HTTP request sent, awaiting response... 200 OK\n",
            "Length: 3079479 (2.9M)\n",
            "Saving to: ‘kmnist-test-imgs.npz’\n",
            "\n",
            "kmnist-test-imgs.np 100%[===================>]   2.94M  1.06MB/s    in 2.8s    \n",
            "\n",
            "2024-07-28 22:09:13 (1.06 MB/s) - ‘kmnist-test-imgs.npz’ saved [3079479/3079479]\n",
            "\n",
            "--2024-07-28 22:09:13--  http://codh.rois.ac.jp/kmnist/dataset/kmnist/kmnist-test-labels.npz\n",
            "Resolving codh.rois.ac.jp (codh.rois.ac.jp)... 136.187.88.58\n",
            "Connecting to codh.rois.ac.jp (codh.rois.ac.jp)|136.187.88.58|:80... connected.\n",
            "HTTP request sent, awaiting response... 200 OK\n",
            "Length: 5304 (5.2K)\n",
            "Saving to: ‘kmnist-test-labels.npz’\n",
            "\n",
            "kmnist-test-labels. 100%[===================>]   5.18K  --.-KB/s    in 0s      \n",
            "\n",
            "2024-07-28 22:09:14 (423 MB/s) - ‘kmnist-test-labels.npz’ saved [5304/5304]\n",
            "\n"
          ]
        }
      ],
      "source": [
        "!wget http://codh.rois.ac.jp/kmnist/dataset/kmnist/kmnist-train-imgs.npz\n",
        "!wget http://codh.rois.ac.jp/kmnist/dataset/kmnist/kmnist-train-labels.npz\n",
        "!wget http://codh.rois.ac.jp/kmnist/dataset/kmnist/kmnist-test-imgs.npz\n",
        "!wget http://codh.rois.ac.jp/kmnist/dataset/kmnist/kmnist-test-labels.npz"
      ]
    },
    {
      "cell_type": "code",
      "execution_count": null,
      "metadata": {
        "id": "plXmcsp2_v7b"
      },
      "outputs": [],
      "source": [
        "def load(f):\n",
        "    return np.load(f)['arr_0']\n",
        "\n",
        "# Load the data\n",
        "X_train = load('kmnist-train-imgs.npz')\n",
        "X_test = load('kmnist-test-imgs.npz')\n",
        "y_train = load('kmnist-train-labels.npz')\n",
        "y_test = load('kmnist-test-labels.npz')\n",
        "\n",
        "img_rows, img_cols = 28, 28\n",
        "\n",
        "X_train = X_train.reshape(X_train.shape[0], img_rows, img_cols)\n",
        "X_test = X_test.reshape(X_test.shape[0], img_rows, img_cols)\n",
        "input_shape = (img_rows, img_cols, 1)\n",
        "\n",
        "X_train = X_train.astype('float32')\n",
        "X_test = X_test.astype('float32')\n",
        "X_train /= 255\n",
        "X_test /= 255"
      ]
    },
    {
      "cell_type": "code",
      "execution_count": null,
      "metadata": {
        "colab": {
          "base_uri": "https://localhost:8080/"
        },
        "id": "s0BntHiRozyz",
        "outputId": "1752f4aa-7ed6-4077-b3ab-15bdf9745240"
      },
      "outputs": [
        {
          "data": {
            "text/plain": [
              "((28, 28), (28, 28))"
            ]
          },
          "execution_count": 5,
          "metadata": {},
          "output_type": "execute_result"
        }
      ],
      "source": [
        "X_train[0].shape, X_test[0].shape"
      ]
    },
    {
      "cell_type": "code",
      "execution_count": null,
      "metadata": {
        "id": "P21ad5xAWrG0"
      },
      "outputs": [],
      "source": [
        "X_train = X_train.reshape((X_train.shape[0], 28*28))\n",
        "X_test = X_test.reshape((X_test.shape[0], 28*28))"
      ]
    },
    {
      "cell_type": "markdown",
      "metadata": {
        "id": "6EKEvbuP_v7c"
      },
      "source": [
        "### Print a selection of training images and their labels"
      ]
    },
    {
      "cell_type": "code",
      "execution_count": null,
      "metadata": {
        "id": "C9muXJPC_v7d"
      },
      "outputs": [],
      "source": [
        "def plot_example(X, y, n=5):\n",
        "    \"\"\"Plot the first 5 images and their labels in a row.\"\"\"\n",
        "    for i, (img, y) in enumerate(zip(X[:n].reshape(n, 28, 28), y[:n])):\n",
        "        plt.figure(figsize=(1.5 * n, 1.5 * n))\n",
        "        plt.subplot(1, n, 1 + i)\n",
        "        plt.imshow(img)\n",
        "        plt.xticks([])\n",
        "        plt.yticks([])\n",
        "        plt.title(y)"
      ]
    },
    {
      "cell_type": "code",
      "execution_count": null,
      "metadata": {
        "colab": {
          "base_uri": "https://localhost:8080/",
          "height": 727
        },
        "id": "h2-R1-Df_v7e",
        "outputId": "c5106b53-41fd-47b3-8c18-3b58756048fe"
      },
      "outputs": [
        {
          "data": {
            "image/png": "[encoded data removed]",
            "text/plain": [
              "<Figure size 750x750 with 1 Axes>"
            ]
          },
          "metadata": {},
          "output_type": "display_data"
        },
        {
          "data": {
            "image/png": "[encoded data removed]",
            "text/plain": [
              "<Figure size 750x750 with 1 Axes>"
            ]
          },
          "metadata": {},
          "output_type": "display_data"
        },
        {
          "data": {
            "image/png": "[encoded data removed]",
            "text/plain": [
              "<Figure size 750x750 with 1 Axes>"
            ]
          },
          "metadata": {},
          "output_type": "display_data"
        },
        {
          "data": {
            "image/png": "[encoded data removed]",
            "text/plain": [
              "<Figure size 750x750 with 1 Axes>"
            ]
          },
          "metadata": {},
          "output_type": "display_data"
        },
        {
          "data": {
            "image/png": "[encoded data removed]",
            "text/plain": [
              "<Figure size 750x750 with 1 Axes>"
            ]
          },
          "metadata": {},
          "output_type": "display_data"
        }
      ],
      "source": [
        "plot_example(X_train, y_train)"
      ]
    },
    {
      "cell_type": "markdown",
      "metadata": {
        "id": "YQvC-rWf_v7f"
      },
      "source": [
        "## Build Neural Network with PyTorch"
      ]
    },
    {
      "cell_type": "code",
      "execution_count": null,
      "metadata": {
        "id": "5PG7R0W8_v7f"
      },
      "outputs": [],
      "source": [
        "import torch\n",
        "from torch import nn\n",
        "import torch.nn.functional as F\n",
        "from sklearn.metrics import accuracy_score\n",
        "from skorch import NeuralNetClassifier"
      ]
    },
    {
      "cell_type": "code",
      "execution_count": null,
      "metadata": {
        "id": "NUjWrGBP_v7g"
      },
      "outputs": [],
      "source": [
        "device = 'cuda' if torch.cuda.is_available() else 'cpu'"
      ]
    },
    {
      "cell_type": "code",
      "execution_count": null,
      "metadata": {
        "id": "OmIJpGkVJdQp"
      },
      "outputs": [],
      "source": [
        "class Cnn(nn.Module):\n",
        "    def __init__(self, dropout=0.5):\n",
        "        super(Cnn, self).__init__()\n",
        "        self.conv1 = nn.Conv2d(1, 32, kernel_size=3)\n",
        "        self.conv2 = nn.Conv2d(32, 64, kernel_size=3)\n",
        "        self.conv2_drop = nn.Dropout2d(p=dropout)\n",
        "        self.fc1 = nn.Linear(1600, 100) # 1600 = number channels * width * height\n",
        "        self.fc2 = nn.Linear(100, 10)\n",
        "        self.fc1_drop = nn.Dropout(p=dropout)\n",
        "\n",
        "    def forward(self, x, eval=False):\n",
        "\n",
        "        outputs = []\n",
        "        x = x.reshape((x.shape[0], 1, 28, 28))\n",
        "\n",
        "        x = torch.relu(F.max_pool2d(self.conv1(x), 2))\n",
        "        outputs.append(x)\n",
        "        x = torch.relu(F.max_pool2d(self.conv2_drop(self.conv2(x)), 2))\n",
        "        outputs.append(x)\n",
        "\n",
        "        # flatten over channel, height and width = 1600\n",
        "        x = x.view(-1, x.size(1) * x.size(2) * x.size(3))\n",
        "\n",
        "        x = torch.relu(self.fc1_drop(self.fc1(x)))\n",
        "        x = torch.softmax(self.fc2(x), dim=-1)\n",
        "\n",
        "        Ts = None\n",
        "        layers = None\n",
        "        layer_num = 0\n",
        "        if eval:\n",
        "          for X in outputs:\n",
        "            X = X.reshape((X.shape[0], np.prod(X.shape) // X.shape[0]))\n",
        "            Ts = torch.cat((Ts, X), 1) if Ts is not None else X\n",
        "            l = torch.ones_like(X) * layer_num\n",
        "            layers = torch.cat((layers, l), 1) if layers is not None else l\n",
        "            layer_num += 1\n",
        "          return x, Ts, layers\n",
        "\n",
        "        return x\n"
      ]
    },
    {
      "cell_type": "code",
      "execution_count": null,
      "metadata": {
        "id": "mmGB0DCMJd2n"
      },
      "outputs": [],
      "source": [
        "\n",
        "torch.manual_seed(0)\n",
        "\n",
        "module = Cnn()\n",
        "cnn = NeuralNetClassifier(\n",
        "    module,\n",
        "    max_epochs=3,\n",
        "    lr=0.002,\n",
        "    optimizer=torch.optim.Adam,\n",
        "    device=device,\n",
        ")"
      ]
    },
    {
      "cell_type": "code",
      "execution_count": null,
      "metadata": {
        "id": "qOyIb7eEJfZl"
      },
      "outputs": [],
      "source": [
        "adversaries_x = torch.tensor(X_test).to(device)\n",
        "adversaries_y = torch.tensor(y_test).to(device)\n",
        "epsilon = 10 / 255"
      ]
    },
    {
      "cell_type": "code",
      "execution_count": null,
      "metadata": {
        "colab": {
          "base_uri": "https://localhost:8080/"
        },
        "id": "FUAO8S3kJhST",
        "outputId": "1a359f63-779a-4f95-92fa-e1a61dff189f"
      },
      "outputs": [
        {
          "name": "stdout",
          "output_type": "stream",
          "text": [
            "  epoch    train_loss    valid_acc    valid_loss     dur\n",
            "-------  ------------  -----------  ------------  ------\n",
            "      1        \u001b[36m1.6888\u001b[0m       \u001b[32m0.6985\u001b[0m        \u001b[35m0.9877\u001b[0m  1.1511\n",
            "      2        \u001b[36m1.0410\u001b[0m       \u001b[32m0.8160\u001b[0m        \u001b[35m0.6146\u001b[0m  0.3198\n",
            "      3        \u001b[36m0.8216\u001b[0m       \u001b[32m0.8570\u001b[0m        \u001b[35m0.4873\u001b[0m  0.3133\n",
            "Re-initializing module.\n",
            "Re-initializing criterion.\n",
            "Re-initializing optimizer.\n"
          ]
        },
        {
          "name": "stderr",
          "output_type": "stream",
          "text": [
            "<ipython-input-14-afb6d1902390>:11: UserWarning: To copy construct from a tensor, it is recommended to use sourceTensor.clone().detach() or sourceTensor.clone().detach().requires_grad_(True), rather than torch.tensor(sourceTensor).\n",
            "  loss_val = loss(out, torch.tensor(adversaries_y[j:j + step]).to(device))\n"
          ]
        },
        {
          "name": "stdout",
          "output_type": "stream",
          "text": [
            "  epoch    train_loss    valid_acc    valid_loss     dur\n",
            "-------  ------------  -----------  ------------  ------\n",
            "      1        \u001b[36m0.9364\u001b[0m       \u001b[32m0.8235\u001b[0m        \u001b[35m0.6120\u001b[0m  0.3199\n",
            "      2        \u001b[36m0.7735\u001b[0m       \u001b[32m0.8595\u001b[0m        \u001b[35m0.4924\u001b[0m  0.3043\n",
            "      3        \u001b[36m0.6971\u001b[0m       \u001b[32m0.8760\u001b[0m        \u001b[35m0.4349\u001b[0m  0.3144\n",
            "Re-initializing module.\n",
            "Re-initializing criterion.\n",
            "Re-initializing optimizer.\n"
          ]
        },
        {
          "name": "stderr",
          "output_type": "stream",
          "text": [
            "<ipython-input-14-afb6d1902390>:11: UserWarning: To copy construct from a tensor, it is recommended to use sourceTensor.clone().detach() or sourceTensor.clone().detach().requires_grad_(True), rather than torch.tensor(sourceTensor).\n",
            "  loss_val = loss(out, torch.tensor(adversaries_y[j:j + step]).to(device))\n"
          ]
        },
        {
          "name": "stdout",
          "output_type": "stream",
          "text": [
            "  epoch    train_loss    valid_acc    valid_loss     dur\n",
            "-------  ------------  -----------  ------------  ------\n",
            "      1        \u001b[36m0.8711\u001b[0m       \u001b[32m0.8205\u001b[0m        \u001b[35m0.5947\u001b[0m  0.3240\n",
            "      2        \u001b[36m0.7808\u001b[0m       \u001b[32m0.8445\u001b[0m        \u001b[35m0.5328\u001b[0m  0.3034\n",
            "      3        \u001b[36m0.7138\u001b[0m       \u001b[32m0.8530\u001b[0m        \u001b[35m0.4844\u001b[0m  0.3045\n",
            "Re-initializing module.\n",
            "Re-initializing criterion.\n",
            "Re-initializing optimizer.\n"
          ]
        },
        {
          "name": "stderr",
          "output_type": "stream",
          "text": [
            "<ipython-input-14-afb6d1902390>:11: UserWarning: To copy construct from a tensor, it is recommended to use sourceTensor.clone().detach() or sourceTensor.clone().detach().requires_grad_(True), rather than torch.tensor(sourceTensor).\n",
            "  loss_val = loss(out, torch.tensor(adversaries_y[j:j + step]).to(device))\n"
          ]
        },
        {
          "name": "stdout",
          "output_type": "stream",
          "text": [
            "  epoch    train_loss    valid_acc    valid_loss     dur\n",
            "-------  ------------  -----------  ------------  ------\n",
            "      1        \u001b[36m0.9041\u001b[0m       \u001b[32m0.8065\u001b[0m        \u001b[35m0.6428\u001b[0m  0.3113\n",
            "      2        \u001b[36m0.8203\u001b[0m       \u001b[32m0.8325\u001b[0m        \u001b[35m0.5770\u001b[0m  0.3020\n",
            "      3        \u001b[36m0.7686\u001b[0m       \u001b[32m0.8395\u001b[0m        \u001b[35m0.5418\u001b[0m  0.3141\n",
            "Re-initializing module.\n",
            "Re-initializing criterion.\n",
            "Re-initializing optimizer.\n"
          ]
        },
        {
          "name": "stderr",
          "output_type": "stream",
          "text": [
            "<ipython-input-14-afb6d1902390>:11: UserWarning: To copy construct from a tensor, it is recommended to use sourceTensor.clone().detach() or sourceTensor.clone().detach().requires_grad_(True), rather than torch.tensor(sourceTensor).\n",
            "  loss_val = loss(out, torch.tensor(adversaries_y[j:j + step]).to(device))\n"
          ]
        },
        {
          "name": "stdout",
          "output_type": "stream",
          "text": [
            "  epoch    train_loss    valid_acc    valid_loss     dur\n",
            "-------  ------------  -----------  ------------  ------\n",
            "      1        \u001b[36m0.9673\u001b[0m       \u001b[32m0.7755\u001b[0m        \u001b[35m0.7403\u001b[0m  0.3047\n",
            "      2        \u001b[36m0.8799\u001b[0m       \u001b[32m0.7965\u001b[0m        \u001b[35m0.6592\u001b[0m  0.3728\n",
            "      3        \u001b[36m0.8252\u001b[0m       \u001b[32m0.8110\u001b[0m        \u001b[35m0.6220\u001b[0m  0.3886\n",
            "Re-initializing module.\n",
            "Re-initializing criterion.\n",
            "Re-initializing optimizer.\n"
          ]
        },
        {
          "name": "stderr",
          "output_type": "stream",
          "text": [
            "<ipython-input-14-afb6d1902390>:11: UserWarning: To copy construct from a tensor, it is recommended to use sourceTensor.clone().detach() or sourceTensor.clone().detach().requires_grad_(True), rather than torch.tensor(sourceTensor).\n",
            "  loss_val = loss(out, torch.tensor(adversaries_y[j:j + step]).to(device))\n"
          ]
        },
        {
          "name": "stdout",
          "output_type": "stream",
          "text": [
            "  epoch    train_loss    valid_acc    valid_loss     dur\n",
            "-------  ------------  -----------  ------------  ------\n",
            "      1        \u001b[36m1.0486\u001b[0m       \u001b[32m0.7470\u001b[0m        \u001b[35m0.8128\u001b[0m  0.4044\n",
            "      2        \u001b[36m0.9677\u001b[0m       \u001b[32m0.7655\u001b[0m        \u001b[35m0.7620\u001b[0m  0.4116\n",
            "      3        \u001b[36m0.9004\u001b[0m       \u001b[32m0.7885\u001b[0m        \u001b[35m0.6818\u001b[0m  0.3891\n",
            "Re-initializing module.\n",
            "Re-initializing criterion.\n",
            "Re-initializing optimizer.\n"
          ]
        },
        {
          "name": "stderr",
          "output_type": "stream",
          "text": [
            "<ipython-input-14-afb6d1902390>:11: UserWarning: To copy construct from a tensor, it is recommended to use sourceTensor.clone().detach() or sourceTensor.clone().detach().requires_grad_(True), rather than torch.tensor(sourceTensor).\n",
            "  loss_val = loss(out, torch.tensor(adversaries_y[j:j + step]).to(device))\n"
          ]
        },
        {
          "name": "stdout",
          "output_type": "stream",
          "text": [
            "  epoch    train_loss    valid_acc    valid_loss     dur\n",
            "-------  ------------  -----------  ------------  ------\n",
            "      1        \u001b[36m1.1546\u001b[0m       \u001b[32m0.7050\u001b[0m        \u001b[35m0.9254\u001b[0m  0.3648\n",
            "      2        \u001b[36m1.0378\u001b[0m       \u001b[32m0.7295\u001b[0m        \u001b[35m0.8464\u001b[0m  0.2970\n",
            "      3        \u001b[36m0.9841\u001b[0m       \u001b[32m0.7425\u001b[0m        \u001b[35m0.7823\u001b[0m  0.2988\n",
            "Re-initializing module.\n",
            "Re-initializing criterion.\n",
            "Re-initializing optimizer.\n"
          ]
        },
        {
          "name": "stderr",
          "output_type": "stream",
          "text": [
            "<ipython-input-14-afb6d1902390>:11: UserWarning: To copy construct from a tensor, it is recommended to use sourceTensor.clone().detach() or sourceTensor.clone().detach().requires_grad_(True), rather than torch.tensor(sourceTensor).\n",
            "  loss_val = loss(out, torch.tensor(adversaries_y[j:j + step]).to(device))\n"
          ]
        },
        {
          "name": "stdout",
          "output_type": "stream",
          "text": [
            "  epoch    train_loss    valid_acc    valid_loss     dur\n",
            "-------  ------------  -----------  ------------  ------\n",
            "      1        \u001b[36m1.2168\u001b[0m       \u001b[32m0.6590\u001b[0m        \u001b[35m1.0277\u001b[0m  0.3240\n",
            "      2        \u001b[36m1.1370\u001b[0m       \u001b[32m0.6990\u001b[0m        \u001b[35m0.9503\u001b[0m  0.2972\n",
            "      3        \u001b[36m1.0696\u001b[0m       \u001b[32m0.7255\u001b[0m        \u001b[35m0.8549\u001b[0m  0.3006\n",
            "Re-initializing module.\n",
            "Re-initializing criterion.\n",
            "Re-initializing optimizer.\n"
          ]
        },
        {
          "name": "stderr",
          "output_type": "stream",
          "text": [
            "<ipython-input-14-afb6d1902390>:11: UserWarning: To copy construct from a tensor, it is recommended to use sourceTensor.clone().detach() or sourceTensor.clone().detach().requires_grad_(True), rather than torch.tensor(sourceTensor).\n",
            "  loss_val = loss(out, torch.tensor(adversaries_y[j:j + step]).to(device))\n"
          ]
        },
        {
          "name": "stdout",
          "output_type": "stream",
          "text": [
            "  epoch    train_loss    valid_acc    valid_loss     dur\n",
            "-------  ------------  -----------  ------------  ------\n",
            "      1        \u001b[36m1.3022\u001b[0m       \u001b[32m0.6320\u001b[0m        \u001b[35m1.1178\u001b[0m  0.3097\n",
            "      2        \u001b[36m1.1847\u001b[0m       \u001b[32m0.6755\u001b[0m        \u001b[35m1.0028\u001b[0m  0.2978\n",
            "      3        \u001b[36m1.1073\u001b[0m       \u001b[32m0.7230\u001b[0m        \u001b[35m0.8910\u001b[0m  0.3046\n",
            "Re-initializing module.\n",
            "Re-initializing criterion.\n",
            "Re-initializing optimizer.\n"
          ]
        },
        {
          "name": "stderr",
          "output_type": "stream",
          "text": [
            "<ipython-input-14-afb6d1902390>:11: UserWarning: To copy construct from a tensor, it is recommended to use sourceTensor.clone().detach() or sourceTensor.clone().detach().requires_grad_(True), rather than torch.tensor(sourceTensor).\n",
            "  loss_val = loss(out, torch.tensor(adversaries_y[j:j + step]).to(device))\n"
          ]
        },
        {
          "name": "stdout",
          "output_type": "stream",
          "text": [
            "  epoch    train_loss    valid_acc    valid_loss     dur\n",
            "-------  ------------  -----------  ------------  ------\n",
            "      1        \u001b[36m1.3706\u001b[0m       \u001b[32m0.6275\u001b[0m        \u001b[35m1.1448\u001b[0m  0.3060\n",
            "      2        \u001b[36m1.2267\u001b[0m       \u001b[32m0.6770\u001b[0m        \u001b[35m1.0111\u001b[0m  0.2987\n",
            "      3        \u001b[36m1.1405\u001b[0m       \u001b[32m0.7105\u001b[0m        \u001b[35m0.9256\u001b[0m  0.3257\n"
          ]
        },
        {
          "name": "stderr",
          "output_type": "stream",
          "text": [
            "<ipython-input-14-afb6d1902390>:11: UserWarning: To copy construct from a tensor, it is recommended to use sourceTensor.clone().detach() or sourceTensor.clone().detach().requires_grad_(True), rather than torch.tensor(sourceTensor).\n",
            "  loss_val = loss(out, torch.tensor(adversaries_y[j:j + step]).to(device))\n"
          ]
        }
      ],
      "source": [
        "step = 500\n",
        "for i in range(10):\n",
        "  adversaries_x = adversaries_x.to(device)\n",
        "  cnn.fit(adversaries_x, adversaries_y)\n",
        "  loss = nn.CrossEntropyLoss()\n",
        "  inp = adversaries_x\n",
        "  inp.requires_grad = True\n",
        "  for j in range(0, inp.shape[0], step):\n",
        "    module.eval()\n",
        "    out = cnn.module(inp[j:j + step])\n",
        "    loss_val = loss(out, torch.tensor(adversaries_y[j:j + step]).to(device))\n",
        "    loss_val.backward()\n",
        "    delta = epsilon * torch.sign(inp.grad.detach()[j:j + step])\n",
        "    if j == 0:\n",
        "      adversaries_x = torch.clamp(inp.detach()[j:j + step] + delta, 0.0, 1)\n",
        "    else:\n",
        "      adversaries_x = torch.cat((adversaries_x.detach(), torch.clamp(inp.detach()[j:j + step] + delta, 0.0, 1)), 0)\n",
        "attacked = adversaries_x.cpu().detach().numpy()"
      ]
    },
    {
      "cell_type": "code",
      "execution_count": null,
      "metadata": {
        "id": "Kpr9Kbc3fl9_"
      },
      "outputs": [],
      "source": [
        "mnist_dim = 28 * 28\n",
        "hidden_dims = [int(mnist_dim/8)]\n",
        "output_dim = 10"
      ]
    },
    {
      "cell_type": "code",
      "execution_count": null,
      "metadata": {
        "id": "TUzpzJwNfgN3"
      },
      "outputs": [],
      "source": [
        "class ClassifierModule(nn.Module):\n",
        "    def __init__(\n",
        "            self,\n",
        "            input_dim=mnist_dim,\n",
        "            hidden_dims=hidden_dims,\n",
        "            output_dim=output_dim,\n",
        "            dropout=0.5,\n",
        "    ):\n",
        "        super(ClassifierModule, self).__init__()\n",
        "        self.dropout = nn.Dropout(dropout)\n",
        "        self.hidden = nn.ModuleList()\n",
        "        for i in range(len(hidden_dims)):\n",
        "            if i == 0:\n",
        "              self.hidden.append(nn.Linear(mnist_dim, hidden_dims[i]))\n",
        "            else:\n",
        "              self.hidden.append(nn.Linear(hidden_dims[i - 1], hidden_dims[i]))\n",
        "        self.output = nn.Linear(hidden_dims[-1], output_dim)\n",
        "\n",
        "    def forward(self, X, eval=False, **kwargs):\n",
        "        Ts = None\n",
        "        layers = None\n",
        "        layer_num = 0\n",
        "        for h in self.hidden:\n",
        "          X = F.relu(h(X))\n",
        "          if eval:\n",
        "            Ts = torch.cat((Ts, X), 1) if Ts is not None else X\n",
        "            l = torch.ones_like(X) * layer_num\n",
        "            layers = torch.cat((layers, l), 1) if layers is not None else l\n",
        "          layer_num += 1\n",
        "        X = self.dropout(X)\n",
        "        X = F.softmax(self.output(X), dim=-1)\n",
        "        if eval:\n",
        "          return X, Ts, layers\n",
        "        return X"
      ]
    },
    {
      "cell_type": "code",
      "execution_count": null,
      "metadata": {
        "id": "s0aDatqN_v7l"
      },
      "outputs": [],
      "source": [
        "from skorch import NeuralNetClassifier\n",
        "nets = []"
      ]
    },
    {
      "cell_type": "code",
      "execution_count": null,
      "metadata": {
        "id": "dOrCbBjk_v7m"
      },
      "outputs": [],
      "source": [
        "torch.manual_seed(0)\n",
        "\n",
        "net1 = NeuralNetClassifier(\n",
        "    ClassifierModule(mnist_dim, [100], output_dim),\n",
        "    max_epochs=20,\n",
        "    lr=0.1,\n",
        "    device=device,\n",
        ")"
      ]
    },
    {
      "cell_type": "code",
      "execution_count": null,
      "metadata": {
        "colab": {
          "base_uri": "https://localhost:8080/"
        },
        "id": "WSCvLHR0NBI4",
        "outputId": "d0dfa7ba-adc2-4aec-a0c0-85a597327125"
      },
      "outputs": [
        {
          "data": {
            "text/plain": [
              "((60000, 784), (60000,), 100352, 235200, 2352)"
            ]
          },
          "execution_count": 19,
          "metadata": {},
          "output_type": "execute_result"
        }
      ],
      "source": [
        "X_train.shape, y_train.shape, 3584*28, 2352*100, 28*28*3"
      ]
    },
    {
      "cell_type": "code",
      "execution_count": null,
      "metadata": {
        "colab": {
          "base_uri": "https://localhost:8080/"
        },
        "id": "8i_gnvPi_v7m",
        "outputId": "69904eb6-fc18-4e2e-dfc0-6a19872b4832"
      },
      "outputs": [
        {
          "name": "stdout",
          "output_type": "stream",
          "text": [
            "  epoch    train_loss    valid_acc    valid_loss     dur\n",
            "-------  ------------  -----------  ------------  ------\n",
            "      1        \u001b[36m1.0346\u001b[0m       \u001b[32m0.8288\u001b[0m        \u001b[35m0.5873\u001b[0m  1.1012\n",
            "      2        \u001b[36m0.6281\u001b[0m       \u001b[32m0.8632\u001b[0m        \u001b[35m0.4563\u001b[0m  1.0681\n",
            "      3        \u001b[36m0.5362\u001b[0m       \u001b[32m0.8812\u001b[0m        \u001b[35m0.3989\u001b[0m  1.0574\n",
            "      4        \u001b[36m0.4877\u001b[0m       \u001b[32m0.8908\u001b[0m        \u001b[35m0.3614\u001b[0m  1.0462\n",
            "      5        \u001b[36m0.4532\u001b[0m       \u001b[32m0.8976\u001b[0m        \u001b[35m0.3380\u001b[0m  1.0936\n",
            "      6        \u001b[36m0.4285\u001b[0m       \u001b[32m0.9041\u001b[0m        \u001b[35m0.3189\u001b[0m  1.3521\n",
            "      7        \u001b[36m0.4121\u001b[0m       \u001b[32m0.9070\u001b[0m        \u001b[35m0.3084\u001b[0m  1.4659\n",
            "      8        \u001b[36m0.3891\u001b[0m       \u001b[32m0.9122\u001b[0m        \u001b[35m0.2945\u001b[0m  1.0749\n",
            "      9        \u001b[36m0.3816\u001b[0m       \u001b[32m0.9137\u001b[0m        \u001b[35m0.2890\u001b[0m  1.0483\n",
            "     10        \u001b[36m0.3709\u001b[0m       \u001b[32m0.9176\u001b[0m        \u001b[35m0.2768\u001b[0m  1.0852\n",
            "     11        \u001b[36m0.3621\u001b[0m       \u001b[32m0.9197\u001b[0m        \u001b[35m0.2743\u001b[0m  1.0356\n",
            "     12        \u001b[36m0.3529\u001b[0m       \u001b[32m0.9203\u001b[0m        \u001b[35m0.2685\u001b[0m  1.0813\n",
            "     13        \u001b[36m0.3476\u001b[0m       \u001b[32m0.9228\u001b[0m        \u001b[35m0.2620\u001b[0m  1.0386\n",
            "     14        \u001b[36m0.3374\u001b[0m       0.9226        \u001b[35m0.2593\u001b[0m  1.0639\n",
            "     15        \u001b[36m0.3345\u001b[0m       \u001b[32m0.9239\u001b[0m        \u001b[35m0.2552\u001b[0m  1.0700\n",
            "     16        \u001b[36m0.3226\u001b[0m       \u001b[32m0.9259\u001b[0m        \u001b[35m0.2524\u001b[0m  1.0698\n",
            "     17        0.3231       0.9258        \u001b[35m0.2504\u001b[0m  1.3377\n",
            "     18        \u001b[36m0.3150\u001b[0m       \u001b[32m0.9264\u001b[0m        \u001b[35m0.2478\u001b[0m  1.4144\n",
            "     19        \u001b[36m0.3122\u001b[0m       \u001b[32m0.9275\u001b[0m        \u001b[35m0.2437\u001b[0m  1.0405\n",
            "     20        \u001b[36m0.3074\u001b[0m       \u001b[32m0.9277\u001b[0m        \u001b[35m0.2421\u001b[0m  1.0534\n"
          ]
        }
      ],
      "source": [
        "net1.fit(X_train, y_train)\n",
        "nets.append(net1)"
      ]
    },
    {
      "cell_type": "code",
      "execution_count": null,
      "metadata": {
        "colab": {
          "base_uri": "https://localhost:8080/"
        },
        "id": "LCWachuM_v7o",
        "outputId": "f589a159-ac63-4130-fcc4-64f5ef629e8f"
      },
      "outputs": [
        {
          "data": {
            "text/plain": [
              "0.8435"
            ]
          },
          "execution_count": 21,
          "metadata": {},
          "output_type": "execute_result"
        }
      ],
      "source": [
        "y_pred = net1.predict(X_test)\n",
        "accuracy_score(y_test, y_pred)"
      ]
    },
    {
      "cell_type": "code",
      "execution_count": null,
      "metadata": {
        "colab": {
          "base_uri": "https://localhost:8080/"
        },
        "id": "LjPuWxptJrND",
        "outputId": "d3414552-dd40-4a39-e2be-49749c7e6ab4"
      },
      "outputs": [
        {
          "data": {
            "text/plain": [
              "0.5043"
            ]
          },
          "execution_count": 22,
          "metadata": {},
          "output_type": "execute_result"
        }
      ],
      "source": [
        "y_pred = net1.predict(attacked)\n",
        "accuracy_score(y_test, y_pred)"
      ]
    },
    {
      "cell_type": "code",
      "execution_count": null,
      "metadata": {
        "colab": {
          "base_uri": "https://localhost:8080/"
        },
        "id": "BW7oUwIsefSx",
        "outputId": "eee538bf-8b90-4da3-b33d-6bfba8ef5117"
      },
      "outputs": [
        {
          "name": "stdout",
          "output_type": "stream",
          "text": [
            "  epoch    train_loss    valid_acc    valid_loss     dur\n",
            "-------  ------------  -----------  ------------  ------\n",
            "      1        \u001b[36m1.3532\u001b[0m       \u001b[32m0.7967\u001b[0m        \u001b[35m0.6833\u001b[0m  1.1596\n",
            "      2        \u001b[36m0.7749\u001b[0m       \u001b[32m0.8468\u001b[0m        \u001b[35m0.5046\u001b[0m  1.1264\n",
            "      3        \u001b[36m0.6310\u001b[0m       \u001b[32m0.8722\u001b[0m        \u001b[35m0.4235\u001b[0m  1.1111\n",
            "      4        \u001b[36m0.5383\u001b[0m       \u001b[32m0.8813\u001b[0m        \u001b[35m0.3838\u001b[0m  1.1256\n",
            "      5        \u001b[36m0.4815\u001b[0m       \u001b[32m0.8923\u001b[0m        \u001b[35m0.3527\u001b[0m  1.1072\n",
            "      6        \u001b[36m0.4338\u001b[0m       \u001b[32m0.9034\u001b[0m        \u001b[35m0.3183\u001b[0m  1.1357\n",
            "      7        \u001b[36m0.4025\u001b[0m       \u001b[32m0.9067\u001b[0m        \u001b[35m0.3044\u001b[0m  1.3466\n",
            "      8        \u001b[36m0.3688\u001b[0m       \u001b[32m0.9068\u001b[0m        \u001b[35m0.3009\u001b[0m  1.5554\n",
            "      9        \u001b[36m0.3485\u001b[0m       \u001b[32m0.9146\u001b[0m        \u001b[35m0.2788\u001b[0m  1.1666\n",
            "     10        \u001b[36m0.3246\u001b[0m       \u001b[32m0.9170\u001b[0m        \u001b[35m0.2742\u001b[0m  1.1021\n",
            "     11        \u001b[36m0.3073\u001b[0m       \u001b[32m0.9217\u001b[0m        \u001b[35m0.2641\u001b[0m  1.1120\n",
            "     12        \u001b[36m0.2909\u001b[0m       \u001b[32m0.9227\u001b[0m        \u001b[35m0.2595\u001b[0m  1.1090\n",
            "     13        \u001b[36m0.2778\u001b[0m       \u001b[32m0.9229\u001b[0m        \u001b[35m0.2595\u001b[0m  1.1101\n",
            "     14        \u001b[36m0.2603\u001b[0m       \u001b[32m0.9261\u001b[0m        \u001b[35m0.2561\u001b[0m  1.1165\n",
            "     15        \u001b[36m0.2541\u001b[0m       \u001b[32m0.9265\u001b[0m        \u001b[35m0.2512\u001b[0m  1.1043\n",
            "     16        \u001b[36m0.2403\u001b[0m       0.9263        0.2561  1.1140\n",
            "     17        \u001b[36m0.2324\u001b[0m       \u001b[32m0.9277\u001b[0m        0.2546  1.1272\n",
            "     18        \u001b[36m0.2226\u001b[0m       0.9271        0.2533  1.5138\n",
            "     19        \u001b[36m0.2148\u001b[0m       0.9271        0.2554  1.3947\n",
            "     20        \u001b[36m0.2130\u001b[0m       0.9257        0.2629  1.1104\n"
          ]
        }
      ],
      "source": [
        "hidden_dims = [60, 40]\n",
        "net2 = NeuralNetClassifier(ClassifierModule(mnist_dim, hidden_dims, output_dim), max_epochs=20, lr=0.1, device=device)\n",
        "net2.fit(X_train, y_train);\n",
        "nets.append(net2)"
      ]
    },
    {
      "cell_type": "code",
      "execution_count": null,
      "metadata": {
        "colab": {
          "base_uri": "https://localhost:8080/"
        },
        "id": "oOJu7u0DefNS",
        "outputId": "36ceffc3-4b2b-4cdd-a3ae-c7ea8b00179b"
      },
      "outputs": [
        {
          "data": {
            "text/plain": [
              "0.8437"
            ]
          },
          "execution_count": 24,
          "metadata": {},
          "output_type": "execute_result"
        }
      ],
      "source": [
        "y_pred = net2.predict(X_test)\n",
        "accuracy_score(y_test, y_pred)"
      ]
    },
    {
      "cell_type": "code",
      "execution_count": null,
      "metadata": {
        "colab": {
          "base_uri": "https://localhost:8080/"
        },
        "id": "qJAF1uDpJsyL",
        "outputId": "23f6710f-de37-44a5-9e3b-0ed32d8a19b7"
      },
      "outputs": [
        {
          "data": {
            "text/plain": [
              "0.4744"
            ]
          },
          "execution_count": 25,
          "metadata": {},
          "output_type": "execute_result"
        }
      ],
      "source": [
        "y_pred = net2.predict(attacked)\n",
        "accuracy_score(y_test, y_pred)"
      ]
    },
    {
      "cell_type": "code",
      "execution_count": null,
      "metadata": {
        "colab": {
          "base_uri": "https://localhost:8080/"
        },
        "id": "8brVrmkFfBZN",
        "outputId": "05f15e23-3bb9-4d6f-8bb4-25d078467081"
      },
      "outputs": [
        {
          "name": "stdout",
          "output_type": "stream",
          "text": [
            "  epoch    train_loss    valid_acc    valid_loss     dur\n",
            "-------  ------------  -----------  ------------  ------\n",
            "      1        \u001b[36m1.2488\u001b[0m       \u001b[32m0.8082\u001b[0m        \u001b[35m0.6553\u001b[0m  1.1514\n",
            "      2        \u001b[36m0.7192\u001b[0m       \u001b[32m0.8512\u001b[0m        \u001b[35m0.4977\u001b[0m  1.1247\n",
            "      3        \u001b[36m0.5882\u001b[0m       \u001b[32m0.8752\u001b[0m        \u001b[35m0.4148\u001b[0m  1.1534\n",
            "      4        \u001b[36m0.5125\u001b[0m       \u001b[32m0.8866\u001b[0m        \u001b[35m0.3787\u001b[0m  1.1394\n",
            "      5        \u001b[36m0.4588\u001b[0m       \u001b[32m0.8947\u001b[0m        \u001b[35m0.3489\u001b[0m  1.1212\n",
            "      6        \u001b[36m0.4148\u001b[0m       \u001b[32m0.9025\u001b[0m        \u001b[35m0.3296\u001b[0m  1.1165\n",
            "      7        \u001b[36m0.3867\u001b[0m       \u001b[32m0.9057\u001b[0m        \u001b[35m0.3129\u001b[0m  1.1225\n",
            "      8        \u001b[36m0.3628\u001b[0m       \u001b[32m0.9114\u001b[0m        \u001b[35m0.2963\u001b[0m  1.5592\n",
            "      9        \u001b[36m0.3421\u001b[0m       \u001b[32m0.9121\u001b[0m        \u001b[35m0.2938\u001b[0m  1.3573\n",
            "     10        \u001b[36m0.3289\u001b[0m       \u001b[32m0.9127\u001b[0m        \u001b[35m0.2910\u001b[0m  1.1336\n",
            "     11        \u001b[36m0.3099\u001b[0m       \u001b[32m0.9130\u001b[0m        0.2937  1.1215\n",
            "     12        \u001b[36m0.2969\u001b[0m       \u001b[32m0.9193\u001b[0m        \u001b[35m0.2754\u001b[0m  1.1264\n",
            "     13        \u001b[36m0.2870\u001b[0m       0.9183        \u001b[35m0.2744\u001b[0m  1.1216\n",
            "     14        \u001b[36m0.2746\u001b[0m       \u001b[32m0.9220\u001b[0m        \u001b[35m0.2716\u001b[0m  1.1197\n",
            "     15        \u001b[36m0.2641\u001b[0m       0.9213        \u001b[35m0.2706\u001b[0m  1.1011\n",
            "     16        \u001b[36m0.2578\u001b[0m       \u001b[32m0.9221\u001b[0m        \u001b[35m0.2701\u001b[0m  1.1223\n",
            "     17        \u001b[36m0.2481\u001b[0m       \u001b[32m0.9223\u001b[0m        \u001b[35m0.2680\u001b[0m  1.1098\n",
            "     18        \u001b[36m0.2399\u001b[0m       \u001b[32m0.9239\u001b[0m        \u001b[35m0.2652\u001b[0m  1.4220\n",
            "     19        \u001b[36m0.2375\u001b[0m       0.9217        0.2707  1.5411\n",
            "     20        \u001b[36m0.2282\u001b[0m       0.9227        0.2708  1.1249\n"
          ]
        }
      ],
      "source": [
        "hidden_dims = [40, 60]\n",
        "net3 = NeuralNetClassifier(ClassifierModule(mnist_dim, hidden_dims, output_dim), max_epochs=20, lr=0.1, device=device)\n",
        "net3.fit(X_train, y_train);\n",
        "nets.append(net3)"
      ]
    },
    {
      "cell_type": "code",
      "execution_count": null,
      "metadata": {
        "colab": {
          "base_uri": "https://localhost:8080/"
        },
        "id": "RPdX6V3RfbIO",
        "outputId": "9a32795d-db51-46ec-ecaf-ed395eac8a1e"
      },
      "outputs": [
        {
          "data": {
            "text/plain": [
              "0.8377"
            ]
          },
          "execution_count": 27,
          "metadata": {},
          "output_type": "execute_result"
        }
      ],
      "source": [
        "y_pred = net3.predict(X_test)\n",
        "accuracy_score(y_test, y_pred)"
      ]
    },
    {
      "cell_type": "code",
      "execution_count": null,
      "metadata": {
        "colab": {
          "base_uri": "https://localhost:8080/"
        },
        "id": "aNekBnFDJuUN",
        "outputId": "a2335f4f-6605-444f-a9d4-e983bcbc9bae"
      },
      "outputs": [
        {
          "data": {
            "text/plain": [
              "0.4818"
            ]
          },
          "execution_count": 28,
          "metadata": {},
          "output_type": "execute_result"
        }
      ],
      "source": [
        "y_pred = net3.predict(attacked)\n",
        "accuracy_score(y_test, y_pred)"
      ]
    },
    {
      "cell_type": "code",
      "execution_count": null,
      "metadata": {
        "id": "XddXR1_a_v7p"
      },
      "outputs": [],
      "source": [
        "error_mask = y_pred != y_test"
      ]
    },
    {
      "cell_type": "code",
      "execution_count": null,
      "metadata": {
        "colab": {
          "base_uri": "https://localhost:8080/",
          "height": 144
        },
        "id": "hXlNTrlt_v7q",
        "outputId": "678fc5df-9ecd-4b20-ceff-2a030aa3aed6"
      },
      "outputs": [
        {
          "data": {
            "image/png": "[encoded data removed]",
            "text/plain": [
              "<Figure size 640x480 with 5 Axes>"
            ]
          },
          "metadata": {},
          "output_type": "display_data"
        }
      ],
      "source": [
        "plot_example(X_test[error_mask], y_pred[error_mask])"
      ]
    },
    {
      "cell_type": "code",
      "execution_count": null,
      "metadata": {
        "colab": {
          "base_uri": "https://localhost:8080/"
        },
        "id": "EV9i52A1Ltos",
        "outputId": "46464c0e-a282-4b50-da9d-2be9e7c936a4"
      },
      "outputs": [
        {
          "data": {
            "text/plain": [
              "[196, 392]"
            ]
          },
          "execution_count": 31,
          "metadata": {},
          "output_type": "execute_result"
        }
      ],
      "source": [
        "[mnist_dim//4, mnist_dim//2]"
      ]
    },
    {
      "cell_type": "code",
      "execution_count": null,
      "metadata": {
        "colab": {
          "base_uri": "https://localhost:8080/"
        },
        "id": "uuq0j5qOS9cK",
        "outputId": "b100477e-6de5-4a70-b412-653481ce4b4d"
      },
      "outputs": [
        {
          "name": "stdout",
          "output_type": "stream",
          "text": [
            "  epoch    train_loss    valid_acc    valid_loss     dur\n",
            "-------  ------------  -----------  ------------  ------\n",
            "      1        \u001b[36m1.3308\u001b[0m       \u001b[32m0.8067\u001b[0m        \u001b[35m0.6607\u001b[0m  1.1826\n",
            "      2        \u001b[36m0.7449\u001b[0m       \u001b[32m0.8502\u001b[0m        \u001b[35m0.4969\u001b[0m  1.1180\n",
            "      3        \u001b[36m0.6108\u001b[0m       \u001b[32m0.8740\u001b[0m        \u001b[35m0.4186\u001b[0m  1.1455\n",
            "      4        \u001b[36m0.5299\u001b[0m       \u001b[32m0.8861\u001b[0m        \u001b[35m0.3716\u001b[0m  1.1111\n",
            "      5        \u001b[36m0.4709\u001b[0m       \u001b[32m0.8996\u001b[0m        \u001b[35m0.3342\u001b[0m  1.4606\n",
            "      6        \u001b[36m0.4300\u001b[0m       \u001b[32m0.9039\u001b[0m        \u001b[35m0.3137\u001b[0m  1.8679\n",
            "      7        \u001b[36m0.3890\u001b[0m       \u001b[32m0.9107\u001b[0m        \u001b[35m0.3002\u001b[0m  1.5100\n",
            "      8        \u001b[36m0.3616\u001b[0m       \u001b[32m0.9136\u001b[0m        \u001b[35m0.2887\u001b[0m  1.3773\n",
            "      9        \u001b[36m0.3421\u001b[0m       \u001b[32m0.9145\u001b[0m        \u001b[35m0.2878\u001b[0m  1.1233\n",
            "     10        \u001b[36m0.3203\u001b[0m       \u001b[32m0.9199\u001b[0m        \u001b[35m0.2736\u001b[0m  1.1276\n",
            "     11        \u001b[36m0.3038\u001b[0m       0.9190        \u001b[35m0.2696\u001b[0m  1.1385\n",
            "     12        \u001b[36m0.2911\u001b[0m       \u001b[32m0.9203\u001b[0m        0.2733  1.1290\n",
            "     13        \u001b[36m0.2760\u001b[0m       \u001b[32m0.9229\u001b[0m        \u001b[35m0.2628\u001b[0m  1.1358\n",
            "     14        \u001b[36m0.2644\u001b[0m       \u001b[32m0.9247\u001b[0m        \u001b[35m0.2594\u001b[0m  1.1163\n",
            "     15        \u001b[36m0.2572\u001b[0m       0.9227        0.2665  1.1726\n",
            "     16        \u001b[36m0.2476\u001b[0m       \u001b[32m0.9278\u001b[0m        \u001b[35m0.2536\u001b[0m  1.1913\n",
            "     17        \u001b[36m0.2354\u001b[0m       \u001b[32m0.9283\u001b[0m        0.2545  1.4074\n",
            "     18        \u001b[36m0.2323\u001b[0m       \u001b[32m0.9295\u001b[0m        \u001b[35m0.2499\u001b[0m  1.5078\n",
            "     19        \u001b[36m0.2260\u001b[0m       0.9278        0.2523  1.1192\n",
            "     20        \u001b[36m0.2204\u001b[0m       \u001b[32m0.9311\u001b[0m        \u001b[35m0.2463\u001b[0m  1.1399\n"
          ]
        }
      ],
      "source": [
        "hidden_dims = [50, 50]\n",
        "net4 = NeuralNetClassifier(ClassifierModule(mnist_dim, hidden_dims, output_dim), max_epochs=20, lr=0.1, device=device)\n",
        "net4.fit(X_train, y_train);\n",
        "nets.append(net4)"
      ]
    },
    {
      "cell_type": "code",
      "execution_count": null,
      "metadata": {
        "colab": {
          "base_uri": "https://localhost:8080/"
        },
        "id": "q1QSzz6g-9Fy",
        "outputId": "5d0b7667-0eeb-45be-c380-415ae833e0d0"
      },
      "outputs": [
        {
          "data": {
            "text/plain": [
              "0.8445"
            ]
          },
          "execution_count": 33,
          "metadata": {},
          "output_type": "execute_result"
        }
      ],
      "source": [
        "y_pred = net4.predict(X_test)\n",
        "accuracy_score(y_test, y_pred)"
      ]
    },
    {
      "cell_type": "code",
      "execution_count": null,
      "metadata": {
        "colab": {
          "base_uri": "https://localhost:8080/"
        },
        "id": "vn25_ivbJwcs",
        "outputId": "c375a314-9665-4660-9ddd-ffaacc9f8fbe"
      },
      "outputs": [
        {
          "data": {
            "text/plain": [
              "0.4721"
            ]
          },
          "execution_count": 34,
          "metadata": {},
          "output_type": "execute_result"
        }
      ],
      "source": [
        "y_pred = net4.predict(attacked)\n",
        "accuracy_score(y_test, y_pred)"
      ]
    },
    {
      "cell_type": "code",
      "execution_count": null,
      "metadata": {
        "colab": {
          "base_uri": "https://localhost:8080/"
        },
        "id": "vCC7A8VmTAoX",
        "outputId": "94677e43-b9ca-4ea7-db97-40a32872749b"
      },
      "outputs": [
        {
          "name": "stdout",
          "output_type": "stream",
          "text": [
            "  epoch    train_loss    valid_acc    valid_loss     dur\n",
            "-------  ------------  -----------  ------------  ------\n",
            "      1        \u001b[36m2.3039\u001b[0m       \u001b[32m0.1185\u001b[0m        \u001b[35m2.3021\u001b[0m  1.3355\n",
            "      2        \u001b[36m2.2993\u001b[0m       \u001b[32m0.1670\u001b[0m        \u001b[35m2.2794\u001b[0m  1.3109\n",
            "      3        \u001b[36m2.0837\u001b[0m       \u001b[32m0.2172\u001b[0m        \u001b[35m1.8849\u001b[0m  1.3150\n",
            "      4        \u001b[36m1.9153\u001b[0m       \u001b[32m0.2968\u001b[0m        \u001b[35m1.7357\u001b[0m  1.2984\n",
            "      5        \u001b[36m1.6495\u001b[0m       \u001b[32m0.5647\u001b[0m        \u001b[35m1.2818\u001b[0m  1.3233\n",
            "      6        \u001b[36m1.3545\u001b[0m       \u001b[32m0.6727\u001b[0m        \u001b[35m1.0506\u001b[0m  1.5684\n",
            "      7        \u001b[36m1.1882\u001b[0m       \u001b[32m0.7339\u001b[0m        \u001b[35m0.8896\u001b[0m  1.7257\n",
            "      8        \u001b[36m1.0765\u001b[0m       \u001b[32m0.7749\u001b[0m        \u001b[35m0.7971\u001b[0m  1.2766\n",
            "      9        \u001b[36m0.9723\u001b[0m       \u001b[32m0.8135\u001b[0m        \u001b[35m0.6871\u001b[0m  1.3125\n",
            "     10        \u001b[36m0.8881\u001b[0m       0.8101        \u001b[35m0.6761\u001b[0m  1.2876\n",
            "     11        \u001b[36m0.8366\u001b[0m       \u001b[32m0.8323\u001b[0m        \u001b[35m0.6305\u001b[0m  1.2785\n",
            "     12        \u001b[36m0.8116\u001b[0m       \u001b[32m0.8397\u001b[0m        \u001b[35m0.6100\u001b[0m  1.2959\n",
            "     13        \u001b[36m0.7607\u001b[0m       \u001b[32m0.8482\u001b[0m        \u001b[35m0.5971\u001b[0m  1.3368\n",
            "     14        \u001b[36m0.7294\u001b[0m       \u001b[32m0.8542\u001b[0m        \u001b[35m0.5684\u001b[0m  1.2893\n",
            "     15        \u001b[36m0.7138\u001b[0m       0.8540        \u001b[35m0.5668\u001b[0m  1.6299\n",
            "     16        \u001b[36m0.6960\u001b[0m       0.8492        0.5916  1.7462\n",
            "     17        \u001b[36m0.6716\u001b[0m       \u001b[32m0.8563\u001b[0m        \u001b[35m0.5485\u001b[0m  1.2887\n",
            "     18        \u001b[36m0.6711\u001b[0m       \u001b[32m0.8645\u001b[0m        \u001b[35m0.5482\u001b[0m  1.3274\n",
            "     19        \u001b[36m0.6489\u001b[0m       \u001b[32m0.8670\u001b[0m        \u001b[35m0.5284\u001b[0m  1.2944\n",
            "     20        \u001b[36m0.6315\u001b[0m       0.8621        0.5441  1.3373\n"
          ]
        }
      ],
      "source": [
        "hidden_dims = [20, 20, 20, 20, 20]\n",
        "net5 = NeuralNetClassifier(ClassifierModule(mnist_dim, hidden_dims, output_dim), max_epochs=20, lr=0.1, device=device)\n",
        "net5.fit(X_train, y_train);\n",
        "nets.append(net5)"
      ]
    },
    {
      "cell_type": "code",
      "execution_count": null,
      "metadata": {
        "colab": {
          "base_uri": "https://localhost:8080/"
        },
        "id": "ioEIKLGP--vq",
        "outputId": "1cfbf5bc-caee-4595-d519-ac86553656fe"
      },
      "outputs": [
        {
          "data": {
            "text/plain": [
              "0.7429"
            ]
          },
          "execution_count": 36,
          "metadata": {},
          "output_type": "execute_result"
        }
      ],
      "source": [
        "y_pred = net5.predict(X_test)\n",
        "accuracy_score(y_test, y_pred)"
      ]
    },
    {
      "cell_type": "code",
      "execution_count": null,
      "metadata": {
        "colab": {
          "base_uri": "https://localhost:8080/"
        },
        "id": "FSJDxb5tJx32",
        "outputId": "fd89ef73-47aa-4597-887c-02690063db2b"
      },
      "outputs": [
        {
          "data": {
            "text/plain": [
              "0.3963"
            ]
          },
          "execution_count": 37,
          "metadata": {},
          "output_type": "execute_result"
        }
      ],
      "source": [
        "y_pred = net5.predict(attacked)\n",
        "accuracy_score(y_test, y_pred)"
      ]
    },
    {
      "cell_type": "markdown",
      "metadata": {
        "id": "I2GsBaxH_v7r"
      },
      "source": [
        "# Convolutional Network\n"
      ]
    },
    {
      "cell_type": "code",
      "execution_count": null,
      "metadata": {
        "id": "YdQ-ISvb_v7u"
      },
      "outputs": [],
      "source": [
        "class Cnn(nn.Module):\n",
        "    def __init__(self, dropout=0.5):\n",
        "        super(Cnn, self).__init__()\n",
        "        self.conv1 = nn.Conv2d(1, 32, kernel_size=3)\n",
        "        self.conv2 = nn.Conv2d(32, 64, kernel_size=3)\n",
        "        self.conv2_drop = nn.Dropout2d(p=dropout)\n",
        "        self.fc1 = nn.Linear(1600, 100) # 1600 = number channels * width * height\n",
        "        self.fc2 = nn.Linear(100, 10)\n",
        "        self.fc1_drop = nn.Dropout(p=dropout)\n",
        "\n",
        "    def forward(self, x, eval=False):\n",
        "\n",
        "        outputs = []\n",
        "        x = x.reshape((x.shape[0], 1, 28, 28))\n",
        "\n",
        "        x = torch.relu(F.max_pool2d(self.conv1(x), 2))\n",
        "        outputs.append(x)\n",
        "        x = torch.relu(F.max_pool2d(self.conv2_drop(self.conv2(x)), 2))\n",
        "        outputs.append(x)\n",
        "\n",
        "        # flatten over channel, height and width = 1600\n",
        "        x = x.view(-1, x.size(1) * x.size(2) * x.size(3))\n",
        "\n",
        "        x = torch.relu(self.fc1_drop(self.fc1(x)))\n",
        "        x = torch.softmax(self.fc2(x), dim=-1)\n",
        "\n",
        "        Ts = None\n",
        "        layers = None\n",
        "        layer_num = 0\n",
        "        if eval:\n",
        "          for X in outputs:\n",
        "            X = X.reshape((X.shape[0], np.prod(X.shape) // X.shape[0]))\n",
        "            Ts = torch.cat((Ts, X), 1) if Ts is not None else X\n",
        "            l = torch.ones_like(X) * layer_num\n",
        "            layers = torch.cat((layers, l), 1) if layers is not None else l\n",
        "            layer_num += 1\n",
        "          return x, Ts, layers\n",
        "\n",
        "        return x\n"
      ]
    },
    {
      "cell_type": "code",
      "execution_count": null,
      "metadata": {
        "id": "WJrWyFfb_v7u"
      },
      "outputs": [],
      "source": [
        "torch.manual_seed(0)\n",
        "\n",
        "cnn = NeuralNetClassifier(\n",
        "    Cnn(),\n",
        "    max_epochs=10,\n",
        "    lr=0.002,\n",
        "    optimizer=torch.optim.Adam,\n",
        "    device=device,\n",
        ")"
      ]
    },
    {
      "cell_type": "code",
      "execution_count": null,
      "metadata": {
        "colab": {
          "base_uri": "https://localhost:8080/"
        },
        "id": "KRtHfgg8_v7u",
        "outputId": "345a58d8-93a0-43f3-980e-cfa59befb28c"
      },
      "outputs": [
        {
          "name": "stdout",
          "output_type": "stream",
          "text": [
            "  epoch    train_loss    valid_acc    valid_loss     dur\n",
            "-------  ------------  -----------  ------------  ------\n",
            "      1        \u001b[36m0.8320\u001b[0m       \u001b[32m0.9183\u001b[0m        \u001b[35m0.2745\u001b[0m  2.1193\n",
            "      2        \u001b[36m0.4532\u001b[0m       \u001b[32m0.9425\u001b[0m        \u001b[35m0.1956\u001b[0m  1.8364\n",
            "      3        \u001b[36m0.3769\u001b[0m       \u001b[32m0.9517\u001b[0m        \u001b[35m0.1609\u001b[0m  2.2384\n",
            "      4        \u001b[36m0.3438\u001b[0m       \u001b[32m0.9568\u001b[0m        \u001b[35m0.1454\u001b[0m  1.7981\n",
            "      5        \u001b[36m0.3170\u001b[0m       \u001b[32m0.9590\u001b[0m        \u001b[35m0.1352\u001b[0m  1.7932\n",
            "      6        \u001b[36m0.2950\u001b[0m       \u001b[32m0.9628\u001b[0m        \u001b[35m0.1224\u001b[0m  1.8037\n",
            "      7        \u001b[36m0.2780\u001b[0m       \u001b[32m0.9649\u001b[0m        \u001b[35m0.1117\u001b[0m  1.7879\n",
            "      8        \u001b[36m0.2630\u001b[0m       \u001b[32m0.9678\u001b[0m        \u001b[35m0.1098\u001b[0m  1.8105\n",
            "      9        \u001b[36m0.2545\u001b[0m       \u001b[32m0.9681\u001b[0m        \u001b[35m0.1029\u001b[0m  1.9882\n",
            "     10        \u001b[36m0.2429\u001b[0m       \u001b[32m0.9699\u001b[0m        \u001b[35m0.0989\u001b[0m  2.0873\n"
          ]
        }
      ],
      "source": [
        "cnn.fit(X_train, y_train);"
      ]
    },
    {
      "cell_type": "code",
      "execution_count": null,
      "metadata": {
        "colab": {
          "base_uri": "https://localhost:8080/"
        },
        "id": "5GFi5rv-_DFT",
        "outputId": "981ae15d-45bd-488e-f76e-e12aa1f565cb"
      },
      "outputs": [
        {
          "data": {
            "text/plain": [
              "0.9174"
            ]
          },
          "execution_count": 49,
          "metadata": {},
          "output_type": "execute_result"
        }
      ],
      "source": [
        "y_pred = cnn.predict(X_test)\n",
        "accuracy_score(y_test, y_pred)"
      ]
    },
    {
      "cell_type": "code",
      "execution_count": null,
      "metadata": {
        "colab": {
          "base_uri": "https://localhost:8080/"
        },
        "id": "imcUYTIjJ4Z3",
        "outputId": "63a2e1ab-8124-4825-813a-8d826167728c"
      },
      "outputs": [
        {
          "data": {
            "text/plain": [
              "0.3386"
            ]
          },
          "execution_count": 50,
          "metadata": {},
          "output_type": "execute_result"
        }
      ],
      "source": [
        "y_pred = cnn.predict(attacked)\n",
        "accuracy_score(y_test, y_pred)"
      ]
    },
    {
      "cell_type": "code",
      "execution_count": null,
      "metadata": {
        "id": "3axUSJ-SmmWE"
      },
      "outputs": [],
      "source": [
        "X_test.shape"
      ]
    },
    {
      "cell_type": "code",
      "execution_count": null,
      "metadata": {
        "colab": {
          "base_uri": "https://localhost:8080/",
          "height": 1000
        },
        "id": "d3zXfTiALUyA",
        "outputId": "b404c667-c1d7-4b85-f191-fdde199faf4a"
      },
      "outputs": [
        {
          "data": {
            "image/png": "[encoded data removed]",
            "text/plain": [
              "<Figure size 2250x2250 with 1 Axes>"
            ]
          },
          "metadata": {},
          "output_type": "display_data"
        },
        {
          "data": {
            "image/png": "[encoded data removed]",
            "text/plain": [
              "<Figure size 2250x2250 with 1 Axes>"
            ]
          },
          "metadata": {},
          "output_type": "display_data"
        },
        {
          "data": {
            "image/png": "[encoded data removed]",
            "text/plain": [
              "<Figure size 2250x2250 with 1 Axes>"
            ]
          },
          "metadata": {},
          "output_type": "display_data"
        },
        {
          "data": {
            "image/png": "[encoded data removed]",
            "text/plain": [
              "<Figure size 2250x2250 with 1 Axes>"
            ]
          },
          "metadata": {},
          "output_type": "display_data"
        },
        {
          "data": {
            "image/png": "[encoded data removed]",
            "text/plain": [
              "<Figure size 2250x2250 with 1 Axes>"
            ]
          },
          "metadata": {},
          "output_type": "display_data"
        },
        {
          "data": {
            "image/png": "[encoded data removed]",
            "text/plain": [
              "<Figure size 2250x2250 with 1 Axes>"
            ]
          },
          "metadata": {},
          "output_type": "display_data"
        },
        {
          "data": {
            "image/png": "[encoded data removed]",
            "text/plain": [
              "<Figure size 2250x2250 with 1 Axes>"
            ]
          },
          "metadata": {},
          "output_type": "display_data"
        },
        {
          "data": {
            "image/png": "[encoded data removed]",
            "text/plain": [
              "<Figure size 2250x2250 with 1 Axes>"
            ]
          },
          "metadata": {},
          "output_type": "display_data"
        },
        {
          "data": {
            "image/png": "[encoded data removed]",
            "text/plain": [
              "<Figure size 2250x2250 with 1 Axes>"
            ]
          },
          "metadata": {},
          "output_type": "display_data"
        },
        {
          "data": {
            "image/png": "[encoded data removed]",
            "text/plain": [
              "<Figure size 2250x2250 with 1 Axes>"
            ]
          },
          "metadata": {},
          "output_type": "display_data"
        },
        {
          "data": {
            "image/png": "[encoded data removed]",
            "text/plain": [
              "<Figure size 2250x2250 with 1 Axes>"
            ]
          },
          "metadata": {},
          "output_type": "display_data"
        },
        {
          "data": {
            "image/png": "[encoded data removed]",
            "text/plain": [
              "<Figure size 2250x2250 with 1 Axes>"
            ]
          },
          "metadata": {},
          "output_type": "display_data"
        },
        {
          "data": {
            "image/png": "[encoded data removed]",
            "text/plain": [
              "<Figure size 2250x2250 with 1 Axes>"
            ]
          },
          "metadata": {},
          "output_type": "display_data"
        },
        {
          "data": {
            "image/png": "[encoded data removed]",
            "text/plain": [
              "<Figure size 2250x2250 with 1 Axes>"
            ]
          },
          "metadata": {},
          "output_type": "display_data"
        },
        {
          "data": {
            "image/png": "[encoded data removed]",
            "text/plain": [
              "<Figure size 2250x2250 with 1 Axes>"
            ]
          },
          "metadata": {},
          "output_type": "display_data"
        }
      ],
      "source": [
        "plot_example(X_test, y_test, n=15)"
      ]
    },
    {
      "cell_type": "code",
      "execution_count": null,
      "metadata": {
        "colab": {
          "base_uri": "https://localhost:8080/",
          "height": 1000
        },
        "id": "TVz99gfkLbqY",
        "outputId": "f225b4a6-ad74-49c8-d824-3f101944a4d4"
      },
      "outputs": [
        {
          "data": {
            "image/png": "[encoded data removed]",
            "text/plain": [
              "<Figure size 2250x2250 with 1 Axes>"
            ]
          },
          "metadata": {},
          "output_type": "display_data"
        },
        {
          "data": {
            "image/png": "[encoded data removed]",
            "text/plain": [
              "<Figure size 2250x2250 with 1 Axes>"
            ]
          },
          "metadata": {},
          "output_type": "display_data"
        },
        {
          "data": {
            "image/png": "[encoded data removed]",
            "text/plain": [
              "<Figure size 2250x2250 with 1 Axes>"
            ]
          },
          "metadata": {},
          "output_type": "display_data"
        },
        {
          "data": {
            "image/png": "[encoded data removed]",
            "text/plain": [
              "<Figure size 2250x2250 with 1 Axes>"
            ]
          },
          "metadata": {},
          "output_type": "display_data"
        },
        {
          "data": {
            "image/png": "[encoded data removed]",
            "text/plain": [
              "<Figure size 2250x2250 with 1 Axes>"
            ]
          },
          "metadata": {},
          "output_type": "display_data"
        },
        {
          "data": {
            "image/png": "[encoded data removed]",
            "text/plain": [
              "<Figure size 2250x2250 with 1 Axes>"
            ]
          },
          "metadata": {},
          "output_type": "display_data"
        },
        {
          "data": {
            "image/png": "[encoded data removed]",
            "text/plain": [
              "<Figure size 2250x2250 with 1 Axes>"
            ]
          },
          "metadata": {},
          "output_type": "display_data"
        },
        {
          "data": {
            "image/png": "[encoded data removed]",
            "text/plain": [
              "<Figure size 2250x2250 with 1 Axes>"
            ]
          },
          "metadata": {},
          "output_type": "display_data"
        },
        {
          "data": {
            "image/png": "[encoded data removed]",
            "text/plain": [
              "<Figure size 2250x2250 with 1 Axes>"
            ]
          },
          "metadata": {},
          "output_type": "display_data"
        },
        {
          "data": {
            "image/png": "[encoded data removed]",
            "text/plain": [
              "<Figure size 2250x2250 with 1 Axes>"
            ]
          },
          "metadata": {},
          "output_type": "display_data"
        },
        {
          "data": {
            "image/png": "[encoded data removed]",
            "text/plain": [
              "<Figure size 2250x2250 with 1 Axes>"
            ]
          },
          "metadata": {},
          "output_type": "display_data"
        },
        {
          "data": {
            "image/png": "[encoded data removed]",
            "text/plain": [
              "<Figure size 2250x2250 with 1 Axes>"
            ]
          },
          "metadata": {},
          "output_type": "display_data"
        },
        {
          "data": {
            "image/png": "[encoded data removed]",
            "text/plain": [
              "<Figure size 2250x2250 with 1 Axes>"
            ]
          },
          "metadata": {},
          "output_type": "display_data"
        },
        {
          "data": {
            "image/png": "[encoded data removed]",
            "text/plain": [
              "<Figure size 2250x2250 with 1 Axes>"
            ]
          },
          "metadata": {},
          "output_type": "display_data"
        },
        {
          "data": {
            "image/png": "[encoded data removed]",
            "text/plain": [
              "<Figure size 2250x2250 with 1 Axes>"
            ]
          },
          "metadata": {},
          "output_type": "display_data"
        }
      ],
      "source": [
        "plot_example(attacked, y_pred, n=15)"
      ]
    }
  ],
  "metadata": {
    "colab": {
      "provenance": []
    },
    "kernelspec": {
      "display_name": "Python 3",
      "name": "python3"
    },
    "language_info": {
      "codemirror_mode": {
        "name": "ipython",
        "version": 3
      },
      "file_extension": ".py",
      "mimetype": "text/x-python",
      "name": "python",
      "nbconvert_exporter": "python",
      "pygments_lexer": "ipython3",
      "version": "3.7.13 (default, Mar 28 2022, 08:03:21) [MSC v.1916 64 bit (AMD64)]"
    },
    "vscode": {
      "interpreter": {
        "hash": "bd97b8bffa4d3737e84826bc3d37be3046061822757ce35137ab82ad4c5a2016"
      }
    }
  },
  "nbformat": 4,
  "nbformat_minor": 0
}
