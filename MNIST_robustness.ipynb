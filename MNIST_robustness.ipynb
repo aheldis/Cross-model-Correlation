{
  "cells": [
    {
      "cell_type": "markdown",
      "metadata": {
        "id": "DJsUjs19_v63"
      },
      "source": [
        "# MNIST with SciKit-Learn and skorch"
      ]
    },
    {
      "cell_type": "code",
      "execution_count": null,
      "metadata": {
        "id": "8qYGNO2S_v6_"
      },
      "outputs": [],
      "source": [
        "import subprocess\n",
        "\n",
        "# Installation on Google Colab\n",
        "try:\n",
        "    import google.colab\n",
        "    subprocess.run(['python', '-m', 'pip', 'install', 'skorch' , 'torch'])\n",
        "except ImportError:\n",
        "    pass"
      ]
    },
    {
      "cell_type": "code",
      "execution_count": null,
      "metadata": {
        "id": "Gj0pvjxT_v7G"
      },
      "outputs": [],
      "source": [
        "from sklearn.datasets import fetch_openml\n",
        "from sklearn.model_selection import train_test_split\n",
        "import numpy as np\n",
        "import matplotlib.pyplot as plt"
      ]
    },
    {
      "cell_type": "markdown",
      "metadata": {
        "id": "mPz6Bjqw_v7H"
      },
      "source": [
        "## Loading Data"
      ]
    },
    {
      "cell_type": "code",
      "execution_count": null,
      "metadata": {
        "colab": {
          "base_uri": "https://localhost:8080/"
        },
        "id": "mwpfASvc_v7J",
        "outputId": "06166cce-4685-4b31-a471-7b9003addf21"
      },
      "outputs": [
        {
          "name": "stderr",
          "output_type": "stream",
          "text": [
            "/usr/local/lib/python3.10/dist-packages/sklearn/datasets/_openml.py:968: FutureWarning: The default value of `parser` will change from `'liac-arff'` to `'auto'` in 1.4. You can set `parser='auto'` to silence this warning. Therefore, an `ImportError` will be raised from 1.4 if the dataset is dense and pandas is not installed. Note that the pandas parser may return different data types. See the Notes Section in fetch_openml's API doc for details.\n",
            "  warn(\n"
          ]
        }
      ],
      "source": [
        "mnist = fetch_openml('mnist_784', as_frame=False, cache=False)"
      ]
    },
    {
      "cell_type": "code",
      "execution_count": null,
      "metadata": {
        "colab": {
          "base_uri": "https://localhost:8080/"
        },
        "id": "9Pt2JKyb_v7K",
        "outputId": "7144c297-1dac-4c19-9523-401f33b1350f"
      },
      "outputs": [
        {
          "data": {
            "text/plain": [
              "(70000, 784)"
            ]
          },
          "execution_count": 4,
          "metadata": {},
          "output_type": "execute_result"
        }
      ],
      "source": [
        "mnist.data.shape"
      ]
    },
    {
      "cell_type": "markdown",
      "metadata": {
        "id": "sV0ehb52_v7L"
      },
      "source": [
        "## Preprocessing Data\n"
      ]
    },
    {
      "cell_type": "code",
      "execution_count": null,
      "metadata": {
        "id": "F2v_Fwne_v7M"
      },
      "outputs": [],
      "source": [
        "X = mnist.data.astype('float32')\n",
        "y = mnist.target.astype('int64')"
      ]
    },
    {
      "cell_type": "code",
      "execution_count": null,
      "metadata": {
        "id": "8RirCOTr_v7O"
      },
      "outputs": [],
      "source": [
        "X /= 255.0"
      ]
    },
    {
      "cell_type": "code",
      "execution_count": null,
      "metadata": {
        "colab": {
          "base_uri": "https://localhost:8080/"
        },
        "id": "rohyp3d1_v7P",
        "outputId": "20c86f27-4a86-4c98-9773-9117bda2e7bb"
      },
      "outputs": [
        {
          "data": {
            "text/plain": [
              "(0.0, 1.0)"
            ]
          },
          "execution_count": 7,
          "metadata": {},
          "output_type": "execute_result"
        }
      ],
      "source": [
        "X.min(), X.max()"
      ]
    },
    {
      "cell_type": "markdown",
      "metadata": {
        "id": "tyUlsu0V_v7Q"
      },
      "source": [
        "Note: data is not normalized."
      ]
    },
    {
      "cell_type": "code",
      "execution_count": null,
      "metadata": {
        "id": "gILlsHJS_v7R"
      },
      "outputs": [],
      "source": [
        "X_train, X_test, y_train, y_test = train_test_split(X, y, test_size=0.25, random_state=42)"
      ]
    },
    {
      "cell_type": "code",
      "execution_count": null,
      "metadata": {
        "id": "jGpA4v4u_v7R"
      },
      "outputs": [],
      "source": [
        "assert(X_train.shape[0] + X_test.shape[0] == mnist.data.shape[0])"
      ]
    },
    {
      "cell_type": "code",
      "execution_count": null,
      "metadata": {
        "colab": {
          "base_uri": "https://localhost:8080/"
        },
        "id": "plXmcsp2_v7b",
        "outputId": "f4db9107-48bf-4e64-916b-c0ebc3d5f2bf"
      },
      "outputs": [
        {
          "data": {
            "text/plain": [
              "((52500, 784), (52500,))"
            ]
          },
          "execution_count": 10,
          "metadata": {},
          "output_type": "execute_result"
        }
      ],
      "source": [
        "X_train.shape, y_train.shape"
      ]
    },
    {
      "cell_type": "code",
      "execution_count": null,
      "metadata": {
        "colab": {
          "base_uri": "https://localhost:8080/"
        },
        "id": "cGF7t4yU3tOS",
        "outputId": "45db79ea-db16-45f8-9a24-706664779d74"
      },
      "outputs": [
        {
          "data": {
            "text/plain": [
              "numpy.ndarray"
            ]
          },
          "execution_count": 11,
          "metadata": {},
          "output_type": "execute_result"
        }
      ],
      "source": [
        "type(X_test)"
      ]
    },
    {
      "cell_type": "markdown",
      "metadata": {
        "id": "6EKEvbuP_v7c"
      },
      "source": [
        "### Print a selection of training images and their labels"
      ]
    },
    {
      "cell_type": "code",
      "execution_count": null,
      "metadata": {
        "id": "C9muXJPC_v7d"
      },
      "outputs": [],
      "source": [
        "def plot_example(X, y, n=5):\n",
        "    \"\"\"Plot the first 5 images and their labels in a row.\"\"\"\n",
        "    for i, (img, y) in enumerate(zip(X[:n].reshape(n, 28, 28), y[:n])):\n",
        "        plt.figure(figsize=(1.5 * n, 1.5 * n))\n",
        "        plt.subplot(1, n, 1 + i)\n",
        "        plt.imshow(img)\n",
        "        plt.xticks([])\n",
        "        plt.yticks([])\n",
        "        plt.title(y)"
      ]
    },
    {
      "cell_type": "code",
      "execution_count": null,
      "metadata": {
        "colab": {
          "base_uri": "https://localhost:8080/",
          "height": 727
        },
        "id": "h2-R1-Df_v7e",
        "outputId": "26f1fd85-b800-48e0-9965-b576377c413e"
      },
      "outputs": [
        {
          "data": {
            "image/png": "[encoded data removed]",
            "text/plain": [
              "<Figure size 750x750 with 1 Axes>"
            ]
          },
          "metadata": {},
          "output_type": "display_data"
        },
        {
          "data": {
            "image/png": "[encoded data removed]",
            "text/plain": [
              "<Figure size 750x750 with 1 Axes>"
            ]
          },
          "metadata": {},
          "output_type": "display_data"
        },
        {
          "data": {
            "image/png": "[encoded data removed]",
            "text/plain": [
              "<Figure size 750x750 with 1 Axes>"
            ]
          },
          "metadata": {},
          "output_type": "display_data"
        },
        {
          "data": {
            "image/png": "[encoded data removed]",
            "text/plain": [
              "<Figure size 750x750 with 1 Axes>"
            ]
          },
          "metadata": {},
          "output_type": "display_data"
        },
        {
          "data": {
            "image/png": "[encoded data removed]",
            "text/plain": [
              "<Figure size 750x750 with 1 Axes>"
            ]
          },
          "metadata": {},
          "output_type": "display_data"
        }
      ],
      "source": [
        "plot_example(X_train, y_train)"
      ]
    },
    {
      "cell_type": "markdown",
      "metadata": {
        "id": "YQvC-rWf_v7f"
      },
      "source": [
        "## Build Neural Network with PyTorch"
      ]
    },
    {
      "cell_type": "code",
      "execution_count": null,
      "metadata": {
        "id": "5PG7R0W8_v7f"
      },
      "outputs": [],
      "source": [
        "import torch\n",
        "from torch import nn\n",
        "import torch.nn.functional as F\n",
        "from sklearn.metrics import accuracy_score\n",
        "from skorch import NeuralNetClassifier"
      ]
    },
    {
      "cell_type": "code",
      "execution_count": null,
      "metadata": {
        "id": "NUjWrGBP_v7g"
      },
      "outputs": [],
      "source": [
        "device = 'cuda' if torch.cuda.is_available() else 'cpu'"
      ]
    },
    {
      "cell_type": "code",
      "execution_count": null,
      "metadata": {
        "id": "CXYPXaOaW8JH"
      },
      "outputs": [],
      "source": [
        "class Cnn(nn.Module):\n",
        "    def __init__(self, dropout=0.5):\n",
        "        super(Cnn, self).__init__()\n",
        "        self.conv1 = nn.Conv2d(1, 32, kernel_size=3)\n",
        "        self.conv2 = nn.Conv2d(32, 64, kernel_size=3)\n",
        "        self.conv2_drop = nn.Dropout2d(p=dropout)\n",
        "        self.fc1 = nn.Linear(1600, 100) # 1600 = number channels * width * height\n",
        "        self.fc2 = nn.Linear(100, 10)\n",
        "        self.fc1_drop = nn.Dropout(p=dropout)\n",
        "\n",
        "    def forward(self, x, eval=False):\n",
        "\n",
        "        outputs = []\n",
        "        x = x.reshape((x.shape[0], 1, 28, 28))\n",
        "\n",
        "        x = torch.relu(F.max_pool2d(self.conv1(x), 2))\n",
        "        outputs.append(x)\n",
        "        x = torch.relu(F.max_pool2d(self.conv2_drop(self.conv2(x)), 2))\n",
        "        outputs.append(x)\n",
        "\n",
        "        # flatten over channel, height and width = 1600\n",
        "        x = x.view(-1, x.size(1) * x.size(2) * x.size(3))\n",
        "\n",
        "        x = torch.relu(self.fc1_drop(self.fc1(x)))\n",
        "        x = torch.softmax(self.fc2(x), dim=-1)\n",
        "\n",
        "        Ts = None\n",
        "        layers = None\n",
        "        layer_num = 0\n",
        "        if eval:\n",
        "          for X in outputs:\n",
        "            X = X.reshape((X.shape[0], np.prod(X.shape) // X.shape[0]))\n",
        "            Ts = torch.cat((Ts, X), 1) if Ts is not None else X\n",
        "            l = torch.ones_like(X) * layer_num\n",
        "            layers = torch.cat((layers, l), 1) if layers is not None else l\n",
        "            layer_num += 1\n",
        "          return x, Ts, layers\n",
        "\n",
        "        return x\n"
      ]
    },
    {
      "cell_type": "code",
      "execution_count": null,
      "metadata": {
        "id": "DSwUft7OXGu8"
      },
      "outputs": [],
      "source": [
        "\n",
        "torch.manual_seed(0)\n",
        "\n",
        "module = Cnn()\n",
        "cnn = NeuralNetClassifier(\n",
        "    module,\n",
        "    max_epochs=3,\n",
        "    lr=0.002,\n",
        "    optimizer=torch.optim.Adam,\n",
        "    device=device,\n",
        ")"
      ]
    },
    {
      "cell_type": "code",
      "execution_count": null,
      "metadata": {
        "id": "BsFSOXkzkQHE"
      },
      "outputs": [],
      "source": [
        "adversaries_x = torch.tensor(X_test).to(device)\n",
        "adversaries_y = torch.tensor(y_test).to(device)\n",
        "epsilon = 10 / 255"
      ]
    },
    {
      "cell_type": "code",
      "execution_count": null,
      "metadata": {
        "colab": {
          "base_uri": "https://localhost:8080/"
        },
        "id": "OVWMkZ5AYAn5",
        "outputId": "f4e89272-15d5-4faf-f7c2-8cad5f5e86bf"
      },
      "outputs": [
        {
          "name": "stdout",
          "output_type": "stream",
          "text": [
            "  epoch    train_loss    valid_acc    valid_loss     dur\n",
            "-------  ------------  -----------  ------------  ------\n",
            "      1        \u001b[36m0.8628\u001b[0m       \u001b[32m0.9380\u001b[0m        \u001b[35m0.2083\u001b[0m  1.4417\n",
            "      2        \u001b[36m0.2858\u001b[0m       \u001b[32m0.9549\u001b[0m        \u001b[35m0.1361\u001b[0m  0.5334\n",
            "      3        \u001b[36m0.2165\u001b[0m       \u001b[32m0.9649\u001b[0m        \u001b[35m0.1092\u001b[0m  0.5444\n"
          ]
        },
        {
          "name": "stderr",
          "output_type": "stream",
          "text": [
            "<ipython-input-15-2bf0219f7bb3>:11: UserWarning: To copy construct from a tensor, it is recommended to use sourceTensor.clone().detach() or sourceTensor.clone().detach().requires_grad_(True), rather than torch.tensor(sourceTensor).\n",
            "  loss_val = loss(out, torch.tensor(adversaries_y[j:j + step]).to(device))\n"
          ]
        },
        {
          "name": "stdout",
          "output_type": "stream",
          "text": [
            "Re-initializing module.\n",
            "Re-initializing criterion.\n",
            "Re-initializing optimizer.\n",
            "  epoch    train_loss    valid_acc    valid_loss     dur\n",
            "-------  ------------  -----------  ------------  ------\n",
            "      1        \u001b[36m0.2833\u001b[0m       \u001b[32m0.9549\u001b[0m        \u001b[35m0.1470\u001b[0m  0.5366\n",
            "      2        \u001b[36m0.2299\u001b[0m       \u001b[32m0.9566\u001b[0m        \u001b[35m0.1356\u001b[0m  0.5277\n",
            "      3        \u001b[36m0.1991\u001b[0m       \u001b[32m0.9614\u001b[0m        \u001b[35m0.1189\u001b[0m  0.5385\n",
            "Re-initializing module.\n",
            "Re-initializing criterion.\n",
            "Re-initializing optimizer.\n"
          ]
        },
        {
          "name": "stderr",
          "output_type": "stream",
          "text": [
            "<ipython-input-15-2bf0219f7bb3>:11: UserWarning: To copy construct from a tensor, it is recommended to use sourceTensor.clone().detach() or sourceTensor.clone().detach().requires_grad_(True), rather than torch.tensor(sourceTensor).\n",
            "  loss_val = loss(out, torch.tensor(adversaries_y[j:j + step]).to(device))\n"
          ]
        },
        {
          "name": "stdout",
          "output_type": "stream",
          "text": [
            "  epoch    train_loss    valid_acc    valid_loss     dur\n",
            "-------  ------------  -----------  ------------  ------\n",
            "      1        \u001b[36m0.2908\u001b[0m       \u001b[32m0.9389\u001b[0m        \u001b[35m0.1792\u001b[0m  0.5410\n",
            "      2        \u001b[36m0.2426\u001b[0m       \u001b[32m0.9497\u001b[0m        \u001b[35m0.1565\u001b[0m  0.5335\n",
            "      3        \u001b[36m0.2168\u001b[0m       \u001b[32m0.9549\u001b[0m        \u001b[35m0.1415\u001b[0m  0.5457\n",
            "Re-initializing module.\n",
            "Re-initializing criterion.\n",
            "Re-initializing optimizer.\n"
          ]
        },
        {
          "name": "stderr",
          "output_type": "stream",
          "text": [
            "<ipython-input-15-2bf0219f7bb3>:11: UserWarning: To copy construct from a tensor, it is recommended to use sourceTensor.clone().detach() or sourceTensor.clone().detach().requires_grad_(True), rather than torch.tensor(sourceTensor).\n",
            "  loss_val = loss(out, torch.tensor(adversaries_y[j:j + step]).to(device))\n"
          ]
        },
        {
          "name": "stdout",
          "output_type": "stream",
          "text": [
            "  epoch    train_loss    valid_acc    valid_loss     dur\n",
            "-------  ------------  -----------  ------------  ------\n",
            "      1        \u001b[36m0.3125\u001b[0m       \u001b[32m0.9254\u001b[0m        \u001b[35m0.2154\u001b[0m  0.5348\n",
            "      2        \u001b[36m0.2643\u001b[0m       \u001b[32m0.9351\u001b[0m        \u001b[35m0.1949\u001b[0m  0.5271\n",
            "      3        \u001b[36m0.2420\u001b[0m       \u001b[32m0.9440\u001b[0m        \u001b[35m0.1712\u001b[0m  0.5918\n",
            "Re-initializing module.\n",
            "Re-initializing criterion.\n",
            "Re-initializing optimizer.\n"
          ]
        },
        {
          "name": "stderr",
          "output_type": "stream",
          "text": [
            "<ipython-input-15-2bf0219f7bb3>:11: UserWarning: To copy construct from a tensor, it is recommended to use sourceTensor.clone().detach() or sourceTensor.clone().detach().requires_grad_(True), rather than torch.tensor(sourceTensor).\n",
            "  loss_val = loss(out, torch.tensor(adversaries_y[j:j + step]).to(device))\n"
          ]
        },
        {
          "name": "stdout",
          "output_type": "stream",
          "text": [
            "  epoch    train_loss    valid_acc    valid_loss     dur\n",
            "-------  ------------  -----------  ------------  ------\n",
            "      1        \u001b[36m0.3599\u001b[0m       \u001b[32m0.9163\u001b[0m        \u001b[35m0.2568\u001b[0m  0.6660\n",
            "      2        \u001b[36m0.3086\u001b[0m       \u001b[32m0.9277\u001b[0m        \u001b[35m0.2227\u001b[0m  0.6915\n",
            "      3        \u001b[36m0.2771\u001b[0m       \u001b[32m0.9366\u001b[0m        \u001b[35m0.1972\u001b[0m  0.6391\n",
            "Re-initializing module.\n",
            "Re-initializing criterion.\n",
            "Re-initializing optimizer.\n"
          ]
        },
        {
          "name": "stderr",
          "output_type": "stream",
          "text": [
            "<ipython-input-15-2bf0219f7bb3>:11: UserWarning: To copy construct from a tensor, it is recommended to use sourceTensor.clone().detach() or sourceTensor.clone().detach().requires_grad_(True), rather than torch.tensor(sourceTensor).\n",
            "  loss_val = loss(out, torch.tensor(adversaries_y[j:j + step]).to(device))\n"
          ]
        },
        {
          "name": "stdout",
          "output_type": "stream",
          "text": [
            "  epoch    train_loss    valid_acc    valid_loss     dur\n",
            "-------  ------------  -----------  ------------  ------\n",
            "      1        \u001b[36m0.3874\u001b[0m       \u001b[32m0.9100\u001b[0m        \u001b[35m0.2849\u001b[0m  0.5238\n",
            "      2        \u001b[36m0.3429\u001b[0m       \u001b[32m0.9220\u001b[0m        \u001b[35m0.2414\u001b[0m  0.5264\n",
            "      3        \u001b[36m0.2600\u001b[0m       \u001b[32m0.9509\u001b[0m        \u001b[35m0.1476\u001b[0m  0.5337\n",
            "Re-initializing module.\n",
            "Re-initializing criterion.\n",
            "Re-initializing optimizer.\n"
          ]
        },
        {
          "name": "stderr",
          "output_type": "stream",
          "text": [
            "<ipython-input-15-2bf0219f7bb3>:11: UserWarning: To copy construct from a tensor, it is recommended to use sourceTensor.clone().detach() or sourceTensor.clone().detach().requires_grad_(True), rather than torch.tensor(sourceTensor).\n",
            "  loss_val = loss(out, torch.tensor(adversaries_y[j:j + step]).to(device))\n"
          ]
        },
        {
          "name": "stdout",
          "output_type": "stream",
          "text": [
            "  epoch    train_loss    valid_acc    valid_loss     dur\n",
            "-------  ------------  -----------  ------------  ------\n",
            "      1        \u001b[36m0.4677\u001b[0m       \u001b[32m0.9006\u001b[0m        \u001b[35m0.3091\u001b[0m  0.5322\n",
            "      2        \u001b[36m0.3446\u001b[0m       \u001b[32m0.9131\u001b[0m        \u001b[35m0.2564\u001b[0m  0.5288\n",
            "      3        \u001b[36m0.2661\u001b[0m       \u001b[32m0.9626\u001b[0m        \u001b[35m0.1192\u001b[0m  0.5404\n",
            "Re-initializing module.\n",
            "Re-initializing criterion.\n",
            "Re-initializing optimizer.\n"
          ]
        },
        {
          "name": "stderr",
          "output_type": "stream",
          "text": [
            "<ipython-input-15-2bf0219f7bb3>:11: UserWarning: To copy construct from a tensor, it is recommended to use sourceTensor.clone().detach() or sourceTensor.clone().detach().requires_grad_(True), rather than torch.tensor(sourceTensor).\n",
            "  loss_val = loss(out, torch.tensor(adversaries_y[j:j + step]).to(device))\n"
          ]
        },
        {
          "name": "stdout",
          "output_type": "stream",
          "text": [
            "  epoch    train_loss    valid_acc    valid_loss     dur\n",
            "-------  ------------  -----------  ------------  ------\n",
            "      1        \u001b[36m0.4746\u001b[0m       \u001b[32m0.9006\u001b[0m        \u001b[35m0.3079\u001b[0m  0.5369\n",
            "      2        \u001b[36m0.3405\u001b[0m       \u001b[32m0.9346\u001b[0m        \u001b[35m0.1988\u001b[0m  0.5259\n",
            "      3        \u001b[36m0.2370\u001b[0m       \u001b[32m0.9571\u001b[0m        \u001b[35m0.1244\u001b[0m  0.5293\n",
            "Re-initializing module.\n",
            "Re-initializing criterion.\n",
            "Re-initializing optimizer.\n"
          ]
        },
        {
          "name": "stderr",
          "output_type": "stream",
          "text": [
            "<ipython-input-15-2bf0219f7bb3>:11: UserWarning: To copy construct from a tensor, it is recommended to use sourceTensor.clone().detach() or sourceTensor.clone().detach().requires_grad_(True), rather than torch.tensor(sourceTensor).\n",
            "  loss_val = loss(out, torch.tensor(adversaries_y[j:j + step]).to(device))\n"
          ]
        },
        {
          "name": "stdout",
          "output_type": "stream",
          "text": [
            "  epoch    train_loss    valid_acc    valid_loss     dur\n",
            "-------  ------------  -----------  ------------  ------\n",
            "      1        \u001b[36m0.5361\u001b[0m       \u001b[32m0.9014\u001b[0m        \u001b[35m0.3049\u001b[0m  0.5398\n",
            "      2        \u001b[36m0.3334\u001b[0m       \u001b[32m0.9397\u001b[0m        \u001b[35m0.1770\u001b[0m  0.5286\n",
            "      3        \u001b[36m0.2462\u001b[0m       \u001b[32m0.9640\u001b[0m        \u001b[35m0.1146\u001b[0m  0.5414\n",
            "Re-initializing module.\n",
            "Re-initializing criterion.\n",
            "Re-initializing optimizer.\n"
          ]
        },
        {
          "name": "stderr",
          "output_type": "stream",
          "text": [
            "<ipython-input-15-2bf0219f7bb3>:11: UserWarning: To copy construct from a tensor, it is recommended to use sourceTensor.clone().detach() or sourceTensor.clone().detach().requires_grad_(True), rather than torch.tensor(sourceTensor).\n",
            "  loss_val = loss(out, torch.tensor(adversaries_y[j:j + step]).to(device))\n"
          ]
        },
        {
          "name": "stdout",
          "output_type": "stream",
          "text": [
            "  epoch    train_loss    valid_acc    valid_loss     dur\n",
            "-------  ------------  -----------  ------------  ------\n",
            "      1        \u001b[36m0.6137\u001b[0m       \u001b[32m0.8760\u001b[0m        \u001b[35m0.3773\u001b[0m  0.5265\n",
            "      2        \u001b[36m0.4456\u001b[0m       \u001b[32m0.8997\u001b[0m        \u001b[35m0.3030\u001b[0m  0.5281\n",
            "      3        \u001b[36m0.3714\u001b[0m       \u001b[32m0.9237\u001b[0m        \u001b[35m0.2309\u001b[0m  0.5277\n"
          ]
        },
        {
          "name": "stderr",
          "output_type": "stream",
          "text": [
            "<ipython-input-15-2bf0219f7bb3>:11: UserWarning: To copy construct from a tensor, it is recommended to use sourceTensor.clone().detach() or sourceTensor.clone().detach().requires_grad_(True), rather than torch.tensor(sourceTensor).\n",
            "  loss_val = loss(out, torch.tensor(adversaries_y[j:j + step]).to(device))\n"
          ]
        }
      ],
      "source": [
        "step = 500\n",
        "for i in range(10):\n",
        "  adversaries_x = adversaries_x.to(device)\n",
        "  cnn.fit(adversaries_x, adversaries_y)\n",
        "  loss = nn.CrossEntropyLoss()\n",
        "  inp = adversaries_x\n",
        "  inp.requires_grad = True\n",
        "  for j in range(0, inp.shape[0], step):\n",
        "    module.eval()\n",
        "    out = cnn.module(inp[j:j + step])\n",
        "    loss_val = loss(out, torch.tensor(adversaries_y[j:j + step]).to(device))\n",
        "    loss_val.backward()\n",
        "    delta = epsilon * torch.sign(inp.grad.detach()[j:j + step])\n",
        "    if j == 0:\n",
        "      adversaries_x = torch.clamp(inp.detach()[j:j + step] + delta, 0.0, 1)\n",
        "    else:\n",
        "      adversaries_x = torch.cat((adversaries_x.detach(), torch.clamp(inp.detach()[j:j + step] + delta, 0.0, 1)), 0)"
      ]
    },
    {
      "cell_type": "code",
      "execution_count": null,
      "metadata": {
        "id": "SHW9di_F1G3K"
      },
      "outputs": [],
      "source": [
        "attacked = adversaries_x.cpu().detach().numpy()"
      ]
    },
    {
      "cell_type": "code",
      "execution_count": null,
      "metadata": {
        "id": "gVCW8F3N_v7g"
      },
      "outputs": [],
      "source": [
        "mnist_dim = X.shape[1]\n",
        "hidden_dims = [int(mnist_dim/8)]\n",
        "output_dim = len(np.unique(mnist.target))"
      ]
    },
    {
      "cell_type": "code",
      "execution_count": null,
      "metadata": {
        "colab": {
          "base_uri": "https://localhost:8080/"
        },
        "id": "ShYicHlv_v7h",
        "outputId": "a3a404a1-4196-4568-d2bc-ac8dddb3b5f7"
      },
      "outputs": [
        {
          "data": {
            "text/plain": [
              "(784, [98], 10)"
            ]
          },
          "execution_count": 219,
          "metadata": {},
          "output_type": "execute_result"
        }
      ],
      "source": [
        "mnist_dim, hidden_dims, output_dim"
      ]
    },
    {
      "cell_type": "code",
      "execution_count": null,
      "metadata": {
        "id": "Xxtli0l__v7j"
      },
      "outputs": [],
      "source": [
        "class ClassifierModule(nn.Module):\n",
        "    def __init__(\n",
        "            self,\n",
        "            input_dim=mnist_dim,\n",
        "            hidden_dims=hidden_dims,\n",
        "            output_dim=output_dim,\n",
        "            dropout=0.5,\n",
        "    ):\n",
        "        super(ClassifierModule, self).__init__()\n",
        "        self.dropout = nn.Dropout(dropout)\n",
        "        self.hidden = nn.ModuleList()\n",
        "        for i in range(len(hidden_dims)):\n",
        "            if i == 0:\n",
        "              self.hidden.append(nn.Linear(mnist_dim, hidden_dims[i]))\n",
        "            else:\n",
        "              self.hidden.append(nn.Linear(hidden_dims[i - 1], hidden_dims[i]))\n",
        "        self.output = nn.Linear(hidden_dims[-1], output_dim)\n",
        "\n",
        "    def forward(self, X, eval=False, **kwargs):\n",
        "        Ts = None\n",
        "        layers = None\n",
        "        layer_num = 0\n",
        "        for h in self.hidden:\n",
        "          X = F.relu(h(X))\n",
        "          if eval:\n",
        "            Ts = torch.cat((Ts, X), 1) if Ts is not None else X\n",
        "            l = torch.ones_like(X) * layer_num\n",
        "            layers = torch.cat((layers, l), 1) if layers is not None else l\n",
        "          layer_num += 1\n",
        "        X = self.dropout(X)\n",
        "        X = F.softmax(self.output(X), dim=-1)\n",
        "        if eval:\n",
        "          return X, Ts, layers\n",
        "        return X"
      ]
    },
    {
      "cell_type": "code",
      "execution_count": null,
      "metadata": {
        "id": "s0aDatqN_v7l"
      },
      "outputs": [],
      "source": [
        "\n",
        "nets = []"
      ]
    },
    {
      "cell_type": "code",
      "execution_count": null,
      "metadata": {
        "id": "dOrCbBjk_v7m"
      },
      "outputs": [],
      "source": [
        "torch.manual_seed(0)\n",
        "\n",
        "net1 = NeuralNetClassifier(\n",
        "    ClassifierModule(mnist_dim, [100], output_dim),\n",
        "    max_epochs=20,\n",
        "    lr=0.1,\n",
        "    device=device,\n",
        ")"
      ]
    },
    {
      "cell_type": "code",
      "execution_count": null,
      "metadata": {
        "colab": {
          "base_uri": "https://localhost:8080/"
        },
        "id": "8i_gnvPi_v7m",
        "outputId": "444595b5-4d14-4c3e-df4b-ffdaf9846623"
      },
      "outputs": [
        {
          "name": "stdout",
          "output_type": "stream",
          "text": [
            "  epoch    train_loss    valid_acc    valid_loss     dur\n",
            "-------  ------------  -----------  ------------  ------\n",
            "      1        \u001b[36m0.8367\u001b[0m       \u001b[32m0.8905\u001b[0m        \u001b[35m0.3961\u001b[0m  1.0053\n",
            "      2        \u001b[36m0.4284\u001b[0m       \u001b[32m0.9098\u001b[0m        \u001b[35m0.3098\u001b[0m  0.9675\n",
            "      3        \u001b[36m0.3556\u001b[0m       \u001b[32m0.9241\u001b[0m        \u001b[35m0.2624\u001b[0m  0.9734\n",
            "      4        \u001b[36m0.3177\u001b[0m       \u001b[32m0.9331\u001b[0m        \u001b[35m0.2324\u001b[0m  1.2361\n",
            "      5        \u001b[36m0.2917\u001b[0m       \u001b[32m0.9386\u001b[0m        \u001b[35m0.2125\u001b[0m  2.1038\n",
            "      6        \u001b[36m0.2702\u001b[0m       \u001b[32m0.9412\u001b[0m        \u001b[35m0.1987\u001b[0m  1.3475\n",
            "      7        \u001b[36m0.2533\u001b[0m       \u001b[32m0.9436\u001b[0m        \u001b[35m0.1900\u001b[0m  0.9565\n",
            "      8        \u001b[36m0.2380\u001b[0m       \u001b[32m0.9490\u001b[0m        \u001b[35m0.1747\u001b[0m  0.9436\n",
            "      9        \u001b[36m0.2291\u001b[0m       \u001b[32m0.9503\u001b[0m        \u001b[35m0.1688\u001b[0m  1.2739\n",
            "     10        \u001b[36m0.2202\u001b[0m       \u001b[32m0.9527\u001b[0m        \u001b[35m0.1576\u001b[0m  2.0410\n",
            "     11        \u001b[36m0.2106\u001b[0m       \u001b[32m0.9535\u001b[0m        \u001b[35m0.1554\u001b[0m  1.3911\n",
            "     12        \u001b[36m0.2033\u001b[0m       \u001b[32m0.9557\u001b[0m        \u001b[35m0.1476\u001b[0m  1.5361\n",
            "     13        \u001b[36m0.1999\u001b[0m       \u001b[32m0.9578\u001b[0m        \u001b[35m0.1457\u001b[0m  2.2510\n",
            "     14        \u001b[36m0.1932\u001b[0m       0.9564        \u001b[35m0.1451\u001b[0m  1.2219\n",
            "     15        \u001b[36m0.1892\u001b[0m       \u001b[32m0.9600\u001b[0m        \u001b[35m0.1360\u001b[0m  0.9498\n",
            "     16        \u001b[36m0.1848\u001b[0m       \u001b[32m0.9605\u001b[0m        \u001b[35m0.1331\u001b[0m  0.9685\n",
            "     17        \u001b[36m0.1817\u001b[0m       \u001b[32m0.9613\u001b[0m        \u001b[35m0.1306\u001b[0m  0.9576\n",
            "     18        \u001b[36m0.1751\u001b[0m       \u001b[32m0.9617\u001b[0m        \u001b[35m0.1305\u001b[0m  1.7488\n",
            "     19        \u001b[36m0.1718\u001b[0m       \u001b[32m0.9628\u001b[0m        \u001b[35m0.1273\u001b[0m  2.2289\n",
            "     20        \u001b[36m0.1674\u001b[0m       \u001b[32m0.9631\u001b[0m        \u001b[35m0.1245\u001b[0m  2.8398\n"
          ]
        }
      ],
      "source": [
        "net1.fit(X_train, y_train);\n",
        "nets.append(net1)"
      ]
    },
    {
      "cell_type": "code",
      "execution_count": null,
      "metadata": {
        "colab": {
          "base_uri": "https://localhost:8080/"
        },
        "id": "LCWachuM_v7o",
        "outputId": "6f22aba4-1c8b-43ae-c18b-c3d23aa26c60"
      },
      "outputs": [
        {
          "data": {
            "text/plain": [
              "0.9621142857142857"
            ]
          },
          "execution_count": 224,
          "metadata": {},
          "output_type": "execute_result"
        }
      ],
      "source": [
        "y_pred = net1.predict(X_test)\n",
        "accuracy_score(y_test, y_pred)"
      ]
    },
    {
      "cell_type": "code",
      "execution_count": null,
      "metadata": {
        "colab": {
          "base_uri": "https://localhost:8080/"
        },
        "id": "SSCf7C7L4Pv5",
        "outputId": "27e2518c-3019-4739-da4d-f473bd0fcade"
      },
      "outputs": [
        {
          "data": {
            "text/plain": [
              "0.7373142857142857"
            ]
          },
          "execution_count": 243,
          "metadata": {},
          "output_type": "execute_result"
        }
      ],
      "source": [
        "y_pred = net1.predict(attacked)\n",
        "accuracy_score(y_test, y_pred)"
      ]
    },
    {
      "cell_type": "code",
      "execution_count": null,
      "metadata": {
        "colab": {
          "base_uri": "https://localhost:8080/"
        },
        "id": "BW7oUwIsefSx",
        "outputId": "6ec740c2-5185-426f-adb6-1331a5bce493"
      },
      "outputs": [
        {
          "name": "stdout",
          "output_type": "stream",
          "text": [
            "  epoch    train_loss    valid_acc    valid_loss     dur\n",
            "-------  ------------  -----------  ------------  ------\n",
            "      1        \u001b[36m1.1661\u001b[0m       \u001b[32m0.8602\u001b[0m        \u001b[35m0.4798\u001b[0m  1.0281\n",
            "      2        \u001b[36m0.5438\u001b[0m       \u001b[32m0.9013\u001b[0m        \u001b[35m0.3457\u001b[0m  1.1051\n",
            "      3        \u001b[36m0.4252\u001b[0m       \u001b[32m0.9054\u001b[0m        \u001b[35m0.3066\u001b[0m  1.4123\n",
            "      4        \u001b[36m0.3559\u001b[0m       \u001b[32m0.9241\u001b[0m        \u001b[35m0.2526\u001b[0m  1.2854\n",
            "      5        \u001b[36m0.3058\u001b[0m       \u001b[32m0.9371\u001b[0m        \u001b[35m0.2097\u001b[0m  1.0529\n",
            "      6        \u001b[36m0.2719\u001b[0m       \u001b[32m0.9398\u001b[0m        \u001b[35m0.1980\u001b[0m  1.0766\n",
            "      7        \u001b[36m0.2455\u001b[0m       \u001b[32m0.9493\u001b[0m        \u001b[35m0.1669\u001b[0m  1.0330\n",
            "      8        \u001b[36m0.2231\u001b[0m       \u001b[32m0.9549\u001b[0m        \u001b[35m0.1506\u001b[0m  1.0437\n",
            "      9        \u001b[36m0.2050\u001b[0m       \u001b[32m0.9583\u001b[0m        \u001b[35m0.1409\u001b[0m  1.0431\n",
            "     10        \u001b[36m0.1941\u001b[0m       0.9487        0.1649  1.0375\n",
            "     11        \u001b[36m0.1786\u001b[0m       0.9576        0.1411  1.0391\n",
            "     12        \u001b[36m0.1698\u001b[0m       \u001b[32m0.9594\u001b[0m        \u001b[35m0.1365\u001b[0m  1.0984\n",
            "     13        \u001b[36m0.1616\u001b[0m       \u001b[32m0.9638\u001b[0m        \u001b[35m0.1233\u001b[0m  1.0413\n",
            "     14        \u001b[36m0.1540\u001b[0m       \u001b[32m0.9667\u001b[0m        \u001b[35m0.1179\u001b[0m  1.4343\n",
            "     15        \u001b[36m0.1490\u001b[0m       0.9642        0.1253  1.4167\n",
            "     16        \u001b[36m0.1408\u001b[0m       \u001b[32m0.9684\u001b[0m        \u001b[35m0.1149\u001b[0m  1.0326\n",
            "     17        \u001b[36m0.1324\u001b[0m       0.9682        \u001b[35m0.1121\u001b[0m  1.0389\n",
            "     18        \u001b[36m0.1275\u001b[0m       0.9684        \u001b[35m0.1087\u001b[0m  1.3681\n",
            "     19        \u001b[36m0.1272\u001b[0m       0.9651        0.1201  1.4700\n",
            "     20        \u001b[36m0.1188\u001b[0m       0.9675        0.1151  1.0428\n"
          ]
        }
      ],
      "source": [
        "hidden_dims = [60, 40]\n",
        "net2 = NeuralNetClassifier(ClassifierModule(mnist_dim, hidden_dims, output_dim), max_epochs=20, lr=0.1, device=device)\n",
        "net2.fit(X_train, y_train);\n",
        "nets.append(net2)"
      ]
    },
    {
      "cell_type": "code",
      "execution_count": null,
      "metadata": {
        "colab": {
          "base_uri": "https://localhost:8080/"
        },
        "id": "oOJu7u0DefNS",
        "outputId": "dd34581c-7eef-4723-965d-9f24fa52f472"
      },
      "outputs": [
        {
          "data": {
            "text/plain": [
              "0.9658857142857142"
            ]
          },
          "execution_count": 231,
          "metadata": {},
          "output_type": "execute_result"
        }
      ],
      "source": [
        "y_pred = net2.predict(X_test)\n",
        "accuracy_score(y_test, y_pred)"
      ]
    },
    {
      "cell_type": "code",
      "execution_count": null,
      "metadata": {
        "colab": {
          "base_uri": "https://localhost:8080/"
        },
        "id": "CU_sEONR46gl",
        "outputId": "46e7717b-9f91-4613-9845-05c1b8cd7c5f"
      },
      "outputs": [
        {
          "data": {
            "text/plain": [
              "0.6573714285714286"
            ]
          },
          "execution_count": 244,
          "metadata": {},
          "output_type": "execute_result"
        }
      ],
      "source": [
        "y_pred = net2.predict(attacked)\n",
        "accuracy_score(y_test, y_pred)"
      ]
    },
    {
      "cell_type": "code",
      "execution_count": null,
      "metadata": {
        "colab": {
          "base_uri": "https://localhost:8080/"
        },
        "id": "8brVrmkFfBZN",
        "outputId": "5d446e62-1bff-4efc-ba77-01d61b2b32ee"
      },
      "outputs": [
        {
          "name": "stdout",
          "output_type": "stream",
          "text": [
            "  epoch    train_loss    valid_acc    valid_loss     dur\n",
            "-------  ------------  -----------  ------------  ------\n",
            "      1        \u001b[36m1.0644\u001b[0m       \u001b[32m0.8392\u001b[0m        \u001b[35m0.5411\u001b[0m  2.2464\n",
            "      2        \u001b[36m0.4887\u001b[0m       \u001b[32m0.8910\u001b[0m        \u001b[35m0.3638\u001b[0m  1.1920\n",
            "      3        \u001b[36m0.3958\u001b[0m       \u001b[32m0.9106\u001b[0m        \u001b[35m0.3017\u001b[0m  1.0366\n",
            "      4        \u001b[36m0.3449\u001b[0m       \u001b[32m0.9265\u001b[0m        \u001b[35m0.2449\u001b[0m  1.0222\n",
            "      5        \u001b[36m0.3060\u001b[0m       \u001b[32m0.9277\u001b[0m        \u001b[35m0.2361\u001b[0m  1.0341\n",
            "      6        \u001b[36m0.2778\u001b[0m       0.9265        0.2384  1.0161\n",
            "      7        \u001b[36m0.2458\u001b[0m       \u001b[32m0.9399\u001b[0m        \u001b[35m0.2005\u001b[0m  1.0037\n",
            "      8        \u001b[36m0.2315\u001b[0m       \u001b[32m0.9448\u001b[0m        \u001b[35m0.1818\u001b[0m  1.1188\n",
            "      9        \u001b[36m0.2161\u001b[0m       0.8960        0.3826  1.6231\n",
            "     10        \u001b[36m0.2010\u001b[0m       \u001b[32m0.9453\u001b[0m        \u001b[35m0.1768\u001b[0m  1.8061\n",
            "     11        \u001b[36m0.1853\u001b[0m       \u001b[32m0.9530\u001b[0m        \u001b[35m0.1528\u001b[0m  1.4770\n",
            "     12        \u001b[36m0.1729\u001b[0m       0.9475        0.1708  1.7657\n",
            "     13        \u001b[36m0.1687\u001b[0m       \u001b[32m0.9543\u001b[0m        0.1540  1.7852\n",
            "     14        \u001b[36m0.1607\u001b[0m       0.9521        0.1560  1.0274\n",
            "     15        \u001b[36m0.1530\u001b[0m       \u001b[32m0.9604\u001b[0m        \u001b[35m0.1341\u001b[0m  1.0219\n",
            "     16        \u001b[36m0.1458\u001b[0m       0.9579        0.1411  1.0257\n",
            "     17        \u001b[36m0.1399\u001b[0m       0.9593        0.1368  1.0195\n",
            "     18        \u001b[36m0.1346\u001b[0m       \u001b[32m0.9614\u001b[0m        \u001b[35m0.1313\u001b[0m  1.0188\n",
            "     19        \u001b[36m0.1287\u001b[0m       0.9610        0.1367  1.0140\n",
            "     20        \u001b[36m0.1243\u001b[0m       \u001b[32m0.9635\u001b[0m        \u001b[35m0.1277\u001b[0m  1.2577\n"
          ]
        }
      ],
      "source": [
        "hidden_dims = [40, 60]\n",
        "net3 = NeuralNetClassifier(ClassifierModule(mnist_dim, hidden_dims, output_dim), max_epochs=20, lr=0.1, device=device)\n",
        "net3.fit(X_train, y_train);\n",
        "nets.append(net3)"
      ]
    },
    {
      "cell_type": "code",
      "execution_count": null,
      "metadata": {
        "colab": {
          "base_uri": "https://localhost:8080/"
        },
        "id": "RPdX6V3RfbIO",
        "outputId": "bf75775f-20e1-4948-9faa-44b9bb5e3118"
      },
      "outputs": [
        {
          "data": {
            "text/plain": [
              "0.9597142857142857"
            ]
          },
          "execution_count": 246,
          "metadata": {},
          "output_type": "execute_result"
        }
      ],
      "source": [
        "y_pred = net3.predict(X_test)\n",
        "accuracy_score(y_test, y_pred)"
      ]
    },
    {
      "cell_type": "code",
      "execution_count": null,
      "metadata": {
        "colab": {
          "base_uri": "https://localhost:8080/"
        },
        "id": "3tJ-Sx_15G3w",
        "outputId": "7b546d71-db1e-4446-b71e-eb8815c4ffb9"
      },
      "outputs": [
        {
          "data": {
            "text/plain": [
              "0.6939428571428572"
            ]
          },
          "execution_count": 247,
          "metadata": {},
          "output_type": "execute_result"
        }
      ],
      "source": [
        "y_pred = net3.predict(attacked)\n",
        "accuracy_score(y_test, y_pred)"
      ]
    },
    {
      "cell_type": "code",
      "execution_count": null,
      "metadata": {
        "colab": {
          "base_uri": "https://localhost:8080/"
        },
        "id": "uuq0j5qOS9cK",
        "outputId": "f9444846-2fae-43f5-ce21-002fb357f3be"
      },
      "outputs": [
        {
          "name": "stdout",
          "output_type": "stream",
          "text": [
            "  epoch    train_loss    valid_acc    valid_loss     dur\n",
            "-------  ------------  -----------  ------------  ------\n",
            "      1        \u001b[36m1.1053\u001b[0m       \u001b[32m0.8670\u001b[0m        \u001b[35m0.4649\u001b[0m  1.4118\n",
            "      2        \u001b[36m0.5137\u001b[0m       \u001b[32m0.8955\u001b[0m        \u001b[35m0.3592\u001b[0m  1.0144\n",
            "      3        \u001b[36m0.4177\u001b[0m       \u001b[32m0.9158\u001b[0m        \u001b[35m0.2846\u001b[0m  1.0100\n",
            "      4        \u001b[36m0.3572\u001b[0m       \u001b[32m0.9280\u001b[0m        \u001b[35m0.2449\u001b[0m  1.0180\n",
            "      5        \u001b[36m0.3134\u001b[0m       \u001b[32m0.9356\u001b[0m        \u001b[35m0.2203\u001b[0m  1.0454\n",
            "      6        \u001b[36m0.2782\u001b[0m       0.9252        0.2445  1.0226\n",
            "      7        \u001b[36m0.2539\u001b[0m       \u001b[32m0.9443\u001b[0m        \u001b[35m0.1855\u001b[0m  1.0391\n",
            "      8        \u001b[36m0.2333\u001b[0m       \u001b[32m0.9474\u001b[0m        \u001b[35m0.1707\u001b[0m  1.0292\n",
            "      9        \u001b[36m0.2143\u001b[0m       \u001b[32m0.9535\u001b[0m        \u001b[35m0.1540\u001b[0m  1.0246\n",
            "     10        \u001b[36m0.2040\u001b[0m       \u001b[32m0.9542\u001b[0m        \u001b[35m0.1500\u001b[0m  1.0375\n",
            "     11        \u001b[36m0.1884\u001b[0m       0.9538        0.1533  1.2939\n",
            "     12        \u001b[36m0.1807\u001b[0m       \u001b[32m0.9588\u001b[0m        \u001b[35m0.1380\u001b[0m  1.4376\n",
            "     13        \u001b[36m0.1697\u001b[0m       \u001b[32m0.9599\u001b[0m        \u001b[35m0.1342\u001b[0m  1.0939\n",
            "     14        \u001b[36m0.1590\u001b[0m       \u001b[32m0.9630\u001b[0m        \u001b[35m0.1288\u001b[0m  1.0253\n",
            "     15        \u001b[36m0.1521\u001b[0m       0.9605        0.1318  1.0527\n",
            "     16        \u001b[36m0.1490\u001b[0m       0.9613        0.1303  1.0209\n",
            "     17        \u001b[36m0.1428\u001b[0m       \u001b[32m0.9646\u001b[0m        \u001b[35m0.1260\u001b[0m  1.0435\n",
            "     18        \u001b[36m0.1362\u001b[0m       0.9645        \u001b[35m0.1252\u001b[0m  1.0189\n",
            "     19        \u001b[36m0.1303\u001b[0m       0.9597        0.1410  1.0192\n",
            "     20        \u001b[36m0.1274\u001b[0m       0.9642        \u001b[35m0.1227\u001b[0m  1.0264\n"
          ]
        }
      ],
      "source": [
        "hidden_dims = [50, 50]\n",
        "net4 = NeuralNetClassifier(ClassifierModule(mnist_dim, hidden_dims, output_dim), max_epochs=20, lr=0.1, device=device)\n",
        "net4.fit(X_train, y_train);\n",
        "nets.append(net4)"
      ]
    },
    {
      "cell_type": "code",
      "execution_count": null,
      "metadata": {
        "colab": {
          "base_uri": "https://localhost:8080/"
        },
        "id": "DHDg9-m6Mdn3",
        "outputId": "b5d6bf14-f691-49bd-cfbc-00998a421cd1"
      },
      "outputs": [
        {
          "data": {
            "text/plain": [
              "0.9608"
            ]
          },
          "execution_count": 249,
          "metadata": {},
          "output_type": "execute_result"
        }
      ],
      "source": [
        "y_pred = net4.predict(X_test)\n",
        "accuracy_score(y_test, y_pred)"
      ]
    },
    {
      "cell_type": "code",
      "execution_count": null,
      "metadata": {
        "colab": {
          "base_uri": "https://localhost:8080/"
        },
        "id": "NO_bErMb5Q1u",
        "outputId": "50d52293-c7cb-4d8c-9186-9f53ff396c22"
      },
      "outputs": [
        {
          "data": {
            "text/plain": [
              "0.6742857142857143"
            ]
          },
          "execution_count": 250,
          "metadata": {},
          "output_type": "execute_result"
        }
      ],
      "source": [
        "y_pred = net4.predict(attacked)\n",
        "accuracy_score(y_test, y_pred)"
      ]
    },
    {
      "cell_type": "code",
      "execution_count": null,
      "metadata": {
        "colab": {
          "base_uri": "https://localhost:8080/"
        },
        "id": "vCC7A8VmTAoX",
        "outputId": "f870cfe8-3896-4e7b-edc0-0f9fc7b65e4e"
      },
      "outputs": [
        {
          "name": "stdout",
          "output_type": "stream",
          "text": [
            "  epoch    train_loss    valid_acc    valid_loss     dur\n",
            "-------  ------------  -----------  ------------  ------\n",
            "      1        \u001b[36m2.2984\u001b[0m       \u001b[32m0.1269\u001b[0m        \u001b[35m2.2744\u001b[0m  1.2011\n",
            "      2        \u001b[36m1.9774\u001b[0m       \u001b[32m0.4371\u001b[0m        \u001b[35m1.5347\u001b[0m  1.6510\n",
            "      3        \u001b[36m1.4230\u001b[0m       \u001b[32m0.6090\u001b[0m        \u001b[35m1.2919\u001b[0m  1.4671\n",
            "      4        \u001b[36m1.1137\u001b[0m       \u001b[32m0.6813\u001b[0m        \u001b[35m0.8876\u001b[0m  1.1820\n",
            "      5        \u001b[36m0.9511\u001b[0m       \u001b[32m0.7329\u001b[0m        \u001b[35m0.7207\u001b[0m  1.1914\n",
            "      6        \u001b[36m0.8387\u001b[0m       \u001b[32m0.7796\u001b[0m        0.7745  1.1933\n",
            "      7        \u001b[36m0.7905\u001b[0m       \u001b[32m0.8744\u001b[0m        \u001b[35m0.5672\u001b[0m  1.1824\n",
            "      8        \u001b[36m0.7495\u001b[0m       \u001b[32m0.8911\u001b[0m        \u001b[35m0.4979\u001b[0m  1.1848\n",
            "      9        \u001b[36m0.7063\u001b[0m       \u001b[32m0.9079\u001b[0m        \u001b[35m0.4706\u001b[0m  1.1697\n",
            "     10        \u001b[36m0.6857\u001b[0m       0.9037        \u001b[35m0.4678\u001b[0m  1.1772\n",
            "     11        \u001b[36m0.6515\u001b[0m       0.9044        \u001b[35m0.4658\u001b[0m  1.3045\n",
            "     12        \u001b[36m0.6297\u001b[0m       \u001b[32m0.9102\u001b[0m        \u001b[35m0.4281\u001b[0m  1.6441\n",
            "     13        \u001b[36m0.6082\u001b[0m       \u001b[32m0.9178\u001b[0m        0.4372  1.4249\n",
            "     14        \u001b[36m0.5867\u001b[0m       0.9104        0.4714  1.2070\n",
            "     15        \u001b[36m0.5731\u001b[0m       0.9148        \u001b[35m0.4238\u001b[0m  1.1816\n",
            "     16        \u001b[36m0.5613\u001b[0m       \u001b[32m0.9212\u001b[0m        \u001b[35m0.4018\u001b[0m  1.1828\n",
            "     17        \u001b[36m0.5513\u001b[0m       \u001b[32m0.9233\u001b[0m        0.4514  1.1851\n",
            "     18        \u001b[36m0.5486\u001b[0m       \u001b[32m0.9272\u001b[0m        \u001b[35m0.3907\u001b[0m  1.2001\n",
            "     19        \u001b[36m0.5373\u001b[0m       0.9256        0.3995  1.1925\n",
            "     20        \u001b[36m0.5208\u001b[0m       \u001b[32m0.9320\u001b[0m        \u001b[35m0.3672\u001b[0m  1.2027\n"
          ]
        }
      ],
      "source": [
        "hidden_dims = [20, 20, 20, 20, 20]\n",
        "net5 = NeuralNetClassifier(ClassifierModule(mnist_dim, hidden_dims, output_dim), max_epochs=20, lr=0.1, device=device)\n",
        "net5.fit(X_train, y_train);\n",
        "nets.append(net5)"
      ]
    },
    {
      "cell_type": "code",
      "execution_count": null,
      "metadata": {
        "colab": {
          "base_uri": "https://localhost:8080/"
        },
        "id": "HaNVG-TgMfZG",
        "outputId": "6c628a11-335c-4687-c5e1-b329c4bc7293"
      },
      "outputs": [
        {
          "data": {
            "text/plain": [
              "0.9292571428571429"
            ]
          },
          "execution_count": 252,
          "metadata": {},
          "output_type": "execute_result"
        }
      ],
      "source": [
        "y_pred = net5.predict(X_test)\n",
        "accuracy_score(y_test, y_pred)"
      ]
    },
    {
      "cell_type": "code",
      "execution_count": null,
      "metadata": {
        "colab": {
          "base_uri": "https://localhost:8080/"
        },
        "id": "8m8WBmCz5Uo_",
        "outputId": "965b0ba8-f63a-4d1e-8012-40ddd9bcf746"
      },
      "outputs": [
        {
          "data": {
            "text/plain": [
              "0.5347428571428572"
            ]
          },
          "execution_count": 253,
          "metadata": {},
          "output_type": "execute_result"
        }
      ],
      "source": [
        "y_pred = net5.predict(attacked)\n",
        "accuracy_score(y_test, y_pred)"
      ]
    },
    {
      "cell_type": "markdown",
      "metadata": {
        "id": "I2GsBaxH_v7r"
      },
      "source": [
        "# Convolutional Network\n"
      ]
    },
    {
      "cell_type": "code",
      "execution_count": null,
      "metadata": {
        "id": "WJrWyFfb_v7u"
      },
      "outputs": [],
      "source": [
        "torch.manual_seed(0)\n",
        "\n",
        "cnn = NeuralNetClassifier(\n",
        "    Cnn(),\n",
        "    max_epochs=10,\n",
        "    lr=0.002,\n",
        "    optimizer=torch.optim.Adam,\n",
        "    device=device,\n",
        "    batch_size=64,\n",
        ")"
      ]
    },
    {
      "cell_type": "code",
      "execution_count": null,
      "metadata": {
        "colab": {
          "base_uri": "https://localhost:8080/"
        },
        "id": "KRtHfgg8_v7u",
        "outputId": "4d1b9425-d166-4a9b-a1d4-f79c3e09bba1"
      },
      "outputs": [
        {
          "name": "stdout",
          "output_type": "stream",
          "text": [
            "  epoch    train_loss    valid_acc    valid_loss     dur\n",
            "-------  ------------  -----------  ------------  ------\n",
            "      1        \u001b[36m0.3949\u001b[0m       \u001b[32m0.9749\u001b[0m        \u001b[35m0.0793\u001b[0m  2.7920\n",
            "      2        \u001b[36m0.1652\u001b[0m       \u001b[32m0.9794\u001b[0m        \u001b[35m0.0655\u001b[0m  2.3029\n",
            "      3        \u001b[36m0.1388\u001b[0m       \u001b[32m0.9818\u001b[0m        \u001b[35m0.0543\u001b[0m  2.2968\n",
            "      4        \u001b[36m0.1228\u001b[0m       \u001b[32m0.9843\u001b[0m        \u001b[35m0.0473\u001b[0m  2.3061\n",
            "      5        \u001b[36m0.1125\u001b[0m       \u001b[32m0.9855\u001b[0m        \u001b[35m0.0461\u001b[0m  2.3412\n",
            "      6        \u001b[36m0.1052\u001b[0m       0.9851        \u001b[35m0.0455\u001b[0m  2.7756\n",
            "      7        \u001b[36m0.1007\u001b[0m       \u001b[32m0.9868\u001b[0m        \u001b[35m0.0402\u001b[0m  2.7181\n",
            "      8        \u001b[36m0.0929\u001b[0m       \u001b[32m0.9874\u001b[0m        \u001b[35m0.0392\u001b[0m  2.2819\n",
            "      9        0.0934       0.9874        0.0403  2.3102\n",
            "     10        \u001b[36m0.0795\u001b[0m       \u001b[32m0.9879\u001b[0m        \u001b[35m0.0377\u001b[0m  2.4254\n"
          ]
        }
      ],
      "source": [
        "cnn.fit(X_train, y_train);"
      ]
    },
    {
      "cell_type": "code",
      "execution_count": null,
      "metadata": {
        "colab": {
          "base_uri": "https://localhost:8080/"
        },
        "id": "BQ3ubdg9MkSm",
        "outputId": "db1d068f-ed5a-4e7f-bba3-8fae78c2ad7a"
      },
      "outputs": [
        {
          "data": {
            "text/plain": [
              "0.9892571428571428"
            ]
          },
          "execution_count": 20,
          "metadata": {},
          "output_type": "execute_result"
        }
      ],
      "source": [
        "y_pred = cnn.predict(X_test)\n",
        "accuracy_score(y_test, y_pred)"
      ]
    },
    {
      "cell_type": "code",
      "execution_count": null,
      "metadata": {
        "colab": {
          "base_uri": "https://localhost:8080/"
        },
        "id": "N3GJVmBm5Z6f",
        "outputId": "c31a3985-3d56-459d-eb0f-c7186ff6e580"
      },
      "outputs": [
        {
          "data": {
            "text/plain": [
              "0.7082857142857143"
            ]
          },
          "execution_count": 21,
          "metadata": {},
          "output_type": "execute_result"
        }
      ],
      "source": [
        "y_pred = cnn.predict(attacked)\n",
        "accuracy_score(y_test, y_pred)"
      ]
    },
    {
      "cell_type": "code",
      "execution_count": null,
      "metadata": {
        "colab": {
          "base_uri": "https://localhost:8080/",
          "height": 1000
        },
        "id": "Gzb3rEPjD4im",
        "outputId": "c3606248-1e76-4fbf-a4b0-1c87f73d2e07"
      },
      "outputs": [
        {
          "data": {
            "image/png": "[encoded data removed]",
            "text/plain": [
              "<Figure size 2250x2250 with 1 Axes>"
            ]
          },
          "metadata": {},
          "output_type": "display_data"
        },
        {
          "data": {
            "image/png": "[encoded data removed]",
            "text/plain": [
              "<Figure size 2250x2250 with 1 Axes>"
            ]
          },
          "metadata": {},
          "output_type": "display_data"
        },
        {
          "data": {
            "image/png": "[encoded data removed]",
            "text/plain": [
              "<Figure size 2250x2250 with 1 Axes>"
            ]
          },
          "metadata": {},
          "output_type": "display_data"
        },
        {
          "data": {
            "image/png": "[encoded data removed]",
            "text/plain": [
              "<Figure size 2250x2250 with 1 Axes>"
            ]
          },
          "metadata": {},
          "output_type": "display_data"
        },
        {
          "data": {
            "image/png": "[encoded data removed]",
            "text/plain": [
              "<Figure size 2250x2250 with 1 Axes>"
            ]
          },
          "metadata": {},
          "output_type": "display_data"
        },
        {
          "data": {
            "image/png": "[encoded data removed]",
            "text/plain": [
              "<Figure size 2250x2250 with 1 Axes>"
            ]
          },
          "metadata": {},
          "output_type": "display_data"
        },
        {
          "data": {
            "image/png": "[encoded data removed]",
            "text/plain": [
              "<Figure size 2250x2250 with 1 Axes>"
            ]
          },
          "metadata": {},
          "output_type": "display_data"
        },
        {
          "data": {
            "image/png": "[encoded data removed]",
            "text/plain": [
              "<Figure size 2250x2250 with 1 Axes>"
            ]
          },
          "metadata": {},
          "output_type": "display_data"
        },
        {
          "data": {
            "image/png": "[encoded data removed]",
            "text/plain": [
              "<Figure size 2250x2250 with 1 Axes>"
            ]
          },
          "metadata": {},
          "output_type": "display_data"
        },
        {
          "data": {
            "image/png": "[encoded data removed]",
            "text/plain": [
              "<Figure size 2250x2250 with 1 Axes>"
            ]
          },
          "metadata": {},
          "output_type": "display_data"
        },
        {
          "data": {
            "image/png": "[encoded data removed]",
            "text/plain": [
              "<Figure size 2250x2250 with 1 Axes>"
            ]
          },
          "metadata": {},
          "output_type": "display_data"
        },
        {
          "data": {
            "image/png": "[encoded data removed]",
            "text/plain": [
              "<Figure size 2250x2250 with 1 Axes>"
            ]
          },
          "metadata": {},
          "output_type": "display_data"
        },
        {
          "data": {
            "image/png": "[encoded data removed]",
            "text/plain": [
              "<Figure size 2250x2250 with 1 Axes>"
            ]
          },
          "metadata": {},
          "output_type": "display_data"
        },
        {
          "data": {
            "image/png": "[encoded data removed]",
            "text/plain": [
              "<Figure size 2250x2250 with 1 Axes>"
            ]
          },
          "metadata": {},
          "output_type": "display_data"
        },
        {
          "data": {
            "image/png": "[encoded data removed]",
            "text/plain": [
              "<Figure size 2250x2250 with 1 Axes>"
            ]
          },
          "metadata": {},
          "output_type": "display_data"
        }
      ],
      "source": [
        "plot_example(X_test, y_test, n=15)"
      ]
    },
    {
      "cell_type": "code",
      "execution_count": null,
      "metadata": {
        "colab": {
          "base_uri": "https://localhost:8080/",
          "height": 1000
        },
        "id": "Qi_vMLANDyGF",
        "outputId": "c5ae0189-224a-42e4-cb9f-4d08953e10de"
      },
      "outputs": [
        {
          "data": {
            "image/png": "[encoded data removed]",
            "text/plain": [
              "<Figure size 2250x2250 with 1 Axes>"
            ]
          },
          "metadata": {},
          "output_type": "display_data"
        },
        {
          "data": {
            "image/png": "[encoded data removed]",
            "text/plain": [
              "<Figure size 2250x2250 with 1 Axes>"
            ]
          },
          "metadata": {},
          "output_type": "display_data"
        },
        {
          "data": {
            "image/png": "[encoded data removed]",
            "text/plain": [
              "<Figure size 2250x2250 with 1 Axes>"
            ]
          },
          "metadata": {},
          "output_type": "display_data"
        },
        {
          "data": {
            "image/png": "[encoded data removed]",
            "text/plain": [
              "<Figure size 2250x2250 with 1 Axes>"
            ]
          },
          "metadata": {},
          "output_type": "display_data"
        },
        {
          "data": {
            "image/png": "[encoded data removed]",
            "text/plain": [
              "<Figure size 2250x2250 with 1 Axes>"
            ]
          },
          "metadata": {},
          "output_type": "display_data"
        },
        {
          "data": {
            "image/png": "[encoded data removed]",
            "text/plain": [
              "<Figure size 2250x2250 with 1 Axes>"
            ]
          },
          "metadata": {},
          "output_type": "display_data"
        },
        {
          "data": {
            "image/png": "[encoded data removed]",
            "text/plain": [
              "<Figure size 2250x2250 with 1 Axes>"
            ]
          },
          "metadata": {},
          "output_type": "display_data"
        },
        {
          "data": {
            "image/png": "[encoded data removed]",
            "text/plain": [
              "<Figure size 2250x2250 with 1 Axes>"
            ]
          },
          "metadata": {},
          "output_type": "display_data"
        },
        {
          "data": {
            "image/png": "[encoded data removed]",
            "text/plain": [
              "<Figure size 2250x2250 with 1 Axes>"
            ]
          },
          "metadata": {},
          "output_type": "display_data"
        },
        {
          "data": {
            "image/png": "[encoded data removed]",
            "text/plain": [
              "<Figure size 2250x2250 with 1 Axes>"
            ]
          },
          "metadata": {},
          "output_type": "display_data"
        },
        {
          "data": {
            "image/png": "[encoded data removed]",
            "text/plain": [
              "<Figure size 2250x2250 with 1 Axes>"
            ]
          },
          "metadata": {},
          "output_type": "display_data"
        },
        {
          "data": {
            "image/png": "[encoded data removed]",
            "text/plain": [
              "<Figure size 2250x2250 with 1 Axes>"
            ]
          },
          "metadata": {},
          "output_type": "display_data"
        },
        {
          "data": {
            "image/png": "[encoded data removed]",
            "text/plain": [
              "<Figure size 2250x2250 with 1 Axes>"
            ]
          },
          "metadata": {},
          "output_type": "display_data"
        },
        {
          "data": {
            "image/png": "[encoded data removed]",
            "text/plain": [
              "<Figure size 2250x2250 with 1 Axes>"
            ]
          },
          "metadata": {},
          "output_type": "display_data"
        },
        {
          "data": {
            "image/png": "[encoded data removed]",
            "text/plain": [
              "<Figure size 2250x2250 with 1 Axes>"
            ]
          },
          "metadata": {},
          "output_type": "display_data"
        }
      ],
      "source": [
        "plot_example(attacked, y_pred, n=15)"
      ]
    }
  ],
  "metadata": {
    "accelerator": "GPU",
    "colab": {
      "gpuType": "T4",
      "provenance": []
    },
    "kernelspec": {
      "display_name": "Python 3",
      "name": "python3"
    },
    "language_info": {
      "codemirror_mode": {
        "name": "ipython",
        "version": 3
      },
      "file_extension": ".py",
      "mimetype": "text/x-python",
      "name": "python",
      "nbconvert_exporter": "python",
      "pygments_lexer": "ipython3",
      "version": "3.7.13 (default, Mar 28 2022, 08:03:21) [MSC v.1916 64 bit (AMD64)]"
    },
    "vscode": {
      "interpreter": {
        "hash": "bd97b8bffa4d3737e84826bc3d37be3046061822757ce35137ab82ad4c5a2016"
      }
    }
  },
  "nbformat": 4,
  "nbformat_minor": 0
}
